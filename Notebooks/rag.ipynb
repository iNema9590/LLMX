{
 "cells": [
  {
   "cell_type": "code",
   "execution_count": 2,
   "metadata": {},
   "outputs": [
    {
     "name": "stderr",
     "output_type": "stream",
     "text": [
      "/home/cs.aau.dk/em63by/anaconda3/envs/llmx/lib/python3.12/site-packages/tqdm/auto.py:21: TqdmWarning: IProgress not found. Please update jupyter and ipywidgets. See https://ipywidgets.readthedocs.io/en/stable/user_install.html\n",
      "  from .autonotebook import tqdm as notebook_tqdm\n"
     ]
    }
   ],
   "source": [
    "import pandas as pd\n",
    "import numpy as np\n",
    "import re\n",
    "import pickle\n",
    "import json\n",
    "import faiss\n",
    "import requests\n",
    "from elasticsearch import Elasticsearch\n",
    "from elasticsearch.helpers import bulk\n",
    "from sentence_transformers import SentenceTransformer\n",
    "import itertools\n",
    "from tqdm import tqdm\n",
    "from sklearn.metrics.pairwise import cosine_similarity\n",
    "from concurrent.futures import ThreadPoolExecutor"
   ]
  },
  {
   "cell_type": "code",
   "execution_count": null,
   "metadata": {},
   "outputs": [],
   "source": [
    "data=pd.read_csv('data/recipes.csv')\n",
    "features_drop = ['recipe_url', 'input_db_index', 'food_kg_locator', 'food_com_unique_id', 'submit_date', 'last_changed_date', 'author_id', 'rating', 'recipe_id', 'serves', 'units' ]\n",
    "data.drop(features_drop, axis = 1, inplace = True)\n",
    "data[\"directions\"].iloc[1].strip('{'\"\"'}').replace('\",\"', ' ')"
   ]
  },
  {
   "cell_type": "code",
   "execution_count": null,
   "metadata": {},
   "outputs": [],
   "source": [
    "def get_ingredients_list(ingredients:str) -> list: \n",
    "    \"\"\"Clean the ingredients string to get a list. Each element of a list is a specific ingredient with the quantity\n",
    "\n",
    "    Args:\n",
    "        ingredients (str): string of ingredients\n",
    "\n",
    "    Returns:\n",
    "        list: list of ingredients (each elem in the lsit is an ingredient.)\n",
    "    \"\"\"\n",
    "    sample_list = ingredients.split(')')\n",
    "    clean_sample_list = ''\n",
    "    pattern = r'[^A-Za-z0-9/ -]'\n",
    "    for elem in sample_list : \n",
    "        cleaned_elem = re.sub(pattern, ' ', elem)\n",
    "        cleaned_elem = re.sub(r'\\s+', ' ', cleaned_elem).strip(' ')\n",
    "        if len(cleaned_elem) > 1: \n",
    "            clean_sample_list=clean_sample_list+\" \"+cleaned_elem\n",
    "\n",
    "    return clean_sample_list\n",
    "\n",
    "def get_directions_list(directions:str): \n",
    "    \"\"\"Clean the directions string to get a list of directions\n",
    "\n",
    "    Args:\n",
    "        directions (str): badly formated directions string\n",
    "\n",
    "    Returns:\n",
    "        list: contains the different directions to follow for a given recipe. \n",
    "    \"\"\"\n",
    "    return directions.strip('{'\"\"'}').replace('\",\"', ' ')\n",
    "\n",
    "data['new_ingredients'] = ''\n",
    "data['new_directions'] = ''\n",
    "data.new_ingredients = data.ingredients.apply(lambda x : get_ingredients_list(x))\n",
    "data.new_directions = data.directions.apply(lambda x : get_directions_list(x))\n",
    "data.drop(['ingredients', 'directions'], axis = 1, inplace = True)\n",
    "data.rename(columns = {'new_ingredients': 'ingredients', 'new_directions' : 'directions'}, inplace = True)\n",
    "data[\"text\"] =data[\"title\"] +\". Ingredients:\" + data[\"ingredients\"] + \". Instructions:\" +data[\"directions\"]\n",
    "documents = data[\"text\"].tolist()"
   ]
  },
  {
   "cell_type": "code",
   "execution_count": null,
   "metadata": {},
   "outputs": [],
   "source": [
    "# embedding_model = SentenceTransformer(\"all-MiniLM-L6-v2\")\n",
    "# embeddings = embedding_gen_embs(documents[:1000], show_progress_bar=True)\n",
    "# embeddings = embed.text(documents, model=\"nomic-embed-text-v1\")"
   ]
  },
  {
   "cell_type": "code",
   "execution_count": 14,
   "metadata": {},
   "outputs": [],
   "source": [
    "### 1️⃣ Load Data and Create FAISS Index ###\n",
    "with open(\"data/documents.pkl\", \"rb\") as f:\n",
    "    documents = pickle.load(f)\n",
    "\n",
    "with open(\"data/embeddings_nomic.pkl\", \"rb\") as f:\n",
    "    embeddings = pickle.load(f)\n",
    "\n",
    "def gen_embs(qtext, model=\"nomic\"):\n",
    "    if model==\"nomic\":\n",
    "    \n",
    "        data = {\n",
    "            \"model\": \"nomic-embed-text\",\n",
    "            \"prompt\": qtext\n",
    "        }\n",
    "        return np.array(requests.post('http://localhost:11434/api/embeddings', json=data).json()['embedding'])\n",
    "    else:\n",
    "        return SentenceTransformer(\"all-MiniLM-L6-v2\").encode([qtext], convert_to_numpy=True)\n",
    "    \n",
    "\n",
    "\n",
    "def normalize_embeddings(embeddings):\n",
    "    return embeddings / np.linalg.norm(embeddings, axis=1, keepdims=True)\n",
    "\n",
    "embeddings = normalize_embeddings(embeddings)\n",
    "\n",
    "def index_documents(method=\"faiss\", index_name=\"recipes_nomic\", es_host=\"http://localhost:9200\"):\n",
    "    if method == \"faiss\":\n",
    "        dimension = embeddings.shape[1]\n",
    "        index = faiss.IndexFlatL2(dimension)\n",
    "        index.add(embeddings)\n",
    "        faiss.write_index(index, \"data/recipe_nomic_faiss.index\")\n",
    "        print(\"FAISS index saved.\")\n",
    "        return index\n",
    "    elif method == \"elasticsearch\":\n",
    "        es = Elasticsearch(es_host)\n",
    "        mapping = {\"mappings\": {\"properties\": {\"text\": {\"type\": \"text\"}, \"vector\": {\"type\": \"dense_vector\", \"dims\": embeddings.shape[1]}}}}\n",
    "        es.indices.create(index=index_name, body=mapping, ignore=400)\n",
    "        for i, (text, vector) in enumerate(zip(documents, embeddings)):\n",
    "            es.index(index=index_name, id=i, body={\"text\": text, \"vector\": vector.tolist()})\n",
    "        print(\"Elasticsearch index created.\")\n",
    "        return es\n",
    "\n",
    "# Choose indexing method\n",
    "# index_documents(method=\"faiss\", index_name=\"recipes_nomic\", es_host=\"http://localhost:9200\")\n",
    "# faiss_index = faiss.read_index(\"data/recipe_faiss.index\")\n",
    "faiss_index = faiss.read_index(\"data/recipe_nomic_faiss.index\")\n",
    "\n",
    "# Load the same embedding model\n",
    "# model = SentenceTransformer(\"all-MiniLM-L6-v2\")\n",
    "\n",
    "def retrieve_documents(query, k=5):\n",
    "    query_embedding = gen_embs(query)\n",
    "    query_embedding = normalize_embeddings(query_embedding.reshape(1, -1))\n",
    "    scores, indices = faiss_index.search(query_embedding, k)\n",
    "    return [documents[i] for i in indices[0]], scores\n",
    "\n",
    "### 3️⃣ Query RAG Pipeline ###\n",
    "def query_rag(query, retrieved_docs=None):\n",
    "    \"\"\"Query the Ollama API with a prompt based on provided documents.\"\"\"\n",
    "    if retrieved_docs:\n",
    "        retrieved_text = \"\\n\".join(retrieved_docs)\n",
    "        prompt = f\"Using only the following list of recipes, answer the question about a recipe. \\nList of recipes:{retrieved_text} \\n If you can not find a recipe from the documents provided, then just answer -I do not have this recipe. Do not skip the details in the instruction.\\n Question: {query}. Answer:\"\n",
    "    else:\n",
    "        prompt= f'You are a foodchat bot who gives recipes. Given the query provide a recipe. Query: {query}. Answer:'\n",
    "    HEADERS = {\"Content-Type\": \"application/json\"}\n",
    "    url = \"http://localhost:11434/api/generate\"\n",
    "    data = {\"model\": \"llama2\", \"prompt\": prompt, 'stream': False}\n",
    "\n",
    "    response = requests.post(url, headers=HEADERS, json=data)\n",
    "\n",
    "    return response.json()['response']"
   ]
  },
  {
   "cell_type": "code",
   "execution_count": 9,
   "metadata": {},
   "outputs": [],
   "source": [
    "res=query_rag(query='Give me the recipe for pizza')"
   ]
  },
  {
   "cell_type": "code",
   "execution_count": 10,
   "metadata": {},
   "outputs": [
    {
     "data": {
      "text/plain": [
       "\"Here's a simple and delicious recipe for a classic margherita pizza:\\n\\n**Ingredients:**\\n\\nFor the dough:\\n- 2 cups of warm water\\n- 1 tablespoon sugar\\n- 2 teaspoons active dry yeast\\n- 3 1/2 cups all-purpose flour\\n- 1 teaspoon salt\\n- 2 tablespoons olive oil\\n\\nFor the sauce:\\n- 1 can (28 oz) crushed tomatoes\\n- 4 cloves garlic, minced\\n- 1 teaspoon dried oregano\\n- 1 teaspoon dried basil\\n- Salt and pepper to taste\\n- 2 tablespoons olive oil\\n\\nFor the topping:\\n- 8 ounces fresh mozzarella cheese, sliced\\n- Fresh basil leaves\\n\\n**Instructions:**\\n\\n1. **Make the Dough:** In a large mixing bowl, combine warm water, sugar, and yeast. Let it sit for about 5 minutes until the mixture becomes frothy. Add flour, salt, and olive oil to the bowl. Mix everything together until a dough forms. Knead the dough on a floured surface for about 10 minutes until it becomes smooth and elastic. Place the dough in a greased bowl, cover it with plastic wrap, and let it rise in a warm place for about 1-2 hours or until doubled in size.\\n\\n2. **Prepare the Sauce:** In a saucepan, heat olive oil over medium heat. Add minced garlic and cook for about 1 minute until fragrant. Add crushed tomatoes, dried oregano, dried basil, salt, and pepper. Let it simmer for about 15-20 minutes, stirring occasionally, until the sauce thickens.\\n\\n3. **Assemble and Bake the Pizza:** Preheat your oven to 450°F (230°C). Punch down the risen dough and divide it into as many portions as you want to make individual pizzas or leave it whole for a large pizza. Roll out each portion into a thin circle, about 1/4 inch thick.\\n\\n4. **Top the Pizza:** Spread a layer of the tomato sauce over the dough, leaving a small border around the edges without sauce. Arrange slices of mozzarella cheese on top of the sauce. You can add other toppings as per your preference, but for a classic margherita pizza, we're keeping it simple with just cheese.\\n\\n5. **Bake:** Place the pizza(s) on a baking sheet or pizza stone that has been sprinkled with cornmeal (to prevent sticking). Bake in the preheated oven for about 12-15 minutes or until the crust is golden brown and the cheese is melted and bubbly.\\n\\n6. **Finish with Fresh Basil:** Remove the pizza from the oven and let it cool for a few minutes. Top with fresh basil leaves, either whole or torn into pieces.\\n\\n7. **Serve and Enjoy:** Slice your homemade margherita pizza and serve immediately. You can drizzle with extra virgin olive oil if desired.\\n\\nThis recipe makes one large pizza or several smaller ones, depending on how you choose to divide the dough. Feel free to customize with additional toppings of your choice!\""
      ]
     },
     "execution_count": 10,
     "metadata": {},
     "output_type": "execute_result"
    }
   ],
   "source": [
    "res"
   ]
  },
  {
   "cell_type": "code",
   "execution_count": 4,
   "metadata": {},
   "outputs": [],
   "source": [
    "query=\"Give me a recipe for fastest pizza preparation?\"\n",
    "docs, scores=retrieve_documents(query=query, k=5)"
   ]
  },
  {
   "cell_type": "code",
   "execution_count": 5,
   "metadata": {},
   "outputs": [
    {
     "name": "stdout",
     "output_type": "stream",
     "text": [
      "0.4916580319404602\tFast and Easy Pita Pizza in Less Than 10 Minutes!. Ingredients: 1 piece pita bread white or whole wheat store-bought jar your favorite sauce spaghetti or pizza shredded mozzarella cheese part-skim or whole milk your favorite Itali\n",
      "\n",
      "0.4942934513092041\tSuper Fast and Easy Pizza Dough/ Crust. Ingredients: 3 -3 1/2 cups flour divided 1 1/4 ounce package fast rising yeast about 2 1/4 tsp 3/4 teaspoon salt 1 cup very warm water 2 tablespoons olive oil 2 2 teaspoons template2 optiona\n",
      "\n",
      "0.5022497773170471\tTHE Easiest Pizza Crust. Ingredients: 1 tablespoon yeast 1 1/4 cups all-purpose flour 1/2 teaspoon salt 1/2 teaspoon garlic powder 1 teaspoon italian seasoning 2/3 cup water 110 degrees F 1/2 teaspoon sugar 1 tablespoon olive oil.\n",
      "\n",
      "0.5047016739845276\tquick 'n' easy pizza. Ingredients: 1 cup all-purpose flour 1/2 cup milk 2 tablespoons vegetable oil 1 teaspoon baking powder 1/2 teaspoon salt toppings pizza sauce toppings shredded mozzarella cheese toppings chopped onion topping\n",
      "\n",
      "0.5063902139663696\tSpeed-Cooking Spinach & Feta Pizza for One. Ingredients: 8 inches pizza crusts 3 tablespoons tomato sauce 1 1/2 cups fresh spinach leaves 1/4 cup reduced-fat mozzarella cheese shredded 2 tablespoons feta cheese shredded or crumble\n",
      "\n"
     ]
    }
   ],
   "source": [
    "for a, b in zip(scores[0], docs):\n",
    "    print(f\"{a}\\t{b[:230]}\\n\")"
   ]
  },
  {
   "cell_type": "code",
   "execution_count": null,
   "metadata": {},
   "outputs": [],
   "source": []
  },
  {
   "cell_type": "code",
   "execution_count": 20,
   "metadata": {},
   "outputs": [],
   "source": [
    "resp=query_rag(query=query, retrieved_docs=docs)"
   ]
  },
  {
   "cell_type": "code",
   "execution_count": 21,
   "metadata": {},
   "outputs": [
    {
     "name": "stdout",
     "output_type": "stream",
     "text": [
      "Based on the recipes provided, the fastest pizza preparation would be the \"Super Fast and Easy Pizza Dough/Crust\" recipe. This recipe only requires 5 minutes of kneading time and can be prepared in under 10 minutes, including rising time. The ingredients are also basic and easily found in most kitchens.\n",
      "\n",
      "Here is the recipe:\n",
      "\n",
      "Ingredients:\n",
      "\n",
      "* 3-3 1/2 cups flour\n",
      "* 1 1/4 ounce package fast rising yeast\n",
      "* 3/4 teaspoon salt\n",
      "* 1 cup very warm water\n",
      "* 2 tablespoons olive oil\n",
      "* 2-2 1/2 teaspoons template (optional)\n",
      "* 1 minced garlic clove (optional)\n",
      "\n",
      "Instructions:\n",
      "\n",
      "1. In a large bowl, combine 2 cups flour, yeast, and salt. Add any other spices or herbs you like.\n",
      "2. Stir in the very warm water and oil. Mix well.\n",
      "3. Add enough of the remaining flour to make a soft dough. Knead on a lightly floured surface until smooth and elastic, about 5 minutes.\n",
      "4. Cover and let rise about 10 minutes. Lightly oil one 14\" or two 12\" round pizza pans.\n",
      "5. Sprinkle with cornmeal. Form dough into smooth ball(s).\n",
      "6. Roll dough to fit the pan(s). Top with your favorite sauce and toppings.\n",
      "7. Bake at 400°F for 20-30 minutes or until done.\n"
     ]
    }
   ],
   "source": [
    "print(resp)"
   ]
  },
  {
   "cell_type": "code",
   "execution_count": 19,
   "metadata": {},
   "outputs": [],
   "source": [
    "import random\n",
    "random.shuffle(docs)"
   ]
  },
  {
   "cell_type": "code",
   "execution_count": 22,
   "metadata": {},
   "outputs": [
    {
     "data": {
      "text/plain": [
       "['Fast and Easy Pita Pizza in Less Than 10 Minutes!. Ingredients: 1 piece pita bread white or whole wheat store-bought jar your favorite sauce spaghetti or pizza shredded mozzarella cheese part-skim or whole milk your favorite Italian spices garlic powder oregano basil parsley etc. Instructions:\"ok ready?  here\\'s the \\\\\"hard\\\\\" part.\\r Pre-heat oven to 350 degrees.\\r Split open the pita bread to make two flat round halves.\\r Spread spaghetti/pizza sauce with a spoon.  Drop the sauce with the spoon and use the flat back-end of the spoon to spread.\\r Spread mozzarella cheese on top.\\r Dash of your favorite spices.\\r Cook 5-7 minutes, depending on how toasty you want the bread.\\r\",Enjoy!',\n",
       " 'Speed-Cooking Spinach & Feta Pizza for One. Ingredients: 8 inches pizza crusts 3 tablespoons tomato sauce 1 1/2 cups fresh spinach leaves 1/4 cup reduced-fat mozzarella cheese shredded 2 tablespoons feta cheese shredded or crumbled 1 teaspoon oregano. Instructions:\"Thaw out, prebake, etc. the pizza crust in whatever manner you have to do; then press into a greased 8\\\\\" pie pan.\\r Spread the tomato sauce onto the crust.\\r Put the spinach onto the sauce, sure not to put too much in the middle.\\r Sprinkle with the cheeses and oregano. This part may be tough because fresh spinach is kinda bouncy, but it will \\\\\"deflate\\\\\" upon baking in the oven.\\r Bake for 12-15 minutes at 400F, then slice and enjoy.\"',\n",
       " 'THE Easiest Pizza Crust. Ingredients: 1 tablespoon yeast 1 1/4 cups all-purpose flour 1/2 teaspoon salt 1/2 teaspoon garlic powder 1 teaspoon italian seasoning 2/3 cup water 110 degrees F 1/2 teaspoon sugar 1 tablespoon olive oil. Instructions:\"Preheat oven to 425 degrees F. In medium bowl using regular beaters (not dough hooks), blend all ingredients on low speed. Beat on high speed for 3 minutes. (If mixer bounces around bowl, dough is too stiff. Add water if necessary, one tablespoon at a time, until dough does not resist beaters. If dough is too wet, add more flour.) Dough will resemble soft bread dough. Put mixture on a floured 12-inch pizza pan or cookie sheet. Sprinkle flour on dough, then press dough onto pan, continuing to sprinkle with flour to prevent sticking to hands. Make edges slightly thicker to hold toppings. Bake pizza crust for 10 minutes. Remove from oven, then reduce heat to 400 degrees F. Spread pizza crust with your favorite sauce and toppings, and lightly scrape the bottom if it\\'s stuck to the pan in places. Bake another 10 to 15 minutes or until top is nicely browned.\"',\n",
       " 'quick \\'n\\' easy pizza. Ingredients: 1 cup all-purpose flour 1/2 cup milk 2 tablespoons vegetable oil 1 teaspoon baking powder 1/2 teaspoon salt toppings pizza sauce toppings shredded mozzarella cheese toppings chopped onion toppings mushroom sliced or chopped toppings green pepper sliced or chopped toppings thinly sliced pepperoni. Instructions:\"Preheat oven to 425F. In a small bowl, combine flour, milk, oil, baking powder and salt. Mix with a fork until mixture starts to stick together and form a ball. Sprinkle counter with flour. Put dough on the counter and knead dough 10 times until the dough has come completely together and is smooth. Cover the dough with an inverted bowl. Let rest 15 minutes. Cut dough in half. On a lightly floured counter, roll or pat each half into a 6 inch circle. Place on greased baking sheet. Top with your favourite pizza toppings, leaving 1/2 inch edge around the rim of the dough. Bake for 15 to 20 minutes or until the crust has turned golden brown.\",Enjoy!',\n",
       " 'Super Fast and Easy Pizza Dough/ Crust. Ingredients: 3 -3 1/2 cups flour divided 1 1/4 ounce package fast rising yeast about 2 1/4 tsp 3/4 teaspoon salt 1 cup very warm water 2 tablespoons olive oil 2 2 teaspoons template2 optional or 2 teaspoons template3 optional 1 minced garlic clove optional. Instructions:\"In a large bowl, combine 2 cups flour, yeast and salt.  Add any other spices/herbs that you like. Stir in the very warm water and oil.  Mix well. Add enough of the remaining flour to make a soft dough. Knead on a lightly floured surface until smooth and elastic, about 5 minutes. Cover and let rise about 10 minutes. Lightly oil one 14\\\\\" or two 12\\\\\" round pizza pans.  Sprinkle with cornmeal. Form dough into smooth ball(s).  Roll dough to fit the pan(s). Top with your favorite sauce and toppings. Bake at 400F for 20 to 30 minutes or until done.\"']"
      ]
     },
     "execution_count": 22,
     "metadata": {},
     "output_type": "execute_result"
    }
   ],
   "source": [
    "docs"
   ]
  },
  {
   "cell_type": "code",
   "execution_count": 6,
   "metadata": {},
   "outputs": [],
   "source": [
    "import numpy as np\n",
    "from itertools import combinations\n",
    "import math\n",
    "\n",
    "def F(subset, full_set_embedding):\n",
    "    \"\"\"\n",
    "    Cost function: Cosine similarity between the LLM's response for the subset and the full set.\n",
    "    \"\"\"\n",
    "    if not subset:\n",
    "        return 0.0  # Empty subset has no contribution\n",
    "    \n",
    "    # Query the LLM with the subset\n",
    "    response = query_rag(query, subset)\n",
    "    \n",
    "    # Generate and normalize embeddings for the subset's response\n",
    "    subset_embedding = normalize_embeddings(gen_embs(response).reshape(1, -1))\n",
    "    \n",
    "    # Compute cosine similarity with the full set's embedding\n",
    "    return cosine_similarity(subset_embedding, full_set_embedding)\n",
    "\n",
    "def shapley_values(S):\n",
    "    \"\"\"\n",
    "    Compute Shapley values for a set of textual queries S.\n",
    "    \"\"\"\n",
    "    S = list(S)\n",
    "    n = len(S)\n",
    "    \n",
    "    # Query the LLM with the full set to get the reference embedding\n",
    "    full_set_response = query_rag(query, S)\n",
    "    full_set_embedding = normalize_embeddings(gen_embs(full_set_response).reshape(1, -1))\n",
    "    \n",
    "    # Precompute the cost for all subsets\n",
    "    F_cache = {}\n",
    "    for bitmask in tqdm(range(0, 1 << n), desc=\"Calculating cosine to full response\"):\n",
    "        subset = [S[i] for i in range(n) if (bitmask & (1 << i))]\n",
    "        if len(subset)==n:\n",
    "            F_cache[bitmask] = 1\n",
    "        else:\n",
    "            F_cache[bitmask] = F(subset, full_set_embedding)\n",
    "    \n",
    "    # Initialize Shapley values\n",
    "    shap = {element: 0.0 for element in S}\n",
    "    \n",
    "    # Calculate contributions for each subset\n",
    "    for bitmask in tqdm(range(0, 1 << n), desc=\"Calculating shap\"):\n",
    "        subset_size = bin(bitmask).count('1')\n",
    "        if subset_size == 0:\n",
    "            continue  # Skip empty subsets\n",
    "        \n",
    "        for i in range(n):\n",
    "            if not (bitmask & (1 << i)):\n",
    "                continue  # Skip subsets without the current element\n",
    "            \n",
    "            # Compute subset without the current element\n",
    "            subset_without_i = bitmask ^ (1 << i)\n",
    "            \n",
    "            # Compute Shapley weight\n",
    "            k = bin(subset_without_i).count('1')\n",
    "            weight = (math.factorial(k) * math.factorial(n - k - 1)) / math.factorial(n)\n",
    "            \n",
    "            # Compute marginal contribution\n",
    "            marginal = F_cache[bitmask] - F_cache[subset_without_i]\n",
    "            shap[S[i]] += marginal * weight\n",
    "    \n",
    "    return shap"
   ]
  },
  {
   "cell_type": "code",
   "execution_count": 23,
   "metadata": {},
   "outputs": [
    {
     "name": "stderr",
     "output_type": "stream",
     "text": [
      "Calculating cosine to full response: 100%|██████████| 32/32 [01:39<00:00,  3.10s/it]\n",
      "Calculating shap: 100%|██████████| 32/32 [00:00<00:00, 48877.54it/s]\n"
     ]
    }
   ],
   "source": [
    "shap=shapley_values(docs)"
   ]
  },
  {
   "cell_type": "code",
   "execution_count": 25,
   "metadata": {},
   "outputs": [
    {
     "name": "stdout",
     "output_type": "stream",
     "text": [
      "Contribution of 'Fast and Easy Pita Pizza ': [[0.17313253]]\n",
      "Contribution of 'Speed-Cooking Spinach & F': [[0.19128451]]\n",
      "Contribution of 'THE Easiest Pizza Crust. ': [[0.1926467]]\n",
      "Contribution of 'quick 'n' easy pizza. Ing': [[0.20487761]]\n",
      "Contribution of 'Super Fast and Easy Pizza': [[0.23805865]]\n"
     ]
    }
   ],
   "source": [
    "for element, value in shap.items():\n",
    "    print(f\"Contribution of '{element[:25]}': {value}\")"
   ]
  },
  {
   "cell_type": "code",
   "execution_count": null,
   "metadata": {},
   "outputs": [],
   "source": []
  }
 ],
 "metadata": {
  "kernelspec": {
   "display_name": "llmx",
   "language": "python",
   "name": "python3"
  },
  "language_info": {
   "codemirror_mode": {
    "name": "ipython",
    "version": 3
   },
   "file_extension": ".py",
   "mimetype": "text/x-python",
   "name": "python",
   "nbconvert_exporter": "python",
   "pygments_lexer": "ipython3",
   "version": "3.12.8"
  }
 },
 "nbformat": 4,
 "nbformat_minor": 2
}
