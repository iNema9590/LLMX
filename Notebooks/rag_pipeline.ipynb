{
 "cells": [
  {
   "cell_type": "code",
   "execution_count": 12,
   "metadata": {},
   "outputs": [],
   "source": [
    "import sys\n",
    "import os\n",
    "# current_dir = os.getcwd()\n",
    "# parent_dir = os.path.abspath(os.path.join(current_dir, '..'))\n",
    "# sys.path.append(parent_dir)\n",
    "\n",
    "from SHapRAG import*\n",
    "import pandas as pd\n",
    "from scipy.stats import pearsonr\n",
    "import time"
   ]
  },
  {
   "cell_type": "code",
   "execution_count": null,
   "metadata": {},
   "outputs": [
    {
     "name": "stdout",
     "output_type": "stream",
     "text": [
      "\n",
      "--- Computing ContextCite (Surrogate Weights) ---\n",
      "Starting contextcite (n=5, m=16)...\n",
      "Computing true utilities for 16 samples...\n"
     ]
    },
    {
     "name": "stderr",
     "output_type": "stream",
     "text": [
      "contextcite LLM Calls:  50%|█████     | 8/16 [00:56<00:55,  6.92s/it]"
     ]
    }
   ],
   "source": [
    "documents = [\n",
    "    \"The weather in Paris is sunny today.\",\n",
    "    \"Paris is the capital of France.\",\n",
    "    \"The sun is shining in Paris today\",\n",
    "    \"Berlin is the capital of Germany.\", # Irrelevant\n",
    "    # \"The Eiffel Tower is located in Paris, France.\",\n",
    "    # \"France borders several countries including Germany.\",\n",
    "    # \"The currency used in France is the Euro.\",\n",
    "    # \"Paris hosted the Summer Olympics in 1900 and 1924.\",\n",
    "    # \"Germany uses the Euro as well.\", # Redundant info\n",
    "    \"It is cloudy in Berlin today.\" # Irrelevant\n",
    "]\n",
    "query = \"What is the weather like in the capital of France?\"\n",
    "target_response = \"Paris is sunny.\" # The ideal answer fragment\n",
    "\n",
    "attributor = ShapleyAttributor(\n",
    "        items=documents,\n",
    "        query=query,\n",
    "        target_response=target_response,\n",
    "        llm_caller=compute_logprob # Use your actual llm_caller\n",
    "    )\n",
    "\n",
    "print(\"\\n--- Computing ContextCite (Surrogate Weights) ---\")\n",
    "cc_weights = attributor.compute(method_name=\"contextcite\", num_samples=16, lasso_alpha=0.01)\n",
    "if cc_weights is not None: print(\"ContextCite Weights:\", np.round(cc_weights, 4))\n",
    "\n",
    "print(\"\\n--- Computing Weakly Supervised Shapley (WSS) ---\")\n",
    "wss_values, wss_surrogate_weights = attributor.compute(method_name=\"wss\", num_samples=16, lasso_alpha=0.01, return_weights=True)\n",
    "if wss_values is not None:\n",
    "    print(\"WSS Values:\", np.round(wss_values, 4))\n",
    "    print(\"WSS Surrogate Weights:\", np.round(wss_surrogate_weights, 4))\n",
    "\n",
    "print(\"\\n--- Computing TMC-Shapley ---\")\n",
    "tmc_values = attributor.compute(method_name=\"tmc\") # 5*n iterations\n",
    "if tmc_values is not None: print(\"TMC Values:\", np.round(tmc_values, 4))\n",
    "\n",
    "if beta_dist: # Only if scipy is available\n",
    "    print(\"\\n--- Computing Beta-Shapley (U-shaped, more weight to ends) ---\")\n",
    "    # For U-shaped, alpha and beta < 1\n",
    "    beta_u_values = attributor.compute(method_name=\"betashap\", num_iterations=attributor.n_items, beta_a=0.5, beta_b=0.5)\n",
    "    if beta_u_values is not None: print(\"BetaShap (U-shaped) Values:\", np.round(beta_u_values, 4))\n",
    "\n",
    "    print(\"\\n--- Computing Beta-Shapley (Uniform, equivalent to standard MC) ---\")\n",
    "    beta_uniform_values = attributor.compute(method_name=\"betashap\", num_iterations=attributor.n_items, beta_a=1.0, beta_b=1.0)\n",
    "    if beta_uniform_values is not None: print(\"BetaShap (Uniform) Values:\", np.round(beta_uniform_values, 4))\n",
    "print(\"\\n--- Computing Leave-One-Out (LOO) ---\")\n",
    "loo_values = attributor.compute(method_name=\"loo\") \n",
    "if loo_values is not None: \n",
    "    print(\"LOO Values:\", np.round(loo_values, 4))\n",
    "\n",
    "print(\"\\n--- Computing Exact Shapley ---\")\n",
    "exact_values = attributor.compute(method_name=\"exact\", exact_confirm=False) # Disable confirm for n=5 demo\n",
    "if exact_values is not None: print(\"Exact Values:\", np.round(exact_values, 4))\n",
    "\n",
    "if exact_values is not None:\n",
    "    if wss_values is not None:\n",
    "        mae_wss = np.mean(np.abs(exact_values - wss_values))\n",
    "        print(f\"\\nMAE WSS vs Exact: {mae_wss:.4f}\")\n",
    "    if tmc_values is not None:\n",
    "        mae_tmc = np.mean(np.abs(exact_values - tmc_values))\n",
    "        print(f\"MAE TMC vs Exact: {mae_tmc:.4f}\")\n",
    "    if beta_dist and beta_u_values is not None:\n",
    "        mae_beta_u = np.mean(np.abs(exact_values - beta_u_values))\n",
    "        print(f\"MAE BetaShap (U) vs Exact: {mae_beta_u:.4f}\")\n",
    "    if beta_dist and beta_uniform_values is not None:\n",
    "        mae_beta_uni = np.mean(np.abs(exact_values - beta_uniform_values))\n",
    "        print(f\"MAE BetaShap (Uni) vs Exact: {mae_beta_uni:.4f}\")\n",
    "    # Compare LOO to Exact if available\n",
    "    if exact_values is not None and loo_values is not None:\n",
    "        mae_loo = np.mean(np.abs(exact_values - loo_values))\n",
    "        print(f\"\\nMAE LOO vs Exact: {mae_loo:.4f}\")\n"
   ]
  },
  {
   "cell_type": "code",
   "execution_count": null,
   "metadata": {},
   "outputs": [],
   "source": []
  },
  {
   "cell_type": "code",
   "execution_count": null,
   "metadata": {},
   "outputs": [],
   "source": []
  },
  {
   "cell_type": "code",
   "execution_count": 23,
   "metadata": {},
   "outputs": [
    {
     "name": "stdout",
     "output_type": "stream",
     "text": [
      "Spearman Correlation: 1.0000\n"
     ]
    }
   ],
   "source": [
    "from scipy.stats import spearmanr, pearsonr\n",
    "correlation, p_value = spearmanr(exact_values, wss_values)\n",
    "print(f\"Spearman Correlation: {correlation:.4f}\")"
   ]
  },
  {
   "cell_type": "code",
   "execution_count": null,
   "metadata": {},
   "outputs": [],
   "source": []
  },
  {
   "cell_type": "code",
   "execution_count": null,
   "metadata": {},
   "outputs": [],
   "source": [
    "logp, p, model_out, token_probs = compute_logprob(\n",
    "    query=\"What is the capital of Kazakhstan?\",\n",
    "    ground_truth_answer=\"Paris\",\n",
    "    return_token_probs=True\n",
    ")\n",
    "\n",
    "print(\"Log probability:\", logp)\n",
    "print(\"Total probability:\", p)\n",
    "print(\"Model generated:\", model_out)"
   ]
  }
 ],
 "metadata": {
  "kernelspec": {
   "display_name": "llmx",
   "language": "python",
   "name": "python3"
  },
  "language_info": {
   "codemirror_mode": {
    "name": "ipython",
    "version": 3
   },
   "file_extension": ".py",
   "mimetype": "text/x-python",
   "name": "python",
   "nbconvert_exporter": "python",
   "pygments_lexer": "ipython3",
   "version": "3.12.8"
  }
 },
 "nbformat": 4,
 "nbformat_minor": 2
}
