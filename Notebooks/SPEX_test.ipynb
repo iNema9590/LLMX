{
 "cells": [
  {
   "cell_type": "code",
   "execution_count": 1,
   "id": "8c7aeb63-e046-4d99-a11b-cf1790556d3a",
   "metadata": {},
   "outputs": [
    {
     "name": "stderr",
     "output_type": "stream",
     "text": [
      "/usr/local/lib/python3.10/dist-packages/tqdm/auto.py:21: TqdmWarning: IProgress not found. Please update jupyter and ipywidgets. See https://ipywidgets.readthedocs.io/en/stable/user_install.html\n",
      "  from .autonotebook import tqdm as notebook_tqdm\n"
     ]
    }
   ],
   "source": [
    "#!pip install sparse-transform==0.1\n",
    "import os, sys\n",
    "os.environ[\"CUDA_VISIBLE_DEVICES\"] = \"3\" \n",
    "current_dir = os.getcwd()\n",
    "parent_dir = os.path.abspath(os.path.join(current_dir, '..'))\n",
    "sys.path.append(parent_dir)\n",
    "from SHapRAG import *\n",
    "from transformers import AutoModelForCausalLM, AutoTokenizer\n",
    "import torch\n",
    "from accelerate import Accelerator\n",
    "import spectralexplain as spex\n",
    "import numpy as np\n",
    "import time\n",
    "import functools\n",
    "import importlib.metadata\n",
    "import shapiq"
   ]
  },
  {
   "cell_type": "code",
   "execution_count": 2,
   "id": "9b8e8c2a",
   "metadata": {},
   "outputs": [],
   "source": [
    "context = [\n",
    "    \"The weather in Chorvoq is sunny today.\",\n",
    "    \"Berlin is the capital of Germany.\", # Irrelevant\n",
    "    \"The Eiffel Tower is located in Paris, France.\",\n",
    "    \"France borders several countries including Germany.\",\n",
    "    \"The currency used in Suvsambil is the chaqa.\",\n",
    "    \"Chorvoq is the capital of Suvsambil.\",\n",
    "    \"Paris hosted the Summer Olympics in 1900 and 1924.\",\n",
    "    \"Germany uses the Euro as well.\", # Redundant info\n",
    "    \"The sun is shining in Chorvoq today\",\n",
    "    \"It is cloudy in Berlin today.\"\n",
    "    ]\n",
    "question=\"what is the weather like in the capital of Suvsambil\"\n",
    "# context=['Stuart Rosenberg (August 11, 1927 – March 15, 2007) was an American film and television director whose motion pictures include \"Cool Hand Luke\" (1967), \"Voyage of the Damned\" (1976), \"The Amityville Horror\" (1979), and \"The Pope of Greenwich Village\" (1984). He was noted for his work with actor Paul Newman.',\n",
    "#  'Méditerranée is a 1963 French experimental film directed by Jean-Daniel Pollet with assistance from Volker Schlöndorff. It was written by Philippe Sollers and produced by Barbet Schroeder, with music by Antione Duhamel. The 45 minute film is cited as one of Pollet\\'s most influential films, which according to Jonathan Rosenbaum directly influenced Jean-Luc Goddard\\'s \"Contempt\", released later the same year. Footage for the film was shot around the Mediterranean, including at a Greek temple, a Sicilian garden, the sea, and also features a fisherman, a bullfighter, and a girl on an operating table.',\n",
    "#  'Move is a 1970 American comedy film starring Elliott Gould, Paula Prentiss and Geneviève Waïte, and directed by Stuart Rosenberg. The screenplay was written by Joel Lieber and Stanley Hart, adapted from a novel by Lieber.',\n",
    "#  'Ian Barry is an Australian director of film and TV.',\n",
    "#  'Peter Levin is an American director of film, television and theatre.',\n",
    "#  'Brian Johnson( born 1939 or 1940) is a British designer and director of film and television special effects.',\n",
    "#  'Rachel Feldman( born August 22, 1954) is an American director of film and television and screenwriter of television films.',\n",
    "#  'Hanro Smitsman, born in 1967 in Breda( Netherlands), is a writer and director of film and television.',\n",
    "#  'Jean-Daniel Pollet (1936–2004) was a French film director and screenwriter who was most active in the 1960s and 1970s. He was associated with two approaches to filmmaking: comedies which blended burlesque and melancholic elements, and poetic films based on texts by writers such as the French poet Francis Ponge.',\n",
    "#  'Howard Winchel Koch( April 11, 1916 – February 16, 2001) was an American producer and director of film and television.']\n",
    "# question = ['Are director of film Move (1970 Film) and director of film Méditerranée (1963 Film) from the same country?']"
   ]
  },
  {
   "cell_type": "code",
   "execution_count": null,
   "id": "95a33018",
   "metadata": {},
   "outputs": [],
   "source": [
    "question='What is the primary defense of the creatures populating the Subterranean Caves?'\n",
    "context=[\"The 'Floating Islands of Aeridia' are the most famous natural wonder on planet Ntulu, drifting high above the world's surface in the upper atmosphere.\",\n",
    " \"The 'Floating Islands of Aeridia' are primarily composed of a naturally buoyant mineral called 'Aeridium Ore', found only in atmospheric veins.\",\n",
    " \"The 'Crystalline Spires' are primarily composed of a unique form of solidified light called 'Luxite', found only where the planet's magnetic fields intersect.\",\n",
    " \"The 'Living Bridges of Yggdras' are primarily composed of a sentient, wood-like fungal growth called 'Root-Weave', which constantly regenerates.\",\n",
    " 'Aeridium Ore is lightweight and crystalline.',\n",
    "  \"The 'Floating Islands of Aeridia' are primarily composed of a naturally buoyant mineral called 'Aeridium Ore', found only in atmospheric veins.\",\n",
    " 'The islands move slowly across the sky.',\n",
    " 'Many cultures consider the islands sacred.',\n",
    " 'The ore has no other known practical use.',\n",
    " 'Large waterfalls cascade from the edges of some islands.',\n",
    " 'Studies are ongoing to understand how the ore retains buoyancy.']"
   ]
  },
  {
   "cell_type": "code",
   "execution_count": 3,
   "id": "206af855-e627-4894-9fd4-273fa35b46fd",
   "metadata": {},
   "outputs": [
    {
     "name": "stderr",
     "output_type": "stream",
     "text": [
      "Detected kernel version 5.4.0, which is below the recommended minimum of 5.5.0; this can cause the process to hang. It is recommended to upgrade the kernel to the minimum version or higher.\n"
     ]
    },
    {
     "name": "stdout",
     "output_type": "stream",
     "text": [
      "Main Script: Loading model...\n"
     ]
    },
    {
     "name": "stderr",
     "output_type": "stream",
     "text": [
      "2025-10-29 14:43:53.634739: I tensorflow/core/util/port.cc:153] oneDNN custom operations are on. You may see slightly different numerical results due to floating-point round-off errors from different computation orders. To turn them off, set the environment variable `TF_ENABLE_ONEDNN_OPTS=0`.\n",
      "2025-10-29 14:43:53.689158: I tensorflow/core/platform/cpu_feature_guard.cc:210] This TensorFlow binary is optimized to use available CPU instructions in performance-critical operations.\n",
      "To enable the following instructions: AVX2 AVX512F AVX512_VNNI FMA, in other operations, rebuild TensorFlow with the appropriate compiler flags.\n",
      "2025-10-29 14:43:55.110487: I tensorflow/core/util/port.cc:153] oneDNN custom operations are on. You may see slightly different numerical results due to floating-point round-off errors from different computation orders. To turn them off, set the environment variable `TF_ENABLE_ONEDNN_OPTS=0`.\n",
      "Loading checkpoint shards: 100%|██████████| 4/4 [00:01<00:00,  2.28it/s]\n"
     ]
    },
    {
     "name": "stdout",
     "output_type": "stream",
     "text": [
      "Main Script: Preparing model with Accelerator...\n",
      "Main Script: Model prepared and set to eval.\n"
     ]
    }
   ],
   "source": [
    "SEED = 42\n",
    "# Initialize Accelerator\n",
    "accelerator_main = Accelerator(mixed_precision=\"fp16\")\n",
    "\n",
    "# Load Model\n",
    "if accelerator_main.is_main_process:\n",
    "    print(\"Main Script: Loading model...\")\n",
    "# model_path = \"mistralai/Mistral-7B-Instruct-v0.3\"\n",
    "model_path = \"meta-llama/Llama-3.1-8B-Instruct\"\n",
    "# model_path = \"Qwen/Qwen2.5-3B-Instruct\"\n",
    "\n",
    "model_cpu = AutoModelForCausalLM.from_pretrained(\n",
    "    model_path,\n",
    "    torch_dtype=torch.float16\n",
    ")\n",
    "tokenizer = AutoTokenizer.from_pretrained(model_path)\n",
    "if tokenizer.pad_token is None:\n",
    "    tokenizer.pad_token = tokenizer.eos_token\n",
    "    model_cpu.config.pad_token_id = tokenizer.pad_token_id\n",
    "    if hasattr(model_cpu, 'generation_config') and model_cpu.generation_config is not None:\n",
    "        model_cpu.generation_config.pad_token_id = tokenizer.pad_token_id\n",
    "\n",
    "if accelerator_main.is_main_process:\n",
    "    print(\"Main Script: Preparing model with Accelerator...\")\n",
    "prepared_model = accelerator_main.prepare(model_cpu)\n",
    "unwrapped_prepared_model = accelerator_main.unwrap_model(prepared_model)\n",
    "unwrapped_prepared_model.eval()\n",
    "if accelerator_main.is_main_process:\n",
    "    print(\"Main Script: Model prepared and set to eval.\")\n",
    "\n",
    "# Define utility cache\n",
    "\n",
    "accelerator_main.wait_for_everyone()\n"
   ]
  },
  {
   "cell_type": "code",
   "execution_count": 4,
   "id": "7405df4c",
   "metadata": {},
   "outputs": [
    {
     "name": "stderr",
     "output_type": "stream",
     "text": [
      "Fetching 3 files: 100%|██████████| 3/3 [00:00<00:00, 16152.65it/s]\n"
     ]
    }
   ],
   "source": [
    "harness = ContextAttribution(\n",
    "    items=context,\n",
    "    query=question,\n",
    "    prepared_model=prepared_model,\n",
    "    prepared_tokenizer=tokenizer,\n",
    "    accelerator=accelerator_main,\n",
    "    utility_cache_path= None\n",
    ")"
   ]
  },
  {
   "cell_type": "code",
   "execution_count": 5,
   "id": "5c0221b1-c77f-4b44-ba28-f62d7d4fa20b",
   "metadata": {},
   "outputs": [],
   "source": [
    "class CallCounter:\n",
    "    def __init__(self, func):\n",
    "        self.func = func\n",
    "        functools.update_wrapper(self, func)\n",
    "        self.count = 0\n",
    "        \n",
    "    def __call__(self, *args, **kwargs):\n",
    "        self.count += 1\n",
    "        return self.func(*args, **kwargs)\n",
    "        \n",
    "valuef_counter = CallCounter(harness._compute_response_metric)\n",
    "\n",
    "def value_function(X):\n",
    "    out_values = list()\n",
    "    for x in X:\n",
    "        selected_indexes = (np.asarray(x) == 1).nonzero()[0]\n",
    "        ablated_context = np.array(context)[selected_indexes]\n",
    "        ablated_context_str = ' '.join(ablated_context.tolist())\n",
    "        out_values.append(valuef_counter(ablated_context_str, mode=\"logit-prob\"))\n",
    "    return np.array(out_values)\n",
    "\n"
   ]
  },
  {
   "cell_type": "code",
   "execution_count": null,
   "id": "a7c29f10",
   "metadata": {},
   "outputs": [],
   "source": [
    "value_function([[1,1,1,1,1,1,1,1,1,1],\n",
    "                [0,0,1,0,0,0,0,0,1,0]])[0]"
   ]
  },
  {
   "cell_type": "code",
   "execution_count": 6,
   "id": "1f3a43e6",
   "metadata": {},
   "outputs": [],
   "source": [
    "explainer = shapiq.game_theory.exact.ExactComputer(n_players=10, game=value_function)"
   ]
  },
  {
   "cell_type": "code",
   "execution_count": null,
   "id": "79693b04",
   "metadata": {},
   "outputs": [],
   "source": [
    "interaction_values = explainer('SV')"
   ]
  },
  {
   "cell_type": "code",
   "execution_count": null,
   "id": "40949bd3",
   "metadata": {},
   "outputs": [],
   "source": [
    "X_test_maskings[4]"
   ]
  },
  {
   "cell_type": "code",
   "execution_count": 7,
   "id": "6b03013e",
   "metadata": {},
   "outputs": [],
   "source": [
    "interaction_values = explainer.compute_fii('FSII', 2)"
   ]
  },
  {
   "cell_type": "code",
   "execution_count": 8,
   "id": "87a592a7",
   "metadata": {},
   "outputs": [
    {
     "data": {
      "text/plain": [
       "{(): 0.0,\n",
       " (0,): 6.7413554305718595,\n",
       " (1,): 0.4187007404853107,\n",
       " (2,): 0.07069470924129595,\n",
       " (3,): -0.034560968729588915,\n",
       " (4,): 1.3811366974706825,\n",
       " (5,): 2.0894832815819644,\n",
       " (6,): 0.7685078242937795,\n",
       " (7,): -0.02494947490949917,\n",
       " (8,): 5.581586841588606,\n",
       " (9,): -0.411429607260801,\n",
       " (0, 1): 0.11330366150193338,\n",
       " (0, 2): 0.5439496859035327,\n",
       " (0, 3): 1.0891080130909698,\n",
       " (0, 4): 0.8810815290075853,\n",
       " (0, 5): 2.8548826559129834,\n",
       " (0, 6): 1.308455812455787,\n",
       " (0, 7): 0.45847526742031364,\n",
       " (0, 8): -7.490780498769247,\n",
       " (0, 9): -1.0723335946269796,\n",
       " (1, 2): 0.007543116637703351,\n",
       " (1, 3): 0.21693475370803017,\n",
       " (1, 4): -0.07008781876102754,\n",
       " (1, 5): -0.7400655881558813,\n",
       " (1, 6): -0.20237941503397897,\n",
       " (1, 7): 0.04222148725240793,\n",
       " (1, 8): 0.15725102435989846,\n",
       " (1, 9): -0.3108277546956397,\n",
       " (2, 3): -0.043899408867008605,\n",
       " (2, 4): -0.11965343828154273,\n",
       " (2, 5): 0.044983848060088316,\n",
       " (2, 6): -0.13879466274031707,\n",
       " (2, 7): 0.13131244534877196,\n",
       " (2, 8): -0.30232716503163054,\n",
       " (2, 9): -0.32027403047610115,\n",
       " (3, 4): -0.4297413347982645,\n",
       " (3, 5): 0.002515963262671117,\n",
       " (3, 6): -0.17234856048789993,\n",
       " (3, 7): 0.004590418342318159,\n",
       " (3, 8): -0.28247959715705684,\n",
       " (3, 9): 0.24056650582223332,\n",
       " (4, 5): -2.35781685953659,\n",
       " (4, 6): -0.3731527191067391,\n",
       " (4, 7): -0.009527081417701866,\n",
       " (4, 8): 1.0397078765044054,\n",
       " (4, 9): 0.33117988916107954,\n",
       " (5, 6): -1.0061787490568577,\n",
       " (5, 7): -0.43786196015695905,\n",
       " (5, 8): 2.355982896377207,\n",
       " (5, 9): 0.6423403196151739,\n",
       " (6, 7): -0.16038628066776178,\n",
       " (6, 8): 0.08815178428968551,\n",
       " (6, 9): -0.06029746634031086,\n",
       " (7, 8): -0.1657888592953386,\n",
       " (7, 9): 0.3675684067231568,\n",
       " (8, 9): -0.5584277424311928}"
      ]
     },
     "execution_count": 8,
     "metadata": {},
     "output_type": "execute_result"
    }
   ],
   "source": [
    "interaction_values.dict_values"
   ]
  },
  {
   "cell_type": "code",
   "execution_count": 9,
   "id": "16278d20",
   "metadata": {},
   "outputs": [],
   "source": [
    "approximator = shapiq.SPEX(n=harness.n_items, index='FSII', max_order=2)"
   ]
  },
  {
   "cell_type": "code",
   "execution_count": null,
   "id": "0aa39e1c",
   "metadata": {},
   "outputs": [],
   "source": [
    "# Generate test masking patterns (binary vectors)\n",
    "n_test_maskings_patterns = 20\n",
    "X_test_maskings = np.random.randint(0, 2, size=(n_test_maskings_patterns, harness.n_items))\n",
    "\n",
    "# Evaluate the true scores for test masks using the scalarizer\n",
    "y_test = value_function(X_test_maskings)\n",
    "# Using the Moebius interactions, finds the approximations computed by SPEX\n",
    "y_pred = np.zeros(n_test_maskings_patterns)\n",
    "for i, x in enumerate(X_test_maskings):\n",
    "  for loc, coef in interaction_values.dict_values.items():\n",
    "    # print(loc)\n",
    "    if all(x[l] == 1 for l in loc):\n",
    "      y_pred[i] += coef"
   ]
  },
  {
   "cell_type": "code",
   "execution_count": null,
   "id": "12b821f9",
   "metadata": {},
   "outputs": [],
   "source": [
    "y_test"
   ]
  },
  {
   "cell_type": "code",
   "execution_count": null,
   "id": "5de02be9",
   "metadata": {},
   "outputs": [],
   "source": [
    "y_pred"
   ]
  },
  {
   "cell_type": "code",
   "execution_count": null,
   "id": "cc1de13e",
   "metadata": {},
   "outputs": [],
   "source": [
    "attribution = np.zeros(10)\n",
    "interaction_terms = {}\n",
    "for pattern, coef in interaction_values.dict_values.items():\n",
    "    order = len(pattern)\n",
    "    if order == 1:\n",
    "        attribution[pattern] = coef\n",
    "    elif order == 2:\n",
    "        interaction_terms[pattern] = coef"
   ]
  },
  {
   "cell_type": "code",
   "execution_count": null,
   "id": "51af4bdc",
   "metadata": {},
   "outputs": [],
   "source": [
    "interaction_terms"
   ]
  },
  {
   "cell_type": "code",
   "execution_count": null,
   "id": "040507ca",
   "metadata": {},
   "outputs": [],
   "source": [
    "n_sources = len(context)\n",
    "n_maskings_patterns = 32\n",
    "n_test_maskings_patterns = 30\n",
    "approximator = shapiq.approximator.sparse.spex.SPEX(n=n_sources, index=\"FSII\", max_order=harness.n_items)"
   ]
  },
  {
   "cell_type": "code",
   "execution_count": null,
   "id": "f603deaf",
   "metadata": {},
   "outputs": [],
   "source": [
    "n_sources"
   ]
  },
  {
   "cell_type": "code",
   "execution_count": null,
   "id": "03686c13",
   "metadata": {},
   "outputs": [],
   "source": [
    "value_function(X_test_maskings)"
   ]
  },
  {
   "cell_type": "code",
   "execution_count": null,
   "id": "5ba0c027",
   "metadata": {},
   "outputs": [],
   "source": [
    "moebius_interactions = approximator.approximate(budget=n_maskings_patterns, game=value_function)"
   ]
  },
  {
   "cell_type": "code",
   "execution_count": null,
   "id": "11bc31e9",
   "metadata": {},
   "outputs": [],
   "source": [
    "attribution = np.zeros(harness.n_items)\n",
    "interaction_terms = {}\n",
    "print(\"Extracting attributions and interactions from SPEX results...\")\n",
    "for pattern, coef in moebius_interactions.dict_values.items():\n",
    "    order = len(pattern)\n",
    "    if order == 1:\n",
    "        attribution[pattern] = coef\n",
    "    elif order ==2:\n",
    "        interaction_terms[pattern] = coef\n",
    "    else:\n",
    "        continue"
   ]
  },
  {
   "cell_type": "code",
   "execution_count": null,
   "id": "4a113f39",
   "metadata": {},
   "outputs": [],
   "source": [
    "moebius_interactions.dict_values[(2,3,4,7)]"
   ]
  },
  {
   "cell_type": "code",
   "execution_count": null,
   "id": "4eeaed09",
   "metadata": {},
   "outputs": [],
   "source": [
    "# Generate test masking patterns (binary vectors)\n",
    "X_test_maskings = np.random.randint(0, 2, size=(n_test_maskings_patterns, n_sources))\n",
    "\n",
    "# Evaluate the true scores for test masks using the scalarizer\n",
    "y_test = value_function(X_test_maskings)\n",
    "# Using the Moebius interactions, finds the approximations computed by SPEX\n",
    "y_pred = np.zeros(n_test_maskings_patterns)\n",
    "for i, x in enumerate(X_test_maskings):\n",
    "  for loc, coef in moebius_interactions.dict_values.items():\n",
    "    # print(loc)\n",
    "    if all(x[l] == 1 for l in loc):\n",
    "      y_pred[i] += coef\n",
    "\n",
    "# Compute R² (coefficient of determination) to evaluate approximation quality\n",
    "# r2 = 1 - (np.linalg.norm(y_test - y_pred) ** 2 / np.linalg.norm(y_test - np.mean(y_test)) ** 2)\n",
    "# print(f'The r2 for this example is : {r2}')"
   ]
  },
  {
   "cell_type": "code",
   "execution_count": null,
   "id": "67503565",
   "metadata": {},
   "outputs": [],
   "source": [
    "X_test_maskings"
   ]
  },
  {
   "cell_type": "code",
   "execution_count": null,
   "id": "b586980f",
   "metadata": {},
   "outputs": [],
   "source": [
    "y_pred"
   ]
  },
  {
   "cell_type": "code",
   "execution_count": null,
   "id": "65c86f7f",
   "metadata": {},
   "outputs": [],
   "source": [
    "attribution = np.zeros(harness.n_items)\n",
    "interaction_terms = {}\n",
    "\n",
    "for pattern, coef in moebius_interactions.dict_values.items():\n",
    "    order = len(pattern)\n",
    "    if order == 1:\n",
    "        attribution[pattern] = coef\n",
    "    elif order == 2:\n",
    "        interaction_terms[pattern] = coef"
   ]
  },
  {
   "cell_type": "code",
   "execution_count": null,
   "id": "fc08a486",
   "metadata": {},
   "outputs": [],
   "source": [
    "interaction_terms"
   ]
  },
  {
   "cell_type": "code",
   "execution_count": null,
   "id": "4d2460d1-32b5-4323-84a3-456a505a9082",
   "metadata": {
    "scrolled": true
   },
   "outputs": [],
   "source": [
    "import random\n",
    "random.seed(42)\n",
    "explainer = spex.Explainer(\n",
    "    value_function=value_function,\n",
    "    features=context,\n",
    "    sample_budget = 1104,\n",
    "    max_order=10\n",
    ")"
   ]
  },
  {
   "cell_type": "code",
   "execution_count": null,
   "id": "bb0431f8",
   "metadata": {},
   "outputs": [],
   "source": [
    "method_interactions = explainer.interactions(index='fbii')\n",
    "converted = method_interactions.convert_fourier_interactions()\n",
    "\n",
    "attribution = np.zeros(len(context))\n",
    "interaction_terms = {}\n",
    "\n",
    "for pattern, coef in converted.items():\n",
    "    order = sum(pattern)\n",
    "    if order == 1:\n",
    "        idx = pattern.index(1)\n",
    "        attribution[idx] = abs(coef)\n",
    "    elif order == 2:\n",
    "        interaction_terms[pattern] = coef"
   ]
  },
  {
   "cell_type": "code",
   "execution_count": null,
   "id": "874f8958",
   "metadata": {},
   "outputs": [],
   "source": [
    "# Using the Moebius interactions, finds the approximations computed by SPEX\n",
    "y_pred = np.zeros(n_test_maskings_patterns)\n",
    "for i, x in enumerate(X_test_maskings):\n",
    "  for loc, coef in converted.items():\n",
    "    # print(f\"{loc} and -> {coef} compared to {y_test[i]}\")\n",
    "    if all(x[l] == 1 for l in loc):\n",
    "      y_pred[i] += coef\n",
    "\n",
    "# Compute R² (coefficient of determination) to evaluate approximation quality\n",
    "r2 = 1 - (np.linalg.norm(y_test - y_pred) ** 2 / np.linalg.norm(y_test - np.mean(y_test)) ** 2)\n",
    "print(f'The r2 for this example is : {r2}')"
   ]
  },
  {
   "cell_type": "code",
   "execution_count": null,
   "id": "b9a312ed",
   "metadata": {},
   "outputs": [],
   "source": [
    "# interactionsb = explainer.interactions(index=\"fbii\")\n",
    "# interactionss = explainer.interactions(index=\"fsii\")\n",
    "# interactionsm = explainer.interactions(index=\"mobius\")\n",
    "# interactionsf = explainer.interactions(index=\"fourier\")\n",
    "\n",
    "# print(interactionsb)\n",
    "# print(interactionss)\n",
    "# print(interactionsm)\n",
    "# print(interactionsf)"
   ]
  },
  {
   "cell_type": "code",
   "execution_count": null,
   "id": "c9cf7630",
   "metadata": {},
   "outputs": [],
   "source": [
    "interactionss.convert_fourier_interactions()"
   ]
  },
  {
   "cell_type": "code",
   "execution_count": null,
   "id": "90d75d85",
   "metadata": {},
   "outputs": [],
   "source": [
    "interactions = explainer.interactions(index=\"fsii\")\n",
    "print(interactions)"
   ]
  },
  {
   "cell_type": "code",
   "execution_count": null,
   "id": "667b23d5",
   "metadata": {},
   "outputs": [],
   "source": [
    "interactionss.convert_fourier_interactions()"
   ]
  },
  {
   "cell_type": "code",
   "execution_count": null,
   "id": "b859a974-2ce2-4720-a7ca-92c72f2a558a",
   "metadata": {},
   "outputs": [],
   "source": [
    "interactions.items()"
   ]
  }
 ],
 "metadata": {
  "kernelspec": {
   "display_name": "Python 3",
   "language": "python",
   "name": "python3"
  },
  "language_info": {
   "codemirror_mode": {
    "name": "ipython",
    "version": 3
   },
   "file_extension": ".py",
   "mimetype": "text/x-python",
   "name": "python",
   "nbconvert_exporter": "python",
   "pygments_lexer": "ipython3",
   "version": "3.10.12"
  }
 },
 "nbformat": 4,
 "nbformat_minor": 5
}
