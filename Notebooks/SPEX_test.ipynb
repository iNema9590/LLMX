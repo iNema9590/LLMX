{
 "cells": [
  {
   "cell_type": "code",
   "execution_count": 1,
   "id": "8c7aeb63-e046-4d99-a11b-cf1790556d3a",
   "metadata": {},
   "outputs": [
    {
     "name": "stderr",
     "output_type": "stream",
     "text": [
      "/usr/local/lib/python3.10/dist-packages/tqdm/auto.py:21: TqdmWarning: IProgress not found. Please update jupyter and ipywidgets. See https://ipywidgets.readthedocs.io/en/stable/user_install.html\n",
      "  from .autonotebook import tqdm as notebook_tqdm\n"
     ]
    }
   ],
   "source": [
    "#!pip install sparse-transform==0.1\n",
    "import os, sys\n",
    "os.environ[\"CUDA_VISIBLE_DEVICES\"] = \"2\" \n",
    "current_dir = os.getcwd()\n",
    "parent_dir = os.path.abspath(os.path.join(current_dir, '..'))\n",
    "sys.path.append(parent_dir)\n",
    "from SHapRAG import *\n",
    "from transformers import AutoModelForCausalLM, AutoTokenizer\n",
    "import torch\n",
    "from accelerate import Accelerator\n",
    "import spectralexplain as spex\n",
    "import numpy as np\n",
    "import time\n",
    "import functools\n",
    "import importlib.metadata"
   ]
  },
  {
   "cell_type": "code",
   "execution_count": 2,
   "id": "9b8e8c2a",
   "metadata": {},
   "outputs": [],
   "source": [
    "context = [\n",
    "    \"The weather in Chorvoq is sunny today.\",\n",
    "    \"Berlin is the capital of Germany.\", # Irrelevant\n",
    "    \"The Eiffel Tower is located in Paris, France.\",\n",
    "    \"France borders several countries including Germany.\",\n",
    "    \"The currency used in Suvsambil is the chaqa.\",\n",
    "    \"Chorvoq is the capital of Suvsambil.\",\n",
    "    \"Paris hosted the Summer Olympics in 1900 and 1924.\",\n",
    "    \"Germany uses the Euro as well.\", # Redundant info\n",
    "    # \"The sun is shining in Chorvoq today\",\n",
    "    \"It is cloudy in Berlin today.\"]\n",
    "question=\"what is the weather like in the capital of Suvsambil\"\n",
    "# context=['Stuart Rosenberg (August 11, 1927 – March 15, 2007) was an American film and television director whose motion pictures include \"Cool Hand Luke\" (1967), \"Voyage of the Damned\" (1976), \"The Amityville Horror\" (1979), and \"The Pope of Greenwich Village\" (1984). He was noted for his work with actor Paul Newman.',\n",
    "#  'Méditerranée is a 1963 French experimental film directed by Jean-Daniel Pollet with assistance from Volker Schlöndorff. It was written by Philippe Sollers and produced by Barbet Schroeder, with music by Antione Duhamel. The 45 minute film is cited as one of Pollet\\'s most influential films, which according to Jonathan Rosenbaum directly influenced Jean-Luc Goddard\\'s \"Contempt\", released later the same year. Footage for the film was shot around the Mediterranean, including at a Greek temple, a Sicilian garden, the sea, and also features a fisherman, a bullfighter, and a girl on an operating table.',\n",
    "#  'Move is a 1970 American comedy film starring Elliott Gould, Paula Prentiss and Geneviève Waïte, and directed by Stuart Rosenberg. The screenplay was written by Joel Lieber and Stanley Hart, adapted from a novel by Lieber.',\n",
    "#  'Ian Barry is an Australian director of film and TV.',\n",
    "#  'Peter Levin is an American director of film, television and theatre.',\n",
    "#  'Brian Johnson( born 1939 or 1940) is a British designer and director of film and television special effects.',\n",
    "#  'Rachel Feldman( born August 22, 1954) is an American director of film and television and screenwriter of television films.',\n",
    "#  'Hanro Smitsman, born in 1967 in Breda( Netherlands), is a writer and director of film and television.',\n",
    "#  'Jean-Daniel Pollet (1936–2004) was a French film director and screenwriter who was most active in the 1960s and 1970s. He was associated with two approaches to filmmaking: comedies which blended burlesque and melancholic elements, and poetic films based on texts by writers such as the French poet Francis Ponge.',\n",
    "#  'Howard Winchel Koch( April 11, 1916 – February 16, 2001) was an American producer and director of film and television.']\n",
    "# question = ['Are director of film Move (1970 Film) and director of film Méditerranée (1963 Film) from the same country?']"
   ]
  },
  {
   "cell_type": "code",
   "execution_count": 3,
   "id": "206af855-e627-4894-9fd4-273fa35b46fd",
   "metadata": {},
   "outputs": [
    {
     "name": "stderr",
     "output_type": "stream",
     "text": [
      "Detected kernel version 5.4.0, which is below the recommended minimum of 5.5.0; this can cause the process to hang. It is recommended to upgrade the kernel to the minimum version or higher.\n"
     ]
    },
    {
     "name": "stdout",
     "output_type": "stream",
     "text": [
      "Main Script: Loading model...\n"
     ]
    },
    {
     "name": "stderr",
     "output_type": "stream",
     "text": [
      "Loading checkpoint shards: 100%|██████████| 4/4 [00:02<00:00,  1.88it/s]\n"
     ]
    },
    {
     "name": "stdout",
     "output_type": "stream",
     "text": [
      "Main Script: Preparing model with Accelerator...\n",
      "Main Script: Model prepared and set to eval.\n"
     ]
    }
   ],
   "source": [
    "SEED = 42\n",
    "# Initialize Accelerator\n",
    "accelerator_main = Accelerator(mixed_precision=\"fp16\")\n",
    "\n",
    "# Load Model\n",
    "if accelerator_main.is_main_process:\n",
    "    print(\"Main Script: Loading model...\")\n",
    "# model_path = \"mistralai/Mistral-7B-Instruct-v0.3\"\n",
    "model_path = \"meta-llama/Llama-3.1-8B-Instruct\"\n",
    "# model_path = \"Qwen/Qwen2.5-3B-Instruct\"\n",
    "\n",
    "model_cpu = AutoModelForCausalLM.from_pretrained(\n",
    "    model_path,\n",
    "    torch_dtype=torch.float16\n",
    ")\n",
    "tokenizer = AutoTokenizer.from_pretrained(model_path)\n",
    "if tokenizer.pad_token is None:\n",
    "    tokenizer.pad_token = tokenizer.eos_token\n",
    "    model_cpu.config.pad_token_id = tokenizer.pad_token_id\n",
    "    if hasattr(model_cpu, 'generation_config') and model_cpu.generation_config is not None:\n",
    "        model_cpu.generation_config.pad_token_id = tokenizer.pad_token_id\n",
    "\n",
    "if accelerator_main.is_main_process:\n",
    "    print(\"Main Script: Preparing model with Accelerator...\")\n",
    "prepared_model = accelerator_main.prepare(model_cpu)\n",
    "unwrapped_prepared_model = accelerator_main.unwrap_model(prepared_model)\n",
    "unwrapped_prepared_model.eval()\n",
    "if accelerator_main.is_main_process:\n",
    "    print(\"Main Script: Model prepared and set to eval.\")\n",
    "\n",
    "# Define utility cache\n",
    "\n",
    "accelerator_main.wait_for_everyone()\n",
    "\n"
   ]
  },
  {
   "cell_type": "code",
   "execution_count": 4,
   "id": "7405df4c",
   "metadata": {},
   "outputs": [
    {
     "name": "stderr",
     "output_type": "stream",
     "text": [
      "Fetching 3 files: 100%|██████████| 3/3 [00:00<00:00, 12852.82it/s]\n"
     ]
    }
   ],
   "source": [
    "harness = ContextAttribution(\n",
    "    items=context,\n",
    "    query=question,\n",
    "    prepared_model_for_harness=prepared_model,\n",
    "    tokenizer_for_harness=tokenizer,\n",
    "    accelerator_for_harness=accelerator_main,\n",
    "    utility_cache_path= None\n",
    ")"
   ]
  },
  {
   "cell_type": "code",
   "execution_count": 5,
   "id": "5c0221b1-c77f-4b44-ba28-f62d7d4fa20b",
   "metadata": {},
   "outputs": [],
   "source": [
    "class CallCounter:\n",
    "    def __init__(self, func):\n",
    "        self.func = func\n",
    "        functools.update_wrapper(self, func)\n",
    "        self.count = 0\n",
    "        \n",
    "    def __call__(self, *args, **kwargs):\n",
    "        self.count += 1\n",
    "        return self.func(*args, **kwargs)\n",
    "        \n",
    "valuef_counter = CallCounter(harness._compute_response_metric)\n",
    "\n",
    "def value_function(X):\n",
    "    out_values = list()\n",
    "    for x in X:\n",
    "        selected_indexes = (np.asarray(x) == 1).nonzero()[0]\n",
    "        ablated_context = np.array(context)[selected_indexes]\n",
    "        ablated_context_str = ' '.join(ablated_context.tolist())\n",
    "        out_values.append(valuef_counter(ablated_context_str, mode=\"log-perplexity\"))\n",
    "    return out_values\n",
    "\n"
   ]
  },
  {
   "cell_type": "code",
   "execution_count": 9,
   "id": "4d2460d1-32b5-4323-84a3-456a505a9082",
   "metadata": {
    "scrolled": true
   },
   "outputs": [
    {
     "name": "stdout",
     "output_type": "stream",
     "text": [
      "Interactions(\n",
      "    index=FOURIER, max_order=2, baseline_value=-7.528\n",
      "    sample_budget=264, num_features=9,\n",
      "    Top Interactions:\n",
      "\t\t('The weather in Chorvoq is sunny today.',): -2.05\n",
      "\t\t('Chorvoq is the capital of Suvsambil.',): -0.943\n",
      "\t\t('The weather in Chorvoq is sunny today.', 'Chorvoq is the capital of Suvsambil.'): 0.674\n",
      "\t\t('The weather in Chorvoq is sunny today.', 'It is cloudy in Berlin today.'): -0.21\n",
      "\t\t('The currency used in Suvsambil is the chaqa.', 'Chorvoq is the capital of Suvsambil.'): -0.15\n",
      ")\n"
     ]
    }
   ],
   "source": [
    "explainer = spex.Explainer(\n",
    "    value_function=value_function,\n",
    "    features=context,\n",
    "    sample_budget = 264,\n",
    "    max_order=2\n",
    ")\n",
    "\n",
    "interactions = explainer.interactions(index=\"fourier\")\n",
    "print(interactions)"
   ]
  },
  {
   "cell_type": "code",
   "execution_count": null,
   "id": "667b23d5",
   "metadata": {},
   "outputs": [],
   "source": [
    "interactions.convert_fourier_interactions()"
   ]
  },
  {
   "cell_type": "code",
   "execution_count": null,
   "id": "b859a974-2ce2-4720-a7ca-92c72f2a558a",
   "metadata": {},
   "outputs": [],
   "source": [
    "interactions.items()"
   ]
  }
 ],
 "metadata": {
  "kernelspec": {
   "display_name": "Python 3",
   "language": "python",
   "name": "python3"
  },
  "language_info": {
   "codemirror_mode": {
    "name": "ipython",
    "version": 3
   },
   "file_extension": ".py",
   "mimetype": "text/x-python",
   "name": "python",
   "nbconvert_exporter": "python",
   "pygments_lexer": "ipython3",
   "version": "3.10.12"
  }
 },
 "nbformat": 4,
 "nbformat_minor": 5
}
