{
 "cells": [
  {
   "cell_type": "markdown",
   "id": "0dee4df1",
   "metadata": {},
   "source": [
    "# Imports"
   ]
  },
  {
   "cell_type": "code",
   "execution_count": 2,
   "id": "1ea562b9",
   "metadata": {},
   "outputs": [
    {
     "name": "stderr",
     "output_type": "stream",
     "text": [
      "c:\\Users\\Kalai\\OneDrive\\Desktop\\ULB_Work\\ShapRAG\\LLMX\\.venv\\lib\\site-packages\\tqdm\\auto.py:21: TqdmWarning: IProgress not found. Please update jupyter and ipywidgets. See https://ipywidgets.readthedocs.io/en/stable/user_install.html\n",
      "  from .autonotebook import tqdm as notebook_tqdm\n"
     ]
    }
   ],
   "source": [
    "import sys\n",
    "import json\n",
    "import os\n",
    "import nltk\n",
    "import torch\n",
    "import numpy as np\n",
    "import pandas as pd\n",
    "import ast\n",
    "from tqdm import tqdm\n",
    "from scipy.stats import spearmanr, pearsonr, kendalltau, rankdata\n",
    "from sklearn.metrics import ndcg_score\n",
    "from transformers import AutoModelForCausalLM, AutoTokenizer\n",
    "from accelerate import Accelerator\n",
    "from nltk.tokenize import sent_tokenize\n",
    "\n",
    "current_dir = os.getcwd()\n",
    "parent_dir = os.path.abspath(os.path.join(current_dir, '..'))\n",
    "sys.path.append(parent_dir)\n",
    "from SHapRAG import *"
   ]
  },
  {
   "cell_type": "markdown",
   "id": "cef9cdc9",
   "metadata": {},
   "source": [
    "# Data Loading & Preparation\n",
    "\n",
    "For tidyQA, there are indexes provided for the possible answer passage holding the answer. If it is \"-1\" it does  NOT mean that the answer is in the last passage chunk but simply that there is no passage holding the answer for that question."
   ]
  },
  {
   "cell_type": "markdown",
   "id": "9869c1c8",
   "metadata": {},
   "source": [
    "## MusiQue"
   ]
  },
  {
   "cell_type": "code",
   "execution_count": 9,
   "id": "cc352cf0",
   "metadata": {},
   "outputs": [],
   "source": [
    "data = []\n",
    "with open('../data/musique.jsonl', 'r') as f: \n",
    "    for line in f: \n",
    "        data.append(json.loads(line))"
   ]
  },
  {
   "cell_type": "code",
   "execution_count": 21,
   "id": "cb3611f8",
   "metadata": {},
   "outputs": [],
   "source": [
    "len(data) # 19938\n",
    "answerable_data = []\n",
    "for i in range(len(data)) : \n",
    "    if data[i]['answerable'] == True: \n",
    "        answerable_data.append(data[i])"
   ]
  },
  {
   "cell_type": "code",
   "execution_count": 37,
   "id": "82d1d217",
   "metadata": {},
   "outputs": [],
   "source": [
    "filtered_data = {\"question\" : [], \"context\" : [], \"answer\" : []}\n",
    "answerable_data[0]['question'] # question\n",
    "answerable_data[0]['answer']\n",
    "context = [elem['paragraph_text'] for elem in answerable_data[0]['paragraphs']]\n"
   ]
  },
  {
   "cell_type": "code",
   "execution_count": 42,
   "id": "48e72c47",
   "metadata": {},
   "outputs": [],
   "source": [
    "for i in range(len(answerable_data)): \n",
    "    filtered_data['question'].append(answerable_data[i]['question'])\n",
    "    filtered_data['answer'].append(answerable_data[i]['answer'])\n",
    "    context = [elem['paragraph_text'] for elem in answerable_data[i]['paragraphs']]\n",
    "    filtered_data['context'].append(context)\n",
    "\n",
    "df = pd.DataFrame.from_dict(filtered_data)\n"
   ]
  },
  {
   "cell_type": "markdown",
   "id": "160aea25",
   "metadata": {},
   "source": [
    "## TidyQA"
   ]
  },
  {
   "cell_type": "markdown",
   "id": "dfa1939a",
   "metadata": {},
   "source": [
    "###  Long Version Dataset"
   ]
  },
  {
   "cell_type": "code",
   "execution_count": 100,
   "id": "57ab8db5",
   "metadata": {},
   "outputs": [],
   "source": [
    "data = []\n",
    "with open('../data/tydi.jsonl', 'r') as f: \n",
    "    for line in f: \n",
    "        data.append(json.loads(line))"
   ]
  },
  {
   "cell_type": "code",
   "execution_count": 101,
   "id": "4a5df248",
   "metadata": {},
   "outputs": [],
   "source": [
    "english_data = []\n",
    "for i in range(len(data)): \n",
    "    if data[i]['language'] == 'english': \n",
    "        english_data.append(data[i])"
   ]
  },
  {
   "cell_type": "code",
   "execution_count": null,
   "id": "57dd88b1",
   "metadata": {},
   "outputs": [
    {
     "data": {
      "text/plain": [
       "'Zebra finch'"
      ]
     },
     "execution_count": 107,
     "metadata": {},
     "output_type": "execute_result"
    }
   ],
   "source": [
    "english_data[0]['question_text'] # question\n",
    "english_data[0]['document_plaintext'] # context\n",
    "english_data[0]['document_title'] # title\n",
    "# english_data[2]\n"
   ]
  },
  {
   "cell_type": "code",
   "execution_count": 110,
   "id": "9e921500",
   "metadata": {},
   "outputs": [],
   "source": [
    "filtered_data = {'title' : [], 'context' : [],\n",
    "                 'question' : []}\n",
    "for i in range(len(english_data)) :\n",
    "    filtered_data['title'].append(english_data[i]['document_title'])\n",
    "    filtered_data['context'].append(english_data[i]['document_plaintext'])\n",
    "    filtered_data['question'].append(english_data[i]['question_text'])\n",
    "\n",
    "df = pd.DataFrame.from_dict(filtered_data)"
   ]
  },
  {
   "cell_type": "markdown",
   "id": "0224ead1",
   "metadata": {},
   "source": [
    "### Short Version Dataset"
   ]
  },
  {
   "cell_type": "code",
   "execution_count": 48,
   "id": "a6dde80c",
   "metadata": {},
   "outputs": [],
   "source": [
    "f = open('../data/tydiqa.json', 'r')\n",
    "data = json.load(f)"
   ]
  },
  {
   "cell_type": "code",
   "execution_count": 49,
   "id": "2a6bff72",
   "metadata": {},
   "outputs": [
    {
     "data": {
      "text/plain": [
       "'Wound care'"
      ]
     },
     "execution_count": 49,
     "metadata": {},
     "output_type": "execute_result"
    }
   ],
   "source": [
    "data['data'][0]['title'] # get title\n",
    "data['data'][0]['paragraphs'][0]['context'] # get context\n",
    "data['data'][0]['paragraphs'][0]['qas'][0]['question'] # get question\n",
    "data['data'][0]['paragraphs'][0]['qas'][0]['answers'][0][\"text\"]# get answer"
   ]
  },
  {
   "cell_type": "code",
   "execution_count": 50,
   "id": "05e57812",
   "metadata": {},
   "outputs": [],
   "source": [
    "filtered_data = {\"title\" : [], \"context\" : [],\n",
    "                 \"question\": [], \"answer\" : []}\n",
    "for i in range(len(data['data'])) : \n",
    "    filtered_data['title'].append(data['data'][i]['title'])\n",
    "    filtered_data['context'].append(data['data'][i]['paragraphs'][0]['context'])\n",
    "    filtered_data['question'].append(data['data'][i]['paragraphs'][0]['qas'][0]['question'])\n",
    "    filtered_data['answer'].append(data['data'][i]['paragraphs'][0]['qas'][0]['answers'][0][\"text\"])\n",
    "\n",
    "df = pd.DataFrame.from_dict(filtered_data)"
   ]
  },
  {
   "cell_type": "code",
   "execution_count": 51,
   "id": "a70ae3da",
   "metadata": {},
   "outputs": [
    {
     "data": {
      "text/html": [
       "<div>\n",
       "<style scoped>\n",
       "    .dataframe tbody tr th:only-of-type {\n",
       "        vertical-align: middle;\n",
       "    }\n",
       "\n",
       "    .dataframe tbody tr th {\n",
       "        vertical-align: top;\n",
       "    }\n",
       "\n",
       "    .dataframe thead th {\n",
       "        text-align: right;\n",
       "    }\n",
       "</style>\n",
       "<table border=\"1\" class=\"dataframe\">\n",
       "  <thead>\n",
       "    <tr style=\"text-align: right;\">\n",
       "      <th></th>\n",
       "      <th>title</th>\n",
       "      <th>context</th>\n",
       "      <th>question</th>\n",
       "      <th>answer</th>\n",
       "    </tr>\n",
       "  </thead>\n",
       "  <tbody>\n",
       "    <tr>\n",
       "      <th>0</th>\n",
       "      <td>Wound healing</td>\n",
       "      <td>Wound care encourages and speeds wound healing...</td>\n",
       "      <td>What is a way to increase your wound healing s...</td>\n",
       "      <td>Wound care</td>\n",
       "    </tr>\n",
       "    <tr>\n",
       "      <th>1</th>\n",
       "      <td>Burntisland Shipbuilding Company</td>\n",
       "      <td>Brothers Amos and Wilfrid Ayre founded Burntis...</td>\n",
       "      <td>Who founded the Burntisland Shipbuilding Company?</td>\n",
       "      <td>Amos and Wilfrid Ayre</td>\n",
       "    </tr>\n",
       "    <tr>\n",
       "      <th>2</th>\n",
       "      <td>Cerebral cortex</td>\n",
       "      <td>The cerebral cortex is folded in a way that al...</td>\n",
       "      <td>What is the surface area of the human cortex?</td>\n",
       "      <td>1.3 square feet</td>\n",
       "    </tr>\n",
       "    <tr>\n",
       "      <th>3</th>\n",
       "      <td>Agatha Christie</td>\n",
       "      <td>Guinness World Records lists Christie as the b...</td>\n",
       "      <td>How many units has Agatha Christie sold?</td>\n",
       "      <td>2 billion copies</td>\n",
       "    </tr>\n",
       "    <tr>\n",
       "      <th>4</th>\n",
       "      <td>Nájera</td>\n",
       "      <td>The town was conquered by Ordoño II of Leon fo...</td>\n",
       "      <td>When was Nájera established?</td>\n",
       "      <td>923</td>\n",
       "    </tr>\n",
       "  </tbody>\n",
       "</table>\n",
       "</div>"
      ],
      "text/plain": [
       "                              title  \\\n",
       "0                     Wound healing   \n",
       "1  Burntisland Shipbuilding Company   \n",
       "2                   Cerebral cortex   \n",
       "3                   Agatha Christie   \n",
       "4                            Nájera   \n",
       "\n",
       "                                             context  \\\n",
       "0  Wound care encourages and speeds wound healing...   \n",
       "1  Brothers Amos and Wilfrid Ayre founded Burntis...   \n",
       "2  The cerebral cortex is folded in a way that al...   \n",
       "3  Guinness World Records lists Christie as the b...   \n",
       "4  The town was conquered by Ordoño II of Leon fo...   \n",
       "\n",
       "                                            question                 answer  \n",
       "0  What is a way to increase your wound healing s...             Wound care  \n",
       "1  Who founded the Burntisland Shipbuilding Company?  Amos and Wilfrid Ayre  \n",
       "2      What is the surface area of the human cortex?        1.3 square feet  \n",
       "3           How many units has Agatha Christie sold?       2 billion copies  \n",
       "4                       When was Nájera established?                    923  "
      ]
     },
     "execution_count": 51,
     "metadata": {},
     "output_type": "execute_result"
    }
   ],
   "source": [
    "df.head()"
   ]
  },
  {
   "cell_type": "markdown",
   "id": "db55eb69",
   "metadata": {},
   "source": [
    "## Sentence Level"
   ]
  },
  {
   "cell_type": "code",
   "execution_count": null,
   "id": "70c7ff28",
   "metadata": {},
   "outputs": [],
   "source": [
    "flattened_list = [item for sublist in [sent_tokenize(elem) for elem in df['context'].loc[0]] for item in sublist]"
   ]
  },
  {
   "cell_type": "code",
   "execution_count": 64,
   "id": "a2aaf785",
   "metadata": {},
   "outputs": [],
   "source": [
    "if type(df.context.loc[0]) == list: \n",
    "    for i in range(len(df)) :\n",
    "        df.loc[i, 'context'] = [item for sublist in[sent_tokenize(elem) for elem in df.loc[i, 'context']] for item in sublist]\n",
    "else : \n",
    "    df['context'] = df.context.apply(lambda x: sent_tokenize(x))\n"
   ]
  },
  {
   "cell_type": "code",
   "execution_count": 65,
   "id": "bf8ff4ff",
   "metadata": {},
   "outputs": [],
   "source": [
    "df['context_size'] = df.context.apply(lambda x: len(x))"
   ]
  },
  {
   "cell_type": "code",
   "execution_count": null,
   "id": "a293702a",
   "metadata": {},
   "outputs": [
    {
     "data": {
      "text/html": [
       "<div>\n",
       "<style scoped>\n",
       "    .dataframe tbody tr th:only-of-type {\n",
       "        vertical-align: middle;\n",
       "    }\n",
       "\n",
       "    .dataframe tbody tr th {\n",
       "        vertical-align: top;\n",
       "    }\n",
       "\n",
       "    .dataframe thead th {\n",
       "        text-align: right;\n",
       "    }\n",
       "</style>\n",
       "<table border=\"1\" class=\"dataframe\">\n",
       "  <thead>\n",
       "    <tr style=\"text-align: right;\">\n",
       "      <th></th>\n",
       "      <th>question</th>\n",
       "      <th>context</th>\n",
       "      <th>answer</th>\n",
       "      <th>context_size</th>\n",
       "    </tr>\n",
       "  </thead>\n",
       "  <tbody>\n",
       "  </tbody>\n",
       "</table>\n",
       "</div>"
      ],
      "text/plain": [
       "Empty DataFrame\n",
       "Columns: [question, context, answer, context_size]\n",
       "Index: []"
      ]
     },
     "execution_count": 69,
     "metadata": {},
     "output_type": "execute_result"
    }
   ],
   "source": []
  },
  {
   "cell_type": "code",
   "execution_count": 71,
   "id": "0dcf648f",
   "metadata": {},
   "outputs": [],
   "source": [
    "df = df[df.context_size >= 10].drop('context_size', axis = 1).copy()"
   ]
  },
  {
   "cell_type": "code",
   "execution_count": 73,
   "id": "230505e6",
   "metadata": {},
   "outputs": [],
   "source": [
    "df.to_csv('../data/prepared_musique.csv', index = False)"
   ]
  },
  {
   "cell_type": "markdown",
   "id": "7afa9ccf",
   "metadata": {},
   "source": [
    "# Running Experiment"
   ]
  },
  {
   "cell_type": "markdown",
   "id": "61469ba2",
   "metadata": {},
   "source": [
    "## Setup"
   ]
  },
  {
   "cell_type": "code",
   "execution_count": 128,
   "id": "5889f102",
   "metadata": {},
   "outputs": [
    {
     "name": "stdout",
     "output_type": "stream",
     "text": [
      "Main Script: Loading model...\n"
     ]
    },
    {
     "data": {
      "application/vnd.jupyter.widget-view+json": {
       "model_id": "2c2846cfb718487c84592b5abc476ecd",
       "version_major": 2,
       "version_minor": 0
      },
      "text/plain": [
       "Loading checkpoint shards:   0%|          | 0/2 [00:00<?, ?it/s]"
      ]
     },
     "metadata": {},
     "output_type": "display_data"
    },
    {
     "name": "stdout",
     "output_type": "stream",
     "text": [
      "Main Script: Preparing model with Accelerator...\n",
      "Main Script: Model prepared and set to eval.\n"
     ]
    }
   ],
   "source": [
    "SEED = 42\n",
    "# Initialize Accelerator\n",
    "accelerator_main = Accelerator(mixed_precision=\"fp16\")\n",
    "\n",
    "# Load Model\n",
    "if accelerator_main.is_main_process:\n",
    "    print(\"Main Script: Loading model...\")\n",
    "# model_path = \"mistralai/Mistral-7B-Instruct-v0.3\"\n",
    "# model_path = \"meta-llama/Llama-3.1-8B-Instruct\"\n",
    "model_path = \"Qwen/Qwen2.5-3B-Instruct\"\n",
    "\n",
    "model_cpu = AutoModelForCausalLM.from_pretrained(\n",
    "    model_path,\n",
    "    torch_dtype=torch.float16\n",
    ")\n",
    "tokenizer = AutoTokenizer.from_pretrained(model_path)\n",
    "if tokenizer.pad_token is None:\n",
    "    tokenizer.pad_token = tokenizer.eos_token\n",
    "    model_cpu.config.pad_token_id = tokenizer.pad_token_id\n",
    "    if hasattr(model_cpu, 'generation_config') and model_cpu.generation_config is not None:\n",
    "        model_cpu.generation_config.pad_token_id = tokenizer.pad_token_id\n",
    "\n",
    "if accelerator_main.is_main_process:\n",
    "    print(\"Main Script: Preparing model with Accelerator...\")\n",
    "prepared_model = accelerator_main.prepare(model_cpu)\n",
    "unwrapped_prepared_model = accelerator_main.unwrap_model(prepared_model)\n",
    "unwrapped_prepared_model.eval()\n",
    "if accelerator_main.is_main_process:\n",
    "    print(\"Main Script: Model prepared and set to eval.\")\n",
    "\n",
    "# Define utility cache\n",
    "\n",
    "accelerator_main.wait_for_everyone()"
   ]
  },
  {
   "cell_type": "code",
   "execution_count": 133,
   "id": "5c052396",
   "metadata": {},
   "outputs": [
    {
     "data": {
      "application/vnd.jupyter.widget-view+json": {
       "model_id": "48411a7a9a6f4caaaa820e9de88a6c92",
       "version_major": 2,
       "version_minor": 0
      },
      "text/plain": [
       "Processing Questions:   0%|          | 0/3 [00:00<?, ?it/s]"
      ]
     },
     "metadata": {},
     "output_type": "display_data"
    },
    {
     "name": "stdout",
     "output_type": "stream",
     "text": [
      "\n",
      "--- Question 1/3: Do zebra finches have stripes?... ---\n",
      "  Instantiating ShapleyExperimentHarness for Q0 (n=205 docs)...\n"
     ]
    },
    {
     "name": "stderr",
     "output_type": "stream",
     "text": [
      "c:\\Users\\Kalai\\anaconda3\\envs\\llms\\Lib\\site-packages\\transformers\\generation\\configuration_utils.py:628: UserWarning: `do_sample` is set to `False`. However, `temperature` is set to `0` -- this flag is only used in sample-based generation modes. You should set `do_sample=True` or unset `temperature`.\n",
      "  warnings.warn(\n",
      "c:\\Users\\Kalai\\anaconda3\\envs\\llms\\Lib\\site-packages\\transformers\\generation\\configuration_utils.py:650: UserWarning: `do_sample` is set to `False`. However, `top_k` is set to `20` -- this flag is only used in sample-based generation modes. You should set `do_sample=True` or unset `top_k`.\n",
      "  warnings.warn(\n"
     ]
    },
    {
     "name": "stdout",
     "output_type": "stream",
     "text": [
      "HERE 32\n",
      "HERE\n"
     ]
    },
    {
     "data": {
      "application/vnd.jupyter.widget-view+json": {
       "model_id": "2662baf837b24828b9bcec84c7b72b2c",
       "version_major": 2,
       "version_minor": 0
      },
      "text/plain": [
       "  0%|          | 0/205 [00:00<?, ?it/s]"
      ]
     },
     "metadata": {},
     "output_type": "display_data"
    },
    {
     "name": "stdout",
     "output_type": "stream",
     "text": [
      "\n",
      "--- Question 2/3: Does Catholicism have any dietary restrictions?... ---\n",
      "  Instantiating ShapleyExperimentHarness for Q1 (n=18 docs)...\n"
     ]
    },
    {
     "name": "stderr",
     "output_type": "stream",
     "text": [
      "c:\\Users\\Kalai\\anaconda3\\envs\\llms\\Lib\\site-packages\\transformers\\generation\\configuration_utils.py:628: UserWarning: `do_sample` is set to `False`. However, `temperature` is set to `0` -- this flag is only used in sample-based generation modes. You should set `do_sample=True` or unset `temperature`.\n",
      "  warnings.warn(\n",
      "c:\\Users\\Kalai\\anaconda3\\envs\\llms\\Lib\\site-packages\\transformers\\generation\\configuration_utils.py:650: UserWarning: `do_sample` is set to `False`. However, `top_k` is set to `20` -- this flag is only used in sample-based generation modes. You should set `do_sample=True` or unset `top_k`.\n",
      "  warnings.warn(\n"
     ]
    },
    {
     "name": "stdout",
     "output_type": "stream",
     "text": [
      "HERE 32\n",
      "HERE\n"
     ]
    },
    {
     "data": {
      "application/vnd.jupyter.widget-view+json": {
       "model_id": "e7d1cd5e7cc24b62b089df246ecfac34",
       "version_major": 2,
       "version_minor": 0
      },
      "text/plain": [
       "  0%|          | 0/18 [00:00<?, ?it/s]"
      ]
     },
     "metadata": {},
     "output_type": "display_data"
    },
    {
     "name": "stdout",
     "output_type": "stream",
     "text": [
      "\n",
      "--- Question 3/3: What is a way to increase your wound healing speed?... ---\n",
      "  Instantiating ShapleyExperimentHarness for Q2 (n=349 docs)...\n"
     ]
    },
    {
     "name": "stderr",
     "output_type": "stream",
     "text": [
      "c:\\Users\\Kalai\\anaconda3\\envs\\llms\\Lib\\site-packages\\transformers\\generation\\configuration_utils.py:628: UserWarning: `do_sample` is set to `False`. However, `temperature` is set to `0` -- this flag is only used in sample-based generation modes. You should set `do_sample=True` or unset `temperature`.\n",
      "  warnings.warn(\n",
      "c:\\Users\\Kalai\\anaconda3\\envs\\llms\\Lib\\site-packages\\transformers\\generation\\configuration_utils.py:650: UserWarning: `do_sample` is set to `False`. However, `top_k` is set to `20` -- this flag is only used in sample-based generation modes. You should set `do_sample=True` or unset `top_k`.\n",
      "  warnings.warn(\n"
     ]
    },
    {
     "name": "stdout",
     "output_type": "stream",
     "text": [
      "HERE 32\n",
      "HERE\n"
     ]
    },
    {
     "data": {
      "application/vnd.jupyter.widget-view+json": {
       "model_id": "48852c1db26b4723bdd97fa1b7711393",
       "version_major": 2,
       "version_minor": 0
      },
      "text/plain": [
       "  0%|          | 0/349 [00:00<?, ?it/s]"
      ]
     },
     "metadata": {},
     "output_type": "display_data"
    }
   ],
   "source": [
    "num_questions_to_run=len(df.question)\n",
    "# num_questions_to_run=1\n",
    "all_metrics_data = []\n",
    "all_results=[]\n",
    "M=[]\n",
    "Fs=[]\n",
    "pairs=[]\n",
    "mse_inters=[]\n",
    "mse_lins=[]\n",
    "mse_fms=[]\n",
    "dataset_name = 'tidyQA'\n",
    "\n",
    "for i in tqdm(range(num_questions_to_run), desc=\"Processing Questions\", disable=not accelerator_main.is_main_process):\n",
    "    query = df.question[i]\n",
    "    if accelerator_main.is_main_process:\n",
    "        print(f\"\\n--- Question {i+1}/{num_questions_to_run}: {query[:60]}... ---\")\n",
    "\n",
    "    if isinstance(df.context[i], list) == False: \n",
    "        docs=ast.literal_eval(df.context[i])\n",
    "    else: \n",
    "        docs = df.context[i]\n",
    "\n",
    "    utility_cache_base_dir = f\"../Experiment_data/{dataset_name}\"\n",
    "    utility_cache_filename = f\"utilities_q_idx{i}_n{len(docs)}.pkl\" # More robust naming\n",
    "    current_utility_path = os.path.join(utility_cache_base_dir, utility_cache_filename)\n",
    "    \n",
    "    if accelerator_main.is_main_process: # Only main process creates directories\n",
    "        os.makedirs(os.path.dirname(current_utility_path), exist_ok=True)\n",
    "        print(f\"  Instantiating ShapleyExperimentHarness for Q{i} (n={len(docs)} docs)...\")\n",
    "    \n",
    "    # Initialize Harness\n",
    "    harness = ContextAttribution(\n",
    "        items=docs,\n",
    "        query=query,\n",
    "        prepared_model_for_harness=prepared_model,\n",
    "        tokenizer_for_harness=tokenizer,\n",
    "        accelerator_for_harness=accelerator_main,\n",
    "        verbose=False\n",
    "    )\n",
    "    # Compute metrics\n",
    "    results_for_query = {}\n",
    "    # M.append(harness.compute_shapley_interaction_index_pairs_matrix())\n",
    "    if accelerator_main.is_main_process:\n",
    "\n",
    "        m_samples_map = {\"L\": 32}\n",
    "        T_iterations_map = { \"L\":20}\n",
    "\n",
    "        for size_key, num_s in m_samples_map.items():\n",
    "            if 2**len(docs) < num_s and size_key != \"L\":\n",
    "                actual_samples = max(1, 2**len(docs)-1 if 2**len(docs)>0 else 1)\n",
    "            else:\n",
    "                actual_samples = num_s\n",
    "            \n",
    "            print(\"HERE\", actual_samples)\n",
    "\n",
    "            if actual_samples > 0: \n",
    "                results_for_query[f\"ContextCite{actual_samples}\"] = harness.compute_contextcite(num_samples=actual_samples, seed=SEED)\n",
    "                print(\"HERE\")\n",
    "\n",
    "                # results_for_query[f\"WSS_FM{actual_samples}\"], F, mse_fm = harness.compute_wss(num_samples=actual_samples, seed=SEED)\n",
    "                # Fs.append(F)\n",
    "                # mse_fms.append(mse_fm)\n",
    "                results_for_query[f\"BetaShap{actual_samples}\"] = harness.compute_beta_shap(num_iterations_max=T_iterations_map[size_key], beta_a=4, beta_b=4, max_unique_lookups=actual_samples, seed=SEED)\n",
    "                results_for_query[f\"TMC{actual_samples}\"] = harness.compute_tmc_shap(num_iterations_max=T_iterations_map[size_key], performance_tolerance=0.001, max_unique_lookups=actual_samples, seed=SEED)\n",
    "\n",
    "        results_for_query[\"LOO\"] = harness.compute_loo()\n",
    "        results_for_query[\"ARC-JSD\"] = harness.compute_arc_jsd()\n",
    "\n",
    "        # exact_scores = results_for_query.get(\"ExactInter\")\n",
    "        all_results.append(results_for_query)"
   ]
  },
  {
   "cell_type": "code",
   "execution_count": 139,
   "id": "b1e6fdcd",
   "metadata": {},
   "outputs": [],
   "source": [
    "np.save('../Experiment_data/tidyQA/all_results.npy', all_results)"
   ]
  },
  {
   "cell_type": "markdown",
   "id": "00aed33f",
   "metadata": {},
   "source": [
    "# Results Analysis"
   ]
  },
  {
   "cell_type": "code",
   "execution_count": 3,
   "id": "57618341",
   "metadata": {},
   "outputs": [],
   "source": [
    "results = np.load('../Experiment_data/tidyQA/all_results.npy', allow_pickle=True)"
   ]
  },
  {
   "cell_type": "code",
   "execution_count": 7,
   "id": "11f79dc7",
   "metadata": {},
   "outputs": [
    {
     "data": {
      "text/plain": [
       "dict_keys(['ContextCite32', 'BetaShap32', 'TMC32', 'LOO', 'ARC-JSD'])"
      ]
     },
     "execution_count": 7,
     "metadata": {},
     "output_type": "execute_result"
    }
   ],
   "source": [
    "results[0].keys()"
   ]
  },
  {
   "cell_type": "code",
   "execution_count": 8,
   "id": "31a7e6c6",
   "metadata": {},
   "outputs": [
    {
     "data": {
      "text/plain": [
       "array([{'ContextCite32': array([ 0.00000000e+00, -0.00000000e+00,  6.05663886e-02, -0.00000000e+00,\n",
       "               0.00000000e+00,  0.00000000e+00, -0.00000000e+00,  5.29198299e-01,\n",
       "               0.00000000e+00,  0.00000000e+00,  0.00000000e+00, -0.00000000e+00,\n",
       "              -0.00000000e+00,  0.00000000e+00,  0.00000000e+00,  0.00000000e+00,\n",
       "               0.00000000e+00, -0.00000000e+00,  3.43654831e-01,  0.00000000e+00,\n",
       "              -0.00000000e+00, -0.00000000e+00,  0.00000000e+00,  0.00000000e+00,\n",
       "              -0.00000000e+00, -0.00000000e+00,  4.62502986e-01, -0.00000000e+00,\n",
       "              -0.00000000e+00,  2.09927883e-01, -0.00000000e+00, -0.00000000e+00,\n",
       "              -0.00000000e+00, -4.50190499e-01, -0.00000000e+00,  0.00000000e+00,\n",
       "               0.00000000e+00, -1.62292571e+00, -0.00000000e+00,  0.00000000e+00,\n",
       "               0.00000000e+00, -0.00000000e+00,  0.00000000e+00,  1.53437245e-04,\n",
       "               0.00000000e+00,  0.00000000e+00, -0.00000000e+00, -0.00000000e+00,\n",
       "               0.00000000e+00,  0.00000000e+00,  0.00000000e+00,  0.00000000e+00,\n",
       "               0.00000000e+00, -0.00000000e+00,  0.00000000e+00,  0.00000000e+00,\n",
       "              -0.00000000e+00,  0.00000000e+00,  0.00000000e+00,  0.00000000e+00,\n",
       "               0.00000000e+00, -0.00000000e+00,  0.00000000e+00,  0.00000000e+00,\n",
       "               0.00000000e+00,  0.00000000e+00, -0.00000000e+00, -0.00000000e+00,\n",
       "               0.00000000e+00,  0.00000000e+00, -0.00000000e+00,  0.00000000e+00,\n",
       "              -0.00000000e+00, -1.38835094e-01,  0.00000000e+00,  0.00000000e+00,\n",
       "               3.75351356e-01, -0.00000000e+00,  0.00000000e+00,  0.00000000e+00,\n",
       "              -0.00000000e+00,  0.00000000e+00,  0.00000000e+00, -0.00000000e+00,\n",
       "               0.00000000e+00,  0.00000000e+00,  6.28401798e-02, -0.00000000e+00,\n",
       "               0.00000000e+00,  0.00000000e+00,  0.00000000e+00,  0.00000000e+00,\n",
       "               0.00000000e+00,  0.00000000e+00,  7.56603100e-02,  2.74627208e-01,\n",
       "               0.00000000e+00,  0.00000000e+00,  0.00000000e+00,  0.00000000e+00,\n",
       "               0.00000000e+00,  0.00000000e+00,  0.00000000e+00, -0.00000000e+00,\n",
       "               4.76633785e-01,  1.49760028e-02,  0.00000000e+00, -0.00000000e+00,\n",
       "               0.00000000e+00, -0.00000000e+00, -1.80478443e-01,  0.00000000e+00,\n",
       "               1.24730965e-01,  0.00000000e+00,  2.28881145e-01,  8.81889926e-01,\n",
       "              -0.00000000e+00, -0.00000000e+00,  0.00000000e+00, -0.00000000e+00,\n",
       "               8.18536299e-03, -0.00000000e+00,  0.00000000e+00,  0.00000000e+00,\n",
       "               0.00000000e+00, -0.00000000e+00,  0.00000000e+00,  0.00000000e+00,\n",
       "               0.00000000e+00, -0.00000000e+00,  0.00000000e+00,  0.00000000e+00,\n",
       "              -0.00000000e+00,  4.52715412e-02,  0.00000000e+00, -0.00000000e+00,\n",
       "              -0.00000000e+00, -0.00000000e+00, -0.00000000e+00,  0.00000000e+00,\n",
       "               0.00000000e+00, -0.00000000e+00, -0.00000000e+00, -1.07518638e-01,\n",
       "              -0.00000000e+00,  0.00000000e+00,  1.15485602e-01, -0.00000000e+00,\n",
       "               0.00000000e+00, -1.40321871e-02, -0.00000000e+00, -0.00000000e+00,\n",
       "               0.00000000e+00, -0.00000000e+00,  0.00000000e+00,  0.00000000e+00,\n",
       "              -0.00000000e+00,  0.00000000e+00, -0.00000000e+00,  1.11606741e+00,\n",
       "              -0.00000000e+00,  0.00000000e+00,  0.00000000e+00,  0.00000000e+00,\n",
       "               0.00000000e+00,  0.00000000e+00,  0.00000000e+00,  0.00000000e+00,\n",
       "               0.00000000e+00,  0.00000000e+00,  0.00000000e+00, -0.00000000e+00,\n",
       "               0.00000000e+00, -0.00000000e+00,  6.28799291e-01,  0.00000000e+00,\n",
       "               0.00000000e+00, -0.00000000e+00,  0.00000000e+00, -0.00000000e+00,\n",
       "              -0.00000000e+00,  0.00000000e+00, -0.00000000e+00, -0.00000000e+00,\n",
       "              -0.00000000e+00,  0.00000000e+00,  0.00000000e+00, -0.00000000e+00,\n",
       "              -0.00000000e+00, -0.00000000e+00,  2.39599452e-01, -4.44574517e-01,\n",
       "              -0.00000000e+00, -0.00000000e+00,  4.86147630e-01,  0.00000000e+00,\n",
       "              -0.00000000e+00, -0.00000000e+00,  5.43909076e-02, -0.00000000e+00,\n",
       "              -0.00000000e+00, -0.00000000e+00, -0.00000000e+00,  0.00000000e+00,\n",
       "              -0.00000000e+00]), 'BetaShap32': array([0., 0., 0., 0., 0., 0., 0., 0., 0., 0., 0., 0., 0., 0., 0., 0., 0.,\n",
       "              0., 0., 0., 0., 0., 0., 0., 0., 0., 0., 0., 0., 0., 0., 0., 0., 0.,\n",
       "              0., 0., 0., 0., 0., 0., 0., 0., 0., 0., 0., 0., 0., 0., 0., 0., 0.,\n",
       "              0., 0., 0., 0., 0., 0., 0., 0., 0., 0., 0., 0., 0., 0., 0., 0., 0.,\n",
       "              0., 0., 0., 0., 0., 0., 0., 0., 0., 0., 0., 0., 0., 0., 0., 0., 0.,\n",
       "              0., 0., 0., 0., 0., 0., 0., 0., 0., 0., 0., 0., 0., 0., 0., 0., 0.,\n",
       "              0., 0., 0., 0., 0., 0., 0., 0., 0., 0., 0., 0., 0., 0., 0., 0., 0.,\n",
       "              0., 0., 0., 0., 0., 0., 0., 0., 0., 0., 0., 0., 0., 0., 0., 0., 0.,\n",
       "              0., 0., 0., 0., 0., 0., 0., 0., 0., 0., 0., 0., 0., 0., 0., 0., 0.,\n",
       "              0., 0., 0., 0., 0., 0., 0., 0., 0., 0., 0., 0., 0., 0., 0., 0., 0.,\n",
       "              0., 0., 0., 0., 0., 0., 0., 0., 0., 0., 0., 0., 0., 0., 0., 0., 0.,\n",
       "              0., 0., 0., 0., 0., 0., 0., 0., 0., 0., 0., 0., 0., 0., 0., 0., 0.,\n",
       "              0.]), 'TMC32': array([0., 0., 0., 0., 0., 0., 0., 0., 0., 0., 0., 0., 0., 0., 0., 0., 0.,\n",
       "              0., 0., 0., 0., 0., 0., 0., 0., 0., 0., 0., 0., 0., 0., 0., 0., 0.,\n",
       "              0., 0., 0., 0., 0., 0., 0., 0., 0., 0., 0., 0., 0., 0., 0., 0., 0.,\n",
       "              0., 0., 0., 0., 0., 0., 0., 0., 0., 0., 0., 0., 0., 0., 0., 0., 0.,\n",
       "              0., 0., 0., 0., 0., 0., 0., 0., 0., 0., 0., 0., 0., 0., 0., 0., 0.,\n",
       "              0., 0., 0., 0., 0., 0., 0., 0., 0., 0., 0., 0., 0., 0., 0., 0., 0.,\n",
       "              0., 0., 0., 0., 0., 0., 0., 0., 0., 0., 0., 0., 0., 0., 0., 0., 0.,\n",
       "              0., 0., 0., 0., 0., 0., 0., 0., 0., 0., 0., 0., 0., 0., 0., 0., 0.,\n",
       "              0., 0., 0., 0., 0., 0., 0., 0., 0., 0., 0., 0., 0., 0., 0., 0., 0.,\n",
       "              0., 0., 0., 0., 0., 0., 0., 0., 0., 0., 0., 0., 0., 0., 0., 0., 0.,\n",
       "              0., 0., 0., 0., 0., 0., 0., 0., 0., 0., 0., 0., 0., 0., 0., 0., 0.,\n",
       "              0., 0., 0., 0., 0., 0., 0., 0., 0., 0., 0., 0., 0., 0., 0., 0., 0.,\n",
       "              0.]), 'LOO': array([1.15450287, 0.97516584, 1.93810987, 1.04573822, 0.74597645,\n",
       "              0.96899939, 1.345819  , 1.26846981, 0.96249723, 1.82652283,\n",
       "              1.76720905, 1.20976067, 1.72180462, 1.03593397, 1.41336489,\n",
       "              1.86508369, 1.72167778, 1.76373768, 1.02326202, 1.25779438,\n",
       "              1.2294755 , 2.23339176, 1.77056837, 0.96362305, 1.57320261,\n",
       "              2.33797693, 1.40521097, 1.78752089, 1.79371166, 1.36159134,\n",
       "              1.3155632 , 1.3696785 , 1.73532391, 1.34894323, 0.64095402,\n",
       "              1.468575  , 1.56499195, 1.43589211, 1.46623564, 1.73825788,\n",
       "              1.72054577, 1.85155439, 1.61661005, 1.84223747, 1.40831614,\n",
       "              1.91649151, 1.49625063, 1.68533897, 1.43340206, 1.48329496,\n",
       "              1.26618004, 0.88088131, 1.25722361, 1.36250544, 1.3010869 ,\n",
       "              1.3263731 , 1.03682423, 1.59147739, 1.30787277, 1.75890112,\n",
       "              1.61970568, 1.83873081, 1.48124266, 1.32314014, 1.42534208,\n",
       "              1.98968315, 1.85640001, 1.80874681, 2.0906415 , 1.85111809,\n",
       "              0.96939707, 1.11496401, 1.77191401, 1.4404254 , 2.47494268,\n",
       "              1.6519165 , 1.35265827, 1.41943979, 1.70554972, 1.31084585,\n",
       "              1.497859  , 1.3465271 , 1.26105595, 1.25326347, 1.6734004 ,\n",
       "              2.52705956, 1.50575066, 1.44155025, 1.50291586, 1.3683095 ,\n",
       "              1.38210201, 1.4469347 , 1.41464281, 1.8682909 , 0.90471935,\n",
       "              1.70409966, 1.39230394, 1.30352259, 2.68311024, 1.74942541,\n",
       "              1.41966152, 2.57607508, 1.59038067, 1.20380545, 1.07703257,\n",
       "              1.64964294, 2.06456089, 1.22331429, 1.83425331, 1.31542683,\n",
       "              1.4511795 , 2.31271744, 1.44928217, 1.22783184, 0.88608027,\n",
       "              1.33833504, 1.64414692, 1.21666622, 1.89350843, 1.54358435,\n",
       "              1.64149523, 1.86327648, 2.23234987, 1.19378328, 2.51534224,\n",
       "              1.87243462, 0.99050951, 1.19406033, 0.94154978, 1.38914299,\n",
       "              1.36040163, 1.22524071, 1.88434124, 1.26041031, 1.40798759,\n",
       "              1.5723958 , 1.26343346, 1.33237982, 1.58580923, 1.61126995,\n",
       "              0.81239748, 2.46240664, 1.60137701, 0.91474056, 1.27905226,\n",
       "              1.32320976, 1.27726412, 1.54898548, 1.4955616 , 1.18352509,\n",
       "              1.86545515, 1.05136585, 1.26734018, 1.13068199, 1.51440477,\n",
       "              1.18880844, 1.14887667, 1.40993595, 1.48946905, 1.28442764,\n",
       "              2.3351779 , 2.44267607, 2.31567001, 1.17235136, 1.0489645 ,\n",
       "              1.49893618, 1.14299774, 2.45178318, 1.66402912, 1.22956467,\n",
       "              0.72147989, 0.92250299, 1.37744188, 1.40675402, 1.9336729 ,\n",
       "              0.1522193 , 1.19538879, 0.82332706, 1.27637815, 1.3524785 ,\n",
       "              1.35200357, 1.57389593, 1.43728733, 1.02432775, 1.50921535,\n",
       "              1.33088779, 1.02823687, 2.01443386, 1.00645351, 1.66989803,\n",
       "              1.11874247, 1.12929678, 1.64715815, 1.58059692, 1.77405071,\n",
       "              1.66274595, 0.85882711, 1.16154242, 0.80411816, 2.16316223,\n",
       "              1.11439276, 1.08062363, 1.52728462, 0.64241314, 3.43543816]), 'ARC-JSD': [0.2612878978252411, 0.012900073081254959, 0.018137632869184017, 0.009109520608035382, 0.014702678192406893, 0.013540236745029688, 0.017037950456142426, 0.009913745860103518, 0.012145600747317076, 0.01772402971982956, 0.01915394514799118, 0.009710225436720066, 0.019121812656521797, 0.012539525516331196, 0.016485441476106644, 0.016381850466132164, 0.01857612654566765, 0.018114173784852028, 0.0127152344211936, 0.01761403400450945, 0.01711209397763014, 0.022923474200069904, 0.01993170939385891, 0.011120991548523307, 0.02005391474813223, 0.02319575659930706, 0.01910766214132309, 0.019168936647474766, 0.020715256221592426, 0.01697521097958088, 0.01604715082794428, 0.01827767677605152, 0.019022920168936253, 0.015411570202559233, 0.013630107045173645, 0.01538974791765213, 0.0176201444119215, 0.017725234851241112, 0.016789471730589867, 0.019783051684498787, 0.01904682256281376, 0.018656044267117977, 0.019524337723851204, 0.019326074980199337, 0.017181032802909613, 0.021639937534928322, 0.017570288851857185, 0.019062502309679985, 0.01881849579513073, 0.020115386694669724, 0.01846948452293873, 0.016253833658993244, 0.018684467300772667, 0.01689360523596406, 0.01899055577814579, 0.017113621346652508, 0.017756550572812557, 0.018836744129657745, 0.017942818347364664, 0.01980796828866005, 0.019454038701951504, 0.020447632297873497, 0.019469108432531357, 0.019377604126930237, 0.02014483790844679, 0.022019737400114536, 0.019920128397643566, 0.020056549459695816, 0.023648311384022236, 0.01970756985247135, 0.01302150497213006, 0.01680051116272807, 0.019465305842459202, 0.018443111330270767, 0.023279603570699692, 0.019537645392119884, 0.018890664912760258, 0.017562031745910645, 0.01954803429543972, 0.01776605984196067, 0.019318087957799435, 0.017980805598199368, 0.0185036170296371, 0.018331659492105246, 0.02244037762284279, 0.023447821848094463, 0.017853746190667152, 0.020312141627073288, 0.020105283707380295, 0.02049916237592697, 0.02071717008948326, 0.020614374428987503, 0.019527964293956757, 0.020098756067454815, 0.01832784991711378, 0.020700786262750626, 0.01982140727341175, 0.01768710045143962, 0.023084018379449844, 0.020749771036207676, 0.02045084722340107, 0.02399943396449089, 0.022013830952346325, 0.018518913071602583, 0.019466647878289223, 0.022281032986938953, 0.023426752537488937, 0.018515294883400202, 0.020103431306779385, 0.01715639792382717, 0.020417223684489727, 0.02216972503811121, 0.02048962563276291, 0.01921931467950344, 0.015223851427435875, 0.01722104102373123, 0.02045857533812523, 0.018005037680268288, 0.021430008113384247, 0.019750362262129784, 0.020021329633891582, 0.020323273725807667, 0.021682482212781906, 0.017326177097857, 0.02352254558354616, 0.020358799025416374, 0.01671298686414957, 0.017236138693988323, 0.01718493551015854, 0.018238532356917858, 0.016567806713283062, 0.016539338510483503, 0.06654961965978146, 0.017237338237464428, 0.02070289198309183, 0.017840375192463398, 0.01181920524686575, 0.020976731553673744, 0.0205694567412138, 0.017232711426913738, 0.016779971309006214, 0.023150090128183365, 0.018258011899888515, 0.012017459608614445, 0.016177423298358917, 0.013249094132333994, 0.017149191815406084, 0.017776651307940483, 0.01563927810639143, 0.014801591634750366, 0.019343351013958454, 0.013489536941051483, 0.012324914336204529, 0.013334289658814669, 0.02132527343928814, 0.01617214549332857, 0.015785053372383118, 0.019724532961845398, 0.018022451549768448, 0.012915820814669132, 0.02372447121888399, 0.02298211306333542, 0.02367612160742283, 0.014532074332237244, 0.012654607649892569, 0.016897224821150303, 0.01272174995392561, 0.023188896477222443, 0.018862461671233177, 0.01692148530855775, 0.009098560316488147, 0.010672990931198001, 0.015665647573769093, 0.02074958197772503, 0.02271212637424469, 0.007547324290499091, 0.014227797277271748, 0.018545701168477535, 0.015166080556809902, 0.0181963206268847, 0.017963004298508167, 0.022045212797820568, 0.01827810239046812, 0.01507217949256301, 0.015134814195334911, 0.01821629051119089, 0.012902979273349047, 0.020048282109200954, 0.013595935422927141, 0.020013457164168358, 0.015748892910778522, 0.02015445940196514, 0.020036667585372925, 0.016501390375196934, 0.02132594119757414, 0.019823463633656502, 0.010087453585583717, 0.017051280941814184, 0.015356218442320824, 0.021150765009224415, 0.009940085885318695, 0.01075859263073653, 0.021654250100255013, 0.009986453922465444, 0.02503894828259945]},\n",
       "       {'ContextCite32': array([ 0.21837401, -0.05814273, -0.25364238, -0.41079419,  0.59092333,\n",
       "              -0.47966254,  0.81990813, -0.20599705, -0.00526738,  0.06736224,\n",
       "               1.58259884, -0.        ,  0.50438954, -0.80285385, -0.19327529,\n",
       "               0.46513647,  0.06689536, -1.29616923]), 'BetaShap32': array([0., 0., 0., 0., 0., 0., 0., 0., 0., 0., 0., 0., 0., 0., 0., 0., 0.,\n",
       "              0.]), 'TMC32': array([0., 0., 0., 0., 0., 0., 0., 0., 0., 0., 0., 0., 0., 0., 0., 0., 0.,\n",
       "              0.]), 'LOO': array([ 2.42079812,  0.54712474,  0.6538465 ,  0.48306906,  0.81192398,\n",
       "               1.24190122,  1.03654248,  0.28184378,  0.86724734,  1.19286638,\n",
       "               2.64086825,  0.82328069,  0.82563484,  0.72192502, -0.14529586,\n",
       "              -0.2978484 ,  0.82574832, -1.07675689]), 'ARC-JSD': [0.2687024548649788, 0.04779709968715906, 0.10851407051086426, 0.12611954659223557, 0.061242882162332535, 0.26062456145882607, 0.2129482850432396, 0.022716861218214035, 0.0719238705933094, 0.10808053612709045, 0.30314937978982925, 0.029020261019468307, 0.12298927456140518, 0.046410114504396915, 0.030329953879117966, 0.15251914970576763, 0.04962109215557575, 0.11388464272022247]},\n",
       "       {'ContextCite32': array([ 0.00000000e+00, -0.00000000e+00,  0.00000000e+00,  0.00000000e+00,\n",
       "               0.00000000e+00, -0.00000000e+00,  0.00000000e+00,  0.00000000e+00,\n",
       "               0.00000000e+00, -0.00000000e+00, -0.00000000e+00,  0.00000000e+00,\n",
       "               0.00000000e+00, -0.00000000e+00, -0.00000000e+00, -0.00000000e+00,\n",
       "              -0.00000000e+00, -0.00000000e+00, -5.15494055e-03, -0.00000000e+00,\n",
       "              -0.00000000e+00,  0.00000000e+00, -0.00000000e+00, -0.00000000e+00,\n",
       "               0.00000000e+00, -0.00000000e+00, -0.00000000e+00, -0.00000000e+00,\n",
       "               0.00000000e+00, -0.00000000e+00, -0.00000000e+00, -0.00000000e+00,\n",
       "              -0.00000000e+00, -0.00000000e+00, -0.00000000e+00, -0.00000000e+00,\n",
       "              -0.00000000e+00, -0.00000000e+00,  0.00000000e+00,  0.00000000e+00,\n",
       "               0.00000000e+00,  0.00000000e+00,  0.00000000e+00, -0.00000000e+00,\n",
       "               0.00000000e+00, -0.00000000e+00, -0.00000000e+00, -0.00000000e+00,\n",
       "               0.00000000e+00, -0.00000000e+00,  0.00000000e+00,  0.00000000e+00,\n",
       "              -0.00000000e+00, -0.00000000e+00, -0.00000000e+00,  0.00000000e+00,\n",
       "              -0.00000000e+00,  0.00000000e+00, -0.00000000e+00,  0.00000000e+00,\n",
       "              -0.00000000e+00, -0.00000000e+00, -9.43648161e-03,  0.00000000e+00,\n",
       "              -0.00000000e+00,  0.00000000e+00,  0.00000000e+00, -0.00000000e+00,\n",
       "               0.00000000e+00, -0.00000000e+00, -0.00000000e+00,  0.00000000e+00,\n",
       "               0.00000000e+00, -0.00000000e+00,  0.00000000e+00, -0.00000000e+00,\n",
       "               0.00000000e+00,  0.00000000e+00,  0.00000000e+00,  0.00000000e+00,\n",
       "              -0.00000000e+00, -0.00000000e+00,  0.00000000e+00, -0.00000000e+00,\n",
       "              -0.00000000e+00, -0.00000000e+00, -0.00000000e+00, -0.00000000e+00,\n",
       "               0.00000000e+00, -0.00000000e+00, -0.00000000e+00,  0.00000000e+00,\n",
       "              -0.00000000e+00,  0.00000000e+00, -6.80767976e-03, -0.00000000e+00,\n",
       "               0.00000000e+00,  0.00000000e+00,  0.00000000e+00,  0.00000000e+00,\n",
       "              -4.15502373e-02, -0.00000000e+00,  0.00000000e+00, -0.00000000e+00,\n",
       "              -0.00000000e+00,  0.00000000e+00,  0.00000000e+00,  0.00000000e+00,\n",
       "               0.00000000e+00,  0.00000000e+00, -0.00000000e+00,  0.00000000e+00,\n",
       "              -0.00000000e+00, -0.00000000e+00,  0.00000000e+00, -0.00000000e+00,\n",
       "               0.00000000e+00,  0.00000000e+00,  0.00000000e+00, -0.00000000e+00,\n",
       "              -0.00000000e+00,  0.00000000e+00, -0.00000000e+00,  0.00000000e+00,\n",
       "              -0.00000000e+00,  0.00000000e+00, -0.00000000e+00,  2.55933337e-02,\n",
       "               0.00000000e+00,  3.08009241e-05,  0.00000000e+00, -0.00000000e+00,\n",
       "               0.00000000e+00,  0.00000000e+00, -0.00000000e+00,  0.00000000e+00,\n",
       "              -0.00000000e+00, -0.00000000e+00,  0.00000000e+00,  0.00000000e+00,\n",
       "               0.00000000e+00, -0.00000000e+00, -0.00000000e+00,  0.00000000e+00,\n",
       "               0.00000000e+00,  0.00000000e+00, -0.00000000e+00,  0.00000000e+00,\n",
       "              -0.00000000e+00,  0.00000000e+00, -0.00000000e+00,  0.00000000e+00,\n",
       "               0.00000000e+00,  0.00000000e+00, -0.00000000e+00,  0.00000000e+00,\n",
       "               0.00000000e+00, -0.00000000e+00, -0.00000000e+00, -0.00000000e+00,\n",
       "               0.00000000e+00,  0.00000000e+00, -0.00000000e+00, -0.00000000e+00,\n",
       "              -0.00000000e+00,  0.00000000e+00, -0.00000000e+00,  0.00000000e+00,\n",
       "               0.00000000e+00, -0.00000000e+00,  0.00000000e+00,  0.00000000e+00,\n",
       "               2.10766832e-02, -2.57470173e-02, -0.00000000e+00, -0.00000000e+00,\n",
       "              -0.00000000e+00,  0.00000000e+00, -0.00000000e+00,  0.00000000e+00,\n",
       "               0.00000000e+00,  0.00000000e+00, -0.00000000e+00,  0.00000000e+00,\n",
       "              -0.00000000e+00, -0.00000000e+00, -0.00000000e+00,  0.00000000e+00,\n",
       "               0.00000000e+00, -0.00000000e+00, -5.40380119e-02, -0.00000000e+00,\n",
       "               0.00000000e+00, -0.00000000e+00,  0.00000000e+00, -0.00000000e+00,\n",
       "               0.00000000e+00,  0.00000000e+00, -0.00000000e+00,  0.00000000e+00,\n",
       "               0.00000000e+00,  0.00000000e+00, -0.00000000e+00, -0.00000000e+00,\n",
       "               0.00000000e+00, -0.00000000e+00,  0.00000000e+00,  0.00000000e+00,\n",
       "               0.00000000e+00,  0.00000000e+00, -0.00000000e+00,  0.00000000e+00,\n",
       "               0.00000000e+00,  0.00000000e+00, -0.00000000e+00, -0.00000000e+00,\n",
       "              -0.00000000e+00,  0.00000000e+00, -0.00000000e+00,  0.00000000e+00,\n",
       "               0.00000000e+00, -0.00000000e+00, -0.00000000e+00,  0.00000000e+00,\n",
       "              -0.00000000e+00,  0.00000000e+00,  2.90634031e+00, -0.00000000e+00,\n",
       "              -0.00000000e+00, -0.00000000e+00, -0.00000000e+00,  1.42120291e-02,\n",
       "               2.96107229e-02, -0.00000000e+00,  0.00000000e+00, -0.00000000e+00,\n",
       "              -0.00000000e+00, -0.00000000e+00,  0.00000000e+00, -0.00000000e+00,\n",
       "               0.00000000e+00, -0.00000000e+00, -0.00000000e+00, -0.00000000e+00,\n",
       "               0.00000000e+00,  0.00000000e+00, -0.00000000e+00, -0.00000000e+00,\n",
       "              -0.00000000e+00,  0.00000000e+00, -0.00000000e+00,  0.00000000e+00,\n",
       "              -0.00000000e+00, -0.00000000e+00, -0.00000000e+00, -0.00000000e+00,\n",
       "               0.00000000e+00, -0.00000000e+00, -0.00000000e+00,  0.00000000e+00,\n",
       "              -0.00000000e+00,  0.00000000e+00, -0.00000000e+00, -0.00000000e+00,\n",
       "               0.00000000e+00, -4.26627788e-03, -0.00000000e+00,  0.00000000e+00,\n",
       "              -0.00000000e+00, -0.00000000e+00,  0.00000000e+00,  0.00000000e+00,\n",
       "              -0.00000000e+00,  0.00000000e+00, -0.00000000e+00,  0.00000000e+00,\n",
       "               0.00000000e+00,  0.00000000e+00,  0.00000000e+00,  0.00000000e+00,\n",
       "               0.00000000e+00, -0.00000000e+00, -0.00000000e+00,  0.00000000e+00,\n",
       "              -0.00000000e+00, -0.00000000e+00,  0.00000000e+00, -0.00000000e+00,\n",
       "              -0.00000000e+00,  0.00000000e+00, -0.00000000e+00, -0.00000000e+00,\n",
       "               0.00000000e+00, -0.00000000e+00,  0.00000000e+00,  0.00000000e+00,\n",
       "               0.00000000e+00,  0.00000000e+00,  1.78297912e-02, -0.00000000e+00,\n",
       "               0.00000000e+00,  0.00000000e+00, -0.00000000e+00, -0.00000000e+00,\n",
       "              -0.00000000e+00,  0.00000000e+00,  0.00000000e+00,  0.00000000e+00,\n",
       "               0.00000000e+00, -0.00000000e+00, -0.00000000e+00, -0.00000000e+00,\n",
       "               0.00000000e+00,  0.00000000e+00,  0.00000000e+00, -0.00000000e+00,\n",
       "              -0.00000000e+00,  0.00000000e+00, -0.00000000e+00,  0.00000000e+00,\n",
       "              -0.00000000e+00, -0.00000000e+00,  0.00000000e+00, -0.00000000e+00,\n",
       "              -0.00000000e+00,  0.00000000e+00, -0.00000000e+00,  0.00000000e+00,\n",
       "              -0.00000000e+00, -0.00000000e+00, -0.00000000e+00,  0.00000000e+00,\n",
       "               0.00000000e+00,  0.00000000e+00, -0.00000000e+00,  0.00000000e+00,\n",
       "               0.00000000e+00, -6.55644552e-04, -0.00000000e+00,  0.00000000e+00,\n",
       "               0.00000000e+00, -0.00000000e+00,  0.00000000e+00,  0.00000000e+00,\n",
       "              -0.00000000e+00,  5.82507928e-03, -0.00000000e+00,  0.00000000e+00,\n",
       "              -6.75048917e-02]), 'BetaShap32': array([0., 0., 0., 0., 0., 0., 0., 0., 0., 0., 0., 0., 0., 0., 0., 0., 0.,\n",
       "              0., 0., 0., 0., 0., 0., 0., 0., 0., 0., 0., 0., 0., 0., 0., 0., 0.,\n",
       "              0., 0., 0., 0., 0., 0., 0., 0., 0., 0., 0., 0., 0., 0., 0., 0., 0.,\n",
       "              0., 0., 0., 0., 0., 0., 0., 0., 0., 0., 0., 0., 0., 0., 0., 0., 0.,\n",
       "              0., 0., 0., 0., 0., 0., 0., 0., 0., 0., 0., 0., 0., 0., 0., 0., 0.,\n",
       "              0., 0., 0., 0., 0., 0., 0., 0., 0., 0., 0., 0., 0., 0., 0., 0., 0.,\n",
       "              0., 0., 0., 0., 0., 0., 0., 0., 0., 0., 0., 0., 0., 0., 0., 0., 0.,\n",
       "              0., 0., 0., 0., 0., 0., 0., 0., 0., 0., 0., 0., 0., 0., 0., 0., 0.,\n",
       "              0., 0., 0., 0., 0., 0., 0., 0., 0., 0., 0., 0., 0., 0., 0., 0., 0.,\n",
       "              0., 0., 0., 0., 0., 0., 0., 0., 0., 0., 0., 0., 0., 0., 0., 0., 0.,\n",
       "              0., 0., 0., 0., 0., 0., 0., 0., 0., 0., 0., 0., 0., 0., 0., 0., 0.,\n",
       "              0., 0., 0., 0., 0., 0., 0., 0., 0., 0., 0., 0., 0., 0., 0., 0., 0.,\n",
       "              0., 0., 0., 0., 0., 0., 0., 0., 0., 0., 0., 0., 0., 0., 0., 0., 0.,\n",
       "              0., 0., 0., 0., 0., 0., 0., 0., 0., 0., 0., 0., 0., 0., 0., 0., 0.,\n",
       "              0., 0., 0., 0., 0., 0., 0., 0., 0., 0., 0., 0., 0., 0., 0., 0., 0.,\n",
       "              0., 0., 0., 0., 0., 0., 0., 0., 0., 0., 0., 0., 0., 0., 0., 0., 0.,\n",
       "              0., 0., 0., 0., 0., 0., 0., 0., 0., 0., 0., 0., 0., 0., 0., 0., 0.,\n",
       "              0., 0., 0., 0., 0., 0., 0., 0., 0., 0., 0., 0., 0., 0., 0., 0., 0.,\n",
       "              0., 0., 0., 0., 0., 0., 0., 0., 0., 0., 0., 0., 0., 0., 0., 0., 0.,\n",
       "              0., 0., 0., 0., 0., 0., 0., 0., 0., 0., 0., 0., 0., 0., 0., 0., 0.,\n",
       "              0., 0., 0., 0., 0., 0., 0., 0., 0.]), 'TMC32': array([0., 0., 0., 0., 0., 0., 0., 0., 0., 0., 0., 0., 0., 0., 0., 0., 0.,\n",
       "              0., 0., 0., 0., 0., 0., 0., 0., 0., 0., 0., 0., 0., 0., 0., 0., 0.,\n",
       "              0., 0., 0., 0., 0., 0., 0., 0., 0., 0., 0., 0., 0., 0., 0., 0., 0.,\n",
       "              0., 0., 0., 0., 0., 0., 0., 0., 0., 0., 0., 0., 0., 0., 0., 0., 0.,\n",
       "              0., 0., 0., 0., 0., 0., 0., 0., 0., 0., 0., 0., 0., 0., 0., 0., 0.,\n",
       "              0., 0., 0., 0., 0., 0., 0., 0., 0., 0., 0., 0., 0., 0., 0., 0., 0.,\n",
       "              0., 0., 0., 0., 0., 0., 0., 0., 0., 0., 0., 0., 0., 0., 0., 0., 0.,\n",
       "              0., 0., 0., 0., 0., 0., 0., 0., 0., 0., 0., 0., 0., 0., 0., 0., 0.,\n",
       "              0., 0., 0., 0., 0., 0., 0., 0., 0., 0., 0., 0., 0., 0., 0., 0., 0.,\n",
       "              0., 0., 0., 0., 0., 0., 0., 0., 0., 0., 0., 0., 0., 0., 0., 0., 0.,\n",
       "              0., 0., 0., 0., 0., 0., 0., 0., 0., 0., 0., 0., 0., 0., 0., 0., 0.,\n",
       "              0., 0., 0., 0., 0., 0., 0., 0., 0., 0., 0., 0., 0., 0., 0., 0., 0.,\n",
       "              0., 0., 0., 0., 0., 0., 0., 0., 0., 0., 0., 0., 0., 0., 0., 0., 0.,\n",
       "              0., 0., 0., 0., 0., 0., 0., 0., 0., 0., 0., 0., 0., 0., 0., 0., 0.,\n",
       "              0., 0., 0., 0., 0., 0., 0., 0., 0., 0., 0., 0., 0., 0., 0., 0., 0.,\n",
       "              0., 0., 0., 0., 0., 0., 0., 0., 0., 0., 0., 0., 0., 0., 0., 0., 0.,\n",
       "              0., 0., 0., 0., 0., 0., 0., 0., 0., 0., 0., 0., 0., 0., 0., 0., 0.,\n",
       "              0., 0., 0., 0., 0., 0., 0., 0., 0., 0., 0., 0., 0., 0., 0., 0., 0.,\n",
       "              0., 0., 0., 0., 0., 0., 0., 0., 0., 0., 0., 0., 0., 0., 0., 0., 0.,\n",
       "              0., 0., 0., 0., 0., 0., 0., 0., 0., 0., 0., 0., 0., 0., 0., 0., 0.,\n",
       "              0., 0., 0., 0., 0., 0., 0., 0., 0.]), 'LOO': array([-1.62376642e-01, -1.99976206e-01, -1.42823458e-01, -1.29605293e-01,\n",
       "              -1.26871586e-01, -1.20250940e-01, -1.29097462e-01, -1.52569532e-01,\n",
       "              -9.77096558e-02, -1.09086752e-01, -1.99772120e-01, -6.66482449e-02,\n",
       "              -1.62311792e-01, -1.44985914e-01, -1.19930029e-01, -1.44643068e-01,\n",
       "              -1.58824205e-01, -1.44239187e-01, -1.61194086e-01, -4.32066917e-02,\n",
       "              -8.23690891e-02, -9.11259651e-02, -1.06965542e-01, -4.19213772e-02,\n",
       "              -1.09162807e-01, -4.33914661e-02, -1.32236481e-01, -2.04041004e-02,\n",
       "              -1.39499426e-01, -6.83495998e-02, -1.35271788e-01, -1.54241323e-01,\n",
       "              -1.69301033e-03, -1.30745173e-01, -1.08591795e-01, -1.35138750e-01,\n",
       "              -7.56912231e-02, -1.41039848e-01, -1.44345284e-01, -1.35931253e-01,\n",
       "              -1.46257877e-01, -1.50349617e-01, -1.24410152e-01, -1.45202398e-01,\n",
       "              -4.02321815e-02, -3.82492542e-02, -7.68005848e-02, -7.36308098e-03,\n",
       "              -1.25091314e-01, -1.25885963e-01, -6.28125668e-02, -7.92863369e-02,\n",
       "              -1.63502216e-01, -5.95347881e-02, -1.67798519e-01, -1.47043705e-01,\n",
       "              -1.32316828e-01, -1.08594418e-01, -9.22429562e-02, -7.89978504e-02,\n",
       "              -3.74643803e-02, -1.57589197e-01, -1.04997158e-02, -1.61363125e-01,\n",
       "              -4.77974415e-02, -1.40506983e-01, -1.07591867e-01, -1.41741037e-01,\n",
       "              -1.25945330e-01, -1.48326159e-01, -4.71818447e-02, -2.00083494e-01,\n",
       "              -6.71150684e-02, -9.24570560e-02, -4.75282669e-02, -1.19511843e-01,\n",
       "              -4.88245487e-02, -1.42039537e-01, -6.38072491e-02, -3.69141102e-02,\n",
       "              -5.75606823e-02, -8.01820755e-02, -3.10349464e-02, -8.40260983e-02,\n",
       "              -1.86614275e-01, -1.25847578e-01, -9.08260345e-02, -1.61402941e-01,\n",
       "              -7.85088539e-02, -1.24385357e-01, -1.11680269e-01, -1.35692835e-01,\n",
       "              -5.47070503e-02, -1.04126215e-01, -8.65361691e-02, -4.55863476e-02,\n",
       "              -1.59601688e-01, -1.32894039e-01, -2.76110172e-02, -9.79144573e-02,\n",
       "              -6.11793995e-02, -3.61661911e-02, -1.59958839e-01, -4.34477329e-02,\n",
       "              -1.64951801e-01, -1.57075167e-01, -1.23531580e-01, -1.29300833e-01,\n",
       "              -5.84175587e-02, -1.86971426e-01, -9.11743641e-02, -1.41451836e-01,\n",
       "              -2.38709450e-02, -8.16948414e-02, -1.53981924e-01, -3.37178707e-02,\n",
       "              -1.58568621e-01, -2.41007805e-02, -1.87730074e-01, -1.98057413e-01,\n",
       "              -1.39697552e-01, -3.47759724e-02, -1.23567820e-01, -6.90929890e-02,\n",
       "              -7.33144283e-02, -1.39757395e-01, -6.94580078e-02, -7.94405937e-02,\n",
       "              -1.32683992e-01, -9.27796364e-02, -1.32915020e-01, -1.51705980e-01,\n",
       "              -9.63485241e-02, -1.28526926e-01, -7.02044964e-02, -1.13197803e-01,\n",
       "              -6.59425259e-02, -9.84532833e-02, -4.86240387e-02, -2.75504589e-02,\n",
       "              -1.91434383e-01, -1.06433392e-01, -1.63503647e-01, -7.51070976e-02,\n",
       "              -1.22678041e-01, -1.25291824e-01, -9.85090733e-02, -6.79898262e-02,\n",
       "              -1.48466349e-01, -1.54603243e-01, -1.66294575e-01, -5.70318699e-02,\n",
       "              -3.86927128e-02, -1.45766735e-01, -1.15205765e-01, -1.29471540e-01,\n",
       "              -6.98225498e-02, -4.39655781e-02, -1.47546053e-01, -1.32509470e-01,\n",
       "              -8.30800533e-02, -5.94053268e-02, -1.25804424e-01, -1.06880426e-01,\n",
       "              -5.88459969e-02, -1.83773518e-01, -1.64592505e-01, -3.43658924e-02,\n",
       "              -9.86704826e-02, -1.15496397e-01, -1.17197275e-01, -1.15080833e-01,\n",
       "              -1.53738499e-01, -1.56198740e-01, -1.29148245e-01,  1.27487183e-02,\n",
       "              -1.79619074e-01, -2.14059353e-02, -9.38184261e-02, -9.28504467e-02,\n",
       "              -5.92396259e-02, -1.28890991e-01, -1.23986244e-01, -6.09242916e-02,\n",
       "              -1.31129980e-01, -1.45015001e-01, -1.48861170e-01, -1.14923954e-01,\n",
       "              -1.51076078e-01, -1.51987314e-01, -1.14149809e-01, -1.01636171e-01,\n",
       "              -1.10811234e-01, -9.60829258e-02, -1.14868641e-01, -1.77608728e-01,\n",
       "              -1.19745731e-01, -1.33535147e-01, -1.10966921e-01, -1.18515253e-01,\n",
       "              -8.67187977e-02, -3.72476578e-02, -1.46311522e-01, -1.18664265e-01,\n",
       "              -1.47430658e-01, -7.25750923e-02, -1.75115585e-01, -9.73973274e-02,\n",
       "              -1.58494949e-01, -1.30879164e-01, -1.23528004e-01, -1.18108988e-01,\n",
       "              -1.22834444e-01, -6.79740906e-02, -1.02849483e-01, -1.35906696e-01,\n",
       "              -1.43730640e-01, -1.27435207e-01, -7.51373768e-02, -1.22131586e-01,\n",
       "              -6.80603981e-02, -1.01706982e-01, -2.63874531e-02, -1.63089991e-01,\n",
       "              -1.76746845e-02, -9.47973728e-02,  2.77705145e+00, -1.06676340e-01,\n",
       "              -1.33791208e-01, -7.27491379e-02,  2.01940536e-03, -1.40289068e-01,\n",
       "              -1.41345501e-01, -3.21736336e-02, -1.32539988e-01, -7.65826702e-02,\n",
       "              -1.56606913e-01, -1.43241882e-03, -4.51586246e-02, -1.19143724e-01,\n",
       "              -1.56191587e-01, -8.79955292e-02, -1.30589724e-01, -1.23623133e-01,\n",
       "              -1.01471186e-01, -9.17458534e-03, -1.05331659e-01, -3.14686298e-02,\n",
       "              -1.64556742e-01, -1.06014013e-01, -1.20228767e-01, -5.58257103e-03,\n",
       "              -1.42641306e-01, -1.05488062e-01, -1.08670473e-01,  8.85844231e-03,\n",
       "              -1.20122194e-01,  6.15632534e-02, -1.05563879e-01, -1.05442524e-01,\n",
       "              -1.60341263e-02, -1.27959490e-01, -5.47263622e-02, -1.13938808e-01,\n",
       "              -1.08016253e-01, -1.12259150e-01, -4.51462269e-02, -5.27589321e-02,\n",
       "              -1.01788521e-01, -9.39543247e-02, -1.08104467e-01, -9.67278481e-02,\n",
       "               2.41327286e-02, -1.28850460e-01, -9.88743305e-02, -4.07710075e-02,\n",
       "              -1.08301163e-01, -8.86950493e-02, -1.26010180e-01,  2.41267681e-02,\n",
       "              -1.74263239e-01, -1.24063730e-01, -3.12590599e-03, -1.46198273e-01,\n",
       "               6.26833439e-02, -1.43348932e-01, -4.08449173e-02, -4.58853245e-02,\n",
       "              -8.81397724e-02, -1.09038830e-01, -1.48053885e-01, -1.39119148e-01,\n",
       "              -9.07680988e-02, -1.25420809e-01, -1.39882565e-01, -9.04061794e-02,\n",
       "              -9.41944122e-03, -1.17388964e-01, -1.11414194e-01, -1.60810947e-02,\n",
       "              -8.95469189e-02, -1.37537003e-01, -7.73816109e-02, -9.89978313e-02,\n",
       "               8.72635841e-03, -1.38398647e-01, -1.61931515e-01, -1.48824215e-01,\n",
       "              -1.50899410e-01, -1.44771099e-01, -9.85388756e-02,  2.21858025e-02,\n",
       "              -9.93340015e-02, -1.58895731e-01, -1.07420206e-01, -1.42752171e-01,\n",
       "              -1.02297783e-01, -1.22725964e-01, -4.28466797e-02, -4.41169739e-02,\n",
       "              -1.23409510e-01, -4.94909286e-03, -1.10549212e-01, -3.67228985e-02,\n",
       "              -1.18232012e-01, -4.76844311e-02, -4.64222431e-02, -4.44033146e-02,\n",
       "              -5.23295403e-02, -1.04192495e-01, -4.00285721e-02, -1.34462118e-01,\n",
       "              -8.52706432e-02, -4.97674942e-02, -4.85661030e-02, -4.67939377e-02,\n",
       "              -4.40387726e-02, -1.41365051e-01, -8.76681805e-02, -9.34541225e-02,\n",
       "               6.76198006e-02, -1.03306770e-03, -1.05021000e-02,  1.04475021e-03,\n",
       "              -1.25503063e-01, -1.96993351e-02, -1.41900301e-01, -2.31747627e-02,\n",
       "              -1.53932810e-01]), 'ARC-JSD': [0.005169278601101723, 0.014782260898726918, 0.00793762029997147, 0.0038440250241222884, 0.006410898889857464, 0.00036859839535807737, 0.006568998629120415, 0.00463070116989428, 0.01672851490064886, 0.012224887214713931, 0.01583731399149002, 0.002771097029717673, 0.010050956260954536, 0.01101922313376491, 0.00451200833016685, 0.011187053512024647, 0.009494708519326878, 0.009637989914493161, 0.01238717763214936, 0.0024381891720075544, 0.006462755749119253, 0.007167272301630945, 0.007205067650156494, 0.0024148040744442767, 0.006789557513450006, 0.0032956937227641703, 0.0016733541371145577, 0.015948208936777952, 0.009397388820858055, 0.003792023251962817, 0.008703024660619008, 0.013968824249140255, 0.04207728714851555, 0.01011438709399215, 0.003873596380657318, 0.006054335216802542, 0.009422497586381695, 0.011436007058826192, 0.009611316103168122, 0.01011913582807722, 0.010125892192334618, 0.010588451203446425, 0.004617671616024666, 0.009898628186299163, 0.0020766889044381287, 0.012201312099119122, 0.012912822213851705, 0.014175158264668752, 0.006642764386100453, 0.0021511899722028716, 0.0021682109271981, 0.009360217431552798, 0.009129872888266277, 0.014735933408715596, 0.008565846997228732, 0.01001959960996146, 0.008685381822409965, 0.007538414444809405, 0.00608375491961155, 0.0006710522970969635, 0.012588429783754407, 0.009022375118625803, 0.012354669075653746, 0.009397302338440383, 0.0011793311844243703, 0.00937976994065437, 0.006871585145875159, 0.0091962754527799, 0.002059210743666995, 0.010607517572829295, 0.002766756415271132, 0.013868851588853204, 0.0019948302326415757, 0.006854581203199928, 0.008649036863332071, 0.006936591200812359, 0.009015457710020769, 0.010540901114396206, 0.002344841905248529, 0.0014487025543630239, 0.002843370581230076, 0.011884181921432813, 0.0019325298621337694, 0.006285911550634182, 0.01126149748341021, 0.01064682520200222, 0.00613674960462518, 0.00879955333616067, 0.01510447018078942, 0.0019255643897935215, 0.0059109111059783, 0.008795145164256724, 0.0018647238589677428, 0.008675366834715703, 0.010936094673290597, 0.010466004064249468, 0.009090956757006552, 0.010347499899694412, 0.002747174717523393, 0.008607666988453389, 0.013806749740250979, 0.002726517649108473, 0.008724458075707986, 0.010392812427159726, 0.008353774307664708, 0.009636252413372404, 0.011062012288206802, 0.009062588086493406, 0.0018631011006027265, 0.015160809810851106, 0.006991071609519395, 0.008604463493718129, 0.0020396249546301704, 0.006556589310690697, 0.008519734284606173, 0.0013972012813852075, 0.01305972543788414, 0.0019362525720758583, 0.011025993511253773, 0.011134020779856257, 0.010540709897036038, 0.0023591434769745234, 0.006004393405774522, 0.009154209305041405, 0.006770833840732848, 0.009469426082674204, 0.008375618926084627, 0.007026449779530708, 0.007740217417655515, 0.008345090122013232, 0.010549516216563859, 0.008452054008682097, 0.0063614705677110805, 0.0019065390267414273, 0.009642050936243152, 0.0016108810196300283, 0.012594836251260233, 0.0069219020847341994, 0.011285813533184808, 0.002920512613485471, 0.012255779509246167, 0.0008782092363901484, 0.010109525138005893, 0.0007226106436064583, 0.0068094342255662355, 0.008217544903942553, 0.011024696942151024, 0.009225025753472949, 0.010555931981912181, 0.009916726154372668, 0.014032867469865096, 0.002492589159093228, 0.0013690083596173963, 0.011385773478174599, 0.008223379189720603, 0.009854933816434652, 0.008109842420552127, 0.0105145587094988, 0.009819983536061727, 0.010930081638761635, 0.01026015621713583, 0.016967732080951592, 0.007043226094268107, 0.006122125081429175, 0.002549583087919416, 0.01158403524017615, 0.013090077562253555, 0.0009006594454312733, 0.0008246809297247637, 0.001956502264995663, 0.006469235429172215, 0.0022274890082769616, 0.009269403592973902, 0.01355318920712989, 0.006303169529005004, 0.019770840706437198, 0.008328416444477682, 0.02598796524671343, 0.00669869987144267, 0.007876970389276039, 0.011939897927589982, 0.010821952795467382, 0.010243333283042944, 0.010549468423036501, 0.00939686536901263, 0.007084479976469993, 0.012261727486659879, 0.007067180838888021, 0.009202511474455832, 0.007688501043034535, 0.006485683842385015, 0.00627067417271121, 0.0009964874292993642, 0.0005481823042998712, 0.0056853850991807064, 0.01096516317483065, 0.009180942808626469, 0.00944959849017124, 0.0021357556105741082, 0.005444854331393856, 0.008425397867966922, 0.0009947135858459077, 0.008642218262622237, 0.0019397855378286977, 0.008631364885133053, 0.008547544143098662, 0.010568448618798243, 0.0068057105025900455, 0.011780646972511022, 0.010356993637770984, 0.008066803605444761, 0.004771156563911916, 0.007715232081146439, 0.011067096434992152, 0.0006476829491113278, 0.008194533573501417, 0.008867705434489892, 0.007709075620503825, 0.010259852411692805, 0.008161479047117837, 0.0008453815012572363, 0.008316091120860847, 0.003002589634039765, 0.012826255524018393, 0.018132871716396437, 0.011943917793644232, 2.6182137094438076, 0.009882568623197585, 0.01986025222004173, 0.0011517456381540114, 0.022686366608681396, 0.023506710879871662, 0.017225478961847784, 0.03138634398904827, 0.02591405431644489, 0.024567799330451834, 0.017250833988441627, 0.031897127255522406, 0.0008724388543654982, 0.026355970534410744, 0.031226051320004444, 0.015497765993586654, 0.025936459657202704, 0.01847777272078588, 0.023043247751957097, 0.02659449254102242, 0.010022307048274115, 0.007594453707923776, 0.01853817145604353, 0.01827238820533239, 0.02197251091462249, 0.048476339493010556, 0.0292324088541136, 0.02710321343852229, 0.009882419288942401, 0.08502179704242252, 0.02038055424918639, 0.033890188916537056, 0.027864330423909678, 0.02533768486168242, 0.025712418164367534, 0.017102633927663646, 0.003421665901662152, 0.019073775679771643, 0.00858449915614301, 0.020031919039467994, 0.0003744915530958792, 0.003865676218060443, 0.015258631782444354, 0.01833309201046518, 0.009124424527584551, 0.01547217142895363, 0.026058800653039782, 0.02110261560824256, 0.028595178304527735, 0.033644561581731125, 0.006942326384262287, 0.016280175058440705, 0.028628825548480563, 0.031058415869953393, 0.029849233427171384, 0.020043800071931628, 0.05846598222332133, 0.018951944290989786, 0.04308289270780108, 0.021998644648277832, 0.0037230098469525075, 0.0008693970852817756, 0.03141184801052077, 0.020597895879632233, 0.033854895636977744, 0.018776273480170858, 0.018760556326526512, 0.025421992023353823, 0.01808055278769416, 0.024286555897958806, 0.03901693152613461, 0.02446843401168053, 0.03195192084677956, 0.004084933275747105, 0.03122429879073252, 0.020966999179137247, 0.03579624111824842, 0.0199110493129524, 0.043646679909890906, 0.027736256354501165, 0.029682632163826383, 0.020360668714488384, 0.020395524961543288, 0.020392466719130198, 0.0025930715934237014, 0.054229069814539343, 0.020936849384611378, 0.02223049861936488, 0.002792246115177477, 0.025606438838281065, 0.0030556366344853814, 0.024781689332826318, 0.003031048204893416, 0.003949168085873644, 0.022966340975671073, 0.0028467930504589845, 0.022701731117763302, 0.004458199277297847, 0.022577703014803774, 0.0040482622614081976, 0.000788293023660458, 0.004071192935628076, 0.003442985221358885, 0.0030123271866671075, 0.0005541899090708569, 0.037456250446211925, 0.02863270599925727, 0.0023078544993389016, 0.0035979932940009007, 0.00065784582357864, 0.003471698648108479, 0.035378633926484326, 0.020486633266614263, 0.0207504956632647, 0.04982627966406028, 0.0029026221212564707, 0.005490885515712307, 0.003038291510179647, 0.03388108840840687, 0.041224580481213025, 0.020030754629587477, 0.052411216179578446, 0.07242079776966648]}],\n",
       "      dtype=object)"
      ]
     },
     "execution_count": 8,
     "metadata": {},
     "output_type": "execute_result"
    }
   ],
   "source": [
    "results"
   ]
  }
 ],
 "metadata": {
  "kernelspec": {
   "display_name": ".venv",
   "language": "python",
   "name": "python3"
  },
  "language_info": {
   "codemirror_mode": {
    "name": "ipython",
    "version": 3
   },
   "file_extension": ".py",
   "mimetype": "text/x-python",
   "name": "python",
   "nbconvert_exporter": "python",
   "pygments_lexer": "ipython3",
   "version": "3.10.12"
  }
 },
 "nbformat": 4,
 "nbformat_minor": 5
}
