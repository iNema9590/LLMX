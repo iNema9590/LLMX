{
 "cells": [
  {
   "cell_type": "markdown",
   "id": "0dee4df1",
   "metadata": {},
   "source": [
    "# Imports"
   ]
  },
  {
   "cell_type": "code",
   "execution_count": 74,
   "id": "1ea562b9",
   "metadata": {},
   "outputs": [],
   "source": [
    "import sys\n",
    "import json\n",
    "import os\n",
    "import nltk\n",
    "import torch\n",
    "import numpy as np\n",
    "import pandas as pd\n",
    "import ast\n",
    "from tqdm import tqdm\n",
    "from scipy.stats import spearmanr, pearsonr, kendalltau, rankdata\n",
    "from sklearn.metrics import ndcg_score\n",
    "from transformers import AutoModelForCausalLM, AutoTokenizer\n",
    "from accelerate import Accelerator\n",
    "from nltk.tokenize import sent_tokenize\n",
    "\n",
    "current_dir = os.getcwd()\n",
    "parent_dir = os.path.abspath(os.path.join(current_dir, '..'))\n",
    "sys.path.append(parent_dir)\n",
    "from SHapRAG import *"
   ]
  },
  {
   "cell_type": "markdown",
   "id": "cef9cdc9",
   "metadata": {},
   "source": [
    "# Data Loading & Preparation\n",
    "\n",
    "For tidyQA, there are indexes provided for the possible answer passage holding the answer. If it is \"-1\" it does  NOT mean that the answer is in the last passage chunk but simply that there is no passage holding the answer for that question."
   ]
  },
  {
   "cell_type": "markdown",
   "id": "9869c1c8",
   "metadata": {},
   "source": [
    "## MusiQue"
   ]
  },
  {
   "cell_type": "code",
   "execution_count": null,
   "id": "cc352cf0",
   "metadata": {},
   "outputs": [],
   "source": [
    "# data = []\n",
    "# with open('../data/musique.jsonl', 'r') as f: \n",
    "#     for line in f: \n",
    "#         data.append(json.loads(line))\n",
    "\n",
    "# len(data) # 19938\n",
    "# answerable_data = []\n",
    "# for i in range(len(data)) : \n",
    "#     if data[i]['answerable'] == True: \n",
    "#         answerable_data.append(data[i])\n",
    "\n",
    "# filtered_data = {\"question\" : [], \"context\" : [], \"answer\" : []}\n",
    "# answerable_data[0]['question'] # question\n",
    "# answerable_data[0]['answer']\n",
    "# context = [elem['paragraph_text'] for elem in answerable_data[0]['paragraphs']]\n",
    "\n",
    "\n",
    "# for i in range(len(answerable_data)): \n",
    "#     filtered_data['question'].append(answerable_data[i]['question'])\n",
    "#     filtered_data['answer'].append(answerable_data[i]['answer'])\n",
    "#     context = [elem['paragraph_text'] for elem in answerable_data[i]['paragraphs']]\n",
    "#     filtered_data['context'].append(context)\n",
    "\n",
    "# df = pd.DataFrame.from_dict(filtered_data)\n",
    "\n"
   ]
  },
  {
   "cell_type": "code",
   "execution_count": null,
   "id": "cb3611f8",
   "metadata": {},
   "outputs": [],
   "source": []
  },
  {
   "cell_type": "code",
   "execution_count": 141,
   "id": "82d1d217",
   "metadata": {},
   "outputs": [],
   "source": [
    "df = pd.read_json(\"../data/musique.jsonl\", lines=True)\n",
    "def get_titles(lst):\n",
    "    # Titles where is_supporting is True\n",
    "    supporting = [d['paragraph_text'] for d in lst if d.get('is_supporting') == True]\n",
    "    # Titles where is_supporting is False or missing AND not already in supporting\n",
    "    others = [d['paragraph_text'] for d in lst if d.get('is_supporting') != True and d['paragraph_text'] not in supporting]\n",
    "    # Combine: all supporting + as many others as needed to reach 10\n",
    "    result = supporting + others\n",
    "    return result[:10]\n",
    "\n",
    "df.paragraphs=df.paragraphs.apply(get_titles)\n",
    "df.drop(['id', 'question_decomposition', 'answer_aliases', 'answerable'], axis = 1, inplace=True)\n"
   ]
  },
  {
   "cell_type": "code",
   "execution_count": 149,
   "id": "48e72c47",
   "metadata": {},
   "outputs": [
    {
     "ename": "TypeError",
     "evalue": "Series.rename() got an unexpected keyword argument 'columns'",
     "output_type": "error",
     "traceback": [
      "\u001b[1;31m---------------------------------------------------------------------------\u001b[0m",
      "\u001b[1;31mTypeError\u001b[0m                                 Traceback (most recent call last)",
      "Cell \u001b[1;32mIn[149], line 1\u001b[0m\n\u001b[1;32m----> 1\u001b[0m df\u001b[38;5;241m.\u001b[39mparagraphs \u001b[38;5;241m=\u001b[39m \u001b[43mdf\u001b[49m\u001b[38;5;241;43m.\u001b[39;49m\u001b[43mrename\u001b[49m\u001b[43m(\u001b[49m\u001b[43mcolumns\u001b[49m\u001b[43m \u001b[49m\u001b[38;5;241;43m=\u001b[39;49m\u001b[43m \u001b[49m\u001b[43m{\u001b[49m\u001b[38;5;124;43m'\u001b[39;49m\u001b[38;5;124;43mparagraphs\u001b[39;49m\u001b[38;5;124;43m'\u001b[39;49m\u001b[43m \u001b[49m\u001b[43m:\u001b[49m\u001b[43m \u001b[49m\u001b[38;5;124;43m'\u001b[39;49m\u001b[38;5;124;43mcontext\u001b[39;49m\u001b[38;5;124;43m'\u001b[39;49m\u001b[43m}\u001b[49m\u001b[43m)\u001b[49m\u001b[38;5;241m.\u001b[39mcontext\u001b[38;5;241m.\u001b[39mapply(\u001b[38;5;28;01mlambda\u001b[39;00m x: [sent_tokenize(elem) \u001b[38;5;28;01mfor\u001b[39;00m elem \u001b[38;5;129;01min\u001b[39;00m x])\n",
      "\u001b[1;31mTypeError\u001b[0m: Series.rename() got an unexpected keyword argument 'columns'"
     ]
    }
   ],
   "source": [
    "df.paragraphs = df.rename(columns = {'paragraphs' : 'context'}).context.apply(lambda x: [sent_tokenize(elem) for elem in x])"
   ]
  },
  {
   "cell_type": "markdown",
   "id": "160aea25",
   "metadata": {},
   "source": [
    "## TidyQA"
   ]
  },
  {
   "cell_type": "markdown",
   "id": "dfa1939a",
   "metadata": {},
   "source": [
    "###  Long Version Dataset"
   ]
  },
  {
   "cell_type": "code",
   "execution_count": 100,
   "id": "57ab8db5",
   "metadata": {},
   "outputs": [],
   "source": [
    "data = []\n",
    "with open('../data/tydi.jsonl', 'r') as f: \n",
    "    for line in f: \n",
    "        data.append(json.loads(line))"
   ]
  },
  {
   "cell_type": "code",
   "execution_count": 101,
   "id": "4a5df248",
   "metadata": {},
   "outputs": [],
   "source": [
    "english_data = []\n",
    "for i in range(len(data)): \n",
    "    if data[i]['language'] == 'english': \n",
    "        english_data.append(data[i])"
   ]
  },
  {
   "cell_type": "code",
   "execution_count": null,
   "id": "57dd88b1",
   "metadata": {},
   "outputs": [
    {
     "data": {
      "text/plain": [
       "'Zebra finch'"
      ]
     },
     "execution_count": 107,
     "metadata": {},
     "output_type": "execute_result"
    }
   ],
   "source": [
    "english_data[0]['question_text'] # question\n",
    "english_data[0]['document_plaintext'] # context\n",
    "english_data[0]['document_title'] # title\n",
    "# english_data[2]\n"
   ]
  },
  {
   "cell_type": "code",
   "execution_count": 110,
   "id": "9e921500",
   "metadata": {},
   "outputs": [],
   "source": [
    "filtered_data = {'title' : [], 'context' : [],\n",
    "                 'question' : []}\n",
    "for i in range(len(english_data)) :\n",
    "    filtered_data['title'].append(english_data[i]['document_title'])\n",
    "    filtered_data['context'].append(english_data[i]['document_plaintext'])\n",
    "    filtered_data['question'].append(english_data[i]['question_text'])\n",
    "\n",
    "df = pd.DataFrame.from_dict(filtered_data)"
   ]
  },
  {
   "cell_type": "markdown",
   "id": "0224ead1",
   "metadata": {},
   "source": [
    "### Short Version Dataset"
   ]
  },
  {
   "cell_type": "code",
   "execution_count": 48,
   "id": "a6dde80c",
   "metadata": {},
   "outputs": [],
   "source": [
    "f = open('../data/tydiqa.json', 'r')\n",
    "data = json.load(f)"
   ]
  },
  {
   "cell_type": "code",
   "execution_count": 49,
   "id": "2a6bff72",
   "metadata": {},
   "outputs": [
    {
     "data": {
      "text/plain": [
       "'Wound care'"
      ]
     },
     "execution_count": 49,
     "metadata": {},
     "output_type": "execute_result"
    }
   ],
   "source": [
    "data['data'][0]['title'] # get title\n",
    "data['data'][0]['paragraphs'][0]['context'] # get context\n",
    "data['data'][0]['paragraphs'][0]['qas'][0]['question'] # get question\n",
    "data['data'][0]['paragraphs'][0]['qas'][0]['answers'][0][\"text\"]# get answer"
   ]
  },
  {
   "cell_type": "code",
   "execution_count": 50,
   "id": "05e57812",
   "metadata": {},
   "outputs": [],
   "source": [
    "filtered_data = {\"title\" : [], \"context\" : [],\n",
    "                 \"question\": [], \"answer\" : []}\n",
    "for i in range(len(data['data'])) : \n",
    "    filtered_data['title'].append(data['data'][i]['title'])\n",
    "    filtered_data['context'].append(data['data'][i]['paragraphs'][0]['context'])\n",
    "    filtered_data['question'].append(data['data'][i]['paragraphs'][0]['qas'][0]['question'])\n",
    "    filtered_data['answer'].append(data['data'][i]['paragraphs'][0]['qas'][0]['answers'][0][\"text\"])\n",
    "\n",
    "df = pd.DataFrame.from_dict(filtered_data)"
   ]
  },
  {
   "cell_type": "code",
   "execution_count": 51,
   "id": "a70ae3da",
   "metadata": {},
   "outputs": [
    {
     "data": {
      "text/html": [
       "<div>\n",
       "<style scoped>\n",
       "    .dataframe tbody tr th:only-of-type {\n",
       "        vertical-align: middle;\n",
       "    }\n",
       "\n",
       "    .dataframe tbody tr th {\n",
       "        vertical-align: top;\n",
       "    }\n",
       "\n",
       "    .dataframe thead th {\n",
       "        text-align: right;\n",
       "    }\n",
       "</style>\n",
       "<table border=\"1\" class=\"dataframe\">\n",
       "  <thead>\n",
       "    <tr style=\"text-align: right;\">\n",
       "      <th></th>\n",
       "      <th>title</th>\n",
       "      <th>context</th>\n",
       "      <th>question</th>\n",
       "      <th>answer</th>\n",
       "    </tr>\n",
       "  </thead>\n",
       "  <tbody>\n",
       "    <tr>\n",
       "      <th>0</th>\n",
       "      <td>Wound healing</td>\n",
       "      <td>Wound care encourages and speeds wound healing...</td>\n",
       "      <td>What is a way to increase your wound healing s...</td>\n",
       "      <td>Wound care</td>\n",
       "    </tr>\n",
       "    <tr>\n",
       "      <th>1</th>\n",
       "      <td>Burntisland Shipbuilding Company</td>\n",
       "      <td>Brothers Amos and Wilfrid Ayre founded Burntis...</td>\n",
       "      <td>Who founded the Burntisland Shipbuilding Company?</td>\n",
       "      <td>Amos and Wilfrid Ayre</td>\n",
       "    </tr>\n",
       "    <tr>\n",
       "      <th>2</th>\n",
       "      <td>Cerebral cortex</td>\n",
       "      <td>The cerebral cortex is folded in a way that al...</td>\n",
       "      <td>What is the surface area of the human cortex?</td>\n",
       "      <td>1.3 square feet</td>\n",
       "    </tr>\n",
       "    <tr>\n",
       "      <th>3</th>\n",
       "      <td>Agatha Christie</td>\n",
       "      <td>Guinness World Records lists Christie as the b...</td>\n",
       "      <td>How many units has Agatha Christie sold?</td>\n",
       "      <td>2 billion copies</td>\n",
       "    </tr>\n",
       "    <tr>\n",
       "      <th>4</th>\n",
       "      <td>Nájera</td>\n",
       "      <td>The town was conquered by Ordoño II of Leon fo...</td>\n",
       "      <td>When was Nájera established?</td>\n",
       "      <td>923</td>\n",
       "    </tr>\n",
       "  </tbody>\n",
       "</table>\n",
       "</div>"
      ],
      "text/plain": [
       "                              title  \\\n",
       "0                     Wound healing   \n",
       "1  Burntisland Shipbuilding Company   \n",
       "2                   Cerebral cortex   \n",
       "3                   Agatha Christie   \n",
       "4                            Nájera   \n",
       "\n",
       "                                             context  \\\n",
       "0  Wound care encourages and speeds wound healing...   \n",
       "1  Brothers Amos and Wilfrid Ayre founded Burntis...   \n",
       "2  The cerebral cortex is folded in a way that al...   \n",
       "3  Guinness World Records lists Christie as the b...   \n",
       "4  The town was conquered by Ordoño II of Leon fo...   \n",
       "\n",
       "                                            question                 answer  \n",
       "0  What is a way to increase your wound healing s...             Wound care  \n",
       "1  Who founded the Burntisland Shipbuilding Company?  Amos and Wilfrid Ayre  \n",
       "2      What is the surface area of the human cortex?        1.3 square feet  \n",
       "3           How many units has Agatha Christie sold?       2 billion copies  \n",
       "4                       When was Nájera established?                    923  "
      ]
     },
     "execution_count": 51,
     "metadata": {},
     "output_type": "execute_result"
    }
   ],
   "source": [
    "df.head()"
   ]
  },
  {
   "cell_type": "markdown",
   "id": "db55eb69",
   "metadata": {},
   "source": [
    "## Sentence Level"
   ]
  },
  {
   "cell_type": "code",
   "execution_count": null,
   "id": "70c7ff28",
   "metadata": {},
   "outputs": [],
   "source": [
    "flattened_list = [item for sublist in [sent_tokenize(elem) for elem in df['context'].loc[0]] for item in sublist]"
   ]
  },
  {
   "cell_type": "code",
   "execution_count": 64,
   "id": "a2aaf785",
   "metadata": {},
   "outputs": [],
   "source": [
    "if type(df.context.loc[0]) == list: \n",
    "    for i in range(len(df)) :\n",
    "        df.loc[i, 'context'] = [item for sublist in[sent_tokenize(elem) for elem in df.loc[i, 'context']] for item in sublist]\n",
    "else : \n",
    "    df['context'] = df.context.apply(lambda x: sent_tokenize(x))\n"
   ]
  },
  {
   "cell_type": "code",
   "execution_count": 65,
   "id": "bf8ff4ff",
   "metadata": {},
   "outputs": [],
   "source": [
    "df['context_size'] = df.context.apply(lambda x: len(x))"
   ]
  },
  {
   "cell_type": "code",
   "execution_count": 69,
   "id": "a293702a",
   "metadata": {},
   "outputs": [
    {
     "data": {
      "text/html": [
       "<div>\n",
       "<style scoped>\n",
       "    .dataframe tbody tr th:only-of-type {\n",
       "        vertical-align: middle;\n",
       "    }\n",
       "\n",
       "    .dataframe tbody tr th {\n",
       "        vertical-align: top;\n",
       "    }\n",
       "\n",
       "    .dataframe thead th {\n",
       "        text-align: right;\n",
       "    }\n",
       "</style>\n",
       "<table border=\"1\" class=\"dataframe\">\n",
       "  <thead>\n",
       "    <tr style=\"text-align: right;\">\n",
       "      <th></th>\n",
       "      <th>question</th>\n",
       "      <th>context</th>\n",
       "      <th>answer</th>\n",
       "      <th>context_size</th>\n",
       "    </tr>\n",
       "  </thead>\n",
       "  <tbody>\n",
       "  </tbody>\n",
       "</table>\n",
       "</div>"
      ],
      "text/plain": [
       "Empty DataFrame\n",
       "Columns: [question, context, answer, context_size]\n",
       "Index: []"
      ]
     },
     "execution_count": 69,
     "metadata": {},
     "output_type": "execute_result"
    }
   ],
   "source": []
  },
  {
   "cell_type": "code",
   "execution_count": 71,
   "id": "0dcf648f",
   "metadata": {},
   "outputs": [],
   "source": [
    "df = df[df.context_size >= 10].drop('context_size', axis = 1).copy()"
   ]
  },
  {
   "cell_type": "code",
   "execution_count": 73,
   "id": "230505e6",
   "metadata": {},
   "outputs": [],
   "source": [
    "df.to_csv('../data/prepared_musique.csv', index = False)"
   ]
  },
  {
   "cell_type": "markdown",
   "id": "7afa9ccf",
   "metadata": {},
   "source": [
    "# Running Experiment"
   ]
  },
  {
   "cell_type": "markdown",
   "id": "61469ba2",
   "metadata": {},
   "source": [
    "## Setup"
   ]
  },
  {
   "cell_type": "code",
   "execution_count": 128,
   "id": "5889f102",
   "metadata": {},
   "outputs": [
    {
     "name": "stdout",
     "output_type": "stream",
     "text": [
      "Main Script: Loading model...\n"
     ]
    },
    {
     "data": {
      "application/vnd.jupyter.widget-view+json": {
       "model_id": "2c2846cfb718487c84592b5abc476ecd",
       "version_major": 2,
       "version_minor": 0
      },
      "text/plain": [
       "Loading checkpoint shards:   0%|          | 0/2 [00:00<?, ?it/s]"
      ]
     },
     "metadata": {},
     "output_type": "display_data"
    },
    {
     "name": "stdout",
     "output_type": "stream",
     "text": [
      "Main Script: Preparing model with Accelerator...\n",
      "Main Script: Model prepared and set to eval.\n"
     ]
    }
   ],
   "source": [
    "SEED = 42\n",
    "# Initialize Accelerator\n",
    "accelerator_main = Accelerator(mixed_precision=\"fp16\")\n",
    "\n",
    "# Load Model\n",
    "if accelerator_main.is_main_process:\n",
    "    print(\"Main Script: Loading model...\")\n",
    "# model_path = \"mistralai/Mistral-7B-Instruct-v0.3\"\n",
    "# model_path = \"meta-llama/Llama-3.1-8B-Instruct\"\n",
    "model_path = \"Qwen/Qwen2.5-3B-Instruct\"\n",
    "\n",
    "model_cpu = AutoModelForCausalLM.from_pretrained(\n",
    "    model_path,\n",
    "    torch_dtype=torch.float16\n",
    ")\n",
    "tokenizer = AutoTokenizer.from_pretrained(model_path)\n",
    "if tokenizer.pad_token is None:\n",
    "    tokenizer.pad_token = tokenizer.eos_token\n",
    "    model_cpu.config.pad_token_id = tokenizer.pad_token_id\n",
    "    if hasattr(model_cpu, 'generation_config') and model_cpu.generation_config is not None:\n",
    "        model_cpu.generation_config.pad_token_id = tokenizer.pad_token_id\n",
    "\n",
    "if accelerator_main.is_main_process:\n",
    "    print(\"Main Script: Preparing model with Accelerator...\")\n",
    "prepared_model = accelerator_main.prepare(model_cpu)\n",
    "unwrapped_prepared_model = accelerator_main.unwrap_model(prepared_model)\n",
    "unwrapped_prepared_model.eval()\n",
    "if accelerator_main.is_main_process:\n",
    "    print(\"Main Script: Model prepared and set to eval.\")\n",
    "\n",
    "# Define utility cache\n",
    "\n",
    "accelerator_main.wait_for_everyone()"
   ]
  },
  {
   "cell_type": "code",
   "execution_count": 133,
   "id": "5c052396",
   "metadata": {},
   "outputs": [
    {
     "data": {
      "application/vnd.jupyter.widget-view+json": {
       "model_id": "48411a7a9a6f4caaaa820e9de88a6c92",
       "version_major": 2,
       "version_minor": 0
      },
      "text/plain": [
       "Processing Questions:   0%|          | 0/3 [00:00<?, ?it/s]"
      ]
     },
     "metadata": {},
     "output_type": "display_data"
    },
    {
     "name": "stdout",
     "output_type": "stream",
     "text": [
      "\n",
      "--- Question 1/3: Do zebra finches have stripes?... ---\n",
      "  Instantiating ShapleyExperimentHarness for Q0 (n=205 docs)...\n"
     ]
    },
    {
     "name": "stderr",
     "output_type": "stream",
     "text": [
      "c:\\Users\\Kalai\\anaconda3\\envs\\llms\\Lib\\site-packages\\transformers\\generation\\configuration_utils.py:628: UserWarning: `do_sample` is set to `False`. However, `temperature` is set to `0` -- this flag is only used in sample-based generation modes. You should set `do_sample=True` or unset `temperature`.\n",
      "  warnings.warn(\n",
      "c:\\Users\\Kalai\\anaconda3\\envs\\llms\\Lib\\site-packages\\transformers\\generation\\configuration_utils.py:650: UserWarning: `do_sample` is set to `False`. However, `top_k` is set to `20` -- this flag is only used in sample-based generation modes. You should set `do_sample=True` or unset `top_k`.\n",
      "  warnings.warn(\n"
     ]
    },
    {
     "name": "stdout",
     "output_type": "stream",
     "text": [
      "HERE 32\n",
      "HERE\n"
     ]
    },
    {
     "data": {
      "application/vnd.jupyter.widget-view+json": {
       "model_id": "2662baf837b24828b9bcec84c7b72b2c",
       "version_major": 2,
       "version_minor": 0
      },
      "text/plain": [
       "  0%|          | 0/205 [00:00<?, ?it/s]"
      ]
     },
     "metadata": {},
     "output_type": "display_data"
    },
    {
     "name": "stdout",
     "output_type": "stream",
     "text": [
      "\n",
      "--- Question 2/3: Does Catholicism have any dietary restrictions?... ---\n",
      "  Instantiating ShapleyExperimentHarness for Q1 (n=18 docs)...\n"
     ]
    },
    {
     "name": "stderr",
     "output_type": "stream",
     "text": [
      "c:\\Users\\Kalai\\anaconda3\\envs\\llms\\Lib\\site-packages\\transformers\\generation\\configuration_utils.py:628: UserWarning: `do_sample` is set to `False`. However, `temperature` is set to `0` -- this flag is only used in sample-based generation modes. You should set `do_sample=True` or unset `temperature`.\n",
      "  warnings.warn(\n",
      "c:\\Users\\Kalai\\anaconda3\\envs\\llms\\Lib\\site-packages\\transformers\\generation\\configuration_utils.py:650: UserWarning: `do_sample` is set to `False`. However, `top_k` is set to `20` -- this flag is only used in sample-based generation modes. You should set `do_sample=True` or unset `top_k`.\n",
      "  warnings.warn(\n"
     ]
    },
    {
     "name": "stdout",
     "output_type": "stream",
     "text": [
      "HERE 32\n",
      "HERE\n"
     ]
    },
    {
     "data": {
      "application/vnd.jupyter.widget-view+json": {
       "model_id": "e7d1cd5e7cc24b62b089df246ecfac34",
       "version_major": 2,
       "version_minor": 0
      },
      "text/plain": [
       "  0%|          | 0/18 [00:00<?, ?it/s]"
      ]
     },
     "metadata": {},
     "output_type": "display_data"
    },
    {
     "name": "stdout",
     "output_type": "stream",
     "text": [
      "\n",
      "--- Question 3/3: What is a way to increase your wound healing speed?... ---\n",
      "  Instantiating ShapleyExperimentHarness for Q2 (n=349 docs)...\n"
     ]
    },
    {
     "name": "stderr",
     "output_type": "stream",
     "text": [
      "c:\\Users\\Kalai\\anaconda3\\envs\\llms\\Lib\\site-packages\\transformers\\generation\\configuration_utils.py:628: UserWarning: `do_sample` is set to `False`. However, `temperature` is set to `0` -- this flag is only used in sample-based generation modes. You should set `do_sample=True` or unset `temperature`.\n",
      "  warnings.warn(\n",
      "c:\\Users\\Kalai\\anaconda3\\envs\\llms\\Lib\\site-packages\\transformers\\generation\\configuration_utils.py:650: UserWarning: `do_sample` is set to `False`. However, `top_k` is set to `20` -- this flag is only used in sample-based generation modes. You should set `do_sample=True` or unset `top_k`.\n",
      "  warnings.warn(\n"
     ]
    },
    {
     "name": "stdout",
     "output_type": "stream",
     "text": [
      "HERE 32\n",
      "HERE\n"
     ]
    },
    {
     "data": {
      "application/vnd.jupyter.widget-view+json": {
       "model_id": "48852c1db26b4723bdd97fa1b7711393",
       "version_major": 2,
       "version_minor": 0
      },
      "text/plain": [
       "  0%|          | 0/349 [00:00<?, ?it/s]"
      ]
     },
     "metadata": {},
     "output_type": "display_data"
    }
   ],
   "source": [
    "num_questions_to_run=len(df.question)\n",
    "# num_questions_to_run=1\n",
    "all_metrics_data = []\n",
    "all_results=[]\n",
    "M=[]\n",
    "Fs=[]\n",
    "pairs=[]\n",
    "mse_inters=[]\n",
    "mse_lins=[]\n",
    "mse_fms=[]\n",
    "dataset_name = 'tidyQA'\n",
    "\n",
    "for i in tqdm(range(num_questions_to_run), desc=\"Processing Questions\", disable=not accelerator_main.is_main_process):\n",
    "    query = df.question[i]\n",
    "    if accelerator_main.is_main_process:\n",
    "        print(f\"\\n--- Question {i+1}/{num_questions_to_run}: {query[:60]}... ---\")\n",
    "\n",
    "    if isinstance(df.context[i], list) == False: \n",
    "        docs=ast.literal_eval(df.context[i])\n",
    "    else: \n",
    "        docs = df.context[i]\n",
    "\n",
    "    utility_cache_base_dir = f\"../Experiment_data/{dataset_name}\"\n",
    "    utility_cache_filename = f\"utilities_q_idx{i}_n{len(docs)}.pkl\" # More robust naming\n",
    "    current_utility_path = os.path.join(utility_cache_base_dir, utility_cache_filename)\n",
    "    \n",
    "    if accelerator_main.is_main_process: # Only main process creates directories\n",
    "        os.makedirs(os.path.dirname(current_utility_path), exist_ok=True)\n",
    "        print(f\"  Instantiating ShapleyExperimentHarness for Q{i} (n={len(docs)} docs)...\")\n",
    "    \n",
    "    # Initialize Harness\n",
    "    harness = ContextAttribution(\n",
    "        items=docs,\n",
    "        query=query,\n",
    "        prepared_model_for_harness=prepared_model,\n",
    "        tokenizer_for_harness=tokenizer,\n",
    "        accelerator_for_harness=accelerator_main,\n",
    "        verbose=False\n",
    "    )\n",
    "    # Compute metrics\n",
    "    results_for_query = {}\n",
    "    # M.append(harness.compute_shapley_interaction_index_pairs_matrix())\n",
    "    if accelerator_main.is_main_process:\n",
    "\n",
    "        m_samples_map = {\"L\": 32}\n",
    "        T_iterations_map = { \"L\":20}\n",
    "\n",
    "        for size_key, num_s in m_samples_map.items():\n",
    "            if 2**len(docs) < num_s and size_key != \"L\":\n",
    "                actual_samples = max(1, 2**len(docs)-1 if 2**len(docs)>0 else 1)\n",
    "            else:\n",
    "                actual_samples = num_s\n",
    "            \n",
    "            print(\"HERE\", actual_samples)\n",
    "\n",
    "            if actual_samples > 0: \n",
    "                results_for_query[f\"ContextCite{actual_samples}\"] = harness.compute_contextcite(num_samples=actual_samples, seed=SEED)\n",
    "                print(\"HERE\")\n",
    "\n",
    "                # results_for_query[f\"WSS_FM{actual_samples}\"], F, mse_fm = harness.compute_wss(num_samples=actual_samples, seed=SEED)\n",
    "                # Fs.append(F)\n",
    "                # mse_fms.append(mse_fm)\n",
    "                results_for_query[f\"BetaShap{actual_samples}\"] = harness.compute_beta_shap(num_iterations_max=T_iterations_map[size_key], beta_a=4, beta_b=4, max_unique_lookups=actual_samples, seed=SEED)\n",
    "                results_for_query[f\"TMC{actual_samples}\"] = harness.compute_tmc_shap(num_iterations_max=T_iterations_map[size_key], performance_tolerance=0.001, max_unique_lookups=actual_samples, seed=SEED)\n",
    "\n",
    "        results_for_query[\"LOO\"] = harness.compute_loo()\n",
    "        results_for_query[\"ARC-JSD\"] = harness.compute_arc_jsd()\n",
    "\n",
    "        # exact_scores = results_for_query.get(\"ExactInter\")\n",
    "        all_results.append(results_for_query)"
   ]
  },
  {
   "cell_type": "code",
   "execution_count": 139,
   "id": "b1e6fdcd",
   "metadata": {},
   "outputs": [],
   "source": [
    "np.save('../Experiment_data/tidyQA/all_results.npy', all_results)"
   ]
  },
  {
   "cell_type": "markdown",
   "id": "00aed33f",
   "metadata": {},
   "source": [
    "# Results Analysis"
   ]
  },
  {
   "cell_type": "code",
   "execution_count": 100,
   "id": "57618341",
   "metadata": {},
   "outputs": [],
   "source": [
    "results = np.load('../Experiment_data/musiqueQA/all_results.npy', allow_pickle=True)\n",
    "df = pd.read_csv('../data/musiqueQA.csv')"
   ]
  },
  {
   "cell_type": "code",
   "execution_count": 126,
   "id": "6f979865",
   "metadata": {},
   "outputs": [
    {
     "name": "stdout",
     "output_type": "stream",
     "text": [
      "Expected Answer:  1999 Provided Answer:  1999\n"
     ]
    }
   ],
   "source": [
    "i = 2\n",
    "print(\"Expected Answer: \", df['answer'].loc[i], \"Provided Answer: \", results[i]['LLM_response'])"
   ]
  },
  {
   "cell_type": "markdown",
   "id": "344316ec",
   "metadata": {},
   "source": [
    "## Visualisation"
   ]
  },
  {
   "cell_type": "code",
   "execution_count": 94,
   "id": "a94ae797",
   "metadata": {},
   "outputs": [],
   "source": [
    "import matplotlib.pyplot as plt\n",
    "import numpy as np"
   ]
  },
  {
   "cell_type": "code",
   "execution_count": 130,
   "id": "55f7133a",
   "metadata": {},
   "outputs": [
    {
     "data": {
      "text/plain": [
       "'[\\'\"The Spy in Black\" was filmed at Denham Studios, with location shooting at Northchurch Common in Berkhamsted, Hertfordshire and in Orkney, Scotland.\\', \\'The film wrapped production on 24 December 1938 and was released in the U.K. on 12 August 1939 – 22 days before the country again went to war with Germany.\\', \\'Its American premiere was held in New York City on 5 October of that year, and it went into general release two days later.\\', \\'Thomas Fanshawe, 2nd Viscount Fanshawe (1632–1674) of Ware Park, Hertfordshire was an Irish peer and Member of Parliament.\\', \\'He was born to Thomas Fanshawe, 1st Viscount Fanshawe by his second wife Elizabeth Cockayne, the daughter of Sir William Cockayne, who served as the Lord Mayor of London in 1619.\\', \\'Birth control practices were generally adopted earlier in Europe than in the United States.\\', \"Knowlton\\'s book was reprinted in 1877 in England by Charles Bradlaugh and Annie Besant, with the goal of challenging Britain\\'s obscenity laws.\", \"They were arrested (and later acquitted) but the publicity of their trial contributed to the formation, in 1877, of the Malthusian League -- the world\\'s first birth control advocacy group -- which sought to limit population growth to avoid Thomas Malthus\\'s dire predictions of exponential population growth leading to worldwide poverty and famine.\", \\'By 1930, similar societies had been established in nearly all European countries, and birth control began to find acceptance in most Western European countries, except Catholic Ireland, Spain, and France.\\', \\'As the birth control societies spread across Europe, so did birth control clinics.\\', \"The first birth control clinic in the world was established in the Netherlands in 1882, run by the Netherlands\\' first female physician, Aletta Jacobs.\", \\'The first birth control clinic in England was established in 1921 by Marie Stopes, in London.\\', \\'Wareside is a small village and civil parish in the East Hertfordshire District, in the county of Hertfordshire.\\', \\'The population of the civil parish as of the 2011 census is 735.\\', \\'It is approximately 3 miles away from the town of Ware (from where it probably took its name) and the larger town of Hertford, the county town of Hertfordshire.\\', \\'Nearby villages include Widford, Hunsdon, Babbs Green and Bakers End.\\', \\'Nearby hamlets include Cold Christmas and Helham Green.\\', \"The B1004 linking Ware to Bishop\\'s Stortford goes through the village and the main A10 road can be picked up at Thundridge.\", \\'Fanhams Hall Road also links Wareside back to Ware.\\', \\'Ware railway station on the Hertford East Branch Line is located two and a half miles away.\\', \\'Mokshagundam Viswesvarayya was born on 15 September 1861 in Muddenahalli village (now located in Chikkaballapura District, but part of Kolar district at the time of his birth) in the princely state of Mysore (now Karnataka), India.\\', \\'His father, Mokshagundam Srinivasa Sastry, was a school teacher and a noted Sanskrit scholar, while his mother, Venkatalakshamma, was a homemaker.\\', \\'His parents were from Mokshagundam, a village of Prakasam district in Andhra Pradesh.\\', \"The Dilley sextuplets (born May 25, 1993) are the United States\\' first set of surviving sextuplets, born to Becki and Keith Dilley in Indianapolis, Indiana, United States.\", \\'They are, in birth order;\\', \\'Hertfordshire is the county immediately north of London and is part of the East of England region, a mainly statistical unit.\\', \\'A significant minority of the population across all districts are City of London commuters.\\', \\'To the east is Essex, to the west is Buckinghamshire and to the north are Bedfordshire and Cambridgeshire.\\', \\'Margaret Higgins Sanger (born Margaret Louise Higgins, September 14, 1879 -- September 6, 1966, also known as Margaret Sanger Slee) was an American birth control activist, sex educator, writer, and nurse.\\', \"Sanger popularized the term ``birth control \\'\\', opened the first birth control clinic in the United States, and established organizations that evolved into the Planned Parenthood Federation of America.\", \\'Filming of the series began at Leavesden Studios, Hertfordshire, England, in September 2000 and ended in December 2010, with post-production on the final film lasting until summer 2011.\\', \\'Leavesden Studios was the main base for filming Harry Potter, and it opened to the public as a studio tour in 2012 (renamed as Warner Bros. Studios, Leavesden).\\', \\'Edgar Anstey (16 February 1907 in Watford, Hertfordshire, England – 26 September 1987 in London, England), was a leading British documentary film-maker.\\', \\'The East of England is one of nine official regions of England at the first level of NUTS for statistical purposes.\\', \\'It was created in 1994 and was adopted for statistics from 1999.\\', \\'It includes the ceremonial counties of Bedfordshire, Cambridgeshire, Essex, Hertfordshire, Norfolk and Suffolk.\\', \\'Essex has the highest population in the region.\\', \\'Thomas Plumer Halsey MP (26 January 1815 – 24 April 1854) was a Member of Parliament for Hertfordshire from 1846 to 1854.\\', \\'Watford Rural is a civil parish in the Three Rivers District of Hertfordshire, England.\\', \\'Located approximately northwest of central London and adjacent to the Greater London boundary, it is an urbanised parish characterised by suburban residential development.\\', \\'The local council is Watford Rural Parish Council.\\', \\'The parish covers South Oxhey and Carpenders Park, which although part of the Watford urban area, are outside the borough of Watford.\\', \\'The parish was created in 1894 when the ancient Watford parish was split into urban and rural parishes.\\', \\'At the 2001 census it had a population of 20,250.\\', \\'Ralph Trustees Limited is a family run private hotel group based in England with a portfolio of four hotels operating in the four and five star sector.\\', \\'Their hotels include The Grove (Hertfordshire), The Athenaeum (London), The Runnymede (Surrey) and 23 Greengarden House (London).\\', \\'Cyril Walter Dumpleton (25 June 1897 – 1 October 1966) was a British Labour Party politician who served as the Member of Parliament (MP) for the St Albans division of Hertfordshire from 1945 to 1950.\\', \\'Bengeo Rural is a civil parish in the East Hertfordshire district of Hertfordshire, England.\\', \\'According to the 2001 census it had a population of 601, increasing at the 2011 Census to 644.\\', \\'The parish includes the villages of Tonwell and Chapmore End.\\', \\'The most populous member state is Germany, with an estimated 82.8 million people, and the least populous member state is Malta with 0.4 million.\\', \\'Birth rates in the EU are low with the average woman having 1.6 children.\\', \\'The highest birth - rates are found in Ireland with 16.876 births per thousand people per year and France with 13.013 births per thousand people per year.\\', \\'Germany has the lowest birth rate in Europe with 8.221 births per thousand people per year.\\', \\'Barkway is a long-established village and civil parish in the North Hertfordshire district of Hertfordshire, England, about five miles south-east of Royston, 35 miles from London and 15 miles from the centre of Cambridge.\\', \\'The Prime Meridian passes a mile or so to the west of Barkway.\\', \\'Untitled (The Birth) is a 1938 tempera painting by American artist Jacob Lawrence, located in the Indianapolis Museum of Art, which is in Indianapolis, Indiana.\\', \\'Depicting a scene of childbirth in flat, geometric forms and bright colors, it is very much a product of the Harlem Renaissance.\\', \\'Wyddial is a village and civil parish in the East Hertfordshire district of Hertfordshire, England.\\', \\'It is located around a mile and a half north-east of Buntingford (OS grid reference ), and lies due north of Greenwich on the Prime Meridian.\\']'"
      ]
     },
     "execution_count": 130,
     "metadata": {},
     "output_type": "execute_result"
    }
   ],
   "source": [
    "df.context[1]"
   ]
  },
  {
   "cell_type": "code",
   "execution_count": 128,
   "id": "ee3a6c7d",
   "metadata": {},
   "outputs": [],
   "source": [
    "data = results[i]\n",
    "input_data = df.loc[i]"
   ]
  },
  {
   "cell_type": "code",
   "execution_count": 129,
   "id": "6b3c525d",
   "metadata": {},
   "outputs": [
    {
     "data": {
      "text/plain": [
       "'When was the abolishment of the studio that distributed The Game?'"
      ]
     },
     "execution_count": 129,
     "metadata": {},
     "output_type": "execute_result"
    }
   ],
   "source": [
    "input_data['question']"
   ]
  },
  {
   "cell_type": "code",
   "execution_count": 120,
   "id": "c099c689",
   "metadata": {},
   "outputs": [
    {
     "data": {
      "text/plain": [
       "'Thomas Fanshawe, 2nd Viscount Fanshawe (1632–1674) of Ware Park, Hertfordshire was an Irish peer and Member of Parliament.'"
      ]
     },
     "execution_count": 120,
     "metadata": {},
     "output_type": "execute_result"
    }
   ],
   "source": [
    "eval(input_data.context.replace('array', ''))[3]"
   ]
  },
  {
   "cell_type": "code",
   "execution_count": 107,
   "id": "ac338b48",
   "metadata": {},
   "outputs": [
    {
     "data": {
      "image/png": "[encoded data removed]",
      "text/plain": [
       "<Figure size 1000x3000 with 5 Axes>"
      ]
     },
     "metadata": {},
     "output_type": "display_data"
    }
   ],
   "source": [
    "# Create figure with subplots\n",
    "fig, axes = plt.subplots(nrows=len(data), ncols=1, figsize=(10, 6*len(data)))\n",
    "if len(data) == 1:\n",
    "    axes = [axes]\n",
    "\n",
    "# Create a bar plot for each key in the dictionary\n",
    "for ax, (key, values) in zip(axes, data.items()):\n",
    "    x = range(len(values))  # Create x-axis values\n",
    "    ax.bar(x, values)\n",
    "    ax.set_title(key)\n",
    "    ax.set_xlabel('Index')\n",
    "    ax.set_ylabel('Value')\n",
    "    ax.grid(True, linestyle='--', alpha=0.6)\n",
    "\n",
    "plt.tight_layout()  # Adjust spacing between subplots\n",
    "plt.show()"
   ]
  }
 ],
 "metadata": {
  "kernelspec": {
   "display_name": ".venv",
   "language": "python",
   "name": "python3"
  },
  "language_info": {
   "codemirror_mode": {
    "name": "ipython",
    "version": 3
   },
   "file_extension": ".py",
   "mimetype": "text/x-python",
   "name": "python",
   "nbconvert_exporter": "python",
   "pygments_lexer": "ipython3",
   "version": "3.10.12"
  }
 },
 "nbformat": 4,
 "nbformat_minor": 5
}
