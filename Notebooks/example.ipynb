{
 "cells": [
  {
   "cell_type": "code",
   "execution_count": 2,
   "metadata": {},
   "outputs": [],
   "source": [
    "import sys\n",
    "import os\n",
    "current_dir = os.getcwd()\n",
    "parent_dir = os.path.abspath(os.path.join(current_dir, '..'))\n",
    "sys.path.append(parent_dir)\n",
    "\n",
    "from SHapRAG import*\n",
    "import pandas as pd\n",
    "from scipy.stats import pearsonr\n",
    "import time"
   ]
  },
  {
   "cell_type": "code",
   "execution_count": 3,
   "metadata": {},
   "outputs": [],
   "source": [
    "documents = [\n",
    "    \"The weather in Paris is sunny today.\",\n",
    "    \"Paris is the capital of France.\",\n",
    "    \"The sun is shining in Paris today\",\n",
    "    \"Berlin is the capital of Germany.\", # Irrelevant\n",
    "    # \"The Eiffel Tower is located in Paris, France.\",\n",
    "    # \"France borders several countries including Germany.\",\n",
    "    # \"The currency used in France is the Euro.\",\n",
    "    # \"Paris hosted the Summer Olympics in 1900 and 1924.\",\n",
    "    # \"Germany uses the Euro as well.\", # Redundant info\n",
    "    \"It is cloudy in Berlin today.\" # Irrelevant\n",
    "]\n",
    "query = \"What is the weather like in the capital of France?\"\n",
    "target_response = \"Paris is sunny.\" # The ideal answer fragment"
   ]
  },
  {
   "cell_type": "code",
   "execution_count": 5,
   "metadata": {},
   "outputs": [
    {
     "name": "stderr",
     "output_type": "stream",
     "text": [
      "Loading checkpoint shards: 100%|██████████| 4/4 [00:01<00:00,  2.88it/s]\n",
      "/transformers/src/transformers/generation/configuration_utils.py:636: UserWarning: `do_sample` is set to `False`. However, `temperature` is set to `0.6` -- this flag is only used in sample-based generation modes. You should set `do_sample=True` or unset `temperature`.\n",
      "  warnings.warn(\n",
      "/transformers/src/transformers/generation/configuration_utils.py:641: UserWarning: `do_sample` is set to `False`. However, `top_p` is set to `0.9` -- this flag is only used in sample-based generation modes. You should set `do_sample=True` or unset `top_p`.\n",
      "  warnings.warn(\n",
      "The attention mask is not set and cannot be inferred from input because pad token is same as eos token. As a consequence, you may observe unexpected behavior. Please pass your input's `attention_mask` to obtain reliable results.\n",
      "Fetching 3 files: 100%|██████████| 3/3 [00:00<00:00, 12348.29it/s]\n"
     ]
    },
    {
     "data": {
      "text/plain": [
       "'Based on the given context, the weather in Paris is sunny today. The context explicitly states \"The weather in Paris is sunny today.\" and also mentions'"
      ]
     },
     "execution_count": 5,
     "metadata": {},
     "output_type": "execute_result"
    }
   ],
   "source": [
    "compute_logprob(query=query, context=documents, ground_truth_answer=target_response, response=True)"
   ]
  },
  {
   "cell_type": "code",
   "execution_count": null,
   "metadata": {},
   "outputs": [
    {
     "name": "stdout",
     "output_type": "stream",
     "text": [
      "\n",
      "--- Computing ContextCite (Surrogate Weights) ---\n",
      "Starting contextcite (n=5, m=16)...\n",
      "Computing true utilities for 16 samples...\n"
     ]
    },
    {
     "name": "stderr",
     "output_type": "stream",
     "text": [
      "Loading checkpoint shards: 100%|██████████| 4/4 [00:01<00:00,  2.96it/s]\n",
      "Fetching 3 files: 100%|██████████| 3/3 [00:00<00:00, 11204.73it/s]\n",
      "Loading checkpoint shards: 100%|██████████| 4/4 [00:01<00:00,  3.15it/s]\n",
      "Loading checkpoint shards: 100%|██████████| 4/4 [00:01<00:00,  3.25it/s]\n",
      "Loading checkpoint shards: 100%|██████████| 4/4 [00:01<00:00,  3.22it/s]\n",
      "Loading checkpoint shards: 100%|██████████| 4/4 [00:01<00:00,  3.16it/s]\n",
      "Loading checkpoint shards: 100%|██████████| 4/4 [00:01<00:00,  3.23it/s]\n",
      "Loading checkpoint shards: 100%|██████████| 4/4 [00:01<00:00,  3.20it/s]\n",
      "Loading checkpoint shards: 100%|██████████| 4/4 [00:01<00:00,  3.26it/s]\n",
      "Loading checkpoint shards: 100%|██████████| 4/4 [00:01<00:00,  3.04it/s]\n",
      "Loading checkpoint shards: 100%|██████████| 4/4 [00:01<00:00,  3.04it/s]\n",
      "Loading checkpoint shards: 100%|██████████| 4/4 [00:01<00:00,  3.16it/s]\n",
      "Loading checkpoint shards: 100%|██████████| 4/4 [00:01<00:00,  3.16it/s]\n",
      "Loading checkpoint shards: 100%|██████████| 4/4 [00:01<00:00,  3.11it/s]\n",
      "Loading checkpoint shards: 100%|██████████| 4/4 [00:01<00:00,  3.15it/s]\n",
      "Loading checkpoint shards: 100%|██████████| 4/4 [00:01<00:00,  3.24it/s]\n",
      "Loading checkpoint shards: 100%|██████████| 4/4 [00:01<00:00,  3.21it/s]\n",
      "contextcite LLM Calls: 100%|██████████| 16/16 [01:25<00:00,  5.34s/it]\n"
     ]
    },
    {
     "name": "stdout",
     "output_type": "stream",
     "text": [
      "Training surrogate model...\n",
      "  Surrogate Weights (w): [ 2.6634 -0.1679  1.9914  1.6188  3.2961]\n",
      "  Surrogate Intercept (b): -19.4259\n",
      "Method 'contextcite' finished in 85.42s.\n",
      "ContextCite Weights: [ 2.6634 -0.1679  1.9914  1.6188  3.2961]\n",
      "\n",
      "--- Computing Weakly Supervised Shapley (WSS) ---\n",
      "Starting wss (n=5, m=16)...\n",
      "Computing true utilities for 16 samples...\n"
     ]
    },
    {
     "name": "stderr",
     "output_type": "stream",
     "text": [
      "Loading checkpoint shards: 100%|██████████| 4/4 [00:01<00:00,  3.16it/s]\n",
      "Loading checkpoint shards: 100%|██████████| 4/4 [00:01<00:00,  3.12it/s]\n",
      "Loading checkpoint shards: 100%|██████████| 4/4 [00:01<00:00,  3.24it/s]\n",
      "Loading checkpoint shards: 100%|██████████| 4/4 [00:01<00:00,  3.24it/s]\n",
      "Loading checkpoint shards: 100%|██████████| 4/4 [00:01<00:00,  3.21it/s]\n",
      "Loading checkpoint shards: 100%|██████████| 4/4 [00:01<00:00,  3.23it/s]\n",
      "Loading checkpoint shards: 100%|██████████| 4/4 [00:01<00:00,  3.26it/s]\n",
      "Loading checkpoint shards: 100%|██████████| 4/4 [00:01<00:00,  3.25it/s]\n",
      "Loading checkpoint shards: 100%|██████████| 4/4 [00:01<00:00,  3.19it/s]\n",
      "Loading checkpoint shards: 100%|██████████| 4/4 [00:01<00:00,  3.15it/s]\n",
      "Loading checkpoint shards: 100%|██████████| 4/4 [00:01<00:00,  3.25it/s]\n",
      "Loading checkpoint shards: 100%|██████████| 4/4 [00:01<00:00,  3.17it/s]\n",
      "Loading checkpoint shards: 100%|██████████| 4/4 [00:01<00:00,  3.19it/s]\n",
      "Loading checkpoint shards: 100%|██████████| 4/4 [00:01<00:00,  3.19it/s]\n",
      "Loading checkpoint shards: 100%|██████████| 4/4 [00:01<00:00,  3.17it/s]\n",
      "Loading checkpoint shards: 100%|██████████| 4/4 [00:01<00:00,  3.16it/s]\n",
      "wss LLM Calls: 100%|██████████| 16/16 [01:17<00:00,  4.85s/it]\n"
     ]
    },
    {
     "name": "stdout",
     "output_type": "stream",
     "text": [
      "Training surrogate model...\n",
      "  Surrogate Weights (w): [ 3.3178 -1.4586  1.2333  1.1678  3.4187]\n",
      "  Surrogate Intercept (b): -18.6363\n",
      "Building hybrid utility set for WSS...\n",
      "Calculating Shapley values from hybrid utilities for WSS...\n"
     ]
    },
    {
     "name": "stderr",
     "output_type": "stream",
     "text": [
      "                                                                    \r"
     ]
    },
    {
     "name": "stdout",
     "output_type": "stream",
     "text": [
      "Method 'wss' finished in 77.58s.\n",
      "WSS Values: [ 3.7737 -1.4224  1.5222  1.6907  3.6614]\n",
      "WSS Surrogate Weights: [ 3.3178 -1.4586  1.2333  1.1678  3.4187]\n",
      "\n",
      "--- Computing TMC-Shapley ---\n",
      "Starting TMC-Shapley (n=5, T=5)...\n"
     ]
    },
    {
     "name": "stderr",
     "output_type": "stream",
     "text": [
      "Loading checkpoint shards: 100%|██████████| 4/4 [00:01<00:00,  3.27it/s]\n",
      "Loading checkpoint shards: 100%|██████████| 4/4 [00:01<00:00,  3.17it/s]\n",
      "Loading checkpoint shards: 100%|██████████| 4/4 [00:01<00:00,  3.24it/s]\n",
      "Loading checkpoint shards: 100%|██████████| 4/4 [00:01<00:00,  3.20it/s]\n",
      "Loading checkpoint shards: 100%|██████████| 4/4 [00:01<00:00,  3.15it/s]\n",
      "Loading checkpoint shards: 100%|██████████| 4/4 [00:01<00:00,  3.10it/s]\n",
      "Loading checkpoint shards: 100%|██████████| 4/4 [00:01<00:00,  3.15it/s]\n",
      "Loading checkpoint shards: 100%|██████████| 4/4 [00:01<00:00,  3.16it/s]\n",
      "Loading checkpoint shards: 100%|██████████| 4/4 [00:01<00:00,  3.22it/s]\n",
      "Loading checkpoint shards: 100%|██████████| 4/4 [00:01<00:00,  3.23it/s]\n",
      "Loading checkpoint shards: 100%|██████████| 4/4 [00:01<00:00,  3.22it/s]\n",
      "Loading checkpoint shards: 100%|██████████| 4/4 [00:01<00:00,  3.11it/s]\n",
      "Loading checkpoint shards: 100%|██████████| 4/4 [00:01<00:00,  3.23it/s]\n",
      "Loading checkpoint shards: 100%|██████████| 4/4 [00:01<00:00,  3.20it/s]\n",
      "TMC Iterations: 100%|██████████| 5/5 [00:58<00:00, 11.70s/it]\n"
     ]
    },
    {
     "name": "stdout",
     "output_type": "stream",
     "text": [
      "TMC-Shapley made 14 unique LLM calls.\n",
      "Method 'tmc' finished in 68.08s.\n",
      "TMC Values: [ 3.2356  2.8438  1.076  -4.4321  6.5021]\n",
      "\n",
      "--- Computing Beta-Shapley (U-shaped, more weight to ends) ---\n",
      "Starting Beta-Shapley (n=5, T=5, α=0.5, β=0.5)...\n"
     ]
    },
    {
     "name": "stderr",
     "output_type": "stream",
     "text": [
      "Loading checkpoint shards: 100%|██████████| 4/4 [00:01<00:00,  3.14it/s]\n",
      "Loading checkpoint shards: 100%|██████████| 4/4 [00:01<00:00,  3.18it/s]\n",
      "Loading checkpoint shards: 100%|██████████| 4/4 [00:01<00:00,  3.17it/s]\n",
      "Loading checkpoint shards: 100%|██████████| 4/4 [00:01<00:00,  3.14it/s]\n",
      "Loading checkpoint shards: 100%|██████████| 4/4 [00:01<00:00,  3.10it/s]\n",
      "Loading checkpoint shards: 100%|██████████| 4/4 [00:01<00:00,  3.14it/s]\n",
      "Loading checkpoint shards: 100%|██████████| 4/4 [00:01<00:00,  3.16it/s]\n",
      "Loading checkpoint shards: 100%|██████████| 4/4 [00:01<00:00,  3.20it/s]\n",
      "Loading checkpoint shards: 100%|██████████| 4/4 [00:01<00:00,  3.23it/s]\n",
      "Loading checkpoint shards: 100%|██████████| 4/4 [00:01<00:00,  3.24it/s]\n",
      "Loading checkpoint shards: 100%|██████████| 4/4 [00:01<00:00,  3.14it/s]\n",
      "Loading checkpoint shards: 100%|██████████| 4/4 [00:01<00:00,  3.15it/s]\n",
      "Loading checkpoint shards: 100%|██████████| 4/4 [00:01<00:00,  3.15it/s]\n",
      "Loading checkpoint shards: 100%|██████████| 4/4 [00:01<00:00,  3.17it/s]\n",
      "Loading checkpoint shards: 100%|██████████| 4/4 [00:01<00:00,  3.12it/s]\n",
      "Loading checkpoint shards: 100%|██████████| 4/4 [00:01<00:00,  3.17it/s]\n",
      "Loading checkpoint shards: 100%|██████████| 4/4 [00:01<00:00,  3.22it/s]\n",
      "Loading checkpoint shards: 100%|██████████| 4/4 [00:01<00:00,  3.24it/s]\n",
      "Loading checkpoint shards: 100%|██████████| 4/4 [00:01<00:00,  3.18it/s]\n",
      "BetaShap Iterations: 100%|██████████| 5/5 [01:30<00:00, 18.00s/it]\n"
     ]
    },
    {
     "name": "stdout",
     "output_type": "stream",
     "text": [
      "Beta-Shapley made 19 unique LLM calls.\n",
      "Method 'betashap' finished in 95.05s.\n",
      "BetaShap (U-shaped) Values: [5.1041 0.1326 2.7947 0.1765 2.7262]\n",
      "\n",
      "--- Computing Beta-Shapley (Uniform, equivalent to standard MC) ---\n",
      "Starting Beta-Shapley (n=5, T=5, α=1.0, β=1.0)...\n"
     ]
    },
    {
     "name": "stderr",
     "output_type": "stream",
     "text": [
      "Loading checkpoint shards: 100%|██████████| 4/4 [00:01<00:00,  3.09it/s]\n",
      "Loading checkpoint shards: 100%|██████████| 4/4 [00:01<00:00,  3.24it/s]\n",
      "Loading checkpoint shards: 100%|██████████| 4/4 [00:01<00:00,  3.17it/s]\n",
      "Loading checkpoint shards: 100%|██████████| 4/4 [00:01<00:00,  3.15it/s]\n",
      "Loading checkpoint shards: 100%|██████████| 4/4 [00:01<00:00,  3.14it/s]\n",
      "Loading checkpoint shards: 100%|██████████| 4/4 [00:01<00:00,  3.10it/s]\n",
      "Loading checkpoint shards: 100%|██████████| 4/4 [00:01<00:00,  3.21it/s]\n",
      "Loading checkpoint shards: 100%|██████████| 4/4 [00:01<00:00,  3.08it/s]\n",
      "Loading checkpoint shards: 100%|██████████| 4/4 [00:01<00:00,  3.25it/s]\n",
      "Loading checkpoint shards: 100%|██████████| 4/4 [00:01<00:00,  3.18it/s]\n",
      "Loading checkpoint shards: 100%|██████████| 4/4 [00:01<00:00,  3.22it/s]\n",
      "Loading checkpoint shards: 100%|██████████| 4/4 [00:01<00:00,  3.18it/s]\n",
      "Loading checkpoint shards: 100%|██████████| 4/4 [00:01<00:00,  3.24it/s]\n",
      "Loading checkpoint shards: 100%|██████████| 4/4 [00:01<00:00,  3.25it/s]\n",
      "Loading checkpoint shards: 100%|██████████| 4/4 [00:01<00:00,  3.17it/s]\n",
      "Loading checkpoint shards: 100%|██████████| 4/4 [00:01<00:00,  3.13it/s]\n",
      "BetaShap Iterations: 100%|██████████| 5/5 [01:14<00:00, 14.91s/it]\n"
     ]
    },
    {
     "name": "stdout",
     "output_type": "stream",
     "text": [
      "Beta-Shapley made 16 unique LLM calls.\n",
      "Method 'betashap' finished in 80.13s.\n",
      "BetaShap (Uniform) Values: [ 1.5119  0.2666  4.6781 -0.7403  3.5093]\n",
      "\n",
      "--- Computing Leave-One-Out (LOO) ---\n",
      "Starting Leave-One-Out (LOO) computation (n=5)...\n",
      "  Calculating utility of full set V(N)...\n"
     ]
    },
    {
     "name": "stderr",
     "output_type": "stream",
     "text": [
      "Loading checkpoint shards: 100%|██████████| 4/4 [00:01<00:00,  3.11it/s]\n"
     ]
    },
    {
     "name": "stdout",
     "output_type": "stream",
     "text": [
      "  Calculating utility V(N-i) for 5 items...\n"
     ]
    },
    {
     "name": "stderr",
     "output_type": "stream",
     "text": [
      "Loading checkpoint shards: 100%|██████████| 4/4 [00:01<00:00,  3.17it/s]\n",
      "Loading checkpoint shards: 100%|██████████| 4/4 [00:01<00:00,  3.25it/s]\n",
      "Loading checkpoint shards: 100%|██████████| 4/4 [00:01<00:00,  3.16it/s]\n",
      "Loading checkpoint shards: 100%|██████████| 4/4 [00:01<00:00,  3.18it/s]\n",
      "Loading checkpoint shards: 100%|██████████| 4/4 [00:01<00:00,  3.17it/s]\n",
      "                                                        \r"
     ]
    },
    {
     "name": "stdout",
     "output_type": "stream",
     "text": [
      "LOO computation made 6 unique LLM calls.\n",
      "Method 'loo' finished in 28.87s.\n",
      "LOO Values: [-1.1096 -1.7544 -2.4805  0.1765  0.0977]\n",
      "\n",
      "--- Computing Exact Shapley ---\n",
      "Starting Exact Shapley (n=5, 32 LLM calls)...\n"
     ]
    },
    {
     "name": "stderr",
     "output_type": "stream",
     "text": [
      "Loading checkpoint shards: 100%|██████████| 4/4 [00:01<00:00,  3.17it/s]\n",
      "Loading checkpoint shards: 100%|██████████| 4/4 [00:01<00:00,  3.25it/s]\n",
      "Loading checkpoint shards: 100%|██████████| 4/4 [00:01<00:00,  3.17it/s]\n",
      "Loading checkpoint shards: 100%|██████████| 4/4 [00:01<00:00,  3.12it/s]\n",
      "Loading checkpoint shards: 100%|██████████| 4/4 [00:01<00:00,  3.13it/s]\n",
      "Loading checkpoint shards: 100%|██████████| 4/4 [00:01<00:00,  3.15it/s]\n",
      "Loading checkpoint shards: 100%|██████████| 4/4 [00:01<00:00,  3.14it/s]\n",
      "Loading checkpoint shards: 100%|██████████| 4/4 [00:01<00:00,  3.12it/s]\n",
      "Loading checkpoint shards: 100%|██████████| 4/4 [00:01<00:00,  2.63it/s]\n",
      "Loading checkpoint shards: 100%|██████████| 4/4 [00:01<00:00,  2.77it/s]\n",
      "Loading checkpoint shards: 100%|██████████| 4/4 [00:01<00:00,  2.88it/s]\n",
      "Loading checkpoint shards: 100%|██████████| 4/4 [00:01<00:00,  2.85it/s]\n",
      "Loading checkpoint shards: 100%|██████████| 4/4 [00:01<00:00,  2.85it/s]\n",
      "Loading checkpoint shards: 100%|██████████| 4/4 [00:01<00:00,  2.87it/s]\n",
      "Loading checkpoint shards: 100%|██████████| 4/4 [00:01<00:00,  2.89it/s]\n",
      "Loading checkpoint shards: 100%|██████████| 4/4 [00:01<00:00,  3.11it/s]\n",
      "Loading checkpoint shards: 100%|██████████| 4/4 [00:01<00:00,  3.23it/s]\n",
      "Loading checkpoint shards: 100%|██████████| 4/4 [00:01<00:00,  3.17it/s]\n",
      "Loading checkpoint shards: 100%|██████████| 4/4 [00:01<00:00,  3.19it/s]\n",
      "Loading checkpoint shards: 100%|██████████| 4/4 [00:01<00:00,  3.26it/s]\n",
      "Loading checkpoint shards: 100%|██████████| 4/4 [00:01<00:00,  3.26it/s]\n",
      "Loading checkpoint shards: 100%|██████████| 4/4 [00:01<00:00,  3.18it/s]\n",
      "Loading checkpoint shards: 100%|██████████| 4/4 [00:01<00:00,  3.18it/s]\n",
      "Loading checkpoint shards: 100%|██████████| 4/4 [00:01<00:00,  3.18it/s]\n",
      "Loading checkpoint shards: 100%|██████████| 4/4 [00:01<00:00,  3.23it/s]\n",
      "Loading checkpoint shards: 100%|██████████| 4/4 [00:01<00:00,  3.22it/s]\n",
      "Loading checkpoint shards: 100%|██████████| 4/4 [00:01<00:00,  3.17it/s]\n",
      "Loading checkpoint shards: 100%|██████████| 4/4 [00:01<00:00,  3.20it/s]\n",
      "Loading checkpoint shards: 100%|██████████| 4/4 [00:01<00:00,  3.12it/s]\n",
      "Loading checkpoint shards: 100%|██████████| 4/4 [00:01<00:00,  3.19it/s]\n",
      "Loading checkpoint shards: 100%|██████████| 4/4 [00:01<00:00,  3.22it/s]\n",
      "Loading checkpoint shards: 100%|██████████| 4/4 [00:01<00:00,  3.16it/s]\n",
      "Exact LLM Calls: 100%|██████████| 32/32 [02:39<00:00,  4.98s/it]\n",
      "                                                                    "
     ]
    },
    {
     "name": "stdout",
     "output_type": "stream",
     "text": [
      "Method 'exact' finished in 159.52s.\n",
      "Exact Values: [ 3.7975  0.8453  2.0478 -0.7774  3.3123]\n",
      "\n",
      "MAE WSS vs Exact: 1.1269\n",
      "MAE TMC vs Exact: 2.0753\n",
      "MAE BetaShap (U) vs Exact: 0.8612\n",
      "MAE BetaShap (Uni) vs Exact: 1.1457\n",
      "\n",
      "MAE LOO vs Exact: 3.2407\n"
     ]
    },
    {
     "name": "stderr",
     "output_type": "stream",
     "text": [
      "\r"
     ]
    }
   ],
   "source": [
    "\n",
    "\n",
    "attributor = ShapleyAttributor(\n",
    "        items=documents,\n",
    "        query=query,\n",
    "        target_response=target_response,\n",
    "        llm_caller=compute_logprob # Use your actual llm_caller\n",
    "    )\n",
    "\n",
    "print(\"\\n--- Computing ContextCite (Surrogate Weights) ---\")\n",
    "cc_weights = attributor.compute(method_name=\"contextcite\", num_samples=16, lasso_alpha=0.01)\n",
    "if cc_weights is not None: print(\"ContextCite Weights:\", np.round(cc_weights, 4))\n",
    "\n",
    "print(\"\\n--- Computing Weakly Supervised Shapley (WSS) ---\")\n",
    "wss_values, wss_surrogate_weights = attributor.compute(method_name=\"wss\", num_samples=16, lasso_alpha=0.01, return_weights=True)\n",
    "if wss_values is not None:\n",
    "    print(\"WSS Values:\", np.round(wss_values, 4))\n",
    "    print(\"WSS Surrogate Weights:\", np.round(wss_surrogate_weights, 4))\n",
    "\n",
    "print(\"\\n--- Computing TMC-Shapley ---\")\n",
    "tmc_values = attributor.compute(method_name=\"tmc\") # 5*n iterations\n",
    "if tmc_values is not None: print(\"TMC Values:\", np.round(tmc_values, 4))\n",
    "\n",
    "if beta_dist: # Only if scipy is available\n",
    "    print(\"\\n--- Computing Beta-Shapley (U-shaped, more weight to ends) ---\")\n",
    "    # For U-shaped, alpha and beta < 1\n",
    "    beta_u_values = attributor.compute(method_name=\"betashap\", num_iterations=attributor.n_items, beta_a=0.5, beta_b=0.5)\n",
    "    if beta_u_values is not None: print(\"BetaShap (U-shaped) Values:\", np.round(beta_u_values, 4))\n",
    "\n",
    "    print(\"\\n--- Computing Beta-Shapley (Uniform, equivalent to standard MC) ---\")\n",
    "    beta_uniform_values = attributor.compute(method_name=\"betashap\", num_iterations=attributor.n_items, beta_a=1.0, beta_b=1.0)\n",
    "    if beta_uniform_values is not None: print(\"BetaShap (Uniform) Values:\", np.round(beta_uniform_values, 4))\n",
    "print(\"\\n--- Computing Leave-One-Out (LOO) ---\")\n",
    "loo_values = attributor.compute(method_name=\"loo\") \n",
    "if loo_values is not None: \n",
    "    print(\"LOO Values:\", np.round(loo_values, 4))\n",
    "\n",
    "print(\"\\n--- Computing Exact Shapley ---\")\n",
    "exact_values = attributor.compute(method_name=\"exact\", exact_confirm=False) # Disable confirm for n=5 demo\n",
    "if exact_values is not None: print(\"Exact Values:\", np.round(exact_values, 4))\n",
    "\n",
    "if exact_values is not None:\n",
    "    if wss_values is not None:\n",
    "        mae_wss = np.mean(np.abs(exact_values - wss_values))\n",
    "        print(f\"\\nMAE WSS vs Exact: {mae_wss:.4f}\")\n",
    "    if tmc_values is not None:\n",
    "        mae_tmc = np.mean(np.abs(exact_values - tmc_values))\n",
    "        print(f\"MAE TMC vs Exact: {mae_tmc:.4f}\")\n",
    "    if beta_dist and beta_u_values is not None:\n",
    "        mae_beta_u = np.mean(np.abs(exact_values - beta_u_values))\n",
    "        print(f\"MAE BetaShap (U) vs Exact: {mae_beta_u:.4f}\")\n",
    "    if beta_dist and beta_uniform_values is not None:\n",
    "        mae_beta_uni = np.mean(np.abs(exact_values - beta_uniform_values))\n",
    "        print(f\"MAE BetaShap (Uni) vs Exact: {mae_beta_uni:.4f}\")\n",
    "    # Compare LOO to Exact if available\n",
    "    if exact_values is not None and loo_values is not None:\n",
    "        mae_loo = np.mean(np.abs(exact_values - loo_values))\n",
    "        print(f\"\\nMAE LOO vs Exact: {mae_loo:.4f}\")\n"
   ]
  },
  {
   "cell_type": "code",
   "execution_count": null,
   "metadata": {},
   "outputs": [],
   "source": []
  },
  {
   "cell_type": "code",
   "execution_count": null,
   "metadata": {},
   "outputs": [],
   "source": []
  },
  {
   "cell_type": "code",
   "execution_count": null,
   "metadata": {},
   "outputs": [],
   "source": [
    "from scipy.stats import spearmanr, pearsonr\n",
    "correlation, p_value = spearmanr(exact_values, wss_values)\n",
    "print(f\"Spearman Correlation: {correlation:.4f}\")"
   ]
  },
  {
   "cell_type": "code",
   "execution_count": null,
   "metadata": {},
   "outputs": [],
   "source": []
  },
  {
   "cell_type": "code",
   "execution_count": null,
   "metadata": {},
   "outputs": [],
   "source": [
    "logp, p, model_out, token_probs = compute_logprob(\n",
    "    query=\"What is the capital of Kazakhstan?\",\n",
    "    ground_truth_answer=\"Paris\",\n",
    "    return_token_probs=True\n",
    ")\n",
    "\n",
    "print(\"Log probability:\", logp)\n",
    "print(\"Total probability:\", p)\n",
    "print(\"Model generated:\", model_out)"
   ]
  }
 ],
 "metadata": {
  "kernelspec": {
   "display_name": "Python 3",
   "language": "python",
   "name": "python3"
  },
  "language_info": {
   "codemirror_mode": {
    "name": "ipython",
    "version": 3
   },
   "file_extension": ".py",
   "mimetype": "text/x-python",
   "name": "python",
   "nbconvert_exporter": "python",
   "pygments_lexer": "ipython3",
   "version": "3.10.12"
  }
 },
 "nbformat": 4,
 "nbformat_minor": 2
}
