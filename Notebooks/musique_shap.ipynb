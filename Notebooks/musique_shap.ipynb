{
 "cells": [
  {
   "cell_type": "code",
   "execution_count": 1,
   "metadata": {},
   "outputs": [
    {
     "name": "stderr",
     "output_type": "stream",
     "text": [
      "/usr/local/lib/python3.10/dist-packages/tqdm/auto.py:21: TqdmWarning: IProgress not found. Please update jupyter and ipywidgets. See https://ipywidgets.readthedocs.io/en/stable/user_install.html\n",
      "  from .autonotebook import tqdm as notebook_tqdm\n",
      "[nltk_data] Downloading package punkt to /root/nltk_data...\n",
      "[nltk_data]   Package punkt is already up-to-date!\n"
     ]
    }
   ],
   "source": [
    "import sys\n",
    "import os\n",
    "import random\n",
    "import gc\n",
    "import time\n",
    "import torch\n",
    "import numpy as np\n",
    "import pandas as pd\n",
    "import ast\n",
    "from tqdm import tqdm\n",
    "from scipy.sparse import csr_matrix\n",
    "import itertools\n",
    "from scipy.stats import spearmanr, pearsonr, kendalltau, rankdata\n",
    "from sklearn.metrics import ndcg_score\n",
    "from transformers import AutoModelForCausalLM, AutoTokenizer\n",
    "from accelerate import Accelerator\n",
    "import nltk\n",
    "nltk.download('punkt')\n",
    "os.environ[\"CUDA_VISIBLE_DEVICES\"] = \"2\" \n",
    "current_dir = os.getcwd()\n",
    "parent_dir = os.path.abspath(os.path.join(current_dir, '..'))\n",
    "sys.path.append(parent_dir)\n",
    "from SHapRAG import *"
   ]
  },
  {
   "cell_type": "code",
   "execution_count": 2,
   "metadata": {},
   "outputs": [],
   "source": [
    "df=pd.read_json(\"../data/musique/musique_ans_v1.0_train.jsonl\", lines=True)"
   ]
  },
  {
   "cell_type": "code",
   "execution_count": 3,
   "metadata": {},
   "outputs": [],
   "source": [
    "def get_titles(lst):\n",
    "    # Titles where is_supporting is True\n",
    "    supporting = [d['paragraph_text'] for d in lst if d.get('is_supporting') == True]\n",
    "    # Titles where is_supporting is False or missing AND not already in supporting\n",
    "    others = [d['paragraph_text'] for d in lst if d.get('is_supporting') != True and d['paragraph_text'] not in supporting]\n",
    "    # Combine: all supporting + as many others as needed to reach 10\n",
    "    result = supporting + others\n",
    "    return result[:10]\n",
    "\n",
    "df.paragraphs=df.paragraphs.apply(get_titles)"
   ]
  },
  {
   "cell_type": "code",
   "execution_count": 4,
   "metadata": {},
   "outputs": [],
   "source": [
    "df['Sentences'] = df['paragraphs'].apply(\n",
    "    lambda para_list: [sent for para in para_list for sent in nltk.sent_tokenize(para)]\n",
    ")"
   ]
  },
  {
   "cell_type": "code",
   "execution_count": null,
   "metadata": {},
   "outputs": [],
   "source": [
    "df.Sentences[24]"
   ]
  },
  {
   "cell_type": "code",
   "execution_count": null,
   "metadata": {},
   "outputs": [],
   "source": [
    "df_save=df_save.drop(columns=['id', 'question_decomposition','paragraphs', 'answer_aliases', 'answerable' ])"
   ]
  },
  {
   "cell_type": "code",
   "execution_count": null,
   "metadata": {},
   "outputs": [],
   "source": [
    "df_save.to_csv()'../data/musique/sen_labeled.csv'"
   ]
  },
  {
   "cell_type": "code",
   "execution_count": null,
   "metadata": {},
   "outputs": [],
   "source": [
    "df_save=pd.read_csv('../data/musique/sen_labeled.csv')"
   ]
  },
  {
   "cell_type": "code",
   "execution_count": null,
   "metadata": {},
   "outputs": [],
   "source": [
    "# df[\"paragraphs\"] = df[\"paragraphs\"].apply(lambda p: p[:5]+ [p[1]] + p[5:])"
   ]
  },
  {
   "cell_type": "code",
   "execution_count": 5,
   "metadata": {},
   "outputs": [
    {
     "name": "stderr",
     "output_type": "stream",
     "text": [
      "Detected kernel version 5.4.0, which is below the recommended minimum of 5.5.0; this can cause the process to hang. It is recommended to upgrade the kernel to the minimum version or higher.\n"
     ]
    },
    {
     "name": "stdout",
     "output_type": "stream",
     "text": [
      "Main Script: Loading model...\n"
     ]
    },
    {
     "name": "stderr",
     "output_type": "stream",
     "text": [
      "Loading checkpoint shards: 100%|██████████| 4/4 [00:01<00:00,  2.58it/s]\n"
     ]
    },
    {
     "name": "stdout",
     "output_type": "stream",
     "text": [
      "Main Script: Preparing model with Accelerator...\n",
      "Main Script: Model prepared and set to eval.\n"
     ]
    }
   ],
   "source": [
    "SEED = 42\n",
    "# Initialize Accelerator\n",
    "accelerator_main = Accelerator(mixed_precision=\"fp16\")\n",
    "\n",
    "# Load Model\n",
    "if accelerator_main.is_main_process:\n",
    "    print(\"Main Script: Loading model...\")\n",
    "# model_path = \"mistralai/Mistral-7B-Instruct-v0.3\"\n",
    "model_path = \"meta-llama/Llama-3.1-8B-Instruct\"\n",
    "# model_path = \"Qwen/Qwen2.5-3B-Instruct\"\n",
    "\n",
    "model_cpu = AutoModelForCausalLM.from_pretrained(\n",
    "    model_path,\n",
    "    torch_dtype=torch.float16\n",
    ")\n",
    "tokenizer = AutoTokenizer.from_pretrained(model_path)\n",
    "if tokenizer.pad_token is None:\n",
    "    tokenizer.pad_token = tokenizer.eos_token\n",
    "    model_cpu.config.pad_token_id = tokenizer.pad_token_id\n",
    "    if hasattr(model_cpu, 'generation_config') and model_cpu.generation_config is not None:\n",
    "        model_cpu.generation_config.pad_token_id = tokenizer.pad_token_id\n",
    "\n",
    "if accelerator_main.is_main_process:\n",
    "    print(\"Main Script: Preparing model with Accelerator...\")\n",
    "prepared_model = accelerator_main.prepare(model_cpu)\n",
    "unwrapped_prepared_model = accelerator_main.unwrap_model(prepared_model)\n",
    "unwrapped_prepared_model.eval()\n",
    "if accelerator_main.is_main_process:\n",
    "    print(\"Main Script: Model prepared and set to eval.\")\n",
    "\n",
    "# Define utility cache\n",
    "\n",
    "accelerator_main.wait_for_everyone()"
   ]
  },
  {
   "cell_type": "code",
   "execution_count": 8,
   "metadata": {},
   "outputs": [
    {
     "name": "stderr",
     "output_type": "stream",
     "text": [
      "  0%|          | 0/50 [00:00<?, ?it/s]"
     ]
    },
    {
     "name": "stdout",
     "output_type": "stream",
     "text": [
      "\n",
      "--- Question 1/50: When was the institute that owned The Collegian founded?... ---\n",
      "Main Process: Attempting to load utility cache from ../Experiment_data/musique/Llama-3.1-8B-Instruct/sentence/utilities_q_idx0.pkl...\n",
      "Successfully loaded 992 cached utility entries.\n",
      "Response: Houston Baptist University was founded in 1960.\n",
      "GT: 1960\n"
     ]
    },
    {
     "name": "stderr",
     "output_type": "stream",
     "text": [
      "Computing utilities for ContextCite: 100%|██████████| 364/364 [00:00<00:00, 230797.68it/s]\n",
      "0it [00:00, ?it/s]\n",
      "0it [00:00, ?it/s]\n",
      "0it [00:00, ?it/s]\n",
      "0it [00:00, ?it/s]\n",
      "Computing utilities for WSS (kernelshap): 100%|██████████| 298/298 [00:00<00:00, 190243.93it/s]\n",
      "Computing utilities for WSS (kernelshap): 100%|██████████| 298/298 [00:00<00:00, 215463.30it/s]\n",
      "LOO Calls (logit-prob): 100%|██████████| 25/25 [00:00<00:00, 83819.02it/s]\n",
      "LOO Calls (divergence_utility): 100%|██████████| 25/25 [00:00<00:00, 102700.88it/s]\n",
      "  2%|▏         | 1/50 [00:18<15:22, 18.82s/it]"
     ]
    },
    {
     "name": "stdout",
     "output_type": "stream",
     "text": [
      "Main Process: Saving 992 utility entries to ../Experiment_data/musique/Llama-3.1-8B-Instruct/sentence/utilities_q_idx0.pkl...\n",
      "Save complete.\n",
      "\n",
      "--- Question 2/50: What year saw the creation of the region where the county of... ---\n",
      "Main Process: Attempting to load utility cache from ../Experiment_data/musique/Llama-3.1-8B-Instruct/sentence/utilities_q_idx1.pkl...\n",
      "Successfully loaded 1026 cached utility entries.\n",
      "Response: 1994.\n",
      "GT: 1994\n"
     ]
    },
    {
     "name": "stderr",
     "output_type": "stream",
     "text": [
      "Computing utilities for ContextCite: 100%|██████████| 364/364 [00:00<00:00, 302861.86it/s]\n",
      "0it [00:00, ?it/s]\n",
      "0it [00:00, ?it/s]\n",
      "0it [00:00, ?it/s]\n",
      "0it [00:00, ?it/s]\n",
      "Computing utilities for WSS (kernelshap): 100%|██████████| 319/319 [00:00<00:00, 244872.43it/s]\n",
      "Computing utilities for WSS (kernelshap): 100%|██████████| 319/319 [00:00<00:00, 271011.34it/s]\n",
      "LOO Calls (logit-prob): 100%|██████████| 36/36 [00:00<00:00, 110619.01it/s]\n",
      "LOO Calls (divergence_utility): 100%|██████████| 36/36 [00:00<00:00, 115175.40it/s]\n",
      "  4%|▍         | 2/50 [00:45<18:57, 23.69s/it]"
     ]
    },
    {
     "name": "stdout",
     "output_type": "stream",
     "text": [
      "Main Process: Saving 1026 utility entries to ../Experiment_data/musique/Llama-3.1-8B-Instruct/sentence/utilities_q_idx1.pkl...\n",
      "Save complete.\n",
      "\n",
      "--- Question 3/50: When was the abolishment of the studio that distributed The ... ---\n",
      "Main Process: Attempting to load utility cache from ../Experiment_data/musique/Llama-3.1-8B-Instruct/sentence/utilities_q_idx2.pkl...\n",
      "Successfully loaded 1026 cached utility entries.\n",
      "Response: 1999.\n",
      "GT: 1999\n"
     ]
    },
    {
     "name": "stderr",
     "output_type": "stream",
     "text": [
      "Computing utilities for ContextCite: 100%|██████████| 364/364 [00:00<00:00, 294734.88it/s]\n",
      "0it [00:00, ?it/s]\n",
      "0it [00:00, ?it/s]\n",
      "0it [00:00, ?it/s]\n",
      "0it [00:00, ?it/s]\n",
      "Computing utilities for WSS (kernelshap): 100%|██████████| 319/319 [00:00<00:00, 227664.28it/s]\n",
      "Computing utilities for WSS (kernelshap): 100%|██████████| 319/319 [00:00<00:00, 266902.65it/s]\n",
      "LOO Calls (logit-prob): 100%|██████████| 36/36 [00:00<00:00, 113274.53it/s]\n",
      "LOO Calls (divergence_utility): 100%|██████████| 36/36 [00:00<00:00, 56807.73it/s]\n",
      "  6%|▌         | 3/50 [01:13<19:58, 25.51s/it]"
     ]
    },
    {
     "name": "stdout",
     "output_type": "stream",
     "text": [
      "Main Process: Saving 1026 utility entries to ../Experiment_data/musique/Llama-3.1-8B-Instruct/sentence/utilities_q_idx2.pkl...\n",
      "Save complete.\n",
      "\n",
      "--- Question 4/50: When was the publisher of Crux launched?... ---\n",
      "Main Process: Attempting to load utility cache from ../Experiment_data/musique/Llama-3.1-8B-Instruct/sentence/utilities_q_idx3.pkl...\n",
      "Successfully loaded 1010 cached utility entries.\n",
      "Response: May 2001.\n",
      "GT: 1998\n"
     ]
    },
    {
     "name": "stderr",
     "output_type": "stream",
     "text": [
      "Computing utilities for ContextCite: 100%|██████████| 364/364 [00:00<00:00, 305895.94it/s]\n",
      "0it [00:00, ?it/s]\n",
      "0it [00:00, ?it/s]\n",
      "0it [00:00, ?it/s]\n",
      "0it [00:00, ?it/s]\n",
      "Computing utilities for WSS (kernelshap): 100%|██████████| 310/310 [00:00<00:00, 268144.82it/s]\n",
      "Computing utilities for WSS (kernelshap): 100%|██████████| 310/310 [00:00<00:00, 315820.80it/s]\n",
      "LOO Calls (logit-prob): 100%|██████████| 28/28 [00:00<00:00, 110897.56it/s]\n",
      "LOO Calls (divergence_utility): 100%|██████████| 28/28 [00:00<00:00, 130634.61it/s]\n",
      "  8%|▊         | 4/50 [01:34<18:02, 23.54s/it]"
     ]
    },
    {
     "name": "stdout",
     "output_type": "stream",
     "text": [
      "Main Process: Saving 1010 utility entries to ../Experiment_data/musique/Llama-3.1-8B-Instruct/sentence/utilities_q_idx3.pkl...\n",
      "Save complete.\n",
      "\n",
      "--- Question 5/50: Jan Šindel's was born in what country?... ---\n",
      "Main Process: Attempting to load utility cache from ../Experiment_data/musique/Llama-3.1-8B-Instruct/sentence/utilities_q_idx4.pkl...\n",
      "Successfully loaded 1025 cached utility entries.\n",
      "Response: Czech Republic.\n",
      "GT: Czech Republic\n"
     ]
    },
    {
     "name": "stderr",
     "output_type": "stream",
     "text": [
      "Computing utilities for ContextCite: 100%|██████████| 364/364 [00:00<00:00, 301010.78it/s]\n",
      "0it [00:00, ?it/s]\n",
      "0it [00:00, ?it/s]\n",
      "0it [00:00, ?it/s]\n",
      "0it [00:00, ?it/s]\n",
      "Computing utilities for WSS (kernelshap): 100%|██████████| 317/317 [00:00<00:00, 232853.65it/s]\n",
      "Computing utilities for WSS (kernelshap): 100%|██████████| 317/317 [00:00<00:00, 156736.34it/s]\n",
      "LOO Calls (logit-prob): 100%|██████████| 33/33 [00:00<00:00, 89877.94it/s]\n",
      "LOO Calls (divergence_utility): 100%|██████████| 33/33 [00:00<00:00, 109503.19it/s]\n",
      " 10%|█         | 5/50 [01:58<18:00, 24.02s/it]"
     ]
    },
    {
     "name": "stdout",
     "output_type": "stream",
     "text": [
      "Main Process: Saving 1025 utility entries to ../Experiment_data/musique/Llama-3.1-8B-Instruct/sentence/utilities_q_idx4.pkl...\n",
      "Save complete.\n",
      "\n",
      "--- Question 6/50: What city is the person who broadened the doctrine of philos... ---\n",
      "Main Process: Attempting to load utility cache from ../Experiment_data/musique/Llama-3.1-8B-Instruct/sentence/utilities_q_idx5.pkl...\n",
      "Successfully loaded 1024 cached utility entries.\n",
      "Response: Copenhagen.\n",
      "GT: Copenhagen\n"
     ]
    },
    {
     "name": "stderr",
     "output_type": "stream",
     "text": [
      "Computing utilities for ContextCite: 100%|██████████| 364/364 [00:00<00:00, 276480.74it/s]\n",
      "0it [00:00, ?it/s]\n",
      "0it [00:00, ?it/s]\n",
      "0it [00:00, ?it/s]\n",
      "0it [00:00, ?it/s]\n",
      "Computing utilities for WSS (kernelshap): 100%|██████████| 319/319 [00:00<00:00, 269482.98it/s]\n",
      "Computing utilities for WSS (kernelshap): 100%|██████████| 319/319 [00:00<00:00, 284737.81it/s]\n",
      "LOO Calls (logit-prob): 100%|██████████| 36/36 [00:00<00:00, 112766.95it/s]\n",
      "LOO Calls (divergence_utility): 100%|██████████| 36/36 [00:00<00:00, 124071.44it/s]\n",
      " 12%|█▏        | 6/50 [02:31<19:43, 26.90s/it]"
     ]
    },
    {
     "name": "stdout",
     "output_type": "stream",
     "text": [
      "Main Process: Saving 1024 utility entries to ../Experiment_data/musique/Llama-3.1-8B-Instruct/sentence/utilities_q_idx5.pkl...\n",
      "Save complete.\n",
      "\n",
      "--- Question 7/50: When was the baseball team winning the world series in 2015 ... ---\n",
      "Main Process: Attempting to load utility cache from ../Experiment_data/musique/Llama-3.1-8B-Instruct/sentence/utilities_q_idx6.pkl...\n",
      "Successfully loaded 1034 cached utility entries.\n",
      "Response: The Kansas City Royals were founded in 1969.\n",
      "GT: 1969\n"
     ]
    },
    {
     "name": "stderr",
     "output_type": "stream",
     "text": [
      "Computing utilities for ContextCite: 100%|██████████| 364/364 [00:00<00:00, 241379.71it/s]\n",
      "0it [00:00, ?it/s]\n",
      "0it [00:00, ?it/s]\n",
      "0it [00:00, ?it/s]\n",
      "0it [00:00, ?it/s]\n",
      "Computing utilities for WSS (kernelshap): 100%|██████████| 328/328 [00:00<00:00, 185734.00it/s]\n",
      "Computing utilities for WSS (kernelshap): 100%|██████████| 328/328 [00:00<00:00, 196673.58it/s]\n",
      "LOO Calls (logit-prob): 100%|██████████| 46/46 [00:00<00:00, 95608.52it/s]\n",
      "LOO Calls (divergence_utility): 100%|██████████| 46/46 [00:00<00:00, 101386.22it/s]\n",
      " 14%|█▍        | 7/50 [03:08<21:43, 30.31s/it]"
     ]
    },
    {
     "name": "stdout",
     "output_type": "stream",
     "text": [
      "Main Process: Saving 1034 utility entries to ../Experiment_data/musique/Llama-3.1-8B-Instruct/sentence/utilities_q_idx6.pkl...\n",
      "Save complete.\n",
      "\n",
      "--- Question 8/50: Where did the Baldevins bryllup director die?... ---\n",
      "Main Process: Attempting to load utility cache from ../Experiment_data/musique/Llama-3.1-8B-Instruct/sentence/utilities_q_idx7.pkl...\n",
      "Successfully loaded 1005 cached utility entries.\n",
      "Response: There is no information about the director's death in the provided context.\n",
      "GT: Copenhagen\n"
     ]
    },
    {
     "name": "stderr",
     "output_type": "stream",
     "text": [
      "Computing utilities for ContextCite: 100%|██████████| 364/364 [00:00<00:00, 328752.51it/s]\n",
      "0it [00:00, ?it/s]\n",
      "0it [00:00, ?it/s]\n",
      "0it [00:00, ?it/s]\n",
      "0it [00:00, ?it/s]\n",
      "Computing utilities for WSS (kernelshap): 100%|██████████| 306/306 [00:00<00:00, 312885.67it/s]\n",
      "Computing utilities for WSS (kernelshap): 100%|██████████| 306/306 [00:00<00:00, 333885.80it/s]\n",
      "LOO Calls (logit-prob): 100%|██████████| 27/27 [00:00<00:00, 92977.18it/s]\n",
      "LOO Calls (divergence_utility): 100%|██████████| 27/27 [00:00<00:00, 125133.93it/s]\n",
      " 16%|█▌        | 8/50 [03:30<19:17, 27.55s/it]"
     ]
    },
    {
     "name": "stdout",
     "output_type": "stream",
     "text": [
      "Main Process: Saving 1005 utility entries to ../Experiment_data/musique/Llama-3.1-8B-Instruct/sentence/utilities_q_idx7.pkl...\n",
      "Save complete.\n",
      "\n",
      "--- Question 9/50: Who was thee first president of the association that wrote t... ---\n",
      "Main Process: Attempting to load utility cache from ../Experiment_data/musique/Llama-3.1-8B-Instruct/sentence/utilities_q_idx8.pkl...\n",
      "Successfully loaded 1039 cached utility entries.\n",
      "Response: G. Stanley Hall.\n",
      "GT: G. Stanley Hall\n"
     ]
    },
    {
     "name": "stderr",
     "output_type": "stream",
     "text": [
      "Computing utilities for ContextCite: 100%|██████████| 364/364 [00:00<00:00, 244471.84it/s]\n",
      "0it [00:00, ?it/s]\n",
      "0it [00:00, ?it/s]\n",
      "0it [00:00, ?it/s]\n",
      "0it [00:00, ?it/s]\n",
      "Computing utilities for WSS (kernelshap): 100%|██████████| 327/327 [00:00<00:00, 240199.20it/s]\n",
      "Computing utilities for WSS (kernelshap): 100%|██████████| 327/327 [00:00<00:00, 263706.48it/s]\n",
      "LOO Calls (logit-prob): 100%|██████████| 43/43 [00:00<00:00, 116058.60it/s]\n",
      "LOO Calls (divergence_utility): 100%|██████████| 43/43 [00:00<00:00, 122274.63it/s]\n",
      " 18%|█▊        | 9/50 [04:07<20:45, 30.39s/it]"
     ]
    },
    {
     "name": "stdout",
     "output_type": "stream",
     "text": [
      "Main Process: Saving 1039 utility entries to ../Experiment_data/musique/Llama-3.1-8B-Instruct/sentence/utilities_q_idx8.pkl...\n",
      "Save complete.\n",
      "\n",
      "--- Question 10/50: Which major Russian city borders the body of water in which ... ---\n",
      "Main Process: Attempting to load utility cache from ../Experiment_data/musique/Llama-3.1-8B-Instruct/sentence/utilities_q_idx9.pkl...\n",
      "Successfully loaded 1023 cached utility entries.\n",
      "Response: Saint Petersburg.\n",
      "GT: Saint Petersburg\n"
     ]
    },
    {
     "name": "stderr",
     "output_type": "stream",
     "text": [
      "Computing utilities for ContextCite: 100%|██████████| 364/364 [00:00<00:00, 270169.29it/s]\n",
      "0it [00:00, ?it/s]\n",
      "0it [00:00, ?it/s]\n",
      "0it [00:00, ?it/s]\n",
      "0it [00:00, ?it/s]\n",
      "Computing utilities for WSS (kernelshap): 100%|██████████| 316/316 [00:00<00:00, 216852.10it/s]\n",
      "Computing utilities for WSS (kernelshap): 100%|██████████| 316/316 [00:00<00:00, 280329.96it/s]\n",
      "LOO Calls (logit-prob): 100%|██████████| 37/37 [00:00<00:00, 114700.11it/s]\n",
      "LOO Calls (divergence_utility): 100%|██████████| 37/37 [00:00<00:00, 112537.53it/s]\n",
      " 20%|██        | 10/50 [04:33<19:24, 29.11s/it]"
     ]
    },
    {
     "name": "stdout",
     "output_type": "stream",
     "text": [
      "Main Process: Saving 1023 utility entries to ../Experiment_data/musique/Llama-3.1-8B-Instruct/sentence/utilities_q_idx9.pkl...\n",
      "Save complete.\n",
      "\n",
      "--- Question 11/50: When was the employer of John J. Collins established?... ---\n",
      "Main Process: Attempting to load utility cache from ../Experiment_data/musique/Llama-3.1-8B-Instruct/sentence/utilities_q_idx10.pkl...\n",
      "Successfully loaded 1027 cached utility entries.\n",
      "Response: Yale Divinity School.\n",
      "GT: 1822\n"
     ]
    },
    {
     "name": "stderr",
     "output_type": "stream",
     "text": [
      "Computing utilities for ContextCite: 100%|██████████| 364/364 [00:00<00:00, 279773.99it/s]\n",
      "0it [00:00, ?it/s]\n",
      "0it [00:00, ?it/s]\n",
      "0it [00:00, ?it/s]\n",
      "0it [00:00, ?it/s]\n",
      "Computing utilities for WSS (kernelshap): 100%|██████████| 318/318 [00:00<00:00, 219156.86it/s]\n",
      "Computing utilities for WSS (kernelshap): 100%|██████████| 318/318 [00:00<00:00, 261578.48it/s]\n",
      "LOO Calls (logit-prob): 100%|██████████| 38/38 [00:00<00:00, 94198.32it/s]\n",
      "LOO Calls (divergence_utility): 100%|██████████| 38/38 [00:00<00:00, 44187.29it/s]\n",
      " 22%|██▏       | 11/50 [05:06<19:47, 30.44s/it]"
     ]
    },
    {
     "name": "stdout",
     "output_type": "stream",
     "text": [
      "Main Process: Saving 1027 utility entries to ../Experiment_data/musique/Llama-3.1-8B-Instruct/sentence/utilities_q_idx10.pkl...\n",
      "Save complete.\n",
      "\n",
      "--- Question 12/50: When did Bush declare the war causing Kerry to criticize him... ---\n",
      "Main Process: Attempting to load utility cache from ../Experiment_data/musique/Llama-3.1-8B-Instruct/sentence/utilities_q_idx11.pkl...\n",
      "Successfully loaded 1094 cached utility entries.\n",
      "Response: The text does not explicitly state when Bush declared the war. However, it mentions that Bush relied on the resolution Kerry voted for in October 2002 to order the 2003 invasion of Iraq.\n",
      "GT: 2003\n"
     ]
    },
    {
     "name": "stderr",
     "output_type": "stream",
     "text": [
      "Computing utilities for ContextCite: 100%|██████████| 364/364 [00:00<00:00, 209111.99it/s]\n",
      "0it [00:00, ?it/s]\n",
      "0it [00:00, ?it/s]\n",
      "0it [00:00, ?it/s]\n",
      "0it [00:00, ?it/s]\n",
      "Computing utilities for WSS (kernelshap): 100%|██████████| 332/332 [00:00<00:00, 202017.83it/s]\n",
      "Computing utilities for WSS (kernelshap): 100%|██████████| 332/332 [00:00<00:00, 226240.28it/s]\n",
      "LOO Calls (logit-prob): 100%|██████████| 55/55 [00:00<00:00, 99605.66it/s]\n",
      "LOO Calls (divergence_utility): 100%|██████████| 55/55 [00:00<00:00, 107898.37it/s]\n",
      " 24%|██▍       | 12/50 [05:56<23:05, 36.46s/it]"
     ]
    },
    {
     "name": "stdout",
     "output_type": "stream",
     "text": [
      "Main Process: Saving 1094 utility entries to ../Experiment_data/musique/Llama-3.1-8B-Instruct/sentence/utilities_q_idx11.pkl...\n",
      "Save complete.\n",
      "\n",
      "--- Question 13/50: What is the college Francis Walsingham attended an instance ... ---\n",
      "Main Process: Attempting to load utility cache from ../Experiment_data/musique/Llama-3.1-8B-Instruct/sentence/utilities_q_idx12.pkl...\n",
      "Successfully loaded 1008 cached utility entries.\n",
      "Response: King's College.\n",
      "GT: college of the University of Cambridge\n"
     ]
    },
    {
     "name": "stderr",
     "output_type": "stream",
     "text": [
      "Computing utilities for ContextCite: 100%|██████████| 364/364 [00:00<00:00, 314659.24it/s]\n",
      "0it [00:00, ?it/s]\n",
      "0it [00:00, ?it/s]\n",
      "0it [00:00, ?it/s]\n",
      "0it [00:00, ?it/s]\n",
      "Computing utilities for WSS (kernelshap): 100%|██████████| 313/313 [00:00<00:00, 296079.65it/s]\n",
      "Computing utilities for WSS (kernelshap): 100%|██████████| 313/313 [00:00<00:00, 310946.74it/s]\n",
      "LOO Calls (logit-prob): 100%|██████████| 29/29 [00:00<00:00, 110076.76it/s]\n",
      "LOO Calls (divergence_utility): 100%|██████████| 29/29 [00:00<00:00, 112833.78it/s]\n",
      " 26%|██▌       | 13/50 [06:20<19:59, 32.41s/it]"
     ]
    },
    {
     "name": "stdout",
     "output_type": "stream",
     "text": [
      "Main Process: Saving 1008 utility entries to ../Experiment_data/musique/Llama-3.1-8B-Instruct/sentence/utilities_q_idx12.pkl...\n",
      "Save complete.\n",
      "\n",
      "--- Question 14/50: What type of university is the college Kyeon Mi-ri attended?... ---\n",
      "Main Process: Attempting to load utility cache from ../Experiment_data/musique/Llama-3.1-8B-Instruct/sentence/utilities_q_idx13.pkl...\n",
      "Successfully loaded 1009 cached utility entries.\n",
      "Response: Sejong University.\n",
      "GT: private university\n"
     ]
    },
    {
     "name": "stderr",
     "output_type": "stream",
     "text": [
      "Computing utilities for ContextCite: 100%|██████████| 364/364 [00:00<00:00, 350729.76it/s]\n",
      "0it [00:00, ?it/s]\n",
      "0it [00:00, ?it/s]\n",
      "0it [00:00, ?it/s]\n",
      "0it [00:00, ?it/s]\n",
      "Computing utilities for WSS (kernelshap): 100%|██████████| 313/313 [00:00<00:00, 302911.20it/s]\n",
      "Computing utilities for WSS (kernelshap): 100%|██████████| 313/313 [00:00<00:00, 323672.87it/s]\n",
      "LOO Calls (logit-prob): 100%|██████████| 29/29 [00:00<00:00, 122123.31it/s]\n",
      "LOO Calls (divergence_utility): 100%|██████████| 29/29 [00:00<00:00, 115403.05it/s]\n",
      " 28%|██▊       | 14/50 [06:40<17:18, 28.86s/it]"
     ]
    },
    {
     "name": "stdout",
     "output_type": "stream",
     "text": [
      "Main Process: Saving 1009 utility entries to ../Experiment_data/musique/Llama-3.1-8B-Instruct/sentence/utilities_q_idx13.pkl...\n",
      "Save complete.\n",
      "\n",
      "--- Question 15/50: In what year was the author of The Insider's Guide to the Co... ---\n",
      "Main Process: Attempting to load utility cache from ../Experiment_data/musique/Llama-3.1-8B-Instruct/sentence/utilities_q_idx14.pkl...\n",
      "Successfully loaded 1028 cached utility entries.\n",
      "Response: The text does not mention the author of The Insider's Guide to the Colleges.\n",
      "GT: 1878\n"
     ]
    },
    {
     "name": "stderr",
     "output_type": "stream",
     "text": [
      "Computing utilities for ContextCite: 100%|██████████| 364/364 [00:00<00:00, 290362.62it/s]\n",
      "0it [00:00, ?it/s]\n",
      "0it [00:00, ?it/s]\n",
      "0it [00:00, ?it/s]\n",
      "0it [00:00, ?it/s]\n",
      "Computing utilities for WSS (kernelshap): 100%|██████████| 319/319 [00:00<00:00, 234281.73it/s]\n",
      "Computing utilities for WSS (kernelshap): 100%|██████████| 319/319 [00:00<00:00, 270245.00it/s]\n",
      "LOO Calls (logit-prob): 100%|██████████| 36/36 [00:00<00:00, 107930.62it/s]\n",
      "LOO Calls (divergence_utility): 100%|██████████| 36/36 [00:00<00:00, 115527.88it/s]\n",
      " 30%|███       | 15/50 [07:06<16:17, 27.93s/it]"
     ]
    },
    {
     "name": "stdout",
     "output_type": "stream",
     "text": [
      "Main Process: Saving 1028 utility entries to ../Experiment_data/musique/Llama-3.1-8B-Instruct/sentence/utilities_q_idx14.pkl...\n",
      "Save complete.\n",
      "\n",
      "--- Question 16/50: When was the territory covered by RIBA's Cambridge branch of... ---\n",
      "Main Process: Attempting to load utility cache from ../Experiment_data/musique/Llama-3.1-8B-Instruct/sentence/utilities_q_idx15.pkl...\n",
      "Successfully loaded 1019 cached utility entries.\n",
      "Response: 1966.\n",
      "GT: 1994\n"
     ]
    },
    {
     "name": "stderr",
     "output_type": "stream",
     "text": [
      "Computing utilities for ContextCite: 100%|██████████| 364/364 [00:00<00:00, 298830.82it/s]\n",
      "0it [00:00, ?it/s]\n",
      "0it [00:00, ?it/s]\n",
      "0it [00:00, ?it/s]\n",
      "0it [00:00, ?it/s]\n",
      "Computing utilities for WSS (kernelshap): 100%|██████████| 312/312 [00:00<00:00, 287672.64it/s]\n",
      "Computing utilities for WSS (kernelshap): 100%|██████████| 312/312 [00:00<00:00, 304685.18it/s]\n",
      "LOO Calls (logit-prob): 100%|██████████| 31/31 [00:00<00:00, 113260.82it/s]\n",
      "LOO Calls (divergence_utility): 100%|██████████| 31/31 [00:00<00:00, 110846.91it/s]\n",
      " 32%|███▏      | 16/50 [07:28<14:50, 26.19s/it]"
     ]
    },
    {
     "name": "stdout",
     "output_type": "stream",
     "text": [
      "Main Process: Saving 1019 utility entries to ../Experiment_data/musique/Llama-3.1-8B-Instruct/sentence/utilities_q_idx15.pkl...\n",
      "Save complete.\n",
      "\n",
      "--- Question 17/50: What's the meaning of the name of the school that does not i... ---\n",
      "Main Process: Attempting to load utility cache from ../Experiment_data/musique/Llama-3.1-8B-Instruct/sentence/utilities_q_idx16.pkl...\n",
      "Successfully loaded 1029 cached utility entries.\n",
      "Response: Theravada.\n",
      "GT: The School of the Elders\n"
     ]
    },
    {
     "name": "stderr",
     "output_type": "stream",
     "text": [
      "Computing utilities for ContextCite: 100%|██████████| 364/364 [00:00<00:00, 247363.36it/s]\n",
      "0it [00:00, ?it/s]\n",
      "0it [00:00, ?it/s]\n",
      "0it [00:00, ?it/s]\n",
      "0it [00:00, ?it/s]\n",
      "Computing utilities for WSS (kernelshap): 100%|██████████| 319/319 [00:00<00:00, 235105.07it/s]\n",
      "Computing utilities for WSS (kernelshap): 100%|██████████| 319/319 [00:00<00:00, 266530.47it/s]\n",
      "LOO Calls (logit-prob): 100%|██████████| 36/36 [00:00<00:00, 107699.67it/s]\n",
      "LOO Calls (divergence_utility): 100%|██████████| 36/36 [00:00<00:00, 109814.50it/s]\n",
      " 34%|███▍      | 17/50 [08:12<17:15, 31.37s/it]"
     ]
    },
    {
     "name": "stdout",
     "output_type": "stream",
     "text": [
      "Main Process: Saving 1029 utility entries to ../Experiment_data/musique/Llama-3.1-8B-Instruct/sentence/utilities_q_idx16.pkl...\n",
      "Save complete.\n",
      "\n",
      "--- Question 18/50: Where did the director who provided the lyrics to A Time for... ---\n",
      "Main Process: Attempting to load utility cache from ../Experiment_data/musique/Llama-3.1-8B-Instruct/sentence/utilities_q_idx17.pkl...\n",
      "Successfully loaded 1049 cached utility entries.\n",
      "Response: University College London.\n",
      "GT: Northwestern's School of Communication\n"
     ]
    },
    {
     "name": "stderr",
     "output_type": "stream",
     "text": [
      "Computing utilities for ContextCite: 100%|██████████| 364/364 [00:00<00:00, 227090.09it/s]\n",
      "0it [00:00, ?it/s]\n",
      "0it [00:00, ?it/s]\n",
      "0it [00:00, ?it/s]\n",
      "0it [00:00, ?it/s]\n",
      "Computing utilities for WSS (kernelshap): 100%|██████████| 334/334 [00:00<00:00, 188571.48it/s]\n",
      "Computing utilities for WSS (kernelshap): 100%|██████████| 334/334 [00:00<00:00, 226976.27it/s]\n",
      "LOO Calls (logit-prob): 100%|██████████| 49/49 [00:00<00:00, 97035.36it/s]\n",
      "LOO Calls (divergence_utility): 100%|██████████| 49/49 [00:00<00:00, 108111.99it/s]\n",
      " 36%|███▌      | 18/50 [08:53<18:22, 34.46s/it]"
     ]
    },
    {
     "name": "stdout",
     "output_type": "stream",
     "text": [
      "Main Process: Saving 1049 utility entries to ../Experiment_data/musique/Llama-3.1-8B-Instruct/sentence/utilities_q_idx17.pkl...\n",
      "Save complete.\n",
      "\n",
      "--- Question 19/50: When did the country formerly known as Zaire become independ... ---\n",
      "Main Process: Attempting to load utility cache from ../Experiment_data/musique/Llama-3.1-8B-Instruct/sentence/utilities_q_idx18.pkl...\n",
      "Successfully loaded 1038 cached utility entries.\n",
      "Response: 1960.\n",
      "GT: 1960\n"
     ]
    },
    {
     "name": "stderr",
     "output_type": "stream",
     "text": [
      "Computing utilities for ContextCite: 100%|██████████| 364/364 [00:00<00:00, 247003.18it/s]\n",
      "0it [00:00, ?it/s]\n",
      "0it [00:00, ?it/s]\n",
      "0it [00:00, ?it/s]\n",
      "0it [00:00, ?it/s]\n",
      "Computing utilities for WSS (kernelshap): 100%|██████████| 322/322 [00:00<00:00, 175352.62it/s]\n",
      "Computing utilities for WSS (kernelshap): 100%|██████████| 322/322 [00:00<00:00, 205503.03it/s]\n",
      "LOO Calls (logit-prob): 100%|██████████| 42/42 [00:00<00:00, 109963.03it/s]\n",
      "LOO Calls (divergence_utility): 100%|██████████| 42/42 [00:00<00:00, 50045.67it/s]\n",
      " 38%|███▊      | 19/50 [09:27<17:45, 34.37s/it]"
     ]
    },
    {
     "name": "stdout",
     "output_type": "stream",
     "text": [
      "Main Process: Saving 1038 utility entries to ../Experiment_data/musique/Llama-3.1-8B-Instruct/sentence/utilities_q_idx18.pkl...\n",
      "Save complete.\n",
      "\n",
      "--- Question 20/50: Where did Peter and Paul Fortress' designer die?... ---\n",
      "Main Process: Attempting to load utility cache from ../Experiment_data/musique/Llama-3.1-8B-Instruct/sentence/utilities_q_idx19.pkl...\n",
      "Successfully loaded 1016 cached utility entries.\n",
      "Response: Domenico Trezzini's death location is not mentioned in the provided context.\n",
      "GT: Saint Petersburg\n"
     ]
    },
    {
     "name": "stderr",
     "output_type": "stream",
     "text": [
      "Computing utilities for ContextCite: 100%|██████████| 364/364 [00:00<00:00, 314076.66it/s]\n",
      "0it [00:00, ?it/s]\n",
      "0it [00:00, ?it/s]\n",
      "0it [00:00, ?it/s]\n",
      "0it [00:00, ?it/s]\n",
      "Computing utilities for WSS (kernelshap): 100%|██████████| 313/313 [00:00<00:00, 306017.98it/s]\n",
      "Computing utilities for WSS (kernelshap): 100%|██████████| 313/313 [00:00<00:00, 262301.13it/s]\n",
      "LOO Calls (logit-prob): 100%|██████████| 29/29 [00:00<00:00, 102732.11it/s]\n",
      "LOO Calls (divergence_utility): 100%|██████████| 29/29 [00:00<00:00, 111285.28it/s]\n",
      " 40%|████      | 20/50 [09:52<15:45, 31.53s/it]"
     ]
    },
    {
     "name": "stdout",
     "output_type": "stream",
     "text": [
      "Main Process: Saving 1016 utility entries to ../Experiment_data/musique/Llama-3.1-8B-Instruct/sentence/utilities_q_idx19.pkl...\n",
      "Save complete.\n",
      "\n",
      "--- Question 21/50: When did the network which airs Alt for Norge start?... ---\n",
      "Main Process: Attempting to load utility cache from ../Experiment_data/musique/Llama-3.1-8B-Instruct/sentence/utilities_q_idx20.pkl...\n",
      "Successfully loaded 1017 cached utility entries.\n",
      "Response: 5 December 1988.\n",
      "GT: 1988\n"
     ]
    },
    {
     "name": "stderr",
     "output_type": "stream",
     "text": [
      "Computing utilities for ContextCite: 100%|██████████| 364/364 [00:00<00:00, 299299.48it/s]\n",
      "0it [00:00, ?it/s]\n",
      "0it [00:00, ?it/s]\n",
      "0it [00:00, ?it/s]\n",
      "0it [00:00, ?it/s]\n",
      "Computing utilities for WSS (kernelshap): 100%|██████████| 312/312 [00:00<00:00, 283681.52it/s]\n",
      "Computing utilities for WSS (kernelshap): 100%|██████████| 312/312 [00:00<00:00, 256794.12it/s]\n",
      "LOO Calls (logit-prob): 100%|██████████| 31/31 [00:00<00:00, 99558.52it/s]\n",
      "LOO Calls (divergence_utility): 100%|██████████| 31/31 [00:00<00:00, 124068.15it/s]\n",
      " 42%|████▏     | 21/50 [10:18<14:21, 29.70s/it]"
     ]
    },
    {
     "name": "stdout",
     "output_type": "stream",
     "text": [
      "Main Process: Saving 1017 utility entries to ../Experiment_data/musique/Llama-3.1-8B-Instruct/sentence/utilities_q_idx20.pkl...\n",
      "Save complete.\n",
      "\n",
      "--- Question 22/50: Who failed to take back what the French believed instrumenta... ---\n",
      "Main Process: Attempting to load utility cache from ../Experiment_data/musique/Llama-3.1-8B-Instruct/sentence/utilities_q_idx21.pkl...\n",
      "Successfully loaded 1018 cached utility entries.\n",
      "Response: The Russians failed to retake the Malakoff.\n",
      "GT: the Russian defences\n"
     ]
    },
    {
     "name": "stderr",
     "output_type": "stream",
     "text": [
      "Computing utilities for ContextCite: 100%|██████████| 364/364 [00:00<00:00, 276180.65it/s]\n",
      "0it [00:00, ?it/s]\n",
      "0it [00:00, ?it/s]\n",
      "0it [00:00, ?it/s]\n",
      "0it [00:00, ?it/s]\n",
      "Computing utilities for WSS (kernelshap): 100%|██████████| 316/316 [00:00<00:00, 157860.89it/s]\n",
      "Computing utilities for WSS (kernelshap): 100%|██████████| 316/316 [00:00<00:00, 273503.93it/s]\n",
      "LOO Calls (logit-prob): 100%|██████████| 37/37 [00:00<00:00, 51557.89it/s]\n",
      "LOO Calls (divergence_utility): 100%|██████████| 37/37 [00:00<00:00, 116421.04it/s]\n",
      " 44%|████▍     | 22/50 [10:50<14:11, 30.42s/it]"
     ]
    },
    {
     "name": "stdout",
     "output_type": "stream",
     "text": [
      "Main Process: Saving 1018 utility entries to ../Experiment_data/musique/Llama-3.1-8B-Instruct/sentence/utilities_q_idx21.pkl...\n",
      "Save complete.\n",
      "\n",
      "--- Question 23/50: What is the field of work of the proposer of the modern synt... ---\n",
      "Main Process: Attempting to load utility cache from ../Experiment_data/musique/Llama-3.1-8B-Instruct/sentence/utilities_q_idx22.pkl...\n",
      "Successfully loaded 1044 cached utility entries.\n",
      "Response: Evolutionary biology.\n",
      "GT: bio\n"
     ]
    },
    {
     "name": "stderr",
     "output_type": "stream",
     "text": [
      "Computing utilities for ContextCite: 100%|██████████| 364/364 [00:00<00:00, 236555.11it/s]\n",
      "0it [00:00, ?it/s]\n",
      "0it [00:00, ?it/s]\n",
      "0it [00:00, ?it/s]\n",
      "0it [00:00, ?it/s]\n",
      "Computing utilities for WSS (kernelshap): 100%|██████████| 329/329 [00:00<00:00, 239487.33it/s]\n",
      "Computing utilities for WSS (kernelshap): 100%|██████████| 329/329 [00:00<00:00, 280643.89it/s]\n",
      "LOO Calls (logit-prob): 100%|██████████| 45/45 [00:00<00:00, 92295.20it/s]\n",
      "LOO Calls (divergence_utility): 100%|██████████| 45/45 [00:00<00:00, 99130.08it/s]\n",
      " 46%|████▌     | 23/50 [11:29<14:51, 33.00s/it]"
     ]
    },
    {
     "name": "stdout",
     "output_type": "stream",
     "text": [
      "Main Process: Saving 1044 utility entries to ../Experiment_data/musique/Llama-3.1-8B-Instruct/sentence/utilities_q_idx22.pkl...\n",
      "Save complete.\n",
      "\n",
      "--- Question 24/50: When was the season of Greys Anatomy when Derek died filmed?... ---\n",
      "Main Process: Attempting to load utility cache from ../Experiment_data/musique/Llama-3.1-8B-Instruct/sentence/utilities_q_idx23.pkl...\n",
      "Successfully loaded 1044 cached utility entries.\n",
      "Response: July 25, 2014.\n",
      "GT: filming for the eleventh season would begin on July 25, 2014\n"
     ]
    },
    {
     "name": "stderr",
     "output_type": "stream",
     "text": [
      "Computing utilities for ContextCite: 100%|██████████| 364/364 [00:00<00:00, 237511.93it/s]\n",
      "0it [00:00, ?it/s]\n",
      "0it [00:00, ?it/s]\n",
      "0it [00:00, ?it/s]\n",
      "0it [00:00, ?it/s]\n",
      "Computing utilities for WSS (kernelshap): 100%|██████████| 327/327 [00:00<00:00, 232463.97it/s]\n",
      "Computing utilities for WSS (kernelshap): 100%|██████████| 327/327 [00:00<00:00, 244219.62it/s]\n",
      "LOO Calls (logit-prob): 100%|██████████| 44/44 [00:00<00:00, 88640.43it/s]\n",
      "LOO Calls (divergence_utility): 100%|██████████| 44/44 [00:00<00:00, 101400.76it/s]\n",
      " 48%|████▊     | 24/50 [12:06<14:47, 34.15s/it]"
     ]
    },
    {
     "name": "stdout",
     "output_type": "stream",
     "text": [
      "Main Process: Saving 1044 utility entries to ../Experiment_data/musique/Llama-3.1-8B-Instruct/sentence/utilities_q_idx23.pkl...\n",
      "Save complete.\n",
      "\n",
      "--- Question 25/50: When did the manufacturer of a pedometer accessory for the i... ---\n",
      "Main Process: Attempting to load utility cache from ../Experiment_data/musique/Llama-3.1-8B-Instruct/sentence/utilities_q_idx24.pkl...\n",
      "Successfully loaded 1037 cached utility entries.\n",
      "Response: The text does not mention when the manufacturer of the Nike+iPod pedometer became a publicly traded company.\n",
      "GT: 1980\n"
     ]
    },
    {
     "name": "stderr",
     "output_type": "stream",
     "text": [
      "Computing utilities for ContextCite: 100%|██████████| 364/364 [00:00<00:00, 258723.38it/s]\n",
      "0it [00:00, ?it/s]\n",
      "0it [00:00, ?it/s]\n",
      "0it [00:00, ?it/s]\n",
      "0it [00:00, ?it/s]\n",
      "Computing utilities for WSS (kernelshap): 100%|██████████| 325/325 [00:00<00:00, 244598.74it/s]\n",
      "Computing utilities for WSS (kernelshap): 100%|██████████| 325/325 [00:00<00:00, 263105.35it/s]\n",
      "LOO Calls (logit-prob): 100%|██████████| 40/40 [00:00<00:00, 108379.95it/s]\n",
      "LOO Calls (divergence_utility): 100%|██████████| 40/40 [00:00<00:00, 122461.43it/s]\n",
      " 50%|█████     | 25/50 [12:35<13:39, 32.78s/it]"
     ]
    },
    {
     "name": "stdout",
     "output_type": "stream",
     "text": [
      "Main Process: Saving 1037 utility entries to ../Experiment_data/musique/Llama-3.1-8B-Instruct/sentence/utilities_q_idx24.pkl...\n",
      "Save complete.\n",
      "\n",
      "--- Question 26/50: What is the record label for the person who sang Beauty and ... ---\n",
      "Main Process: Attempting to load utility cache from ../Experiment_data/musique/Llama-3.1-8B-Instruct/sentence/utilities_q_idx25.pkl...\n",
      "Successfully loaded 1114 cached utility entries.\n",
      "Response: Peabo Bryson.\n",
      "GT: Capitol Records\n"
     ]
    },
    {
     "name": "stderr",
     "output_type": "stream",
     "text": [
      "Computing utilities for ContextCite: 100%|██████████| 364/364 [00:00<00:00, 188554.61it/s]\n",
      "0it [00:00, ?it/s]\n",
      "0it [00:00, ?it/s]\n",
      "0it [00:00, ?it/s]\n",
      "0it [00:00, ?it/s]\n",
      "Computing utilities for WSS (kernelshap): 100%|██████████| 333/333 [00:00<00:00, 175377.10it/s]\n",
      "Computing utilities for WSS (kernelshap): 100%|██████████| 333/333 [00:00<00:00, 192781.67it/s]\n",
      "LOO Calls (logit-prob): 100%|██████████| 65/65 [00:00<00:00, 108574.18it/s]\n",
      "LOO Calls (divergence_utility): 100%|██████████| 65/65 [00:00<00:00, 91058.70it/s]\n",
      " 52%|█████▏    | 26/50 [13:33<16:06, 40.25s/it]"
     ]
    },
    {
     "name": "stdout",
     "output_type": "stream",
     "text": [
      "Main Process: Saving 1114 utility entries to ../Experiment_data/musique/Llama-3.1-8B-Instruct/sentence/utilities_q_idx25.pkl...\n",
      "Save complete.\n",
      "\n",
      "--- Question 27/50: Who is the employer of the Iranian scientist who co-invented... ---\n",
      "Main Process: Attempting to load utility cache from ../Experiment_data/musique/Llama-3.1-8B-Instruct/sentence/utilities_q_idx26.pkl...\n",
      "Successfully loaded 1039 cached utility entries.\n",
      "Response: MIT.\n",
      "GT: M.I.T.\n"
     ]
    },
    {
     "name": "stderr",
     "output_type": "stream",
     "text": [
      "Computing utilities for ContextCite: 100%|██████████| 364/364 [00:00<00:00, 248976.95it/s]\n",
      "0it [00:00, ?it/s]\n",
      "0it [00:00, ?it/s]\n",
      "0it [00:00, ?it/s]\n",
      "0it [00:00, ?it/s]\n",
      "Computing utilities for WSS (kernelshap): 100%|██████████| 327/327 [00:00<00:00, 214738.91it/s]\n",
      "Computing utilities for WSS (kernelshap): 100%|██████████| 327/327 [00:00<00:00, 210616.92it/s]\n",
      "LOO Calls (logit-prob): 100%|██████████| 43/43 [00:00<00:00, 110647.28it/s]\n",
      "LOO Calls (divergence_utility): 100%|██████████| 43/43 [00:00<00:00, 110241.49it/s]\n",
      " 54%|█████▍    | 27/50 [14:05<14:26, 37.67s/it]"
     ]
    },
    {
     "name": "stdout",
     "output_type": "stream",
     "text": [
      "Main Process: Saving 1039 utility entries to ../Experiment_data/musique/Llama-3.1-8B-Instruct/sentence/utilities_q_idx26.pkl...\n",
      "Save complete.\n",
      "\n",
      "--- Question 28/50: How many championships in a row were won by the person who p... ---\n",
      "Main Process: Attempting to load utility cache from ../Experiment_data/musique/Llama-3.1-8B-Instruct/sentence/utilities_q_idx27.pkl...\n",
      "Successfully loaded 1099 cached utility entries.\n",
      "Response: 8 consecutive championships from 1959 to 1966.\n",
      "GT: eight\n"
     ]
    },
    {
     "name": "stderr",
     "output_type": "stream",
     "text": [
      "Computing utilities for ContextCite: 100%|██████████| 364/364 [00:00<00:00, 207802.73it/s]\n",
      "0it [00:00, ?it/s]\n",
      "0it [00:00, ?it/s]\n",
      "0it [00:00, ?it/s]\n",
      "0it [00:00, ?it/s]\n",
      "Computing utilities for WSS (kernelshap): 100%|██████████| 332/332 [00:00<00:00, 165992.24it/s]\n",
      "Computing utilities for WSS (kernelshap): 100%|██████████| 332/332 [00:00<00:00, 122536.86it/s]\n",
      "LOO Calls (logit-prob): 100%|██████████| 55/55 [00:00<00:00, 26598.26it/s]\n",
      "LOO Calls (divergence_utility): 100%|██████████| 55/55 [00:00<00:00, 30013.88it/s]\n",
      " 56%|█████▌    | 28/50 [14:45<14:05, 38.45s/it]"
     ]
    },
    {
     "name": "stdout",
     "output_type": "stream",
     "text": [
      "Main Process: Saving 1099 utility entries to ../Experiment_data/musique/Llama-3.1-8B-Instruct/sentence/utilities_q_idx27.pkl...\n",
      "Save complete.\n",
      "\n",
      "--- Question 29/50: In what language is the star of Koyelaanchal fluent?... ---\n",
      "Main Process: Attempting to load utility cache from ../Experiment_data/musique/Llama-3.1-8B-Instruct/sentence/utilities_q_idx28.pkl...\n",
      "Successfully loaded 1043 cached utility entries.\n",
      "Response: Hindi.\n",
      "GT: Hindi\n"
     ]
    },
    {
     "name": "stderr",
     "output_type": "stream",
     "text": [
      "Computing utilities for ContextCite: 100%|██████████| 364/364 [00:00<00:00, 237364.22it/s]\n",
      "0it [00:00, ?it/s]\n",
      "0it [00:00, ?it/s]\n",
      "0it [00:00, ?it/s]\n",
      "0it [00:00, ?it/s]\n",
      "Computing utilities for WSS (kernelshap): 100%|██████████| 327/327 [00:00<00:00, 221788.07it/s]\n",
      "Computing utilities for WSS (kernelshap): 100%|██████████| 327/327 [00:00<00:00, 195347.87it/s]\n",
      "LOO Calls (logit-prob): 100%|██████████| 44/44 [00:00<00:00, 100956.99it/s]\n",
      "LOO Calls (divergence_utility): 100%|██████████| 44/44 [00:00<00:00, 117323.19it/s]\n",
      " 58%|█████▊    | 29/50 [15:13<12:22, 35.34s/it]"
     ]
    },
    {
     "name": "stdout",
     "output_type": "stream",
     "text": [
      "Main Process: Saving 1043 utility entries to ../Experiment_data/musique/Llama-3.1-8B-Instruct/sentence/utilities_q_idx28.pkl...\n",
      "Save complete.\n",
      "\n",
      "--- Question 30/50: What instrument did the artiste for Vi skall fara bortom mån... ---\n",
      "Main Process: Attempting to load utility cache from ../Experiment_data/musique/Llama-3.1-8B-Instruct/sentence/utilities_q_idx29.pkl...\n",
      "Successfully loaded 995 cached utility entries.\n",
      "Response: Guitar.\n",
      "GT: violin\n"
     ]
    },
    {
     "name": "stderr",
     "output_type": "stream",
     "text": [
      "Computing utilities for ContextCite: 100%|██████████| 364/364 [00:00<00:00, 345491.44it/s]\n",
      "0it [00:00, ?it/s]\n",
      "0it [00:00, ?it/s]\n",
      "0it [00:00, ?it/s]\n",
      "0it [00:00, ?it/s]\n",
      "Computing utilities for WSS (kernelshap): 100%|██████████| 298/298 [00:00<00:00, 275490.98it/s]\n",
      "Computing utilities for WSS (kernelshap): 100%|██████████| 298/298 [00:00<00:00, 332597.82it/s]\n",
      "LOO Calls (logit-prob): 100%|██████████| 25/25 [00:00<00:00, 119291.92it/s]\n",
      "LOO Calls (divergence_utility): 100%|██████████| 25/25 [00:00<00:00, 126792.74it/s]\n",
      " 60%|██████    | 30/50 [15:31<10:02, 30.13s/it]"
     ]
    },
    {
     "name": "stdout",
     "output_type": "stream",
     "text": [
      "Main Process: Saving 995 utility entries to ../Experiment_data/musique/Llama-3.1-8B-Instruct/sentence/utilities_q_idx29.pkl...\n",
      "Save complete.\n",
      "\n",
      "--- Question 31/50: What year did the council which was seated in 1949 adopt the... ---\n",
      "Main Process: Attempting to load utility cache from ../Experiment_data/musique/Llama-3.1-8B-Instruct/sentence/utilities_q_idx30.pkl...\n",
      "Successfully loaded 1015 cached utility entries.\n",
      "Response: The year is not specified in the text.\n",
      "GT: 2001\n"
     ]
    },
    {
     "name": "stderr",
     "output_type": "stream",
     "text": [
      "Computing utilities for ContextCite: 100%|██████████| 364/364 [00:00<00:00, 311895.13it/s]\n",
      "0it [00:00, ?it/s]\n",
      "0it [00:00, ?it/s]\n",
      "0it [00:00, ?it/s]\n",
      "0it [00:00, ?it/s]\n",
      "Computing utilities for WSS (kernelshap): 100%|██████████| 308/308 [00:00<00:00, 230275.51it/s]\n",
      "Computing utilities for WSS (kernelshap): 100%|██████████| 308/308 [00:00<00:00, 255861.68it/s]\n",
      "LOO Calls (logit-prob): 100%|██████████| 30/30 [00:00<00:00, 52980.68it/s]\n",
      "LOO Calls (divergence_utility): 100%|██████████| 30/30 [00:00<00:00, 44858.87it/s]\n",
      " 62%|██████▏   | 31/50 [15:56<09:05, 28.71s/it]"
     ]
    },
    {
     "name": "stdout",
     "output_type": "stream",
     "text": [
      "Main Process: Saving 1015 utility entries to ../Experiment_data/musique/Llama-3.1-8B-Instruct/sentence/utilities_q_idx30.pkl...\n",
      "Save complete.\n",
      "\n",
      "--- Question 32/50: When did the author of season 7 of game of thrones begin wri... ---\n",
      "Main Process: Attempting to load utility cache from ../Experiment_data/musique/Llama-3.1-8B-Instruct/sentence/utilities_q_idx31.pkl...\n",
      "Successfully loaded 1052 cached utility entries.\n",
      "Response: By the middle of 2010.\n",
      "GT: 2010\n"
     ]
    },
    {
     "name": "stderr",
     "output_type": "stream",
     "text": [
      "Computing utilities for ContextCite: 100%|██████████| 364/364 [00:00<00:00, 233945.24it/s]\n",
      "0it [00:00, ?it/s]\n",
      "0it [00:00, ?it/s]\n",
      "0it [00:00, ?it/s]\n",
      "0it [00:00, ?it/s]\n",
      "Computing utilities for WSS (kernelshap): 100%|██████████| 329/329 [00:00<00:00, 170109.22it/s]\n",
      "Computing utilities for WSS (kernelshap): 100%|██████████| 329/329 [00:00<00:00, 256539.51it/s]\n",
      "LOO Calls (logit-prob): 100%|██████████| 45/45 [00:00<00:00, 109100.39it/s]\n",
      "LOO Calls (divergence_utility): 100%|██████████| 45/45 [00:00<00:00, 125161.59it/s]\n",
      " 64%|██████▍   | 32/50 [16:39<09:54, 33.04s/it]"
     ]
    },
    {
     "name": "stdout",
     "output_type": "stream",
     "text": [
      "Main Process: Saving 1052 utility entries to ../Experiment_data/musique/Llama-3.1-8B-Instruct/sentence/utilities_q_idx31.pkl...\n",
      "Save complete.\n",
      "\n",
      "--- Question 33/50: What languages are spoken, written or signed by the person t... ---\n",
      "Main Process: Attempting to load utility cache from ../Experiment_data/musique/Llama-3.1-8B-Instruct/sentence/utilities_q_idx32.pkl...\n",
      "Successfully loaded 1049 cached utility entries.\n",
      "Response: German.\n",
      "GT: Italian\n"
     ]
    },
    {
     "name": "stderr",
     "output_type": "stream",
     "text": [
      "Computing utilities for ContextCite: 100%|██████████| 364/364 [00:00<00:00, 216987.87it/s]\n",
      "0it [00:00, ?it/s]\n",
      "0it [00:00, ?it/s]\n",
      "0it [00:00, ?it/s]\n",
      "0it [00:00, ?it/s]\n",
      "Computing utilities for WSS (kernelshap): 100%|██████████| 330/330 [00:00<00:00, 223065.32it/s]\n",
      "Computing utilities for WSS (kernelshap): 100%|██████████| 330/330 [00:00<00:00, 204418.89it/s]\n",
      "LOO Calls (logit-prob): 100%|██████████| 47/47 [00:00<00:00, 94412.02it/s]\n",
      "LOO Calls (divergence_utility): 100%|██████████| 47/47 [00:00<00:00, 100834.93it/s]\n",
      " 66%|██████▌   | 33/50 [17:15<09:32, 33.70s/it]"
     ]
    },
    {
     "name": "stdout",
     "output_type": "stream",
     "text": [
      "Main Process: Saving 1049 utility entries to ../Experiment_data/musique/Llama-3.1-8B-Instruct/sentence/utilities_q_idx32.pkl...\n",
      "Save complete.\n",
      "\n",
      "--- Question 34/50: What language did the leader of the least radicalized factio... ---\n",
      "Main Process: Attempting to load utility cache from ../Experiment_data/musique/Llama-3.1-8B-Instruct/sentence/utilities_q_idx33.pkl...\n",
      "Successfully loaded 1031 cached utility entries.\n",
      "Response: Mandarin.\n",
      "GT: Chinese\n"
     ]
    },
    {
     "name": "stderr",
     "output_type": "stream",
     "text": [
      "Computing utilities for ContextCite: 100%|██████████| 364/364 [00:00<00:00, 253188.50it/s]\n",
      "0it [00:00, ?it/s]\n",
      "0it [00:00, ?it/s]\n",
      "0it [00:00, ?it/s]\n",
      "0it [00:00, ?it/s]\n",
      "Computing utilities for WSS (kernelshap): 100%|██████████| 322/322 [00:00<00:00, 205066.18it/s]\n",
      "Computing utilities for WSS (kernelshap): 100%|██████████| 322/322 [00:00<00:00, 245736.15it/s]\n",
      "LOO Calls (logit-prob): 100%|██████████| 42/42 [00:00<00:00, 71061.22it/s]\n",
      "LOO Calls (divergence_utility): 100%|██████████| 42/42 [00:00<00:00, 113652.11it/s]\n",
      " 68%|██████▊   | 34/50 [17:51<09:11, 34.49s/it]"
     ]
    },
    {
     "name": "stdout",
     "output_type": "stream",
     "text": [
      "Main Process: Saving 1031 utility entries to ../Experiment_data/musique/Llama-3.1-8B-Instruct/sentence/utilities_q_idx33.pkl...\n",
      "Save complete.\n",
      "\n",
      "--- Question 35/50: When did the majority of the patents held by the company the... ---\n",
      "Main Process: Attempting to load utility cache from ../Experiment_data/musique/Llama-3.1-8B-Instruct/sentence/utilities_q_idx34.pkl...\n",
      "Successfully loaded 1004 cached utility entries.\n",
      "Response: The text does not specify the exact date when the majority of the patents held by the Italian patents firm representing Sisvel expired. However, it mentions that the majority of MP3 patents expired in the US between 2007 and 2015.\n",
      "GT: 2015\n"
     ]
    },
    {
     "name": "stderr",
     "output_type": "stream",
     "text": [
      "Computing utilities for ContextCite: 100%|██████████| 364/364 [00:00<00:00, 315830.92it/s]\n",
      "0it [00:00, ?it/s]\n",
      "0it [00:00, ?it/s]\n",
      "0it [00:00, ?it/s]\n",
      "0it [00:00, ?it/s]\n",
      "Computing utilities for WSS (kernelshap): 100%|██████████| 310/310 [00:00<00:00, 296383.46it/s]\n",
      "Computing utilities for WSS (kernelshap): 100%|██████████| 310/310 [00:00<00:00, 316204.82it/s]\n",
      "LOO Calls (logit-prob): 100%|██████████| 28/28 [00:00<00:00, 115024.99it/s]\n",
      "LOO Calls (divergence_utility): 100%|██████████| 28/28 [00:00<00:00, 118626.78it/s]\n",
      "/usr/local/lib/python3.10/dist-packages/scipy/stats/_stats_py.py:5445: ConstantInputWarning: An input array is constant; the correlation coefficient is not defined.\n",
      "  warnings.warn(stats.ConstantInputWarning(warn_msg))\n",
      " 70%|███████   | 35/50 [18:18<08:02, 32.15s/it]"
     ]
    },
    {
     "name": "stdout",
     "output_type": "stream",
     "text": [
      "Main Process: Saving 1004 utility entries to ../Experiment_data/musique/Llama-3.1-8B-Instruct/sentence/utilities_q_idx34.pkl...\n",
      "Save complete.\n",
      "\n",
      "--- Question 36/50: What language is used by the person after whom the Panizzi l... ---\n",
      "Main Process: Attempting to load utility cache from ../Experiment_data/musique/Llama-3.1-8B-Instruct/sentence/utilities_q_idx35.pkl...\n",
      "Successfully loaded 1041 cached utility entries.\n",
      "Response: Italian.\n",
      "GT: Italian\n"
     ]
    },
    {
     "name": "stderr",
     "output_type": "stream",
     "text": [
      "Computing utilities for ContextCite: 100%|██████████| 364/364 [00:00<00:00, 254836.70it/s]\n",
      "0it [00:00, ?it/s]\n",
      "0it [00:00, ?it/s]\n",
      "0it [00:00, ?it/s]\n",
      "0it [00:00, ?it/s]\n",
      "Computing utilities for WSS (kernelshap): 100%|██████████| 330/330 [00:00<00:00, 260319.79it/s]\n",
      "Computing utilities for WSS (kernelshap): 100%|██████████| 330/330 [00:00<00:00, 273325.50it/s]\n",
      "LOO Calls (logit-prob): 100%|██████████| 41/41 [00:00<00:00, 99460.07it/s]\n",
      "LOO Calls (divergence_utility): 100%|██████████| 41/41 [00:00<00:00, 107077.50it/s]\n",
      " 72%|███████▏  | 36/50 [18:44<07:05, 30.41s/it]"
     ]
    },
    {
     "name": "stdout",
     "output_type": "stream",
     "text": [
      "Main Process: Saving 1041 utility entries to ../Experiment_data/musique/Llama-3.1-8B-Instruct/sentence/utilities_q_idx35.pkl...\n",
      "Save complete.\n",
      "\n",
      "--- Question 37/50: What is the language for the person who translated Plato's w... ---\n",
      "Main Process: Attempting to load utility cache from ../Experiment_data/musique/Llama-3.1-8B-Instruct/sentence/utilities_q_idx36.pkl...\n",
      "Successfully loaded 1024 cached utility entries.\n",
      "Response: Latin.\n",
      "GT: Italian\n"
     ]
    },
    {
     "name": "stderr",
     "output_type": "stream",
     "text": [
      "Computing utilities for ContextCite: 100%|██████████| 364/364 [00:00<00:00, 281996.06it/s]\n",
      "0it [00:00, ?it/s]\n",
      "0it [00:00, ?it/s]\n",
      "0it [00:00, ?it/s]\n",
      "0it [00:00, ?it/s]\n",
      "Computing utilities for WSS (kernelshap): 100%|██████████| 317/317 [00:00<00:00, 246815.36it/s]\n",
      "Computing utilities for WSS (kernelshap): 100%|██████████| 317/317 [00:00<00:00, 271069.19it/s]\n",
      "LOO Calls (logit-prob): 100%|██████████| 33/33 [00:00<00:00, 111174.32it/s]\n",
      "LOO Calls (divergence_utility): 100%|██████████| 33/33 [00:00<00:00, 119217.94it/s]\n",
      " 74%|███████▍  | 37/50 [19:10<06:18, 29.09s/it]"
     ]
    },
    {
     "name": "stdout",
     "output_type": "stream",
     "text": [
      "Main Process: Saving 1024 utility entries to ../Experiment_data/musique/Llama-3.1-8B-Instruct/sentence/utilities_q_idx36.pkl...\n",
      "Save complete.\n",
      "\n",
      "--- Question 38/50: What did Goring believe the person whom he refused to work w... ---\n",
      "Main Process: Attempting to load utility cache from ../Experiment_data/musique/Llama-3.1-8B-Instruct/sentence/utilities_q_idx37.pkl...\n",
      "Successfully loaded 1025 cached utility entries.\n",
      "Response: Kriegsmarine would gain control of more Luftwaffe units.\n",
      "GT: control of more Luftwaffe units\n"
     ]
    },
    {
     "name": "stderr",
     "output_type": "stream",
     "text": [
      "Computing utilities for ContextCite: 100%|██████████| 364/364 [00:00<00:00, 269692.04it/s]\n",
      "0it [00:00, ?it/s]\n",
      "0it [00:00, ?it/s]\n",
      "0it [00:00, ?it/s]\n",
      "0it [00:00, ?it/s]\n",
      "Computing utilities for WSS (kernelshap): 100%|██████████| 319/319 [00:00<00:00, 203805.48it/s]\n",
      "Computing utilities for WSS (kernelshap): 100%|██████████| 319/319 [00:00<00:00, 244603.83it/s]\n",
      "LOO Calls (logit-prob): 100%|██████████| 36/36 [00:00<00:00, 108240.10it/s]\n",
      "LOO Calls (divergence_utility): 100%|██████████| 36/36 [00:00<00:00, 112431.08it/s]\n",
      " 76%|███████▌  | 38/50 [19:45<06:09, 30.81s/it]"
     ]
    },
    {
     "name": "stdout",
     "output_type": "stream",
     "text": [
      "Main Process: Saving 1025 utility entries to ../Experiment_data/musique/Llama-3.1-8B-Instruct/sentence/utilities_q_idx37.pkl...\n",
      "Save complete.\n",
      "\n",
      "--- Question 39/50: Who was the president of the body that petitioned the king o... ---\n",
      "Main Process: Attempting to load utility cache from ../Experiment_data/musique/Llama-3.1-8B-Instruct/sentence/utilities_q_idx38.pkl...\n",
      "Successfully loaded 1034 cached utility entries.\n",
      "Response: Continental Congress.\n",
      "GT: President John Hancock\n"
     ]
    },
    {
     "name": "stderr",
     "output_type": "stream",
     "text": [
      "Computing utilities for ContextCite: 100%|██████████| 364/364 [00:00<00:00, 262685.25it/s]\n",
      "0it [00:00, ?it/s]\n",
      "0it [00:00, ?it/s]\n",
      "0it [00:00, ?it/s]\n",
      "0it [00:00, ?it/s]\n",
      "Computing utilities for WSS (kernelshap): 100%|██████████| 325/325 [00:00<00:00, 221398.21it/s]\n",
      "Computing utilities for WSS (kernelshap): 100%|██████████| 325/325 [00:00<00:00, 260441.12it/s]\n",
      "LOO Calls (logit-prob): 100%|██████████| 40/40 [00:00<00:00, 101557.00it/s]\n",
      "LOO Calls (divergence_utility): 100%|██████████| 40/40 [00:00<00:00, 108100.62it/s]\n",
      " 78%|███████▊  | 39/50 [20:19<05:49, 31.73s/it]"
     ]
    },
    {
     "name": "stdout",
     "output_type": "stream",
     "text": [
      "Main Process: Saving 1034 utility entries to ../Experiment_data/musique/Llama-3.1-8B-Instruct/sentence/utilities_q_idx38.pkl...\n",
      "Save complete.\n",
      "\n",
      "--- Question 40/50: What city is the place Kara Vâsıf Bey died located in?... ---\n",
      "Main Process: Attempting to load utility cache from ../Experiment_data/musique/Llama-3.1-8B-Instruct/sentence/utilities_q_idx39.pkl...\n",
      "Successfully loaded 1011 cached utility entries.\n",
      "Response: Kadıköy.\n",
      "GT: Istanbul\n"
     ]
    },
    {
     "name": "stderr",
     "output_type": "stream",
     "text": [
      "Computing utilities for ContextCite: 100%|██████████| 364/364 [00:00<00:00, 322638.77it/s]\n",
      "0it [00:00, ?it/s]\n",
      "0it [00:00, ?it/s]\n",
      "0it [00:00, ?it/s]\n",
      "0it [00:00, ?it/s]\n",
      "Computing utilities for WSS (kernelshap): 100%|██████████| 310/310 [00:00<00:00, 280283.30it/s]\n",
      "Computing utilities for WSS (kernelshap): 100%|██████████| 310/310 [00:00<00:00, 299455.15it/s]\n",
      "LOO Calls (logit-prob): 100%|██████████| 28/28 [00:00<00:00, 99105.92it/s]\n",
      "LOO Calls (divergence_utility): 100%|██████████| 28/28 [00:00<00:00, 102389.29it/s]\n",
      " 80%|████████  | 40/50 [20:41<04:49, 28.96s/it]"
     ]
    },
    {
     "name": "stdout",
     "output_type": "stream",
     "text": [
      "Main Process: Saving 1011 utility entries to ../Experiment_data/musique/Llama-3.1-8B-Instruct/sentence/utilities_q_idx39.pkl...\n",
      "Save complete.\n",
      "\n",
      "--- Question 41/50: What languages can the star of Accident on Hill Road speak, ... ---\n",
      "Main Process: Attempting to load utility cache from ../Experiment_data/musique/Llama-3.1-8B-Instruct/sentence/utilities_q_idx40.pkl...\n",
      "Successfully loaded 1016 cached utility entries.\n",
      "Response: The star of Accident on Hill Road, Farooq Sheikh, is a Hindi film actor.\n",
      "GT: Hindi\n"
     ]
    },
    {
     "name": "stderr",
     "output_type": "stream",
     "text": [
      "Computing utilities for ContextCite: 100%|██████████| 364/364 [00:00<00:00, 300359.37it/s]\n",
      "0it [00:00, ?it/s]\n",
      "0it [00:00, ?it/s]\n",
      "0it [00:00, ?it/s]\n",
      "0it [00:00, ?it/s]\n",
      "Computing utilities for WSS (kernelshap): 100%|██████████| 313/313 [00:00<00:00, 286641.30it/s]\n",
      "Computing utilities for WSS (kernelshap): 100%|██████████| 313/313 [00:00<00:00, 302283.48it/s]\n",
      "LOO Calls (logit-prob): 100%|██████████| 29/29 [00:00<00:00, 91180.52it/s]\n",
      "LOO Calls (divergence_utility): 100%|██████████| 29/29 [00:00<00:00, 125396.72it/s]\n",
      " 82%|████████▏ | 41/50 [21:07<04:12, 28.08s/it]"
     ]
    },
    {
     "name": "stdout",
     "output_type": "stream",
     "text": [
      "Main Process: Saving 1016 utility entries to ../Experiment_data/musique/Llama-3.1-8B-Instruct/sentence/utilities_q_idx40.pkl...\n",
      "Save complete.\n",
      "\n",
      "--- Question 42/50: In what year did France host the finals of the competition f... ---\n",
      "Main Process: Attempting to load utility cache from ../Experiment_data/musique/Llama-3.1-8B-Instruct/sentence/utilities_q_idx41.pkl...\n",
      "Successfully loaded 1046 cached utility entries.\n",
      "Response: 1991.\n",
      "GT: 2007\n"
     ]
    },
    {
     "name": "stderr",
     "output_type": "stream",
     "text": [
      "Computing utilities for ContextCite: 100%|██████████| 364/364 [00:00<00:00, 214037.10it/s]\n",
      "0it [00:00, ?it/s]\n",
      "0it [00:00, ?it/s]\n",
      "0it [00:00, ?it/s]\n",
      "0it [00:00, ?it/s]\n",
      "Computing utilities for WSS (kernelshap): 100%|██████████| 331/331 [00:00<00:00, 184960.65it/s]\n",
      "Computing utilities for WSS (kernelshap): 100%|██████████| 331/331 [00:00<00:00, 213226.02it/s]\n",
      "LOO Calls (logit-prob): 100%|██████████| 50/50 [00:00<00:00, 86946.60it/s]\n",
      "LOO Calls (divergence_utility): 100%|██████████| 50/50 [00:00<00:00, 89967.91it/s]\n",
      " 84%|████████▍ | 42/50 [21:44<04:04, 30.55s/it]"
     ]
    },
    {
     "name": "stdout",
     "output_type": "stream",
     "text": [
      "Main Process: Saving 1046 utility entries to ../Experiment_data/musique/Llama-3.1-8B-Instruct/sentence/utilities_q_idx41.pkl...\n",
      "Save complete.\n",
      "\n",
      "--- Question 43/50: In which year did the publisher of Roald Dahl's Guide to Rai... ---\n",
      "Main Process: Attempting to load utility cache from ../Experiment_data/musique/Llama-3.1-8B-Instruct/sentence/utilities_q_idx42.pkl...\n",
      "Successfully loaded 1000 cached utility entries.\n",
      "Response: 2001.\n",
      "GT: 2001\n"
     ]
    },
    {
     "name": "stderr",
     "output_type": "stream",
     "text": [
      "Computing utilities for ContextCite: 100%|██████████| 364/364 [00:00<00:00, 326014.66it/s]\n",
      "0it [00:00, ?it/s]\n",
      "0it [00:00, ?it/s]\n",
      "0it [00:00, ?it/s]\n",
      "0it [00:00, ?it/s]\n",
      "Computing utilities for WSS (kernelshap): 100%|██████████| 308/308 [00:00<00:00, 327713.25it/s]\n",
      "Computing utilities for WSS (kernelshap): 100%|██████████| 308/308 [00:00<00:00, 364207.96it/s]\n",
      "LOO Calls (logit-prob): 100%|██████████| 26/26 [00:00<00:00, 124916.27it/s]\n",
      "LOO Calls (divergence_utility): 100%|██████████| 26/26 [00:00<00:00, 137518.16it/s]\n",
      " 86%|████████▌ | 43/50 [22:05<03:15, 27.87s/it]"
     ]
    },
    {
     "name": "stdout",
     "output_type": "stream",
     "text": [
      "Main Process: Saving 1000 utility entries to ../Experiment_data/musique/Llama-3.1-8B-Instruct/sentence/utilities_q_idx42.pkl...\n",
      "Save complete.\n",
      "\n",
      "--- Question 44/50: When was the inception of the company that released Poptropi... ---\n",
      "Main Process: Attempting to load utility cache from ../Experiment_data/musique/Llama-3.1-8B-Instruct/sentence/utilities_q_idx43.pkl...\n",
      "Successfully loaded 1003 cached utility entries.\n",
      "Response: July 1998\n",
      "GT: 1998\n"
     ]
    },
    {
     "name": "stderr",
     "output_type": "stream",
     "text": [
      "Computing utilities for ContextCite: 100%|██████████| 364/364 [00:00<00:00, 300951.44it/s]\n",
      "0it [00:00, ?it/s]\n",
      "0it [00:00, ?it/s]\n",
      "0it [00:00, ?it/s]\n",
      "0it [00:00, ?it/s]\n",
      "Computing utilities for WSS (kernelshap): 100%|██████████| 310/310 [00:00<00:00, 255148.01it/s]\n",
      "Computing utilities for WSS (kernelshap): 100%|██████████| 310/310 [00:00<00:00, 306514.44it/s]\n",
      "LOO Calls (logit-prob): 100%|██████████| 28/28 [00:00<00:00, 33689.19it/s]\n",
      "LOO Calls (divergence_utility): 100%|██████████| 28/28 [00:00<00:00, 38130.04it/s]\n",
      " 88%|████████▊ | 44/50 [22:27<02:36, 26.09s/it]"
     ]
    },
    {
     "name": "stdout",
     "output_type": "stream",
     "text": [
      "Main Process: Saving 1003 utility entries to ../Experiment_data/musique/Llama-3.1-8B-Instruct/sentence/utilities_q_idx43.pkl...\n",
      "Save complete.\n",
      "\n",
      "--- Question 45/50: When did the distributer of Poptropica start?... ---\n",
      "Main Process: Attempting to load utility cache from ../Experiment_data/musique/Llama-3.1-8B-Instruct/sentence/utilities_q_idx44.pkl...\n",
      "Successfully loaded 1006 cached utility entries.\n",
      "Response: 2007\n",
      "GT: 1998\n"
     ]
    },
    {
     "name": "stderr",
     "output_type": "stream",
     "text": [
      "Computing utilities for ContextCite: 100%|██████████| 364/364 [00:00<00:00, 359398.93it/s]\n",
      "0it [00:00, ?it/s]\n",
      "0it [00:00, ?it/s]\n",
      "0it [00:00, ?it/s]\n",
      "0it [00:00, ?it/s]\n",
      "Computing utilities for WSS (kernelshap): 100%|██████████| 306/306 [00:00<00:00, 249214.96it/s]\n",
      "Computing utilities for WSS (kernelshap): 100%|██████████| 306/306 [00:00<00:00, 264357.78it/s]\n",
      "LOO Calls (logit-prob): 100%|██████████| 27/27 [00:00<00:00, 102578.09it/s]\n",
      "LOO Calls (divergence_utility): 100%|██████████| 27/27 [00:00<00:00, 123631.23it/s]\n",
      " 90%|█████████ | 45/50 [22:51<02:07, 25.40s/it]"
     ]
    },
    {
     "name": "stdout",
     "output_type": "stream",
     "text": [
      "Main Process: Saving 1006 utility entries to ../Experiment_data/musique/Llama-3.1-8B-Instruct/sentence/utilities_q_idx44.pkl...\n",
      "Save complete.\n",
      "\n",
      "--- Question 46/50: What is the source of the river where Southern California ge... ---\n",
      "Main Process: Attempting to load utility cache from ../Experiment_data/musique/Llama-3.1-8B-Instruct/sentence/utilities_q_idx45.pkl...\n",
      "Successfully loaded 1009 cached utility entries.\n",
      "Response: The Rocky Mountains of Colorado and Wyoming.\n",
      "GT: La Poudre Pass\n"
     ]
    },
    {
     "name": "stderr",
     "output_type": "stream",
     "text": [
      "Computing utilities for ContextCite: 100%|██████████| 364/364 [00:00<00:00, 297028.53it/s]\n",
      "0it [00:00, ?it/s]\n",
      "0it [00:00, ?it/s]\n",
      "0it [00:00, ?it/s]\n",
      "0it [00:00, ?it/s]\n",
      "Computing utilities for WSS (kernelshap): 100%|██████████| 308/308 [00:00<00:00, 240075.38it/s]\n",
      "Computing utilities for WSS (kernelshap): 100%|██████████| 308/308 [00:00<00:00, 239009.37it/s]\n",
      "LOO Calls (logit-prob): 100%|██████████| 30/30 [00:00<00:00, 47215.43it/s]\n",
      "LOO Calls (divergence_utility): 100%|██████████| 30/30 [00:00<00:00, 104945.05it/s]\n",
      " 92%|█████████▏| 46/50 [23:25<01:52, 28.06s/it]"
     ]
    },
    {
     "name": "stdout",
     "output_type": "stream",
     "text": [
      "Main Process: Saving 1009 utility entries to ../Experiment_data/musique/Llama-3.1-8B-Instruct/sentence/utilities_q_idx45.pkl...\n",
      "Save complete.\n",
      "\n",
      "--- Question 47/50: When was the university Elizabeth Harwood attended formed?... ---\n",
      "Main Process: Attempting to load utility cache from ../Experiment_data/musique/Llama-3.1-8B-Instruct/sentence/utilities_q_idx46.pkl...\n",
      "Successfully loaded 1038 cached utility entries.\n",
      "Response: The text does not mention Elizabeth Harwood attending a university.\n",
      "GT: 1972\n"
     ]
    },
    {
     "name": "stderr",
     "output_type": "stream",
     "text": [
      "Computing utilities for ContextCite: 100%|██████████| 364/364 [00:00<00:00, 269454.05it/s]\n",
      "0it [00:00, ?it/s]\n",
      "0it [00:00, ?it/s]\n",
      "0it [00:00, ?it/s]\n",
      "0it [00:00, ?it/s]\n",
      "Computing utilities for WSS (kernelshap): 100%|██████████| 319/319 [00:00<00:00, 213530.64it/s]\n",
      "Computing utilities for WSS (kernelshap): 100%|██████████| 319/319 [00:00<00:00, 252449.62it/s]\n",
      "LOO Calls (logit-prob): 100%|██████████| 36/36 [00:00<00:00, 87787.76it/s]\n",
      "LOO Calls (divergence_utility): 100%|██████████| 36/36 [00:00<00:00, 105003.44it/s]\n",
      " 94%|█████████▍| 47/50 [23:51<01:21, 27.28s/it]"
     ]
    },
    {
     "name": "stdout",
     "output_type": "stream",
     "text": [
      "Main Process: Saving 1038 utility entries to ../Experiment_data/musique/Llama-3.1-8B-Instruct/sentence/utilities_q_idx46.pkl...\n",
      "Save complete.\n",
      "\n",
      "--- Question 48/50: What is the population of the city where the torch event was... ---\n",
      "Main Process: Attempting to load utility cache from ../Experiment_data/musique/Llama-3.1-8B-Instruct/sentence/utilities_q_idx47.pkl...\n",
      "Successfully loaded 1020 cached utility entries.\n",
      "Response: 8,426,100\n",
      "GT: 8,426,100\n"
     ]
    },
    {
     "name": "stderr",
     "output_type": "stream",
     "text": [
      "Computing utilities for ContextCite: 100%|██████████| 364/364 [00:00<00:00, 266584.02it/s]\n",
      "0it [00:00, ?it/s]\n",
      "0it [00:00, ?it/s]\n",
      "0it [00:00, ?it/s]\n",
      "0it [00:00, ?it/s]\n",
      "Computing utilities for WSS (kernelshap): 100%|██████████| 316/316 [00:00<00:00, 215757.78it/s]\n",
      "Computing utilities for WSS (kernelshap): 100%|██████████| 316/316 [00:00<00:00, 259933.33it/s]\n",
      "LOO Calls (logit-prob): 100%|██████████| 34/34 [00:00<00:00, 102447.08it/s]\n",
      "LOO Calls (divergence_utility): 100%|██████████| 34/34 [00:00<00:00, 122094.47it/s]\n",
      " 96%|█████████▌| 48/50 [24:22<00:57, 28.52s/it]"
     ]
    },
    {
     "name": "stdout",
     "output_type": "stream",
     "text": [
      "Main Process: Saving 1020 utility entries to ../Experiment_data/musique/Llama-3.1-8B-Instruct/sentence/utilities_q_idx47.pkl...\n",
      "Save complete.\n",
      "\n",
      "--- Question 49/50: Who is the spouse of one of the artist who have had concerts... ---\n",
      "Main Process: Attempting to load utility cache from ../Experiment_data/musique/Llama-3.1-8B-Instruct/sentence/utilities_q_idx48.pkl...\n",
      "Successfully loaded 1044 cached utility entries.\n",
      "Response: David Furnish is the spouse of Elton John.\n",
      "GT: David Furnish\n"
     ]
    },
    {
     "name": "stderr",
     "output_type": "stream",
     "text": [
      "Computing utilities for ContextCite: 100%|██████████| 364/364 [00:00<00:00, 242222.22it/s]\n",
      "0it [00:00, ?it/s]\n",
      "0it [00:00, ?it/s]\n",
      "0it [00:00, ?it/s]\n",
      "0it [00:00, ?it/s]\n",
      "Computing utilities for WSS (kernelshap): 100%|██████████| 327/327 [00:00<00:00, 230471.75it/s]\n",
      "Computing utilities for WSS (kernelshap): 100%|██████████| 327/327 [00:00<00:00, 199119.83it/s]\n",
      "LOO Calls (logit-prob): 100%|██████████| 43/43 [00:00<00:00, 77806.33it/s]\n",
      "LOO Calls (divergence_utility): 100%|██████████| 43/43 [00:00<00:00, 82054.17it/s]\n",
      " 98%|█████████▊| 49/50 [24:54<00:29, 29.43s/it]"
     ]
    },
    {
     "name": "stdout",
     "output_type": "stream",
     "text": [
      "Main Process: Saving 1044 utility entries to ../Experiment_data/musique/Llama-3.1-8B-Instruct/sentence/utilities_q_idx48.pkl...\n",
      "Save complete.\n",
      "\n",
      "--- Question 50/50: What type of community is the municipality where Norbert Pfr... ---\n",
      "Main Process: Attempting to load utility cache from ../Experiment_data/musique/Llama-3.1-8B-Instruct/sentence/utilities_q_idx49.pkl...\n",
      "Successfully loaded 1010 cached utility entries.\n",
      "Response: Lana an der Etsch is a \"comune\" (municipality).\n",
      "GT: comune\n"
     ]
    },
    {
     "name": "stderr",
     "output_type": "stream",
     "text": [
      "Computing utilities for ContextCite: 100%|██████████| 364/364 [00:00<00:00, 302262.26it/s]\n",
      "0it [00:00, ?it/s]\n",
      "0it [00:00, ?it/s]\n",
      "0it [00:00, ?it/s]\n",
      "0it [00:00, ?it/s]\n",
      "Computing utilities for WSS (kernelshap): 100%|██████████| 313/313 [00:00<00:00, 235651.97it/s]\n",
      "Computing utilities for WSS (kernelshap): 100%|██████████| 313/313 [00:00<00:00, 261830.31it/s]\n",
      "LOO Calls (logit-prob): 100%|██████████| 29/29 [00:00<00:00, 113571.26it/s]\n",
      "LOO Calls (divergence_utility): 100%|██████████| 29/29 [00:00<00:00, 110980.67it/s]\n",
      "100%|██████████| 50/50 [25:19<00:00, 30.39s/it]"
     ]
    },
    {
     "name": "stdout",
     "output_type": "stream",
     "text": [
      "Main Process: Saving 1010 utility entries to ../Experiment_data/musique/Llama-3.1-8B-Instruct/sentence/utilities_q_idx49.pkl...\n",
      "Save complete.\n"
     ]
    },
    {
     "name": "stderr",
     "output_type": "stream",
     "text": [
      "\n"
     ]
    }
   ],
   "source": [
    "# num_questions_to_run=len(df.question)\n",
    "num_questions_to_run=50\n",
    "k_values = [1,2,3,4,5]\n",
    "all_results=[]\n",
    "LDSs=[]\n",
    "r2_fm=[]\n",
    "r2_cc=[]\n",
    "for i in tqdm(range(num_questions_to_run), disable=not accelerator_main.is_main_process):\n",
    "    query = df.question[i]\n",
    "    if accelerator_main.is_main_process:\n",
    "        print(f\"\\n--- Question {i+1}/{num_questions_to_run}: {query[:60]}... ---\")\n",
    "\n",
    "    docs=df.Sentences[i]\n",
    "    utility_cache_base_dir = f\"../Experiment_data/musique/{model_path.split('/')[1]}/sentence\"\n",
    "    utility_cache_filename = f\"utilities_q_idx{i}.pkl\" # More robust naming\n",
    "    current_utility_path = os.path.join(utility_cache_base_dir, utility_cache_filename)\n",
    "    \n",
    "    if accelerator_main.is_main_process: # Only main process creates directories\n",
    "        os.makedirs(os.path.dirname(current_utility_path), exist_ok=True)\n",
    "    \n",
    "    # Initialize Harness\n",
    "    harness = ContextAttribution(\n",
    "        items=docs,\n",
    "        query=query,\n",
    "        prepared_model=prepared_model,\n",
    "        prepared_tokenizer=tokenizer,\n",
    "        accelerator=accelerator_main,\n",
    "        utility_cache_path=current_utility_path\n",
    "    )\n",
    "\n",
    "    print(f'Response: {harness.target_response}')\n",
    "    print(f'GT: {df.answer[i]}')\n",
    "    # Compute metrics\n",
    "    results_for_query = {}\n",
    "    if accelerator_main.is_main_process:\n",
    "        m_samples_map = {\"L\": 364} \n",
    "        # m_samples_map = {\"L\": 128, \"XL\":256, \"XXL\":512} \n",
    "        T_iterations_map = {\"L\":40, \"XL\":50, \"XXL\":60} \n",
    "\n",
    "        for size_key, num_s in m_samples_map.items():\n",
    "            if 2**len(docs) < num_s and size_key != \"L\":\n",
    "                actual_samples = max(1, 2**len(docs)-1 if 2**len(docs)>0 else 1)\n",
    "            else:\n",
    "                actual_samples = num_s\n",
    "\n",
    "            if actual_samples > 0:\n",
    "                results_for_query[f\"ContextCite{actual_samples}\"], model_cc = harness.compute_contextcite(num_samples=actual_samples, seed=SEED)\n",
    "                attributions, ints=harness.compute_spex(sample_budget=actual_samples,max_order=2)\n",
    "                results_for_query[f\"FBII{actual_samples}\"]=attributions['fbii']\n",
    "                results_for_query[f\"Spex{actual_samples}\"]=attributions['fourier']\n",
    "                results_for_query[f\"FSII{actual_samples}\"]=attributions['fsii']\n",
    "                results_for_query[f\"FM_WeightsD{actual_samples}\"], F, modelfm = harness.compute_wss(num_samples=actual_samples, seed=SEED, sampling=\"kernelshap\",sur_type=\"fm\", utility_mode=\"divergence_utility\")\n",
    "                results_for_query[f\"FM_Weights{actual_samples}\"], F, modelfm = harness.compute_wss(num_samples=actual_samples, seed=SEED, sampling=\"kernelshap\",sur_type=\"fm\")\n",
    "                # results_for_query[f\"BetaShap{actual_samples}\"] = harness.compute_beta_shap(num_iterations_max=T_iterations_map[size_key], beta_a=16, beta_b=1, max_unique_lookups=actual_samples, seed=SEED)\n",
    "                # results_for_query[f\"TMC{actual_samples}\"] = harness.compute_tmc_shap(num_iterations_max=T_iterations_map[size_key], performance_tolerance=0.001, max_unique_lookups=actual_samples, seed=SEED)\n",
    "\n",
    "        results_for_query[\"LOO\"] = harness.compute_loo()\n",
    "        results_for_query[\"ARC-JSD\"] = harness.compute_arc_jsd()\n",
    "\n",
    "        prob_topk = harness.evaluate_topk_performance(\n",
    "                                                results_for_query, \n",
    "                                                k_values, \n",
    "                                                utility_type=\"probability\"\n",
    "                                            )\n",
    "\n",
    "        div_topk = harness.evaluate_topk_performance(\n",
    "                                            results_for_query, \n",
    "                                            k_values, \n",
    "                                            utility_type=\"divergence\"\n",
    "                                        )\n",
    "        \n",
    "        r2_fm.append([harness.r2_mse(30, modelfm, method='fm')])\n",
    "        r2_cc.append([harness.r2_mse(30, model_cc, method='cc')])\n",
    "\n",
    "        LDS = {}\n",
    "        for i in results_for_query:\n",
    "            if \"FM\" in i:\n",
    "                calculate_LDS = {i:harness.lds(results_for_query[i], 30, utl=True, model=modelfm)}\n",
    "                LDS.update(calculate_LDS)\n",
    "            else:\n",
    "                calculate_LDS = {i:harness.lds(results_for_query[i], 30)}\n",
    "                LDS.update(calculate_LDS)\n",
    "        LDS = [{i:harness.lds(results_for_query[i], 30)} for i in results_for_query]\n",
    "\n",
    "        results_for_query[\"topk_probability\"] = prob_topk\n",
    "        results_for_query[\"topk_divergence\"] = div_topk\n",
    "        results_for_query[\"LDS\"] = LDS\n",
    "        harness.save_utility_cache(current_utility_path)\n",
    "        \n",
    "        all_results.append(results_for_query)"
   ]
  },
  {
   "cell_type": "code",
   "execution_count": null,
   "metadata": {},
   "outputs": [],
   "source": [
    "precs=np.zeros((len(all_results), len(methods)))\n",
    "for j, i in enumerate(all_results):\n",
    "    if j not in [3,6,7,10,13,14,15,16,17,19,20]:\n",
    "        for n, m in enumerate(methods):\n",
    "            precs[j][n]=precision(ast.literal_eval(df_save.labels[j]), i[m])\n",
    "\n",
    "precs.mean(axis=0)"
   ]
  },
  {
   "cell_type": "code",
   "execution_count": 7,
   "metadata": {},
   "outputs": [
    {
     "name": "stdout",
     "output_type": "stream",
     "text": [
      "Mean topk_probability: {'ContextCite364': 12.571211284399032, 'FM_Weights364': 12.364087232351302, 'FM_WeightsD364': 12.71926569879055, 'Spex364': 13.031725627183913, 'FBII364': 12.251579568088054, 'FSII364': 12.251579568088054, 'LOO': 12.105467292070388, 'ARC-JSD': 11.805027627348899}\n",
      "Mean topk_divergence: {'ContextCite364': 1.3486342845000832, 'FM_Weights364': 1.361668637958353, 'FM_WeightsD364': 1.4080414159643897, 'Spex364': 1.4066534375193316, 'FBII364': 1.295260504515863, 'FSII364': 1.295260504515863, 'LOO': 1.244968577786883, 'ARC-JSD': 1.2697375269033706}\n",
      "Mean LDS: {'ContextCite364': 0.8208676307007786, 'FM_Weights364': 0.716360400444939, 'FM_WeightsD364': 0.7853615127919911, 'Spex364': 0.7577306932599748, 'FBII364': 0.7252641083609697, 'FSII364': 0.7252641083609697, 'LOO': 0.640400444938821, 'ARC-JSD': 0.7898998887652948}\n"
     ]
    }
   ],
   "source": [
    "methods = [f'ContextCite{actual_samples}', f'FM_Weights{actual_samples}',f'FM_WeightsD{actual_samples}',f'Spex{actual_samples}',f'FBII{actual_samples}',f'FSII{actual_samples}', 'LOO', 'ARC-JSD']\n",
    "\n",
    "# Initialize lists\n",
    "topk_probs = {method: [] for method in methods}\n",
    "topk_divs = {method: [] for method in methods}\n",
    "LDSs = {method: [] for method in methods}\n",
    "\n",
    "# Collect values\n",
    "for ind, entry in enumerate(all_results):\n",
    "    for method in methods:\n",
    "        topk_probs[method].append(entry['topk_probability'][method][2])\n",
    "        topk_divs[method].append(entry['topk_divergence'][method][2])\n",
    "        for d in entry['LDS']:\n",
    "            if method in d:\n",
    "                LDSs[method].append(d[method])\n",
    "                break\n",
    "        \n",
    "\n",
    "# Compute means\n",
    "mean_topk_probs = {method: np.mean(topk_probs[method]) for method in methods}\n",
    "mean_topk_divs = {method: np.mean(topk_divs[method]) for method in methods}\n",
    "mean_LDSs = {method: np.mean(LDSs[method]) for method in methods}\n",
    "\n",
    "print(\"Mean topk_probability:\", mean_topk_probs)\n",
    "print(\"Mean topk_divergence:\", mean_topk_divs)\n",
    "print(\"Mean LDS:\", mean_LDSs)"
   ]
  },
  {
   "cell_type": "code",
   "execution_count": null,
   "metadata": {},
   "outputs": [],
   "source": [
    "harness.precision([0,1], all)"
   ]
  },
  {
   "cell_type": "code",
   "execution_count": null,
   "metadata": {},
   "outputs": [],
   "source": [
    "import matplotlib.pyplot as plt\n",
    "def plot_metric(metric_dict, title, ylabel):\n",
    "    methods = list(metric_dict.keys())\n",
    "    values = np.array([metric_dict[m] for m in methods])\n",
    "    \n",
    "    # Identify the best method (max value assumed to be better)\n",
    "    best_index = np.argmax(values)\n",
    "    \n",
    "    colors = ['gray'] * len(methods)\n",
    "    colors[best_index] = 'gold'  # Highlight best method\n",
    "\n",
    "    plt.figure(figsize=(10, 5))\n",
    "    bars = plt.bar(methods, values, color=colors)\n",
    "    plt.xticks(rotation=45, ha='right')\n",
    "    plt.ylabel(ylabel)\n",
    "    plt.title(title)\n",
    "    \n",
    "    # Annotate values on top of bars\n",
    "    for i, bar in enumerate(bars):\n",
    "        height = bar.get_height()\n",
    "        plt.text(bar.get_x() + bar.get_width()/2., height,\n",
    "                 f'{values[i]:.4f}', ha='center', va='bottom', fontsize=9)\n",
    "\n",
    "    plt.tight_layout()\n",
    "    plt.show()\n"
   ]
  },
  {
   "cell_type": "code",
   "execution_count": null,
   "metadata": {},
   "outputs": [],
   "source": [
    "plot_metric(mean_topk_probs, \"Mean Top-k Probability\", \"topk_probability\")\n",
    "plot_metric(mean_topk_divs, \"Mean Top-k Divergence\", \"topk_divergence\")\n",
    "plot_metric(mean_LDSs, \"Mean LDS\", \"LDS\")"
   ]
  },
  {
   "cell_type": "code",
   "execution_count": null,
   "metadata": {},
   "outputs": [],
   "source": [
    "all_results[0]['FM_WeightsD364']"
   ]
  },
  {
   "cell_type": "code",
   "execution_count": null,
   "metadata": {},
   "outputs": [],
   "source": [
    "[(i,np.array(all_results[1][i]).argsort()) for i in methods]"
   ]
  },
  {
   "cell_type": "code",
   "execution_count": null,
   "metadata": {},
   "outputs": [],
   "source": [
    "df.paragraphs[1]"
   ]
  },
  {
   "cell_type": "code",
   "execution_count": null,
   "metadata": {},
   "outputs": [],
   "source": [
    "all_results[1]"
   ]
  },
  {
   "cell_type": "code",
   "execution_count": null,
   "metadata": {},
   "outputs": [],
   "source": [
    "df.Sentences[10][1]"
   ]
  },
  {
   "cell_type": "code",
   "execution_count": null,
   "metadata": {},
   "outputs": [],
   "source": [
    "[all_results[0][i].argsort() for i in methods]"
   ]
  },
  {
   "cell_type": "code",
   "execution_count": null,
   "metadata": {},
   "outputs": [],
   "source": [
    "all_results[4]['LOO']"
   ]
  },
  {
   "cell_type": "code",
   "execution_count": null,
   "metadata": {},
   "outputs": [],
   "source": [
    "sum(r2_cc)"
   ]
  },
  {
   "cell_type": "code",
   "execution_count": null,
   "metadata": {},
   "outputs": [],
   "source": [
    "for i in range(len(r2_cc)):\n",
    "    print(r2_cc[i], r2_fm[i])"
   ]
  }
 ],
 "metadata": {
  "kernelspec": {
   "display_name": "Python 3",
   "language": "python",
   "name": "python3"
  },
  "language_info": {
   "codemirror_mode": {
    "name": "ipython",
    "version": 3
   },
   "file_extension": ".py",
   "mimetype": "text/x-python",
   "name": "python",
   "nbconvert_exporter": "python",
   "pygments_lexer": "ipython3",
   "version": "3.10.12"
  }
 },
 "nbformat": 4,
 "nbformat_minor": 2
}
