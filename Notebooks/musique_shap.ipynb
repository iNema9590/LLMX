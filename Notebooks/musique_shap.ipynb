{
 "cells": [
  {
   "cell_type": "code",
   "execution_count": 1,
   "metadata": {},
   "outputs": [
    {
     "name": "stderr",
     "output_type": "stream",
     "text": [
      "/usr/local/lib/python3.10/dist-packages/tqdm/auto.py:21: TqdmWarning: IProgress not found. Please update jupyter and ipywidgets. See https://ipywidgets.readthedocs.io/en/stable/user_install.html\n",
      "  from .autonotebook import tqdm as notebook_tqdm\n",
      "[nltk_data] Downloading package punkt to /root/nltk_data...\n",
      "[nltk_data]   Package punkt is already up-to-date!\n"
     ]
    }
   ],
   "source": [
    "import sys\n",
    "import os\n",
    "import random\n",
    "import gc\n",
    "import time\n",
    "import torch\n",
    "import numpy as np\n",
    "import pandas as pd\n",
    "import ast\n",
    "from tqdm import tqdm\n",
    "from scipy.sparse import csr_matrix\n",
    "import itertools\n",
    "from scipy.stats import spearmanr, pearsonr, kendalltau, rankdata\n",
    "from sklearn.metrics import ndcg_score\n",
    "from transformers import AutoModelForCausalLM, AutoTokenizer\n",
    "from accelerate import Accelerator\n",
    "import nltk\n",
    "nltk.download('punkt')\n",
    "os.environ[\"CUDA_VISIBLE_DEVICES\"] = \"2\" \n",
    "current_dir = os.getcwd()\n",
    "parent_dir = os.path.abspath(os.path.join(current_dir, '..'))\n",
    "sys.path.append(parent_dir)\n",
    "from SHapRAG import *"
   ]
  },
  {
   "cell_type": "code",
   "execution_count": 2,
   "metadata": {},
   "outputs": [],
   "source": [
    "df=pd.read_json(\"../data/musique/musique_ans_v1.0_train.jsonl\", lines=True)"
   ]
  },
  {
   "cell_type": "code",
   "execution_count": 3,
   "metadata": {},
   "outputs": [],
   "source": [
    "def get_titles(lst):\n",
    "    # Titles where is_supporting is True\n",
    "    supporting = [d['paragraph_text'] for d in lst if d.get('is_supporting') == True]\n",
    "    # Titles where is_supporting is False or missing AND not already in supporting\n",
    "    others = [d['paragraph_text'] for d in lst if d.get('is_supporting') != True and d['paragraph_text'] not in supporting]\n",
    "    # Combine: all supporting + as many others as needed to reach 10\n",
    "    result = supporting + others\n",
    "    return result[:10]\n",
    "\n",
    "df.paragraphs=df.paragraphs.apply(get_titles)"
   ]
  },
  {
   "cell_type": "code",
   "execution_count": 4,
   "metadata": {},
   "outputs": [],
   "source": [
    "all_sents = []\n",
    "for i in range(len(df.question)):\n",
    "    n = 0\n",
    "    docs=df.paragraphs[i]\n",
    "    doc_sents = []\n",
    "    for j in range(len(docs)):\n",
    "        sents = nltk.sent_tokenize(docs[j])\n",
    "        new_sents = []\n",
    "        for s in range(len(sents)):\n",
    "            new_sents.append(str(n + s) + '-' + str(j) + '-' + sents[s])\n",
    "        n += len(sents)\n",
    "        doc_sents.append(new_sents)\n",
    "    flat_doc_sents = [\n",
    "    x\n",
    "    for xs in doc_sents\n",
    "    for x in xs\n",
    "]\n",
    "    all_sents.append(flat_doc_sents)\n",
    "df['Sentences'] = all_sents"
   ]
  },
  {
   "cell_type": "code",
   "execution_count": 5,
   "metadata": {},
   "outputs": [
    {
     "name": "stderr",
     "output_type": "stream",
     "text": [
      "Detected kernel version 5.4.0, which is below the recommended minimum of 5.5.0; this can cause the process to hang. It is recommended to upgrade the kernel to the minimum version or higher.\n"
     ]
    },
    {
     "name": "stdout",
     "output_type": "stream",
     "text": [
      "Main Script: Loading model...\n"
     ]
    },
    {
     "name": "stderr",
     "output_type": "stream",
     "text": [
      "Loading checkpoint shards: 100%|██████████| 4/4 [00:01<00:00,  2.49it/s]\n"
     ]
    },
    {
     "name": "stdout",
     "output_type": "stream",
     "text": [
      "Main Script: Preparing model with Accelerator...\n",
      "Main Script: Model prepared and set to eval.\n"
     ]
    }
   ],
   "source": [
    "SEED = 42\n",
    "# Initialize Accelerator\n",
    "accelerator_main = Accelerator(mixed_precision=\"fp16\")\n",
    "\n",
    "# Load Model\n",
    "if accelerator_main.is_main_process:\n",
    "    print(\"Main Script: Loading model...\")\n",
    "# model_path = \"mistralai/Mistral-7B-Instruct-v0.3\"\n",
    "model_path = \"meta-llama/Llama-3.1-8B-Instruct\"\n",
    "# model_path = \"Qwen/Qwen2.5-3B-Instruct\"\n",
    "\n",
    "model_cpu = AutoModelForCausalLM.from_pretrained(\n",
    "    model_path,\n",
    "    torch_dtype=torch.float16\n",
    ")\n",
    "tokenizer = AutoTokenizer.from_pretrained(model_path)\n",
    "if tokenizer.pad_token is None:\n",
    "    tokenizer.pad_token = tokenizer.eos_token\n",
    "    model_cpu.config.pad_token_id = tokenizer.pad_token_id\n",
    "    if hasattr(model_cpu, 'generation_config') and model_cpu.generation_config is not None:\n",
    "        model_cpu.generation_config.pad_token_id = tokenizer.pad_token_id\n",
    "\n",
    "if accelerator_main.is_main_process:\n",
    "    print(\"Main Script: Preparing model with Accelerator...\")\n",
    "prepared_model = accelerator_main.prepare(model_cpu)\n",
    "unwrapped_prepared_model = accelerator_main.unwrap_model(prepared_model)\n",
    "unwrapped_prepared_model.eval()\n",
    "if accelerator_main.is_main_process:\n",
    "    print(\"Main Script: Model prepared and set to eval.\")\n",
    "\n",
    "# Define utility cache\n",
    "\n",
    "accelerator_main.wait_for_everyone()"
   ]
  },
  {
   "cell_type": "code",
   "execution_count": 6,
   "metadata": {},
   "outputs": [
    {
     "name": "stderr",
     "output_type": "stream",
     "text": [
      "  0%|          | 0/30 [00:00<?, ?it/s]"
     ]
    },
    {
     "name": "stdout",
     "output_type": "stream",
     "text": [
      "\n",
      "--- Question 1/30: When was the institute that owned The Collegian founded?... ---\n",
      "Loading existing utility cache from ../Experiment_data/musique/utilities_q_idx0.pkl...\n",
      "Successfully loaded 475 cached utilities.\n"
     ]
    },
    {
     "name": "stderr",
     "output_type": "stream",
     "text": [
      "Fetching 3 files: 100%|██████████| 3/3 [00:00<00:00, 13107.20it/s]\n"
     ]
    },
    {
     "name": "stdout",
     "output_type": "stream",
     "text": [
      "Response: Houston Baptist University was founded in 1960.\n"
     ]
    },
    {
     "name": "stderr",
     "output_type": "stream",
     "text": [
      "100%|██████████| 10/10 [00:02<00:00,  4.96it/s]\n",
      "  3%|▎         | 1/30 [00:57<27:37, 57.16s/it]"
     ]
    },
    {
     "name": "stdout",
     "output_type": "stream",
     "text": [
      "\n",
      "--- Question 2/30: What year saw the creation of the region where the county of... ---\n",
      "Loading existing utility cache from ../Experiment_data/musique/utilities_q_idx1.pkl...\n",
      "Successfully loaded 475 cached utilities.\n",
      "Response: 1994.\n"
     ]
    },
    {
     "name": "stderr",
     "output_type": "stream",
     "text": [
      "100%|██████████| 10/10 [00:02<00:00,  3.35it/s]\n",
      "  7%|▋         | 2/30 [02:09<30:57, 66.35s/it]"
     ]
    },
    {
     "name": "stdout",
     "output_type": "stream",
     "text": [
      "\n",
      "--- Question 3/30: When was the abolishment of the studio that distributed The ... ---\n",
      "Loading existing utility cache from ../Experiment_data/musique/utilities_q_idx2.pkl...\n",
      "Successfully loaded 249 cached utilities.\n",
      "Response: 1999\n"
     ]
    },
    {
     "name": "stderr",
     "output_type": "stream",
     "text": [
      "100%|██████████| 10/10 [00:02<00:00,  3.35it/s]\n",
      " 10%|█         | 3/30 [04:03<39:30, 87.81s/it]"
     ]
    },
    {
     "name": "stdout",
     "output_type": "stream",
     "text": [
      "\n",
      "--- Question 4/30: When was the publisher of Crux launched?... ---\n",
      "Loading existing utility cache from ../Experiment_data/musique/utilities_q_idx3.pkl...\n",
      "Successfully loaded 249 cached utilities.\n",
      "Response: May 2001.\n"
     ]
    },
    {
     "name": "stderr",
     "output_type": "stream",
     "text": [
      "100%|██████████| 10/10 [00:02<00:00,  4.68it/s]\n",
      " 13%|█▎        | 4/30 [05:31<38:09, 88.05s/it]"
     ]
    },
    {
     "name": "stdout",
     "output_type": "stream",
     "text": [
      "\n",
      "--- Question 5/30: Jan Šindel's was born in what country?... ---\n",
      "Loading existing utility cache from ../Experiment_data/musique/utilities_q_idx4.pkl...\n",
      "Successfully loaded 249 cached utilities.\n",
      "Response: The Czech Republic.\n"
     ]
    },
    {
     "name": "stderr",
     "output_type": "stream",
     "text": [
      "100%|██████████| 10/10 [00:02<00:00,  3.78it/s]\n",
      " 17%|█▋        | 5/30 [07:07<37:49, 90.78s/it]"
     ]
    },
    {
     "name": "stdout",
     "output_type": "stream",
     "text": [
      "\n",
      "--- Question 6/30: What city is the person who broadened the doctrine of philos... ---\n",
      "Loading existing utility cache from ../Experiment_data/musique/utilities_q_idx5.pkl...\n",
      "Successfully loaded 249 cached utilities.\n",
      "Response: Copenhagen.\n"
     ]
    },
    {
     "name": "stderr",
     "output_type": "stream",
     "text": [
      "100%|██████████| 10/10 [00:03<00:00,  2.89it/s]\n",
      " 20%|██        | 6/30 [09:06<40:11, 100.48s/it]"
     ]
    },
    {
     "name": "stdout",
     "output_type": "stream",
     "text": [
      "\n",
      "--- Question 7/30: When was the baseball team winning the world series in 2015 ... ---\n",
      "Loading existing utility cache from ../Experiment_data/musique/utilities_q_idx6.pkl...\n",
      "Successfully loaded 249 cached utilities.\n",
      "Response: The Kansas City Royals were founded in 1969.\n"
     ]
    },
    {
     "name": "stderr",
     "output_type": "stream",
     "text": [
      "100%|██████████| 10/10 [00:03<00:00,  2.51it/s]\n",
      " 23%|██▎       | 7/30 [11:16<42:08, 109.94s/it]"
     ]
    },
    {
     "name": "stdout",
     "output_type": "stream",
     "text": [
      "\n",
      "--- Question 8/30: Where did the Baldevins bryllup director die?... ---\n",
      "Loading existing utility cache from ../Experiment_data/musique/utilities_q_idx7.pkl...\n",
      "Successfully loaded 249 cached utilities.\n",
      "Response: There is no information about the director George Schnéevoigt's death in the provided context.\n"
     ]
    },
    {
     "name": "stderr",
     "output_type": "stream",
     "text": [
      "100%|██████████| 10/10 [00:02<00:00,  4.31it/s]\n",
      " 27%|██▋       | 8/30 [12:48<38:15, 104.36s/it]"
     ]
    },
    {
     "name": "stdout",
     "output_type": "stream",
     "text": [
      "\n",
      "--- Question 9/30: Who was thee first president of the association that wrote t... ---\n",
      "Loading existing utility cache from ../Experiment_data/musique/utilities_q_idx8.pkl...\n",
      "Successfully loaded 249 cached utilities.\n",
      "Response: G. Stanley Hall.\n"
     ]
    },
    {
     "name": "stderr",
     "output_type": "stream",
     "text": [
      "100%|██████████| 10/10 [00:03<00:00,  2.61it/s]\n",
      " 30%|███       | 9/30 [14:53<38:46, 110.81s/it]"
     ]
    },
    {
     "name": "stdout",
     "output_type": "stream",
     "text": [
      "\n",
      "--- Question 10/30: Which major Russian city borders the body of water in which ... ---\n",
      "Loading existing utility cache from ../Experiment_data/musique/utilities_q_idx9.pkl...\n",
      "Successfully loaded 249 cached utilities.\n",
      "Response: The major Russian city that borders the Baltic Sea, in which Saaremaa is located, is Saint Petersburg.\n"
     ]
    },
    {
     "name": "stderr",
     "output_type": "stream",
     "text": [
      "100%|██████████| 10/10 [00:02<00:00,  3.40it/s]\n",
      " 33%|███▎      | 10/30 [16:42<36:46, 110.32s/it]"
     ]
    },
    {
     "name": "stdout",
     "output_type": "stream",
     "text": [
      "\n",
      "--- Question 11/30: When was the employer of John J. Collins established?... ---\n",
      "Loading existing utility cache from ../Experiment_data/musique/utilities_q_idx10.pkl...\n",
      "Successfully loaded 249 cached utilities.\n",
      "Response: Yale Divinity School.\n"
     ]
    },
    {
     "name": "stderr",
     "output_type": "stream",
     "text": [
      "100%|██████████| 10/10 [00:03<00:00,  2.86it/s]\n",
      " 37%|███▋      | 11/30 [18:42<35:52, 113.29s/it]"
     ]
    },
    {
     "name": "stdout",
     "output_type": "stream",
     "text": [
      "\n",
      "--- Question 12/30: When did Bush declare the war causing Kerry to criticize him... ---\n",
      "Loading existing utility cache from ../Experiment_data/musique/utilities_q_idx11.pkl...\n",
      "Successfully loaded 249 cached utilities.\n",
      "Response: Bush relied on a resolution Kerry voted for in 2002 to order the 2003 invasion of Iraq.\n"
     ]
    },
    {
     "name": "stderr",
     "output_type": "stream",
     "text": [
      "100%|██████████| 10/10 [00:05<00:00,  1.93it/s]\n",
      " 40%|████      | 12/30 [21:21<38:10, 127.24s/it]"
     ]
    },
    {
     "name": "stdout",
     "output_type": "stream",
     "text": [
      "\n",
      "--- Question 13/30: What is the college Francis Walsingham attended an instance ... ---\n",
      "Loading existing utility cache from ../Experiment_data/musique/utilities_q_idx12.pkl...\n",
      "Successfully loaded 249 cached utilities.\n",
      "Response: King's College, Cambridge.\n"
     ]
    },
    {
     "name": "stderr",
     "output_type": "stream",
     "text": [
      "100%|██████████| 10/10 [00:02<00:00,  4.02it/s]\n",
      " 43%|████▎     | 13/30 [22:55<33:09, 117.00s/it]"
     ]
    },
    {
     "name": "stdout",
     "output_type": "stream",
     "text": [
      "\n",
      "--- Question 14/30: What type of university is the college Kyeon Mi-ri attended?... ---\n",
      "Loading existing utility cache from ../Experiment_data/musique/utilities_q_idx13.pkl...\n",
      "Successfully loaded 249 cached utilities.\n",
      "Response: Sejong University.\n"
     ]
    },
    {
     "name": "stderr",
     "output_type": "stream",
     "text": [
      "100%|██████████| 10/10 [00:02<00:00,  4.77it/s]\n",
      " 47%|████▋     | 14/30 [24:22<28:49, 108.06s/it]"
     ]
    },
    {
     "name": "stdout",
     "output_type": "stream",
     "text": [
      "\n",
      "--- Question 15/30: In what year was the author of The Insider's Guide to the Co... ---\n",
      "Loading existing utility cache from ../Experiment_data/musique/utilities_q_idx14.pkl...\n",
      "Successfully loaded 249 cached utilities.\n",
      "Response: The text does not mention the author of The Insider's Guide to the Colleges. However, it does mention that the guide has been published annually by the student editorial staff of the \"Yale Daily News\" for over four decades.\n"
     ]
    },
    {
     "name": "stderr",
     "output_type": "stream",
     "text": [
      "100%|██████████| 10/10 [00:02<00:00,  3.38it/s]\n",
      " 50%|█████     | 15/30 [26:07<26:44, 107.00s/it]"
     ]
    },
    {
     "name": "stdout",
     "output_type": "stream",
     "text": [
      "\n",
      "--- Question 16/30: When was the territory covered by RIBA's Cambridge branch of... ---\n",
      "Loading existing utility cache from ../Experiment_data/musique/utilities_q_idx15.pkl...\n",
      "Successfully loaded 249 cached utilities.\n",
      "Response: 1994.\n"
     ]
    },
    {
     "name": "stderr",
     "output_type": "stream",
     "text": [
      "100%|██████████| 10/10 [00:02<00:00,  4.14it/s]\n",
      " 53%|█████▎    | 16/30 [27:39<23:56, 102.59s/it]"
     ]
    },
    {
     "name": "stdout",
     "output_type": "stream",
     "text": [
      "\n",
      "--- Question 17/30: What's the meaning of the name of the school that does not i... ---\n",
      "Loading existing utility cache from ../Experiment_data/musique/utilities_q_idx16.pkl...\n",
      "Successfully loaded 249 cached utilities.\n",
      "Response: Theravada.\n"
     ]
    },
    {
     "name": "stderr",
     "output_type": "stream",
     "text": [
      "100%|██████████| 10/10 [00:04<00:00,  2.23it/s]\n",
      " 57%|█████▋    | 17/30 [30:05<25:03, 115.64s/it]"
     ]
    },
    {
     "name": "stdout",
     "output_type": "stream",
     "text": [
      "\n",
      "--- Question 18/30: Where did the director who provided the lyrics to A Time for... ---\n",
      "Loading existing utility cache from ../Experiment_data/musique/utilities_q_idx17.pkl...\n",
      "Successfully loaded 249 cached utilities.\n",
      "Response: University College London.\n"
     ]
    },
    {
     "name": "stderr",
     "output_type": "stream",
     "text": [
      "100%|██████████| 10/10 [00:04<00:00,  2.31it/s]\n",
      " 60%|██████    | 18/30 [32:28<24:47, 123.99s/it]"
     ]
    },
    {
     "name": "stdout",
     "output_type": "stream",
     "text": [
      "\n",
      "--- Question 19/30: When did the country formerly known as Zaire become independ... ---\n",
      "Loading existing utility cache from ../Experiment_data/musique/utilities_q_idx18.pkl...\n",
      "Successfully loaded 249 cached utilities.\n",
      "Response: 1960.\n"
     ]
    },
    {
     "name": "stderr",
     "output_type": "stream",
     "text": [
      "100%|██████████| 10/10 [00:03<00:00,  2.89it/s]\n",
      " 63%|██████▎   | 19/30 [34:28<22:30, 122.79s/it]"
     ]
    },
    {
     "name": "stdout",
     "output_type": "stream",
     "text": [
      "\n",
      "--- Question 20/30: Where did Peter and Paul Fortress' designer die?... ---\n",
      "Loading existing utility cache from ../Experiment_data/musique/utilities_q_idx19.pkl...\n",
      "Successfully loaded 249 cached utilities.\n",
      "Response: Domenico Trezzini's death location is not mentioned in the provided context.\n"
     ]
    },
    {
     "name": "stderr",
     "output_type": "stream",
     "text": [
      "100%|██████████| 10/10 [00:02<00:00,  3.60it/s]\n",
      " 67%|██████▋   | 20/30 [36:07<19:14, 115.43s/it]"
     ]
    },
    {
     "name": "stdout",
     "output_type": "stream",
     "text": [
      "\n",
      "--- Question 21/30: When did the network which airs Alt for Norge start?... ---\n",
      "Loading existing utility cache from ../Experiment_data/musique/utilities_q_idx20.pkl...\n",
      "Successfully loaded 249 cached utilities.\n",
      "Response: 5 December 1988.\n"
     ]
    },
    {
     "name": "stderr",
     "output_type": "stream",
     "text": [
      "100%|██████████| 10/10 [00:02<00:00,  3.73it/s]\n",
      " 70%|███████   | 21/30 [37:43<16:28, 109.80s/it]"
     ]
    },
    {
     "name": "stdout",
     "output_type": "stream",
     "text": [
      "\n",
      "--- Question 22/30: Who failed to take back what the French believed instrumenta... ---\n",
      "Loading existing utility cache from ../Experiment_data/musique/utilities_q_idx21.pkl...\n",
      "Successfully loaded 249 cached utilities.\n",
      "Response: The Russians failed to retake the Malakoff.\n"
     ]
    },
    {
     "name": "stderr",
     "output_type": "stream",
     "text": [
      "100%|██████████| 10/10 [00:03<00:00,  2.97it/s]\n",
      " 73%|███████▎  | 22/30 [39:43<15:00, 112.62s/it]"
     ]
    },
    {
     "name": "stdout",
     "output_type": "stream",
     "text": [
      "\n",
      "--- Question 23/30: What is the field of work of the proposer of the modern synt... ---\n",
      "Loading existing utility cache from ../Experiment_data/musique/utilities_q_idx22.pkl...\n",
      "Successfully loaded 249 cached utilities.\n",
      "Response: Evolutionary biology.\n"
     ]
    },
    {
     "name": "stderr",
     "output_type": "stream",
     "text": [
      "100%|██████████| 10/10 [00:04<00:00,  2.38it/s]\n",
      " 77%|███████▋  | 23/30 [41:58<13:56, 119.43s/it]"
     ]
    },
    {
     "name": "stdout",
     "output_type": "stream",
     "text": [
      "\n",
      "--- Question 24/30: When was the season of Greys Anatomy when Derek died filmed?... ---\n",
      "Loading existing utility cache from ../Experiment_data/musique/utilities_q_idx23.pkl...\n",
      "Successfully loaded 249 cached utilities.\n",
      "Response: July 2014.\n"
     ]
    },
    {
     "name": "stderr",
     "output_type": "stream",
     "text": [
      "100%|██████████| 10/10 [00:04<00:00,  2.44it/s]\n",
      " 80%|████████  | 24/30 [44:08<12:15, 122.52s/it]"
     ]
    },
    {
     "name": "stdout",
     "output_type": "stream",
     "text": [
      "\n",
      "--- Question 25/30: When did the manufacturer of a pedometer accessory for the i... ---\n",
      "Loading existing utility cache from ../Experiment_data/musique/utilities_q_idx24.pkl...\n",
      "Successfully loaded 249 cached utilities.\n",
      "Response: The text does not mention when the manufacturer of the Nike+iPod pedometer became a publicly traded company.\n"
     ]
    },
    {
     "name": "stderr",
     "output_type": "stream",
     "text": [
      "100%|██████████| 10/10 [00:02<00:00,  3.36it/s]\n",
      " 83%|████████▎ | 25/30 [45:59<09:55, 119.19s/it]"
     ]
    },
    {
     "name": "stdout",
     "output_type": "stream",
     "text": [
      "\n",
      "--- Question 26/30: What is the record label for the person who sang Beauty and ... ---\n",
      "Loading existing utility cache from ../Experiment_data/musique/utilities_q_idx25.pkl...\n",
      "Successfully loaded 249 cached utilities.\n",
      "Response: Peabo Bryson.\n"
     ]
    },
    {
     "name": "stderr",
     "output_type": "stream",
     "text": [
      "100%|██████████| 10/10 [00:06<00:00,  1.64it/s]\n",
      " 87%|████████▋ | 26/30 [49:04<09:15, 138.89s/it]"
     ]
    },
    {
     "name": "stdout",
     "output_type": "stream",
     "text": [
      "\n",
      "--- Question 27/30: Who is the employer of the Iranian scientist who co-invented... ---\n",
      "Loading existing utility cache from ../Experiment_data/musique/utilities_q_idx26.pkl...\n",
      "Successfully loaded 249 cached utilities.\n",
      "Response: MIT laboratory.\n"
     ]
    },
    {
     "name": "stderr",
     "output_type": "stream",
     "text": [
      "100%|██████████| 10/10 [00:03<00:00,  3.02it/s]\n",
      " 90%|█████████ | 27/30 [50:59<06:35, 131.81s/it]"
     ]
    },
    {
     "name": "stdout",
     "output_type": "stream",
     "text": [
      "\n",
      "--- Question 28/30: How many championships in a row were won by the person who p... ---\n",
      "Loading existing utility cache from ../Experiment_data/musique/utilities_q_idx27.pkl...\n",
      "Successfully loaded 249 cached utilities.\n",
      "Response: Bill Russell played in 70 NBA Finals games and won 11 championships.\n"
     ]
    },
    {
     "name": "stderr",
     "output_type": "stream",
     "text": [
      "100%|██████████| 10/10 [00:04<00:00,  2.32it/s]\n",
      " 93%|█████████▎| 28/30 [53:21<04:29, 134.77s/it]"
     ]
    },
    {
     "name": "stdout",
     "output_type": "stream",
     "text": [
      "\n",
      "--- Question 29/30: In what language is the star of Koyelaanchal fluent?... ---\n",
      "Loading existing utility cache from ../Experiment_data/musique/utilities_q_idx28.pkl...\n",
      "Successfully loaded 249 cached utilities.\n",
      "Response: Hindi.\n"
     ]
    },
    {
     "name": "stderr",
     "output_type": "stream",
     "text": [
      "100%|██████████| 10/10 [00:02<00:00,  3.44it/s]\n",
      " 97%|█████████▋| 29/30 [55:11<02:07, 127.43s/it]"
     ]
    },
    {
     "name": "stdout",
     "output_type": "stream",
     "text": [
      "\n",
      "--- Question 30/30: What instrument did the artiste for Vi skall fara bortom mån... ---\n",
      "Loading existing utility cache from ../Experiment_data/musique/utilities_q_idx29.pkl...\n",
      "Successfully loaded 249 cached utilities.\n",
      "Response: Guitar.\n"
     ]
    },
    {
     "name": "stderr",
     "output_type": "stream",
     "text": [
      "100%|██████████| 10/10 [00:02<00:00,  4.96it/s]\n",
      "100%|██████████| 30/30 [56:36<00:00, 113.22s/it]\n"
     ]
    }
   ],
   "source": [
    "# num_questions_to_run=len(df.question)\n",
    "num_questions_to_run=30\n",
    "k_values = [2]\n",
    "all_metrics_data = []\n",
    "all_results=[]\n",
    "LDSs=[]\n",
    "r2_fm=[]\n",
    "r2_cc=[]\n",
    "for i in tqdm(range(num_questions_to_run), disable=not accelerator_main.is_main_process):\n",
    "    query = df.question[i]\n",
    "    if accelerator_main.is_main_process:\n",
    "        print(f\"\\n--- Question {i+1}/{num_questions_to_run}: {query[:60]}... ---\")\n",
    "\n",
    "    docs=df.paragraphs[i]\n",
    "\n",
    "    utility_cache_base_dir = \"../Experiment_data/musique\"\n",
    "    utility_cache_filename = f\"utilities_q_idx{i}.pkl\" # More robust naming\n",
    "    current_utility_path = os.path.join(utility_cache_base_dir, utility_cache_filename)\n",
    "    \n",
    "    if accelerator_main.is_main_process: # Only main process creates directories\n",
    "        os.makedirs(os.path.dirname(current_utility_path), exist_ok=True)\n",
    "    \n",
    "    # Initialize Harness\n",
    "    harness = ContextAttribution(\n",
    "        items=docs,\n",
    "        query=query,\n",
    "        prepared_model_for_harness=prepared_model,\n",
    "        tokenizer_for_harness=tokenizer,\n",
    "        accelerator_for_harness=accelerator_main,\n",
    "        utility_cache_path=current_utility_path\n",
    "    )\n",
    "\n",
    "    print(f'Response: {harness.target_response}')\n",
    "    # Compute metrics\n",
    "    results_for_query = {}\n",
    "    if accelerator_main.is_main_process:\n",
    "        m_samples_map = {\"L\": 128, \"XL\":256, \"XXL\":512} \n",
    "        T_iterations_map = {\"L\":40, \"XL\":50, \"XXL\":60} \n",
    "\n",
    "        for size_key, num_s in m_samples_map.items():\n",
    "            if 2**len(docs) < num_s and size_key != \"L\":\n",
    "                actual_samples = max(1, 2**len(docs)-1 if 2**len(docs)>0 else 1)\n",
    "            else:\n",
    "                actual_samples = num_s\n",
    "\n",
    "            if actual_samples > 0: \n",
    "                results_for_query[f\"ContextCite{actual_samples}\"], model_cc = harness.compute_contextcite(num_samples=actual_samples, seed=SEED)\n",
    "                results_for_query[f\"FM_Shap{actual_samples}\"], results_for_query[f\"FM_Weights{actual_samples}\"], F, modelfm = harness.compute_wss(num_samples=actual_samples, seed=SEED, sampling=\"kernelshap\",sur_type=\"fm\")\n",
    "                # results_for_query[f\"BetaShap{actual_samples}\"] = harness.compute_beta_shap(num_iterations_max=T_iterations_map[size_key], beta_a=16, beta_b=1, max_unique_lookups=actual_samples, seed=SEED)\n",
    "                # results_for_query[f\"TMC{actual_samples}\"] = harness.compute_tmc_shap(num_iterations_max=T_iterations_map[size_key], performance_tolerance=0.001, max_unique_lookups=actual_samples, seed=SEED)\n",
    "\n",
    "        results_for_query[\"LOO\"] = harness.compute_loo()\n",
    "        results_for_query[\"ARC-JSD\"] = harness.compute_arc_jsd()\n",
    "\n",
    "        prob_topk = harness.evaluate_topk_performance(\n",
    "                                                results_for_query, \n",
    "                                                k_values, \n",
    "                                                utility_type=\"probability\"\n",
    "                                            )\n",
    "\n",
    "        div_topk = harness.evaluate_topk_performance(\n",
    "                                            results_for_query, \n",
    "                                            k_values, \n",
    "                                            utility_type=\"divergence\"\n",
    "                                        )\n",
    "        \n",
    "        r2_fm.append(harness.r2(30, modelfm, method='fm'))\n",
    "        r2_cc.append(harness.r2(30, model_cc, method='cc'))\n",
    "\n",
    "        LDS = {}\n",
    "        for i in results_for_query:\n",
    "            if \"FM_Shap\" in i:\n",
    "                calculate_LDS = {i:harness.lds(results_for_query[i], 30, utl=True, model=modelfm)}\n",
    "                LDS.update(calculate_LDS)\n",
    "            else:\n",
    "                calculate_LDS = {i:harness.lds(results_for_query[i], 30)}\n",
    "                LDS.update(calculate_LDS)\n",
    "        #LDS = [{i:harness.lds(results_for_query[i], 30)} for i in results_for_query]\n",
    "\n",
    "        results_for_query[\"topk_probability\"] = prob_topk\n",
    "        results_for_query[\"topk_divergence\"] = div_topk\n",
    "        results_for_query[\"LDS\"] = LDS\n",
    "        harness.save_utility_cache(current_utility_path)\n",
    "        \n",
    "        all_results.append(results_for_query)"
   ]
  },
  {
   "cell_type": "code",
   "execution_count": 7,
   "metadata": {},
   "outputs": [
    {
     "name": "stdout",
     "output_type": "stream",
     "text": [
      "Mean topk_probability: {'ContextCite128': 11.26526796023051, 'FM_Shap128': 11.506810601552328, 'FM_Weights128': 11.506810601552328, 'LOO': 10.867941546440125, 'ARC-JSD': 11.371177625656127}\n",
      "Mean topk_divergence: {'ContextCite128': 1.863587933303997, 'FM_Shap128': 1.9740796185450222, 'FM_Weights128': 1.9740796185450222, 'LOO': 1.7984966605805124, 'ARC-JSD': 1.9053148663624333}\n",
      "Mean LDS: {'ContextCite128': 0.9339624334057718, 'FM_Shap128': 0.933754632216548, 'FM_Weights128': 0.9292772664423138, 'LOO': 0.9162929056970347, 'ARC-JSD': 0.8755488771515031}\n"
     ]
    }
   ],
   "source": [
    "methods = ['ContextCite128', 'FM_Shap128', 'FM_Weights128', 'LOO', 'ARC-JSD']\n",
    "\n",
    "# Initialize lists\n",
    "topk_probs = {method: [] for method in methods}\n",
    "topk_divs = {method: [] for method in methods}\n",
    "LDSs = {method: [] for method in methods}\n",
    "\n",
    "# Collect values\n",
    "for entry in all_results:\n",
    "    for method in methods:\n",
    "        topk_probs[method].append(entry['topk_probability'][method][2])\n",
    "        topk_divs[method].append(entry['topk_divergence'][method][2])\n",
    "        LDSs[method].append(entry['LDS'][method])\n",
    "        \n",
    "\n",
    "# Compute means\n",
    "mean_topk_probs = {method: np.mean(topk_probs[method]) for method in methods}\n",
    "mean_topk_divs = {method: np.mean(topk_divs[method]) for method in methods}\n",
    "LDSs = {method: np.mean(LDS[method]) for method in methods}\n",
    "\n",
    "print(\"Mean topk_probability:\", mean_topk_probs)\n",
    "print(\"Mean topk_divergence:\", mean_topk_divs)\n",
    "print(\"Mean LDS:\", LDSs)"
   ]
  },
  {
   "cell_type": "code",
   "execution_count": 10,
   "metadata": {},
   "outputs": [
    {
     "data": {
      "text/plain": [
       "25.48468959174888"
      ]
     },
     "execution_count": 10,
     "metadata": {},
     "output_type": "execute_result"
    }
   ],
   "source": [
    "sum(r2_cc)"
   ]
  },
  {
   "cell_type": "code",
   "execution_count": 8,
   "metadata": {},
   "outputs": [
    {
     "name": "stdout",
     "output_type": "stream",
     "text": [
      "0.9375165280647976 0.9578649778482946\n",
      "0.9577211160365078 0.9832881269772584\n",
      "0.9869235469851904 0.9906930025271654\n",
      "0.9879418265086173 0.9962197116887972\n",
      "0.8708815579602052 0.9104545483631397\n",
      "0.9165571635505991 0.958990092821317\n",
      "0.9779624854055823 0.9909412767565823\n",
      "0.9984259508437362 0.9983177402450156\n",
      "0.8646305527989073 0.9449403286164748\n",
      "0.8149501499526735 0.917248494102503\n",
      "0.9949613745656555 0.9949135504274558\n",
      "0.7944212166536255 0.9255864490814676\n",
      "0.7641135045200679 0.8932989498600641\n",
      "0.9028182826351002 0.9618971708354147\n",
      "0.9540364432743449 0.9840080891320755\n",
      "0.7484211795381923 0.9239748229907752\n",
      "0.5015238688883894 0.8916022430989997\n",
      "0.9434515751259799 0.98322799968967\n",
      "0.6362546826621223 0.9056974640132549\n",
      "0.9740730635035899 0.9925223713515443\n",
      "0.7015307980047503 0.9313213821033098\n",
      "0.886598227774964 0.9917409244393396\n",
      "0.7648391242905223 0.8668265075520394\n",
      "0.6980593645577506 0.9593063121715885\n",
      "0.9973644265827782 0.9980497724821059\n",
      "0.5769914509764489 0.8106384691832434\n",
      "0.7575735918781905 0.9751767512998034\n",
      "0.8933698416707144 0.9452348652752988\n",
      "0.8011579180024528 0.8048192142376269\n",
      "0.8796187785364171 0.9557740277629306\n"
     ]
    }
   ],
   "source": [
    "for i in range(len(r2_cc)):\n",
    "    print(r2_cc[i], r2_fm[i])"
   ]
  }
 ],
 "metadata": {
  "kernelspec": {
   "display_name": "Python 3",
   "language": "python",
   "name": "python3"
  },
  "language_info": {
   "codemirror_mode": {
    "name": "ipython",
    "version": 3
   },
   "file_extension": ".py",
   "mimetype": "text/x-python",
   "name": "python",
   "nbconvert_exporter": "python",
   "pygments_lexer": "ipython3",
   "version": "3.10.12"
  }
 },
 "nbformat": 4,
 "nbformat_minor": 2
}
