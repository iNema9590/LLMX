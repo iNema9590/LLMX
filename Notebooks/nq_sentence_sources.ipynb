{
 "cells": [
  {
   "cell_type": "code",
   "execution_count": 1,
   "id": "1a46d500-2cb8-4352-a344-dd1c5ee1a1c4",
   "metadata": {},
   "outputs": [
    {
     "name": "stderr",
     "output_type": "stream",
     "text": [
      "/globalsc/users/e/k/ekuzmenk/LLMX/shaprag/lib/python3.11/site-packages/tqdm/auto.py:21: TqdmWarning: IProgress not found. Please update jupyter and ipywidgets. See https://ipywidgets.readthedocs.io/en/stable/user_install.html\n",
      "  from .autonotebook import tqdm as notebook_tqdm\n"
     ]
    }
   ],
   "source": [
    "import sys\n",
    "import os\n",
    "import random\n",
    "import gc\n",
    "import time\n",
    "import torch\n",
    "import numpy as np\n",
    "import pandas as pd\n",
    "import ast\n",
    "from tqdm import tqdm\n",
    "from scipy.stats import spearmanr, pearsonr, kendalltau, rankdata\n",
    "from sklearn.metrics import ndcg_score\n",
    "from transformers import AutoModelForCausalLM, AutoTokenizer\n",
    "from accelerate import Accelerator\n",
    "import nltk\n",
    "\n",
    "current_dir = os.getcwd()\n",
    "parent_dir = os.path.abspath(os.path.join(current_dir, '..'))\n",
    "sys.path.append(parent_dir)\n",
    "from SHapRAG import *"
   ]
  },
  {
   "cell_type": "code",
   "execution_count": 2,
   "id": "47002263-0a6b-498d-a76a-1bc9ffd479d5",
   "metadata": {},
   "outputs": [],
   "source": [
    "#df= pd.read_csv(\"../data/NQ.csv\",index_col=False, nrows=5)\n",
    "df= pd.read_csv(\"../scripts/nq_reforged_without_titles.csv\",index_col=False, nrows=5)"
   ]
  },
  {
   "cell_type": "code",
   "execution_count": 3,
   "id": "35bee482-71af-4acb-8bc3-3c450e90604b",
   "metadata": {},
   "outputs": [
    {
     "data": {
      "text/html": [
       "<div>\n",
       "<style scoped>\n",
       "    .dataframe tbody tr th:only-of-type {\n",
       "        vertical-align: middle;\n",
       "    }\n",
       "\n",
       "    .dataframe tbody tr th {\n",
       "        vertical-align: top;\n",
       "    }\n",
       "\n",
       "    .dataframe thead th {\n",
       "        text-align: right;\n",
       "    }\n",
       "</style>\n",
       "<table border=\"1\" class=\"dataframe\">\n",
       "  <thead>\n",
       "    <tr style=\"text-align: right;\">\n",
       "      <th></th>\n",
       "      <th>question</th>\n",
       "      <th>context</th>\n",
       "      <th>answer</th>\n",
       "    </tr>\n",
       "  </thead>\n",
       "  <tbody>\n",
       "    <tr>\n",
       "      <th>0</th>\n",
       "      <td>total number of death row inmates in the us</td>\n",
       "      <td>['on death row in the United States on January...</td>\n",
       "      <td>2,718</td>\n",
       "    </tr>\n",
       "    <tr>\n",
       "      <th>1</th>\n",
       "      <td>big little lies season 2 how many episodes</td>\n",
       "      <td>['series garnered several accolades. It receiv...</td>\n",
       "      <td>seven</td>\n",
       "    </tr>\n",
       "    <tr>\n",
       "      <th>2</th>\n",
       "      <td>who sang waiting for a girl like you</td>\n",
       "      <td>['Waiting for a Girl Like You \"Waiting for a G...</td>\n",
       "      <td>Foreigner</td>\n",
       "    </tr>\n",
       "    <tr>\n",
       "      <th>3</th>\n",
       "      <td>where do you cross the arctic circle in norway</td>\n",
       "      <td>['Arctic Norway Arctic Norway () comprises the...</td>\n",
       "      <td>Saltfjellet</td>\n",
       "    </tr>\n",
       "    <tr>\n",
       "      <th>4</th>\n",
       "      <td>who is the main character in green eggs and ham</td>\n",
       "      <td>['Green Eggs and Ham Green Eggs and Ham is a c...</td>\n",
       "      <td>Sam-I-am</td>\n",
       "    </tr>\n",
       "  </tbody>\n",
       "</table>\n",
       "</div>"
      ],
      "text/plain": [
       "                                          question  \\\n",
       "0      total number of death row inmates in the us   \n",
       "1       big little lies season 2 how many episodes   \n",
       "2             who sang waiting for a girl like you   \n",
       "3   where do you cross the arctic circle in norway   \n",
       "4  who is the main character in green eggs and ham   \n",
       "\n",
       "                                             context       answer  \n",
       "0  ['on death row in the United States on January...        2,718  \n",
       "1  ['series garnered several accolades. It receiv...        seven  \n",
       "2  ['Waiting for a Girl Like You \"Waiting for a G...    Foreigner  \n",
       "3  ['Arctic Norway Arctic Norway () comprises the...  Saltfjellet  \n",
       "4  ['Green Eggs and Ham Green Eggs and Ham is a c...     Sam-I-am  "
      ]
     },
     "execution_count": 3,
     "metadata": {},
     "output_type": "execute_result"
    }
   ],
   "source": [
    "len(df.question)\n",
    "df.head()"
   ]
  },
  {
   "cell_type": "code",
   "execution_count": 4,
   "id": "97085918-8e05-47b3-8a23-5e7c4b85f6b4",
   "metadata": {},
   "outputs": [
    {
     "name": "stderr",
     "output_type": "stream",
     "text": [
      "[nltk_data] Downloading package punkt_tab to\n",
      "[nltk_data]     /home/ulb/code_wit/ekuzmenk/nltk_data...\n",
      "[nltk_data]   Package punkt_tab is already up-to-date!\n"
     ]
    },
    {
     "data": {
      "text/plain": [
       "True"
      ]
     },
     "execution_count": 4,
     "metadata": {},
     "output_type": "execute_result"
    }
   ],
   "source": [
    "nltk.download('punkt_tab')"
   ]
  },
  {
   "cell_type": "code",
   "execution_count": 5,
   "id": "1e63566c-9ad6-41aa-860b-da84a3dd5883",
   "metadata": {},
   "outputs": [],
   "source": [
    "all_sents = []\n",
    "for i in range(len(df.question)):\n",
    "    n = 0\n",
    "    docs=ast.literal_eval(df.context[i])\n",
    "    doc_sents = []\n",
    "    for j in range(len(docs)):\n",
    "        sents = nltk.sent_tokenize(docs[j])\n",
    "        new_sents = []\n",
    "        for s in range(len(sents)):\n",
    "            new_sents.append(str(n + s) + '-' + str(j) + '-' + sents[s])\n",
    "        n += len(sents)\n",
    "        doc_sents.append(new_sents)\n",
    "    flat_doc_sents = [\n",
    "    x\n",
    "    for xs in doc_sents\n",
    "    for x in xs\n",
    "]\n",
    "    all_sents.append(flat_doc_sents)\n",
    "df['Sentences'] = all_sents"
   ]
  },
  {
   "cell_type": "code",
   "execution_count": 14,
   "id": "4f3e9fc4-65e9-4354-a777-cdcf6c8f6929",
   "metadata": {},
   "outputs": [
    {
     "data": {
      "text/plain": [
       "['0-0-Waiting for a Girl Like You \"Waiting for a Girl Like You\" is a 1981 power ballad by the British-American rock band Foreigner.',\n",
       " '1-0-The distinctive synthesizer theme was performed by the then-little-known Thomas Dolby, and this song also marked a major departure from their earlier singles because their previous singles were mid to upper tempo rock songs while this song was a softer love song with the energy of a power ballad.',\n",
       " '2-0-It was the second single released from the album \"4\" (1981) and was co-written by Lou Gramm and Mick Jones.',\n",
       " \"3-0-It has become one of the band's most\",\n",
       " '4-1-held off the number 1 spot by Olivia Newton-John\\'s single \"Physical\" for nine consecutive weeks, and then by Hall & Oates\\' \"I Can\\'t Go for That (No Can Do)\" for a tenth week on January 30, 1982.',\n",
       " '5-1-Because of its chart longevity, it ended up being the number 19 song on the Top 100 singles of 1982.',\n",
       " '6-1-The song was the band\\'s biggest hit until \"I Want to Know What Love Is\" hit number 1 in 1985.',\n",
       " '7-1-The song lists at number 100 on \"\"Billboard\"\\'s Greatest Songs of All Time\".',\n",
       " '8-1-Waiting for a Girl Like You \"Waiting for a Girl',\n",
       " '9-2-successful songs worldwide, peaking at number 2 on the \"Billboard\" Hot 100 and number 1 on \"Billboard\"\\'s Rock Tracks chart.',\n",
       " '10-2-On the \"Billboard\" Adult Contemporary chart, the song reached number 5.',\n",
       " '11-2-The song peaked at number 8 on the UK Singles Chart.',\n",
       " '12-2-\"Waiting for a Girl Like You\" achieved a chart distinction by spending its record-setting 10 weeks in the number 2 position of the \"Billboard\" Hot 100 chart, without ever reaching the top.',\n",
       " '13-2-It debuted on the Hot 100 chart dated October 10, 1981.',\n",
       " '14-2-It reached the number 2 position in the week of November 28, where it was',\n",
       " '15-3-\"Billboard\" Hot 100 chart, holding that spot for the entire month of September.',\n",
       " '16-3-\"Urgent\" hit #1 on the \"Billboard\" Rock Tracks chart, a position it held for four weeks.',\n",
       " '17-3-\"Urgent\" was the most successful single from the \"4\" album on album-oriented rock radio, though it was outsold by the album\\'s later single, \"Waiting for a Girl Like You\", which reached #2 on the \"Billboard\" Hot 100 in November 1981 and remained at that spot through the end of the following January, for a total of ten weeks, being certified Gold.',\n",
       " '18-3-\"4\" went Gold and Platinum during the chart run of',\n",
       " '19-4-4 (Foreigner album) 4, also known as Foreigner 4, is the fourth studio album by the British-American rock band Foreigner, released on July 2, 1981 on Atlantic Records.',\n",
       " '20-4-Several singles from the album were hits, including \"Urgent\", \"Waiting for a Girl Like You\" and \"Juke Box Hero\".',\n",
       " '21-4-The album was a success worldwide, holding the #1 position on the \"Billboard\" album chart for a total of 10 weeks.',\n",
       " '22-4-It eventually sold over seven million copies in the US alone.',\n",
       " '23-4-The album was originally titled \"Silent Partners\" and later was changed to \"4\", reflecting both the fact that it was Foreigner\\'s',\n",
       " '24-5-on that chart, behind \"I\\\\\\'m Already There\" by Lonestar.',\n",
       " '25-5-I Could Not Ask for More \"I Could Not Ask for More\" is a song composed by American songwriter Diane Warren and originally recorded and released in February 1999, by American recording artist Edwin McCain as part of the original soundtrack of the romantic drama film \"Message in a Bottle\", starring Kevin Costner, Robin Wright Penn and Paul Newman.',\n",
       " '26-5-It was a featured track in his third studio album \"Messenger\" and became a Billboard-charted Top 40 single in the summer of 1999.',\n",
       " \"27-5-In 2001, American country music artist Sara Evans popularly'\",\n",
       " '28-6-I Could Not Ask for More \"I Could Not Ask for More\" is a song composed by American songwriter Diane Warren and originally recorded and released in February 1999, by American recording artist Edwin McCain as part of the original soundtrack of the romantic drama film \"Message in a Bottle\", starring Kevin Costner, Robin Wright Penn and Paul Newman.',\n",
       " '29-6-It was a featured track in his third studio album \"Messenger\" and became a Billboard-charted Top 40 single in the summer of 1999.',\n",
       " '30-6-In 2001, American country music artist Sara Evans popularly covered the song, sending her rendition to No.',\n",
       " \"31-6-2'\",\n",
       " '32-7-\"Billboard\" Hot 100 chart, holding that spot for the entire month of September.',\n",
       " '33-7-\"Urgent\" hit #1 on the \"Billboard\" Rock Tracks chart, a position it held for four weeks.',\n",
       " '34-7-\"Urgent\" was the most successful single from the \"4\" album on album-oriented rock radio, though it was outsold by the album\\\\\\'s later single, \"Waiting for a Girl Like You\", which reached #2 on the \"Billboard\" Hot 100 in November 1981 and remained at that spot through the end of the following January, for a total of ten weeks, being certified Gold.',\n",
       " '35-7-\"4\" went Gold and Platinum during the chart run of\\'',\n",
       " '36-8-directed by Kurt Hugo Schneider.',\n",
       " '37-8-The 360° function of this music video only works with the web browser Google Chrome (for desktop, Android and iOS).',\n",
       " '38-8-Personnel adapted from CD single.',\n",
       " '39-8-Waiting for Love (Avicii song) \"Waiting for Love\" is a song by Swedish DJ and music producer Avicii, produced by Avicii and Dutch producer Martin Garrix and featuring uncredited vocals from Simon Aldred, the lead singer of former English band Cherry Ghost.',\n",
       " '40-8-The track was released on 22 May 2015 as the lead single from Avicii\\\\\\'s second studio album, \"Stories\" (2015).',\n",
       " '41-8-The lyrics were also written by Aldred.',\n",
       " \"42-8-The track'\",\n",
       " '43-9-Waiting for Love (Avicii song) \"Waiting for Love\" is a song by Swedish DJ and music producer Avicii, produced by Avicii and Dutch producer Martin Garrix and featuring uncredited vocals from Simon Aldred, the lead singer of former English band Cherry Ghost.',\n",
       " '44-9-The track was released on 22 May 2015 as the lead single from Avicii\\\\\\'s second studio album, \"Stories\" (2015).',\n",
       " '45-9-The lyrics were also written by Aldred.',\n",
       " '46-9-The track was first premiered at Ultra Music Festival 2015 both by Avicii and Dutch electronic producer Martin Garrix.',\n",
       " \"47-9-Prior to its release on May 22, 2015, it was thought that the'\"]"
      ]
     },
     "execution_count": 14,
     "metadata": {},
     "output_type": "execute_result"
    }
   ],
   "source": [
    "df.Sentences[2]"
   ]
  },
  {
   "cell_type": "code",
   "execution_count": 7,
   "id": "3c0f5b20-ba0c-4c30-bdfc-03fa8dc098d1",
   "metadata": {},
   "outputs": [
    {
     "name": "stderr",
     "output_type": "stream",
     "text": [
      "/globalsc/users/e/k/ekuzmenk/LLMX/shaprag/lib/python3.11/site-packages/accelerate/accelerator.py:469: FutureWarning: `torch.cuda.amp.GradScaler(args...)` is deprecated. Please use `torch.amp.GradScaler('cuda', args...)` instead.\n",
      "  self.scaler = torch.cuda.amp.GradScaler(**kwargs)\n"
     ]
    },
    {
     "name": "stdout",
     "output_type": "stream",
     "text": [
      "Main Script: Loading model...\n"
     ]
    },
    {
     "name": "stderr",
     "output_type": "stream",
     "text": [
      "Sliding Window Attention is enabled but not implemented for `sdpa`; unexpected results may be encountered.\n",
      "Loading checkpoint shards: 100%|█████████████████████████████████████████████████████████████████████████████████| 2/2 [00:03<00:00,  1.82s/it]\n"
     ]
    },
    {
     "name": "stdout",
     "output_type": "stream",
     "text": [
      "Main Script: Preparing model with Accelerator...\n",
      "Main Script: Model prepared and set to eval.\n"
     ]
    }
   ],
   "source": [
    "SEED = 42\n",
    "# Initialize Accelerator\n",
    "accelerator_main = Accelerator(mixed_precision=\"fp16\")\n",
    "\n",
    "# Load Model\n",
    "if accelerator_main.is_main_process:\n",
    "    print(\"Main Script: Loading model...\")\n",
    "#model_path = \"mistralai/Mistral-7B-Instruct-v0.3\"\n",
    "#model_path = \"meta-llama/Llama-3.1-8B-Instruct\"\n",
    "model_path = \"Qwen/Qwen2.5-3B-Instruct\"\n",
    "\n",
    "model_cpu = AutoModelForCausalLM.from_pretrained(\n",
    "    model_path,\n",
    "    torch_dtype=torch.float16\n",
    ")\n",
    "tokenizer = AutoTokenizer.from_pretrained(model_path)\n",
    "if tokenizer.pad_token is None:\n",
    "    tokenizer.pad_token = tokenizer.eos_token\n",
    "    model_cpu.config.pad_token_id = tokenizer.pad_token_id\n",
    "    if hasattr(model_cpu, 'generation_config') and model_cpu.generation_config is not None:\n",
    "        model_cpu.generation_config.pad_token_id = tokenizer.pad_token_id\n",
    "\n",
    "if accelerator_main.is_main_process:\n",
    "    print(\"Main Script: Preparing model with Accelerator...\")\n",
    "prepared_model = accelerator_main.prepare(model_cpu)\n",
    "unwrapped_prepared_model = accelerator_main.unwrap_model(prepared_model)\n",
    "unwrapped_prepared_model.eval()\n",
    "if accelerator_main.is_main_process:\n",
    "    print(\"Main Script: Model prepared and set to eval.\")\n",
    "\n",
    "# Define utility cache\n",
    "\n",
    "accelerator_main.wait_for_everyone()"
   ]
  },
  {
   "cell_type": "code",
   "execution_count": 8,
   "id": "9ea89e25-e46d-4b99-adc8-c53eb097be1c",
   "metadata": {},
   "outputs": [
    {
     "name": "stderr",
     "output_type": "stream",
     "text": [
      "Processing Questions:   0%|                                                                                              | 0/5 [00:00<?, ?it/s]/globalsc/users/e/k/ekuzmenk/LLMX/shaprag/lib/python3.11/site-packages/transformers/generation/configuration_utils.py:631: UserWarning: `do_sample` is set to `False`. However, `temperature` is set to `0` -- this flag is only used in sample-based generation modes. You should set `do_sample=True` or unset `temperature`.\n",
      "  warnings.warn(\n",
      "/globalsc/users/e/k/ekuzmenk/LLMX/shaprag/lib/python3.11/site-packages/transformers/generation/configuration_utils.py:653: UserWarning: `do_sample` is set to `False`. However, `top_k` is set to `20` -- this flag is only used in sample-based generation modes. You should set `do_sample=True` or unset `top_k`.\n",
      "  warnings.warn(\n"
     ]
    },
    {
     "name": "stdout",
     "output_type": "stream",
     "text": [
      "\n",
      "--- Question 1/5: total number of death row inmates in the us... ---\n",
      "  Instantiating ShapleyExperimentHarness for Q0 (n=59 docs)...\n",
      "Response:  5,445\n"
     ]
    },
    {
     "name": "stderr",
     "output_type": "stream",
     "text": [
      "\n",
      "  0%|                                                                                                                   | 0/59 [00:00<?, ?it/s]\u001b[A\n",
      "  2%|█▊                                                                                                         | 1/59 [00:00<00:07,  7.70it/s]\u001b[A\n",
      "  3%|███▋                                                                                                       | 2/59 [00:00<00:07,  7.91it/s]\u001b[A\n",
      "  5%|█████▍                                                                                                     | 3/59 [00:00<00:07,  7.93it/s]\u001b[A\n",
      "  7%|███████▎                                                                                                   | 4/59 [00:00<00:06,  7.96it/s]\u001b[A\n",
      "  8%|█████████                                                                                                  | 5/59 [00:00<00:06,  7.99it/s]\u001b[A\n",
      " 10%|██████████▉                                                                                                | 6/59 [00:00<00:06,  7.92it/s]\u001b[A\n",
      " 12%|████████████▋                                                                                              | 7/59 [00:00<00:06,  7.91it/s]\u001b[A\n",
      " 14%|██████████████▌                                                                                            | 8/59 [00:01<00:06,  7.86it/s]\u001b[A\n",
      " 15%|████████████████▎                                                                                          | 9/59 [00:01<00:06,  8.00it/s]\u001b[A\n",
      " 17%|█████████████████▉                                                                                        | 10/59 [00:01<00:06,  8.01it/s]\u001b[A\n",
      " 19%|███████████████████▊                                                                                      | 11/59 [00:01<00:06,  7.99it/s]\u001b[A\n",
      " 20%|█████████████████████▌                                                                                    | 12/59 [00:01<00:06,  7.70it/s]\u001b[A\n",
      " 22%|███████████████████████▎                                                                                  | 13/59 [00:01<00:05,  7.85it/s]\u001b[A\n",
      " 24%|█████████████████████████▏                                                                                | 14/59 [00:01<00:05,  7.75it/s]\u001b[A\n",
      " 25%|██████████████████████████▉                                                                               | 15/59 [00:01<00:05,  7.86it/s]\u001b[A\n",
      " 27%|████████████████████████████▋                                                                             | 16/59 [00:02<00:05,  7.91it/s]\u001b[A\n",
      " 29%|██████████████████████████████▌                                                                           | 17/59 [00:02<00:05,  7.97it/s]\u001b[A\n",
      " 31%|████████████████████████████████▎                                                                         | 18/59 [00:02<00:05,  7.81it/s]\u001b[A\n",
      " 32%|██████████████████████████████████▏                                                                       | 19/59 [00:02<00:05,  7.91it/s]\u001b[A\n",
      " 34%|███████████████████████████████████▉                                                                      | 20/59 [00:02<00:04,  8.09it/s]\u001b[A\n",
      " 36%|█████████████████████████████████████▋                                                                    | 21/59 [00:02<00:04,  7.99it/s]\u001b[A\n",
      " 37%|███████████████████████████████████████▌                                                                  | 22/59 [00:02<00:04,  7.85it/s]\u001b[A\n",
      " 39%|█████████████████████████████████████████▎                                                                | 23/59 [00:02<00:04,  7.91it/s]\u001b[A\n",
      " 41%|███████████████████████████████████████████                                                               | 24/59 [00:03<00:04,  7.73it/s]\u001b[A\n",
      " 42%|████████████████████████████████████████████▉                                                             | 25/59 [00:03<00:04,  7.83it/s]\u001b[A\n",
      " 44%|██████████████████████████████████████████████▋                                                           | 26/59 [00:03<00:04,  7.88it/s]\u001b[A\n",
      " 46%|████████████████████████████████████████████████▌                                                         | 27/59 [00:03<00:04,  7.88it/s]\u001b[A\n",
      " 47%|██████████████████████████████████████████████████▎                                                       | 28/59 [00:03<00:03,  8.08it/s]\u001b[A\n",
      " 49%|████████████████████████████████████████████████████                                                      | 29/59 [00:03<00:03,  8.04it/s]\u001b[A\n",
      " 51%|█████████████████████████████████████████████████████▉                                                    | 30/59 [00:03<00:03,  8.06it/s]\u001b[A\n",
      " 53%|███████████████████████████████████████████████████████▋                                                  | 31/59 [00:03<00:03,  8.06it/s]\u001b[A\n",
      " 54%|█████████████████████████████████████████████████████████▍                                                | 32/59 [00:04<00:03,  8.03it/s]\u001b[A\n",
      " 56%|███████████████████████████████████████████████████████████▎                                              | 33/59 [00:04<00:03,  8.01it/s]\u001b[A\n",
      " 58%|█████████████████████████████████████████████████████████████                                             | 34/59 [00:04<00:03,  7.97it/s]\u001b[A\n",
      " 59%|██████████████████████████████████████████████████████████████▉                                           | 35/59 [00:04<00:02,  8.00it/s]\u001b[A\n",
      " 61%|████████████████████████████████████████████████████████████████▋                                         | 36/59 [00:04<00:02,  7.97it/s]\u001b[A\n",
      " 63%|██████████████████████████████████████████████████████████████████▍                                       | 37/59 [00:04<00:02,  7.99it/s]\u001b[A\n",
      " 64%|████████████████████████████████████████████████████████████████████▎                                     | 38/59 [00:04<00:02,  8.02it/s]\u001b[A\n",
      " 66%|██████████████████████████████████████████████████████████████████████                                    | 39/59 [00:04<00:02,  8.01it/s]\u001b[A\n",
      " 68%|███████████████████████████████████████████████████████████████████████▊                                  | 40/59 [00:05<00:02,  8.01it/s]\u001b[A\n",
      " 69%|█████████████████████████████████████████████████████████████████████████▋                                | 41/59 [00:05<00:02,  7.97it/s]\u001b[A\n",
      " 71%|███████████████████████████████████████████████████████████████████████████▍                              | 42/59 [00:05<00:02,  8.00it/s]\u001b[A\n",
      " 73%|█████████████████████████████████████████████████████████████████████████████▎                            | 43/59 [00:05<00:01,  8.00it/s]\u001b[A\n",
      " 75%|███████████████████████████████████████████████████████████████████████████████                           | 44/59 [00:05<00:01,  7.97it/s]\u001b[A\n",
      " 76%|████████████████████████████████████████████████████████████████████████████████▊                         | 45/59 [00:05<00:01,  7.99it/s]\u001b[A\n",
      " 78%|██████████████████████████████████████████████████████████████████████████████████▋                       | 46/59 [00:05<00:01,  8.01it/s]\u001b[A\n",
      " 80%|████████████████████████████████████████████████████████████████████████████████████▍                     | 47/59 [00:05<00:01,  7.98it/s]\u001b[A\n",
      " 81%|██████████████████████████████████████████████████████████████████████████████████████▏                   | 48/59 [00:06<00:01,  7.93it/s]\u001b[A\n",
      " 83%|████████████████████████████████████████████████████████████████████████████████████████                  | 49/59 [00:06<00:01,  7.96it/s]\u001b[A\n",
      " 85%|█████████████████████████████████████████████████████████████████████████████████████████▊                | 50/59 [00:06<00:01,  7.97it/s]\u001b[A\n",
      " 86%|███████████████████████████████████████████████████████████████████████████████████████████▋              | 51/59 [00:06<00:01,  7.95it/s]\u001b[A\n",
      " 88%|█████████████████████████████████████████████████████████████████████████████████████████████▍            | 52/59 [00:06<00:00,  7.96it/s]\u001b[A\n",
      " 90%|███████████████████████████████████████████████████████████████████████████████████████████████▏          | 53/59 [00:06<00:00,  7.83it/s]\u001b[A\n",
      " 92%|█████████████████████████████████████████████████████████████████████████████████████████████████         | 54/59 [00:06<00:00,  7.95it/s]\u001b[A\n",
      " 93%|██████████████████████████████████████████████████████████████████████████████████████████████████▊       | 55/59 [00:06<00:00,  7.90it/s]\u001b[A\n",
      " 95%|████████████████████████████████████████████████████████████████████████████████████████████████████▌     | 56/59 [00:07<00:00,  7.96it/s]\u001b[A\n",
      " 97%|██████████████████████████████████████████████████████████████████████████████████████████████████████▍   | 57/59 [00:07<00:00,  7.77it/s]\u001b[A\n",
      " 98%|████████████████████████████████████████████████████████████████████████████████████████████████████████▏ | 58/59 [00:07<00:00,  7.85it/s]\u001b[A\n",
      "100%|██████████████████████████████████████████████████████████████████████████████████████████████████████████| 59/59 [00:07<00:00,  7.93it/s]\u001b[A\n",
      "Processing Questions:  20%|█████████████████▏                                                                    | 1/5 [00:31<02:06, 31.54s/it]/globalsc/users/e/k/ekuzmenk/LLMX/shaprag/lib/python3.11/site-packages/transformers/generation/configuration_utils.py:631: UserWarning: `do_sample` is set to `False`. However, `temperature` is set to `0` -- this flag is only used in sample-based generation modes. You should set `do_sample=True` or unset `temperature`.\n",
      "  warnings.warn(\n",
      "/globalsc/users/e/k/ekuzmenk/LLMX/shaprag/lib/python3.11/site-packages/transformers/generation/configuration_utils.py:653: UserWarning: `do_sample` is set to `False`. However, `top_k` is set to `20` -- this flag is only used in sample-based generation modes. You should set `do_sample=True` or unset `top_k`.\n",
      "  warnings.warn(\n"
     ]
    },
    {
     "name": "stdout",
     "output_type": "stream",
     "text": [
      "\n",
      "--- Question 2/5: big little lies season 2 how many episodes... ---\n",
      "  Instantiating ShapleyExperimentHarness for Q1 (n=58 docs)...\n",
      "Response:  Seven\n"
     ]
    },
    {
     "name": "stderr",
     "output_type": "stream",
     "text": [
      "\n",
      "  0%|                                                                                                                   | 0/58 [00:00<?, ?it/s]\u001b[A\n",
      "  2%|█▊                                                                                                         | 1/58 [00:00<00:06,  8.22it/s]\u001b[A\n",
      "  3%|███▋                                                                                                       | 2/58 [00:00<00:06,  8.10it/s]\u001b[A\n",
      "  5%|█████▌                                                                                                     | 3/58 [00:00<00:06,  8.00it/s]\u001b[A\n",
      "  7%|███████▍                                                                                                   | 4/58 [00:00<00:06,  7.97it/s]\u001b[A\n",
      "  9%|█████████▏                                                                                                 | 5/58 [00:00<00:06,  7.97it/s]\u001b[A\n",
      " 10%|███████████                                                                                                | 6/58 [00:00<00:06,  7.95it/s]\u001b[A\n",
      " 12%|████████████▉                                                                                              | 7/58 [00:00<00:06,  8.10it/s]\u001b[A\n",
      " 14%|██████████████▊                                                                                            | 8/58 [00:00<00:06,  8.11it/s]\u001b[A\n",
      " 16%|████████████████▌                                                                                          | 9/58 [00:01<00:06,  8.10it/s]\u001b[A\n",
      " 17%|██████████████████▎                                                                                       | 10/58 [00:01<00:05,  8.09it/s]\u001b[A\n",
      " 19%|████████████████████                                                                                      | 11/58 [00:01<00:05,  8.06it/s]\u001b[A\n",
      " 21%|█████████████████████▉                                                                                    | 12/58 [00:01<00:06,  7.64it/s]\u001b[A\n",
      " 22%|███████████████████████▊                                                                                  | 13/58 [00:01<00:05,  7.74it/s]\u001b[A\n",
      " 24%|█████████████████████████▌                                                                                | 14/58 [00:01<00:05,  7.61it/s]\u001b[A\n",
      " 26%|███████████████████████████▍                                                                              | 15/58 [00:01<00:05,  7.65it/s]\u001b[A\n",
      " 28%|█████████████████████████████▏                                                                            | 16/58 [00:02<00:05,  7.70it/s]\u001b[A\n",
      " 29%|███████████████████████████████                                                                           | 17/58 [00:02<00:05,  7.78it/s]\u001b[A\n",
      " 31%|████████████████████████████████▉                                                                         | 18/58 [00:02<00:05,  7.88it/s]\u001b[A\n",
      " 33%|██████████████████████████████████▋                                                                       | 19/58 [00:02<00:04,  7.93it/s]\u001b[A\n",
      " 34%|████████████████████████████████████▌                                                                     | 20/58 [00:02<00:04,  8.01it/s]\u001b[A\n",
      " 36%|██████████████████████████████████████▍                                                                   | 21/58 [00:02<00:04,  7.97it/s]\u001b[A\n",
      " 38%|████████████████████████████████████████▏                                                                 | 22/58 [00:02<00:04,  7.97it/s]\u001b[A\n",
      " 40%|██████████████████████████████████████████                                                                | 23/58 [00:02<00:04,  7.99it/s]\u001b[A\n",
      " 41%|███████████████████████████████████████████▊                                                              | 24/58 [00:03<00:04,  7.70it/s]\u001b[A\n",
      " 43%|█████████████████████████████████████████████▋                                                            | 25/58 [00:03<00:04,  7.78it/s]\u001b[A\n",
      " 45%|███████████████████████████████████████████████▌                                                          | 26/58 [00:03<00:04,  7.91it/s]\u001b[A\n",
      " 47%|█████████████████████████████████████████████████▎                                                        | 27/58 [00:03<00:03,  7.89it/s]\u001b[A\n",
      " 48%|███████████████████████████████████████████████████▏                                                      | 28/58 [00:03<00:03,  7.93it/s]\u001b[A\n",
      " 50%|█████████████████████████████████████████████████████                                                     | 29/58 [00:03<00:03,  7.93it/s]\u001b[A\n",
      " 52%|██████████████████████████████████████████████████████▊                                                   | 30/58 [00:03<00:03,  7.97it/s]\u001b[A\n",
      " 53%|████████████████████████████████████████████████████████▋                                                 | 31/58 [00:03<00:03,  7.99it/s]\u001b[A\n",
      " 55%|██████████████████████████████████████████████████████████▍                                               | 32/58 [00:04<00:03,  8.00it/s]\u001b[A\n",
      " 57%|████████████████████████████████████████████████████████████▎                                             | 33/58 [00:04<00:03,  7.97it/s]\u001b[A\n",
      " 59%|██████████████████████████████████████████████████████████████▏                                           | 34/58 [00:04<00:03,  7.95it/s]\u001b[A\n",
      " 60%|███████████████████████████████████████████████████████████████▉                                          | 35/58 [00:04<00:02,  7.83it/s]\u001b[A\n",
      " 62%|█████████████████████████████████████████████████████████████████▊                                        | 36/58 [00:04<00:02,  7.81it/s]\u001b[A\n",
      " 64%|███████████████████████████████████████████████████████████████████▌                                      | 37/58 [00:04<00:02,  7.88it/s]\u001b[A\n",
      " 66%|█████████████████████████████████████████████████████████████████████▍                                    | 38/58 [00:04<00:02,  7.95it/s]\u001b[A\n",
      " 67%|███████████████████████████████████████████████████████████████████████▎                                  | 39/58 [00:04<00:02,  7.93it/s]\u001b[A\n",
      " 69%|█████████████████████████████████████████████████████████████████████████                                 | 40/58 [00:05<00:02,  7.93it/s]\u001b[A\n",
      " 71%|██████████████████████████████████████████████████████████████████████████▉                               | 41/58 [00:05<00:02,  7.97it/s]\u001b[A\n",
      " 72%|████████████████████████████████████████████████████████████████████████████▊                             | 42/58 [00:05<00:02,  7.95it/s]\u001b[A\n",
      " 74%|██████████████████████████████████████████████████████████████████████████████▌                           | 43/58 [00:05<00:01,  7.91it/s]\u001b[A\n",
      " 76%|████████████████████████████████████████████████████████████████████████████████▍                         | 44/58 [00:05<00:01,  7.95it/s]\u001b[A\n",
      " 78%|██████████████████████████████████████████████████████████████████████████████████▏                       | 45/58 [00:05<00:01,  7.67it/s]\u001b[A\n",
      " 79%|████████████████████████████████████████████████████████████████████████████████████                      | 46/58 [00:05<00:01,  7.74it/s]\u001b[A\n",
      " 81%|█████████████████████████████████████████████████████████████████████████████████████▉                    | 47/58 [00:05<00:01,  7.75it/s]\u001b[A\n",
      " 83%|███████████████████████████████████████████████████████████████████████████████████████▋                  | 48/58 [00:06<00:01,  7.83it/s]\u001b[A\n",
      " 84%|█████████████████████████████████████████████████████████████████████████████████████████▌                | 49/58 [00:06<00:01,  7.86it/s]\u001b[A\n",
      " 86%|███████████████████████████████████████████████████████████████████████████████████████████▍              | 50/58 [00:06<00:01,  7.84it/s]\u001b[A\n",
      " 88%|█████████████████████████████████████████████████████████████████████████████████████████████▏            | 51/58 [00:06<00:00,  7.88it/s]\u001b[A\n",
      " 90%|███████████████████████████████████████████████████████████████████████████████████████████████           | 52/58 [00:06<00:00,  8.02it/s]\u001b[A\n",
      " 91%|████████████████████████████████████████████████████████████████████████████████████████████████▊         | 53/58 [00:06<00:00,  7.97it/s]\u001b[A\n",
      " 93%|██████████████████████████████████████████████████████████████████████████████████████████████████▋       | 54/58 [00:06<00:00,  7.92it/s]\u001b[A\n",
      " 95%|████████████████████████████████████████████████████████████████████████████████████████████████████▌     | 55/58 [00:06<00:00,  7.93it/s]\u001b[A\n",
      " 97%|██████████████████████████████████████████████████████████████████████████████████████████████████████▎   | 56/58 [00:07<00:00,  7.63it/s]\u001b[A\n",
      " 98%|████████████████████████████████████████████████████████████████████████████████████████████████████████▏ | 57/58 [00:07<00:00,  7.83it/s]\u001b[A\n",
      "100%|██████████████████████████████████████████████████████████████████████████████████████████████████████████| 58/58 [00:07<00:00,  7.89it/s]\u001b[A\n",
      "Processing Questions:  40%|██████████████████████████████████▍                                                   | 2/5 [01:02<01:33, 31.22s/it]/globalsc/users/e/k/ekuzmenk/LLMX/shaprag/lib/python3.11/site-packages/transformers/generation/configuration_utils.py:631: UserWarning: `do_sample` is set to `False`. However, `temperature` is set to `0` -- this flag is only used in sample-based generation modes. You should set `do_sample=True` or unset `temperature`.\n",
      "  warnings.warn(\n",
      "/globalsc/users/e/k/ekuzmenk/LLMX/shaprag/lib/python3.11/site-packages/transformers/generation/configuration_utils.py:653: UserWarning: `do_sample` is set to `False`. However, `top_k` is set to `20` -- this flag is only used in sample-based generation modes. You should set `do_sample=True` or unset `top_k`.\n",
      "  warnings.warn(\n"
     ]
    },
    {
     "name": "stdout",
     "output_type": "stream",
     "text": [
      "\n",
      "--- Question 3/5: who sang waiting for a girl like you... ---\n",
      "  Instantiating ShapleyExperimentHarness for Q2 (n=48 docs)...\n",
      "Response:  Foreigner\n"
     ]
    },
    {
     "name": "stderr",
     "output_type": "stream",
     "text": [
      "\n",
      "  0%|                                                                                                                   | 0/48 [00:00<?, ?it/s]\u001b[A\n",
      "  2%|██▏                                                                                                        | 1/48 [00:00<00:05,  9.17it/s]\u001b[A\n",
      "  6%|██████▋                                                                                                    | 3/48 [00:00<00:04,  9.02it/s]\u001b[A\n",
      "  8%|████████▉                                                                                                  | 4/48 [00:00<00:05,  8.46it/s]\u001b[A\n",
      " 10%|███████████▏                                                                                               | 5/48 [00:00<00:05,  8.46it/s]\u001b[A\n",
      " 12%|█████████████▍                                                                                             | 6/48 [00:00<00:05,  8.27it/s]\u001b[A\n",
      " 15%|███████████████▌                                                                                           | 7/48 [00:00<00:05,  8.19it/s]\u001b[A\n",
      " 17%|█████████████████▊                                                                                         | 8/48 [00:00<00:04,  8.09it/s]\u001b[A\n",
      " 19%|████████████████████                                                                                       | 9/48 [00:01<00:04,  7.86it/s]\u001b[A\n",
      " 21%|██████████████████████                                                                                    | 10/48 [00:01<00:04,  7.87it/s]\u001b[A\n",
      " 23%|████████████████████████▎                                                                                 | 11/48 [00:01<00:04,  7.88it/s]\u001b[A\n",
      " 25%|██████████████████████████▌                                                                               | 12/48 [00:01<00:04,  7.65it/s]\u001b[A\n",
      " 27%|████████████████████████████▋                                                                             | 13/48 [00:01<00:04,  7.85it/s]\u001b[A\n",
      " 29%|██████████████████████████████▉                                                                           | 14/48 [00:01<00:04,  7.87it/s]\u001b[A\n",
      " 31%|█████████████████████████████████▏                                                                        | 15/48 [00:01<00:04,  7.87it/s]\u001b[A\n",
      " 33%|███████████████████████████████████▎                                                                      | 16/48 [00:01<00:04,  7.87it/s]\u001b[A\n",
      " 35%|█████████████████████████████████████▌                                                                    | 17/48 [00:02<00:03,  7.90it/s]\u001b[A\n",
      " 38%|███████████████████████████████████████▊                                                                  | 18/48 [00:02<00:03,  8.02it/s]\u001b[A\n",
      " 40%|█████████████████████████████████████████▉                                                                | 19/48 [00:02<00:03,  7.95it/s]\u001b[A\n",
      " 42%|████████████████████████████████████████████▏                                                             | 20/48 [00:02<00:03,  7.93it/s]\u001b[A\n",
      " 44%|██████████████████████████████████████████████▍                                                           | 21/48 [00:02<00:03,  7.95it/s]\u001b[A\n",
      " 46%|████████████████████████████████████████████████▌                                                         | 22/48 [00:02<00:03,  8.25it/s]\u001b[A\n",
      " 48%|██████████████████████████████████████████████████▊                                                       | 23/48 [00:02<00:03,  8.29it/s]\u001b[A\n",
      " 50%|█████████████████████████████████████████████████████                                                     | 24/48 [00:02<00:02,  8.40it/s]\u001b[A\n",
      " 52%|███████████████████████████████████████████████████████▏                                                  | 25/48 [00:03<00:02,  8.39it/s]\u001b[A\n",
      " 54%|█████████████████████████████████████████████████████████▍                                                | 26/48 [00:03<00:02,  8.19it/s]\u001b[A\n",
      " 56%|███████████████████████████████████████████████████████████▋                                              | 27/48 [00:03<00:02,  8.15it/s]\u001b[A\n",
      " 58%|█████████████████████████████████████████████████████████████▊                                            | 28/48 [00:03<00:02,  8.09it/s]\u001b[A\n",
      " 60%|████████████████████████████████████████████████████████████████                                          | 29/48 [00:03<00:02,  8.13it/s]\u001b[A\n",
      " 62%|██████████████████████████████████████████████████████████████████▎                                       | 30/48 [00:03<00:02,  8.05it/s]\u001b[A\n",
      " 65%|████████████████████████████████████████████████████████████████████▍                                     | 31/48 [00:03<00:02,  8.03it/s]\u001b[A\n",
      " 67%|██████████████████████████████████████████████████████████████████████▋                                   | 32/48 [00:03<00:02,  7.90it/s]\u001b[A\n",
      " 69%|████████████████████████████████████████████████████████████████████████▉                                 | 33/48 [00:04<00:01,  7.89it/s]\u001b[A\n",
      " 71%|███████████████████████████████████████████████████████████████████████████                               | 34/48 [00:04<00:01,  7.70it/s]\u001b[A\n",
      " 73%|█████████████████████████████████████████████████████████████████████████████▎                            | 35/48 [00:04<00:01,  7.91it/s]\u001b[A\n",
      " 75%|███████████████████████████████████████████████████████████████████████████████▌                          | 36/48 [00:04<00:01,  7.92it/s]\u001b[A\n",
      " 77%|█████████████████████████████████████████████████████████████████████████████████▋                        | 37/48 [00:04<00:01,  7.88it/s]\u001b[A\n",
      " 79%|███████████████████████████████████████████████████████████████████████████████████▉                      | 38/48 [00:04<00:01,  7.77it/s]\u001b[A\n",
      " 81%|██████████████████████████████████████████████████████████████████████████████████████▏                   | 39/48 [00:04<00:01,  7.81it/s]\u001b[A\n",
      " 83%|████████████████████████████████████████████████████████████████████████████████████████▎                 | 40/48 [00:04<00:01,  7.90it/s]\u001b[A\n",
      " 85%|██████████████████████████████████████████████████████████████████████████████████████████▌               | 41/48 [00:05<00:00,  8.06it/s]\u001b[A\n",
      " 88%|████████████████████████████████████████████████████████████████████████████████████████████▊             | 42/48 [00:05<00:00,  7.88it/s]\u001b[A\n",
      " 90%|██████████████████████████████████████████████████████████████████████████████████████████████▉           | 43/48 [00:05<00:00,  7.81it/s]\u001b[A\n",
      " 92%|█████████████████████████████████████████████████████████████████████████████████████████████████▏        | 44/48 [00:05<00:00,  8.29it/s]\u001b[A\n",
      " 94%|███████████████████████████████████████████████████████████████████████████████████████████████████▍      | 45/48 [00:05<00:00,  8.27it/s]\u001b[A\n",
      " 96%|█████████████████████████████████████████████████████████████████████████████████████████████████████▌    | 46/48 [00:05<00:00,  8.07it/s]\u001b[A\n",
      " 98%|███████████████████████████████████████████████████████████████████████████████████████████████████████▊  | 47/48 [00:05<00:00,  8.07it/s]\u001b[A\n",
      "100%|██████████████████████████████████████████████████████████████████████████████████████████████████████████| 48/48 [00:05<00:00,  8.04it/s]\u001b[A\n",
      "Processing Questions:  60%|███████████████████████████████████████████████████▌                                  | 3/5 [01:30<00:59, 29.82s/it]/globalsc/users/e/k/ekuzmenk/LLMX/shaprag/lib/python3.11/site-packages/transformers/generation/configuration_utils.py:631: UserWarning: `do_sample` is set to `False`. However, `temperature` is set to `0` -- this flag is only used in sample-based generation modes. You should set `do_sample=True` or unset `temperature`.\n",
      "  warnings.warn(\n",
      "/globalsc/users/e/k/ekuzmenk/LLMX/shaprag/lib/python3.11/site-packages/transformers/generation/configuration_utils.py:653: UserWarning: `do_sample` is set to `False`. However, `top_k` is set to `20` -- this flag is only used in sample-based generation modes. You should set `do_sample=True` or unset `top_k`.\n",
      "  warnings.warn(\n"
     ]
    },
    {
     "name": "stdout",
     "output_type": "stream",
     "text": [
      "\n",
      "--- Question 4/5: where do you cross the arctic circle in norway... ---\n",
      "  Instantiating ShapleyExperimentHarness for Q3 (n=55 docs)...\n",
      "Response:  Saltfjellet separates Helgeland from the northern part of Nordland county in Norway.\n"
     ]
    },
    {
     "name": "stderr",
     "output_type": "stream",
     "text": [
      "\n",
      "  0%|                                                                                                                   | 0/55 [00:00<?, ?it/s]\u001b[A\n",
      "  2%|█▉                                                                                                         | 1/55 [00:00<00:07,  7.65it/s]\u001b[A\n",
      "  4%|███▉                                                                                                       | 2/55 [00:00<00:06,  7.76it/s]\u001b[A\n",
      "  5%|█████▊                                                                                                     | 3/55 [00:00<00:06,  7.72it/s]\u001b[A\n",
      "  7%|███████▊                                                                                                   | 4/55 [00:00<00:06,  7.73it/s]\u001b[A\n",
      "  9%|█████████▋                                                                                                 | 5/55 [00:00<00:06,  7.66it/s]\u001b[A\n",
      " 11%|███████████▋                                                                                               | 6/55 [00:00<00:06,  7.68it/s]\u001b[A\n",
      " 13%|█████████████▌                                                                                             | 7/55 [00:00<00:06,  7.65it/s]\u001b[A\n",
      " 15%|███████████████▌                                                                                           | 8/55 [00:01<00:06,  7.68it/s]\u001b[A\n",
      " 16%|█████████████████▌                                                                                         | 9/55 [00:01<00:05,  7.68it/s]\u001b[A\n",
      " 18%|███████████████████▎                                                                                      | 10/55 [00:01<00:05,  7.72it/s]\u001b[A\n",
      " 20%|█████████████████████▏                                                                                    | 11/55 [00:01<00:05,  7.71it/s]\u001b[A\n",
      " 22%|███████████████████████▏                                                                                  | 12/55 [00:01<00:05,  7.71it/s]\u001b[A\n",
      " 24%|█████████████████████████                                                                                 | 13/55 [00:01<00:05,  7.70it/s]\u001b[A\n",
      " 25%|██████████████████████████▉                                                                               | 14/55 [00:01<00:05,  7.72it/s]\u001b[A\n",
      " 27%|████████████████████████████▉                                                                             | 15/55 [00:01<00:05,  7.70it/s]\u001b[A\n",
      " 29%|██████████████████████████████▊                                                                           | 16/55 [00:02<00:05,  7.74it/s]\u001b[A\n",
      " 31%|████████████████████████████████▊                                                                         | 17/55 [00:02<00:04,  7.69it/s]\u001b[A\n",
      " 33%|██████████████████████████████████▋                                                                       | 18/55 [00:02<00:04,  7.70it/s]\u001b[A\n",
      " 35%|████████████████████████████████████▌                                                                     | 19/55 [00:02<00:04,  7.68it/s]\u001b[A\n",
      " 36%|██████████████████████████████████████▌                                                                   | 20/55 [00:02<00:04,  7.73it/s]\u001b[A\n",
      " 38%|████████████████████████████████████████▍                                                                 | 21/55 [00:02<00:04,  7.68it/s]\u001b[A\n",
      " 40%|██████████████████████████████████████████▍                                                               | 22/55 [00:02<00:04,  7.73it/s]\u001b[A\n",
      " 42%|████████████████████████████████████████████▎                                                             | 23/55 [00:02<00:04,  7.69it/s]\u001b[A\n",
      " 44%|██████████████████████████████████████████████▎                                                           | 24/55 [00:03<00:04,  7.72it/s]\u001b[A\n",
      " 45%|████████████████████████████████████████████████▏                                                         | 25/55 [00:03<00:03,  7.68it/s]\u001b[A\n",
      " 47%|██████████████████████████████████████████████████                                                        | 26/55 [00:03<00:03,  7.72it/s]\u001b[A\n",
      " 49%|████████████████████████████████████████████████████                                                      | 27/55 [00:03<00:03,  7.67it/s]\u001b[A\n",
      " 51%|█████████████████████████████████████████████████████▉                                                    | 28/55 [00:03<00:03,  7.69it/s]\u001b[A\n",
      " 53%|███████████████████████████████████████████████████████▉                                                  | 29/55 [00:03<00:03,  7.65it/s]\u001b[A\n",
      " 55%|█████████████████████████████████████████████████████████▊                                                | 30/55 [00:03<00:03,  7.67it/s]\u001b[A\n",
      " 56%|███████████████████████████████████████████████████████████▋                                              | 31/55 [00:04<00:03,  7.66it/s]\u001b[A\n",
      " 58%|█████████████████████████████████████████████████████████████▋                                            | 32/55 [00:04<00:02,  7.68it/s]\u001b[A\n",
      " 60%|███████████████████████████████████████████████████████████████▌                                          | 33/55 [00:04<00:02,  7.68it/s]\u001b[A\n",
      " 62%|█████████████████████████████████████████████████████████████████▌                                        | 34/55 [00:04<00:02,  7.69it/s]\u001b[A\n",
      " 64%|███████████████████████████████████████████████████████████████████▍                                      | 35/55 [00:04<00:02,  7.69it/s]\u001b[A\n",
      " 65%|█████████████████████████████████████████████████████████████████████▍                                    | 36/55 [00:04<00:02,  7.70it/s]\u001b[A\n",
      " 67%|███████████████████████████████████████████████████████████████████████▎                                  | 37/55 [00:04<00:02,  7.68it/s]\u001b[A\n",
      " 69%|█████████████████████████████████████████████████████████████████████████▏                                | 38/55 [00:04<00:02,  7.69it/s]\u001b[A\n",
      " 71%|███████████████████████████████████████████████████████████████████████████▏                              | 39/55 [00:05<00:02,  7.80it/s]\u001b[A\n",
      " 73%|█████████████████████████████████████████████████████████████████████████████                             | 40/55 [00:05<00:01,  7.77it/s]\u001b[A\n",
      " 75%|███████████████████████████████████████████████████████████████████████████████                           | 41/55 [00:05<00:01,  7.85it/s]\u001b[A\n",
      " 76%|████████████████████████████████████████████████████████████████████████████████▉                         | 42/55 [00:05<00:01,  7.75it/s]\u001b[A\n",
      " 78%|██████████████████████████████████████████████████████████████████████████████████▊                       | 43/55 [00:05<00:01,  7.74it/s]\u001b[A\n",
      " 80%|████████████████████████████████████████████████████████████████████████████████████▊                     | 44/55 [00:05<00:01,  7.71it/s]\u001b[A\n",
      " 82%|██████████████████████████████████████████████████████████████████████████████████████▋                   | 45/55 [00:05<00:01,  7.70it/s]\u001b[A\n",
      " 84%|████████████████████████████████████████████████████████████████████████████████████████▋                 | 46/55 [00:05<00:01,  7.82it/s]\u001b[A\n",
      " 85%|██████████████████████████████████████████████████████████████████████████████████████████▌               | 47/55 [00:06<00:01,  7.80it/s]\u001b[A\n",
      " 87%|████████████████████████████████████████████████████████████████████████████████████████████▌             | 48/55 [00:06<00:00,  7.77it/s]\u001b[A\n",
      " 89%|██████████████████████████████████████████████████████████████████████████████████████████████▍           | 49/55 [00:06<00:00,  7.74it/s]\u001b[A\n",
      " 91%|████████████████████████████████████████████████████████████████████████████████████████████████▎         | 50/55 [00:06<00:00,  7.72it/s]\u001b[A\n",
      " 93%|██████████████████████████████████████████████████████████████████████████████████████████████████▎       | 51/55 [00:06<00:00,  7.74it/s]\u001b[A\n",
      " 95%|████████████████████████████████████████████████████████████████████████████████████████████████████▏     | 52/55 [00:06<00:00,  7.72it/s]\u001b[A\n",
      " 96%|██████████████████████████████████████████████████████████████████████████████████████████████████████▏   | 53/55 [00:06<00:00,  7.75it/s]\u001b[A\n",
      " 98%|████████████████████████████████████████████████████████████████████████████████████████████████████████  | 54/55 [00:07<00:00,  7.72it/s]\u001b[A\n",
      "100%|██████████████████████████████████████████████████████████████████████████████████████████████████████████| 55/55 [00:07<00:00,  7.71it/s]\u001b[A\n",
      "Processing Questions:  80%|████████████████████████████████████████████████████████████████████▊                 | 4/5 [02:02<00:30, 30.42s/it]/globalsc/users/e/k/ekuzmenk/LLMX/shaprag/lib/python3.11/site-packages/transformers/generation/configuration_utils.py:631: UserWarning: `do_sample` is set to `False`. However, `temperature` is set to `0` -- this flag is only used in sample-based generation modes. You should set `do_sample=True` or unset `temperature`.\n",
      "  warnings.warn(\n",
      "/globalsc/users/e/k/ekuzmenk/LLMX/shaprag/lib/python3.11/site-packages/transformers/generation/configuration_utils.py:653: UserWarning: `do_sample` is set to `False`. However, `top_k` is set to `20` -- this flag is only used in sample-based generation modes. You should set `do_sample=True` or unset `top_k`.\n",
      "  warnings.warn(\n"
     ]
    },
    {
     "name": "stdout",
     "output_type": "stream",
     "text": [
      "\n",
      "--- Question 5/5: who is the main character in green eggs and ham... ---\n",
      "  Instantiating ShapleyExperimentHarness for Q4 (n=57 docs)...\n",
      "Response:  Sam-I-Am\n"
     ]
    },
    {
     "name": "stderr",
     "output_type": "stream",
     "text": [
      "\n",
      "  0%|                                                                                                                   | 0/57 [00:00<?, ?it/s]\u001b[A\n",
      "  2%|█▉                                                                                                         | 1/57 [00:00<00:07,  8.00it/s]\u001b[A\n",
      "  4%|███▊                                                                                                       | 2/57 [00:00<00:06,  7.92it/s]\u001b[A\n",
      "  5%|█████▋                                                                                                     | 3/57 [00:00<00:06,  7.97it/s]\u001b[A\n",
      "  7%|███████▌                                                                                                   | 4/57 [00:00<00:06,  7.89it/s]\u001b[A\n",
      "  9%|█████████▍                                                                                                 | 5/57 [00:00<00:06,  7.87it/s]\u001b[A\n",
      " 11%|███████████▎                                                                                               | 6/57 [00:00<00:06,  7.82it/s]\u001b[A\n",
      " 12%|█████████████▏                                                                                             | 7/57 [00:00<00:06,  8.19it/s]\u001b[A\n",
      " 14%|███████████████                                                                                            | 8/57 [00:00<00:05,  8.29it/s]\u001b[A\n",
      " 16%|████████████████▉                                                                                          | 9/57 [00:01<00:06,  7.95it/s]\u001b[A\n",
      " 18%|██████████████████▌                                                                                       | 10/57 [00:01<00:05,  7.91it/s]\u001b[A\n",
      " 19%|████████████████████▍                                                                                     | 11/57 [00:01<00:05,  7.84it/s]\u001b[A\n",
      " 21%|██████████████████████▎                                                                                   | 12/57 [00:01<00:05,  7.86it/s]\u001b[A\n",
      " 23%|████████████████████████▏                                                                                 | 13/57 [00:01<00:05,  7.90it/s]\u001b[A\n",
      " 25%|██████████████████████████                                                                                | 14/57 [00:01<00:05,  7.76it/s]\u001b[A\n",
      " 26%|███████████████████████████▉                                                                              | 15/57 [00:01<00:05,  8.15it/s]\u001b[A\n",
      " 28%|█████████████████████████████▊                                                                            | 16/57 [00:02<00:04,  8.20it/s]\u001b[A\n",
      " 30%|███████████████████████████████▌                                                                          | 17/57 [00:02<00:05,  7.97it/s]\u001b[A\n",
      " 32%|█████████████████████████████████▍                                                                        | 18/57 [00:02<00:04,  7.90it/s]\u001b[A\n",
      " 33%|███████████████████████████████████▎                                                                      | 19/57 [00:02<00:04,  7.98it/s]\u001b[A\n",
      " 35%|█████████████████████████████████████▏                                                                    | 20/57 [00:02<00:04,  7.79it/s]\u001b[A\n",
      " 37%|███████████████████████████████████████                                                                   | 21/57 [00:02<00:04,  7.84it/s]\u001b[A\n",
      " 39%|████████████████████████████████████████▉                                                                 | 22/57 [00:02<00:04,  7.92it/s]\u001b[A\n",
      " 40%|██████████████████████████████████████████▊                                                               | 23/57 [00:02<00:04,  7.84it/s]\u001b[A\n",
      " 42%|████████████████████████████████████████████▋                                                             | 24/57 [00:03<00:04,  7.71it/s]\u001b[A\n",
      " 44%|██████████████████████████████████████████████▍                                                           | 25/57 [00:03<00:04,  7.86it/s]\u001b[A\n",
      " 46%|████████████████████████████████████████████████▎                                                         | 26/57 [00:03<00:03,  7.98it/s]\u001b[A\n",
      " 47%|██████████████████████████████████████████████████▏                                                       | 27/57 [00:03<00:03,  8.03it/s]\u001b[A\n",
      " 49%|████████████████████████████████████████████████████                                                      | 28/57 [00:03<00:03,  7.94it/s]\u001b[A\n",
      " 51%|█████████████████████████████████████████████████████▉                                                    | 29/57 [00:03<00:03,  7.62it/s]\u001b[A\n",
      " 53%|███████████████████████████████████████████████████████▊                                                  | 30/57 [00:03<00:03,  7.64it/s]\u001b[A\n",
      " 54%|█████████████████████████████████████████████████████████▋                                                | 31/57 [00:03<00:03,  7.72it/s]\u001b[A\n",
      " 56%|███████████████████████████████████████████████████████████▌                                              | 32/57 [00:04<00:03,  7.71it/s]\u001b[A\n",
      " 58%|█████████████████████████████████████████████████████████████▎                                            | 33/57 [00:04<00:03,  7.73it/s]\u001b[A\n",
      " 60%|███████████████████████████████████████████████████████████████▏                                          | 34/57 [00:04<00:02,  7.73it/s]\u001b[A\n",
      " 61%|█████████████████████████████████████████████████████████████████                                         | 35/57 [00:04<00:02,  7.76it/s]\u001b[A\n",
      " 63%|██████████████████████████████████████████████████████████████████▉                                       | 36/57 [00:04<00:02,  7.76it/s]\u001b[A\n",
      " 65%|████████████████████████████████████████████████████████████████████▊                                     | 37/57 [00:04<00:02,  7.85it/s]\u001b[A\n",
      " 67%|██████████████████████████████████████████████████████████████████████▋                                   | 38/57 [00:04<00:02,  7.88it/s]\u001b[A\n",
      " 68%|████████████████████████████████████████████████████████████████████████▌                                 | 39/57 [00:04<00:02,  7.87it/s]\u001b[A\n",
      " 70%|██████████████████████████████████████████████████████████████████████████▍                               | 40/57 [00:05<00:02,  7.79it/s]\u001b[A\n",
      " 72%|████████████████████████████████████████████████████████████████████████████▏                             | 41/57 [00:05<00:02,  7.81it/s]\u001b[A\n",
      " 74%|██████████████████████████████████████████████████████████████████████████████                            | 42/57 [00:05<00:01,  7.88it/s]\u001b[A\n",
      " 75%|███████████████████████████████████████████████████████████████████████████████▉                          | 43/57 [00:05<00:01,  7.80it/s]\u001b[A\n",
      " 77%|█████████████████████████████████████████████████████████████████████████████████▊                        | 44/57 [00:05<00:01,  8.10it/s]\u001b[A\n",
      " 79%|███████████████████████████████████████████████████████████████████████████████████▋                      | 45/57 [00:05<00:01,  8.16it/s]\u001b[A\n",
      " 81%|█████████████████████████████████████████████████████████████████████████████████████▌                    | 46/57 [00:05<00:01,  8.24it/s]\u001b[A\n",
      " 82%|███████████████████████████████████████████████████████████████████████████████████████▍                  | 47/57 [00:05<00:01,  8.30it/s]\u001b[A\n",
      " 84%|█████████████████████████████████████████████████████████████████████████████████████████▎                | 48/57 [00:06<00:01,  8.00it/s]\u001b[A\n",
      " 86%|███████████████████████████████████████████████████████████████████████████████████████████               | 49/57 [00:06<00:01,  7.90it/s]\u001b[A\n",
      " 88%|████████████████████████████████████████████████████████████████████████████████████████████▉             | 50/57 [00:06<00:00,  8.00it/s]\u001b[A\n",
      " 89%|██████████████████████████████████████████████████████████████████████████████████████████████▊           | 51/57 [00:06<00:00,  7.63it/s]\u001b[A\n",
      " 91%|████████████████████████████████████████████████████████████████████████████████████████████████▋         | 52/57 [00:06<00:00,  7.75it/s]\u001b[A\n",
      " 93%|██████████████████████████████████████████████████████████████████████████████████████████████████▌       | 53/57 [00:06<00:00,  7.73it/s]\u001b[A\n",
      " 95%|████████████████████████████████████████████████████████████████████████████████████████████████████▍     | 54/57 [00:06<00:00,  8.17it/s]\u001b[A\n",
      " 96%|██████████████████████████████████████████████████████████████████████████████████████████████████████▎   | 55/57 [00:06<00:00,  8.18it/s]\u001b[A\n",
      " 98%|████████████████████████████████████████████████████████████████████████████████████████████████████████▏ | 56/57 [00:07<00:00,  8.00it/s]\u001b[A\n",
      "100%|██████████████████████████████████████████████████████████████████████████████████████████████████████████| 57/57 [00:07<00:00,  7.90it/s]\u001b[A\n",
      "Processing Questions: 100%|██████████████████████████████████████████████████████████████████████████████████████| 5/5 [02:33<00:00, 30.61s/it]\n"
     ]
    }
   ],
   "source": [
    "#num_questions_to_run=len(df.question)\n",
    "num_questions_to_run=5\n",
    "all_metrics_data = []\n",
    "all_results=[]\n",
    "Fs=[]\n",
    "mse_fms=[]\n",
    "mse_ccs = []\n",
    "for i in tqdm(range(num_questions_to_run), desc=\"Processing Questions\", disable=not accelerator_main.is_main_process):\n",
    "    query = df.question[i]\n",
    "    if accelerator_main.is_main_process:\n",
    "        print(f\"\\n--- Question {i+1}/{num_questions_to_run}: {query[:60]}... ---\")\n",
    "\n",
    "    #docs=ast.literal_eval(df.context[i])\n",
    "    docs = [sent[4:] for sent in df.Sentences[i]]\n",
    "    utility_cache_base_dir = \"../Experiment_data/NQ\"\n",
    "    utility_cache_filename = f\"utilities_q_idx{i}_n{len(docs)}.pkl\" # More robust naming\n",
    "    current_utility_path = os.path.join(utility_cache_base_dir, utility_cache_filename)\n",
    "    \n",
    "    if accelerator_main.is_main_process: # Only main process creates directories\n",
    "        os.makedirs(os.path.dirname(current_utility_path), exist_ok=True)\n",
    "        print(f\"  Instantiating ShapleyExperimentHarness for Q{i} (n={len(docs)} docs)...\")\n",
    "    \n",
    "    # Initialize Harness\n",
    "    harness = ContextAttribution(\n",
    "        items=docs,\n",
    "        query=query,\n",
    "        prepared_model_for_harness=prepared_model,\n",
    "        tokenizer_for_harness=tokenizer,\n",
    "        accelerator_for_harness=accelerator_main,\n",
    "        verbose=False\n",
    "    )\n",
    "    # Compute metrics\n",
    "    print('Response: ', harness.target_response)\n",
    "    results_for_query = {}\n",
    "    # M.append(harness.compute_shapley_interaction_index_pairs_matrix())\n",
    "    if accelerator_main.is_main_process:\n",
    "\n",
    "        # results_for_query[\"ExactLinear\"], mse_lin = harness.compute_exact_linear_shap()\n",
    "        # results_for_query[\"ExactInter\"], pair, mse_inter = harness.compute_exact_inter_shap()\n",
    "        # pairs.append(pair)\n",
    "        # mse_lins.append(mse_lin)\n",
    "        # mse_inters.append(mse_inter)\n",
    "        m_samples_map = {\"L\": 100} \n",
    "        T_iterations_map = { \"L\":40} \n",
    "\n",
    "        for size_key, num_s in m_samples_map.items():\n",
    "            if 2**len(docs) < num_s and size_key != \"L\":\n",
    "                actual_samples = max(1, 2**len(docs)-1 if 2**len(docs)>0 else 1)\n",
    "            else:\n",
    "                actual_samples = num_s\n",
    "\n",
    "            if actual_samples > 0: \n",
    "                results_for_query[f\"ContextCite{actual_samples}\"], mse_cc = harness.compute_contextcite(num_samples=actual_samples, seed=SEED)\n",
    "                results_for_query[f\"WSS_FM{actual_samples}\"], F, mse_fm = harness.compute_wss(num_samples=actual_samples, seed=SEED)\n",
    "                Fs.append(F)\n",
    "                mse_fms.append(mse_fm)\n",
    "                mse_ccs.append(mse_cc)\n",
    "                #results_for_query[f\"BetaShap{actual_samples}\"] = harness.compute_beta_shap(num_iterations_max=T_iterations_map[size_key], beta_a=4, beta_b=4, max_unique_lookups=actual_samples, seed=SEED)\n",
    "                #results_for_query[f\"TMC{actual_samples}\"] = harness.compute_tmc_shap(num_iterations_max=T_iterations_map[size_key], performance_tolerance=0.001, max_unique_lookups=actual_samples, seed=SEED)\n",
    "\n",
    "        results_for_query[\"LOO\"] = harness.compute_loo()\n",
    "        results_for_query[\"ARC-JSD\"] = harness.compute_arc_jsd()\n",
    "\n",
    "        # exact_scores = results_for_query.get(\"ExactInter\")\n",
    "        all_results.append(results_for_query)"
   ]
  },
  {
   "cell_type": "code",
   "execution_count": 10,
   "id": "9194b39c-dd08-4dc9-8717-4d9af1d96a95",
   "metadata": {},
   "outputs": [
    {
     "name": "stdout",
     "output_type": "stream",
     "text": [
      "ContextCite: 8.954175284012365,\n",
      "FM: 0.6846025364072261\n"
     ]
    }
   ],
   "source": [
    "print(f\"ContextCite: {sum(mse_ccs)},\\nFM: {sum(mse_fms)}\")"
   ]
  },
  {
   "cell_type": "code",
   "execution_count": 15,
   "id": "7b657afd-4973-415e-a548-45e868683b47",
   "metadata": {},
   "outputs": [
    {
     "data": {
      "text/plain": [
       "[0.0004207625899119422,\n",
       " 0.5035804808509122,\n",
       " 0.141468226282803,\n",
       " 0.0019384622989517004,\n",
       " 0.0371946043846473]"
      ]
     },
     "execution_count": 15,
     "metadata": {},
     "output_type": "execute_result"
    }
   ],
   "source": [
    "mse_fms"
   ]
  },
  {
   "cell_type": "code",
   "execution_count": 16,
   "id": "1ae284d2-1a9d-4e39-a160-13fbbebac820",
   "metadata": {},
   "outputs": [
    {
     "data": {
      "text/plain": [
       "[0.06041454111178961,\n",
       " 3.6320756326295496,\n",
       " 4.4785244270010285,\n",
       " 0.022268405538348003,\n",
       " 0.7608922777316499]"
      ]
     },
     "execution_count": 16,
     "metadata": {},
     "output_type": "execute_result"
    }
   ],
   "source": [
    "mse_ccs"
   ]
  },
  {
   "cell_type": "code",
   "execution_count": 6,
   "id": "44349858-7d4e-4af8-ab3c-5596d33f7ddb",
   "metadata": {},
   "outputs": [
    {
     "data": {
      "text/plain": [
       "{'ContextCite32': array([-0.41971942,  0.12092963,  0.26682114,  2.36522086,  1.05925235,\n",
       "        -0.51060558,  0.40442082,  0.        ,  0.24116468, -0.58990014]),\n",
       " 'WSS_FM32': array([-0.40992928,  0.18123221,  0.53824333,  2.16647781,  1.34779097,\n",
       "        -0.17111263, -0.43439963,  0.00655496, -0.25640965, -0.37507313]),\n",
       " 'BetaShap32': array([-1.51930572,  0.70642529, -0.96471328,  3.96875529,  0.44023249,\n",
       "        -0.233385  ,  0.15917291,  0.63305779,  0.21233613,  0.32725782]),\n",
       " 'TMC32': array([-4.59314227e-01,  5.38640752e-01, -2.77367312e-01,  2.68052466e+00,\n",
       "         2.09986234e-01, -4.23926890e-01,  2.07426333e-01,  3.88081467e-01,\n",
       "         8.58408689e-02,  2.05065310e-03]),\n",
       " 'LOO': array([-1.65271187, -0.01576805, -0.85803461,  0.63380051, -0.83787179,\n",
       "        -0.30050182, -0.35937691, -0.35254407, -0.47583818, -0.85098219]),\n",
       " 'ARC-JSD': [0.003660617076093331,\n",
       "  0.003243437799932636,\n",
       "  0.002352682964954056,\n",
       "  0.05478103106759846,\n",
       "  0.002019960490466488,\n",
       "  0.0006410647259826874,\n",
       "  0.0006882471793669964,\n",
       "  0.001381255380041857,\n",
       "  0.0005901131524517211,\n",
       "  0.001980112652635313]}"
      ]
     },
     "execution_count": 6,
     "metadata": {},
     "output_type": "execute_result"
    }
   ],
   "source": [
    "results_for_query"
   ]
  },
  {
   "cell_type": "code",
   "execution_count": 14,
   "id": "075edbd7-4cc7-492d-9a06-228774ec4a70",
   "metadata": {},
   "outputs": [],
   "source": [
    "import matplotlib.pyplot as plt\n",
    "#import sys\n",
    "#import matplotlib\n",
    "#matplotlib.use('Qt5Agg')\n",
    "\n",
    "\n",
    "\n",
    "for result in range(len(all_results)):\n",
    "    method_scores = {}\n",
    "    for method, scores in all_results[result].items():\n",
    "        if scores is not None:\n",
    "            method_scores[method] = np.round(scores, 4)\n",
    "\n",
    "    for method, scores in method_scores.items():\n",
    "        plt.figure(figsize=(10, 4))\n",
    "        plt.bar(range(len(scores)), scores, color='skyblue')\n",
    "        plt.title(f\"Approximate Scores: {method}\")\n",
    "        plt.xlabel(\"Index\")\n",
    "        plt.ylabel(\"Score\")\n",
    "        plt.grid(axis='y', linestyle='--', alpha=0.7)\n",
    "        plt.xticks(range(len(scores)))\n",
    "        plt.tight_layout()\n",
    "        plt.savefig(f'100_sents/{result}_{method}.png')"
   ]
  },
  {
   "cell_type": "code",
   "execution_count": 8,
   "id": "1897c5a5-7d7e-4f59-b1e9-fb4e4868da20",
   "metadata": {},
   "outputs": [
    {
     "data": {
      "text/plain": [
       "'Sam-I-Am'"
      ]
     },
     "execution_count": 8,
     "metadata": {},
     "output_type": "execute_result"
    }
   ],
   "source": [
    "harness.target_response"
   ]
  },
  {
   "cell_type": "code",
   "execution_count": null,
   "id": "87ed3da8-dd3e-4b8d-8c1c-bf20f34fa6cd",
   "metadata": {},
   "outputs": [],
   "source": []
  }
 ],
 "metadata": {
  "kernelspec": {
   "display_name": "Python 3 (ipykernel)",
   "language": "python",
   "name": "python3"
  },
  "language_info": {
   "codemirror_mode": {
    "name": "ipython",
    "version": 3
   },
   "file_extension": ".py",
   "mimetype": "text/x-python",
   "name": "python",
   "nbconvert_exporter": "python",
   "pygments_lexer": "ipython3",
   "version": "3.11.3"
  }
 },
 "nbformat": 4,
 "nbformat_minor": 5
}
