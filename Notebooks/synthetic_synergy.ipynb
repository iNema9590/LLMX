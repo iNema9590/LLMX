{
 "cells": [
  {
   "cell_type": "code",
   "execution_count": 1,
   "metadata": {},
   "outputs": [
    {
     "name": "stderr",
     "output_type": "stream",
     "text": [
      "/usr/local/lib/python3.10/dist-packages/tqdm/auto.py:21: TqdmWarning: IProgress not found. Please update jupyter and ipywidgets. See https://ipywidgets.readthedocs.io/en/stable/user_install.html\n",
      "  from .autonotebook import tqdm as notebook_tqdm\n"
     ]
    }
   ],
   "source": [
    "import sys\n",
    "import os\n",
    "import random\n",
    "import gc\n",
    "import time\n",
    "import torch\n",
    "import numpy as np\n",
    "import pandas as pd\n",
    "import ast\n",
    "from tqdm import tqdm\n",
    "from scipy.stats import spearmanr, pearsonr, kendalltau, rankdata\n",
    "from sklearn.metrics import ndcg_score\n",
    "from transformers import AutoModelForCausalLM, AutoTokenizer\n",
    "from accelerate import Accelerator\n",
    "os.environ[\"CUDA_VISIBLE_DEVICES\"] = \"3\" \n",
    "current_dir = os.getcwd()\n",
    "parent_dir = os.path.abspath(os.path.join(current_dir, '..'))\n",
    "sys.path.append(parent_dir)\n",
    "from SHapRAG.rag_shap import *"
   ]
  },
  {
   "cell_type": "code",
   "execution_count": 2,
   "metadata": {},
   "outputs": [],
   "source": [
    "df= pd.read_csv(\"../data/synthetic_data/20_synergy_hard_negatives.csv\",index_col=False, sep=\";\")\n",
    "# df= pd.read_csv(\"../data/complementary.csv\")"
   ]
  },
  {
   "cell_type": "code",
   "execution_count": 3,
   "metadata": {},
   "outputs": [
    {
     "name": "stderr",
     "output_type": "stream",
     "text": [
      "Detected kernel version 5.4.0, which is below the recommended minimum of 5.5.0; this can cause the process to hang. It is recommended to upgrade the kernel to the minimum version or higher.\n"
     ]
    },
    {
     "name": "stdout",
     "output_type": "stream",
     "text": [
      "Main Script: Loading model...\n"
     ]
    },
    {
     "name": "stderr",
     "output_type": "stream",
     "text": [
      "Loading checkpoint shards: 100%|██████████| 4/4 [00:01<00:00,  2.49it/s]\n"
     ]
    },
    {
     "name": "stdout",
     "output_type": "stream",
     "text": [
      "Main Script: Preparing model with Accelerator...\n",
      "Main Script: Model prepared and set to eval.\n"
     ]
    }
   ],
   "source": [
    "SEED = 42\n",
    "# Initialize Accelerator\n",
    "accelerator_main = Accelerator(mixed_precision=\"fp16\")\n",
    "\n",
    "# Load Model\n",
    "if accelerator_main.is_main_process:\n",
    "    print(\"Main Script: Loading model...\")\n",
    "# model_path = \"mistralai/Mistral-7B-Instruct-v0.3\"\n",
    "model_path = \"meta-llama/Llama-3.1-8B-Instruct\"\n",
    "# model_path = \"Qwen/Qwen2.5-3B-Instruct\"\n",
    "\n",
    "model_cpu = AutoModelForCausalLM.from_pretrained(\n",
    "    model_path,\n",
    "    torch_dtype=torch.float16\n",
    ")\n",
    "tokenizer = AutoTokenizer.from_pretrained(model_path)\n",
    "if tokenizer.pad_token is None:\n",
    "    tokenizer.pad_token = tokenizer.eos_token\n",
    "    model_cpu.config.pad_token_id = tokenizer.pad_token_id\n",
    "    if hasattr(model_cpu, 'generation_config') and model_cpu.generation_config is not None:\n",
    "        model_cpu.generation_config.pad_token_id = tokenizer.pad_token_id\n",
    "\n",
    "if accelerator_main.is_main_process:\n",
    "    print(\"Main Script: Preparing model with Accelerator...\")\n",
    "prepared_model = accelerator_main.prepare(model_cpu)\n",
    "unwrapped_prepared_model = accelerator_main.unwrap_model(prepared_model)\n",
    "unwrapped_prepared_model.eval()\n",
    "if accelerator_main.is_main_process:\n",
    "    print(\"Main Script: Model prepared and set to eval.\")\n",
    "\n",
    "# Define utility cache\n",
    "\n",
    "accelerator_main.wait_for_everyone()"
   ]
  },
  {
   "cell_type": "code",
   "execution_count": 26,
   "metadata": {},
   "outputs": [
    {
     "name": "stderr",
     "output_type": "stream",
     "text": [
      "  0%|          | 0/20 [00:00<?, ?it/s]"
     ]
    },
    {
     "name": "stdout",
     "output_type": "stream",
     "text": [
      "\n",
      "--- Question 1/20: What kind of energy does the facility hovering the planet Xy... ---\n",
      "Main Process: Attempting to load utility cache from ../Experiment_data/synthetic/Llama-3.1-8B-Instruct/duplicates/utilities_q_idx0.pkl...\n",
      "Successfully loaded 711 cached utility entries.\n"
     ]
    },
    {
     "name": "stderr",
     "output_type": "stream",
     "text": [
      "Computing utilities for ContextCite: 100%|██████████| 364/364 [00:00<00:00, 464898.49it/s]\n",
      "0it [00:00, ?it/s]\n",
      "0it [00:00, ?it/s]\n",
      "0it [00:00, ?it/s]\n",
      "0it [00:00, ?it/s]\n",
      "Computing utilities for WSS (kernelshap): 100%|██████████| 225/225 [00:00<00:00, 405551.53it/s]\n",
      "Computing utilities for WSS (uniform): 100%|██████████| 364/364 [00:00<00:00, 480707.39it/s]\n",
      "LOO Calls (logit-prob): 100%|██████████| 11/11 [00:00<00:00, 78867.25it/s]\n",
      "LOO Calls (divergence_utility): 100%|██████████| 11/11 [00:00<00:00, 105577.45it/s]\n",
      "  5%|▌         | 1/20 [00:09<02:56,  9.28s/it]"
     ]
    },
    {
     "name": "stdout",
     "output_type": "stream",
     "text": [
      "Main Process: Saving 712 utility entries to ../Experiment_data/synthetic/Llama-3.1-8B-Instruct/duplicates/utilities_q_idx0.pkl...\n",
      "Save complete.\n",
      "\n",
      "--- Question 2/20: What is the primary defense of the creatures populating the ... ---\n",
      "Main Process: Attempting to load utility cache from ../Experiment_data/synthetic/Llama-3.1-8B-Instruct/duplicates/utilities_q_idx1.pkl...\n",
      "Successfully loaded 715 cached utility entries.\n"
     ]
    },
    {
     "name": "stderr",
     "output_type": "stream",
     "text": [
      "Computing utilities for ContextCite: 100%|██████████| 364/364 [00:00<00:00, 536635.03it/s]\n",
      "0it [00:00, ?it/s]\n",
      "0it [00:00, ?it/s]\n",
      "0it [00:00, ?it/s]\n",
      "0it [00:00, ?it/s]\n",
      "Computing utilities for WSS (kernelshap): 100%|██████████| 225/225 [00:00<00:00, 451972.41it/s]\n",
      "Computing utilities for WSS (uniform): 100%|██████████| 364/364 [00:00<00:00, 532331.47it/s]\n",
      "LOO Calls (logit-prob): 100%|██████████| 11/11 [00:00<00:00, 109071.74it/s]\n",
      "LOO Calls (divergence_utility): 100%|██████████| 11/11 [00:00<00:00, 120149.33it/s]\n",
      " 10%|█         | 2/20 [00:19<03:00, 10.05s/it]"
     ]
    },
    {
     "name": "stdout",
     "output_type": "stream",
     "text": [
      "Main Process: Saving 716 utility entries to ../Experiment_data/synthetic/Llama-3.1-8B-Instruct/duplicates/utilities_q_idx1.pkl...\n",
      "Save complete.\n",
      "\n",
      "--- Question 3/20: What is the main function of the device recently discovered ... ---\n",
      "Main Process: Attempting to load utility cache from ../Experiment_data/synthetic/Llama-3.1-8B-Instruct/duplicates/utilities_q_idx2.pkl...\n",
      "Successfully loaded 714 cached utility entries.\n"
     ]
    },
    {
     "name": "stderr",
     "output_type": "stream",
     "text": [
      "Computing utilities for ContextCite: 100%|██████████| 364/364 [00:00<00:00, 598481.64it/s]\n",
      "0it [00:00, ?it/s]\n",
      "0it [00:00, ?it/s]\n",
      "0it [00:00, ?it/s]\n",
      "0it [00:00, ?it/s]\n",
      "Computing utilities for WSS (kernelshap): 100%|██████████| 225/225 [00:00<00:00, 438123.68it/s]\n",
      "Computing utilities for WSS (uniform): 100%|██████████| 364/364 [00:00<00:00, 488865.40it/s]\n",
      "LOO Calls (logit-prob): 100%|██████████| 11/11 [00:00<00:00, 104619.83it/s]\n",
      "LOO Calls (divergence_utility): 100%|██████████| 11/11 [00:00<00:00, 98164.56it/s]\n",
      " 15%|█▌        | 3/20 [00:29<02:49,  9.96s/it]"
     ]
    },
    {
     "name": "stdout",
     "output_type": "stream",
     "text": [
      "Main Process: Saving 714 utility entries to ../Experiment_data/synthetic/Llama-3.1-8B-Instruct/duplicates/utilities_q_idx2.pkl...\n",
      "Save complete.\n",
      "\n",
      "--- Question 4/20: What is the composition of the natural wonder of planet Ntun... ---\n",
      "Main Process: Attempting to load utility cache from ../Experiment_data/synthetic/Llama-3.1-8B-Instruct/duplicates/utilities_q_idx3.pkl...\n",
      "Successfully loaded 711 cached utility entries.\n"
     ]
    },
    {
     "name": "stderr",
     "output_type": "stream",
     "text": [
      "Computing utilities for ContextCite: 100%|██████████| 364/364 [00:00<00:00, 519294.78it/s]\n",
      "0it [00:00, ?it/s]\n",
      "0it [00:00, ?it/s]\n",
      "0it [00:00, ?it/s]\n",
      "0it [00:00, ?it/s]\n",
      "Computing utilities for WSS (kernelshap): 100%|██████████| 225/225 [00:00<00:00, 436502.50it/s]\n",
      "Computing utilities for WSS (uniform): 100%|██████████| 364/364 [00:00<00:00, 228176.16it/s]\n",
      "LOO Calls (logit-prob): 100%|██████████| 11/11 [00:00<00:00, 76386.33it/s]\n",
      "LOO Calls (divergence_utility): 100%|██████████| 11/11 [00:00<00:00, 81949.10it/s]\n",
      " 20%|██        | 4/20 [00:40<02:41, 10.10s/it]"
     ]
    },
    {
     "name": "stdout",
     "output_type": "stream",
     "text": [
      "Main Process: Saving 711 utility entries to ../Experiment_data/synthetic/Llama-3.1-8B-Instruct/duplicates/utilities_q_idx3.pkl...\n",
      "Save complete.\n",
      "\n",
      "--- Question 5/20: What is the traditional weapon of the defenders of the Citad... ---\n",
      "Main Process: Attempting to load utility cache from ../Experiment_data/synthetic/Llama-3.1-8B-Instruct/duplicates/utilities_q_idx4.pkl...\n",
      "Successfully loaded 716 cached utility entries.\n"
     ]
    },
    {
     "name": "stderr",
     "output_type": "stream",
     "text": [
      "Computing utilities for ContextCite: 100%|██████████| 364/364 [00:00<00:00, 477699.20it/s]\n",
      "0it [00:00, ?it/s]\n",
      "0it [00:00, ?it/s]\n",
      "0it [00:00, ?it/s]\n",
      "0it [00:00, ?it/s]\n",
      "Computing utilities for WSS (kernelshap): 100%|██████████| 225/225 [00:00<00:00, 384720.10it/s]\n",
      "Computing utilities for WSS (uniform): 100%|██████████| 364/364 [00:00<00:00, 445499.46it/s]\n",
      "LOO Calls (logit-prob): 100%|██████████| 11/11 [00:00<00:00, 35219.35it/s]\n",
      "LOO Calls (divergence_utility): 100%|██████████| 11/11 [00:00<00:00, 35654.83it/s]\n",
      " 25%|██▌       | 5/20 [00:50<02:32, 10.14s/it]"
     ]
    },
    {
     "name": "stdout",
     "output_type": "stream",
     "text": [
      "Main Process: Saving 716 utility entries to ../Experiment_data/synthetic/Llama-3.1-8B-Instruct/duplicates/utilities_q_idx4.pkl...\n",
      "Save complete.\n",
      "\n",
      "--- Question 6/20: What kind of power source is used by the ancient constructs ... ---\n",
      "Main Process: Attempting to load utility cache from ../Experiment_data/synthetic/Llama-3.1-8B-Instruct/duplicates/utilities_q_idx5.pkl...\n",
      "Successfully loaded 710 cached utility entries.\n"
     ]
    },
    {
     "name": "stderr",
     "output_type": "stream",
     "text": [
      "Computing utilities for ContextCite: 100%|██████████| 364/364 [00:00<00:00, 522672.60it/s]\n",
      "0it [00:00, ?it/s]\n",
      "0it [00:00, ?it/s]\n",
      "0it [00:00, ?it/s]\n",
      "0it [00:00, ?it/s]\n",
      "Computing utilities for WSS (kernelshap): 100%|██████████| 225/225 [00:00<00:00, 455902.61it/s]\n",
      "Computing utilities for WSS (uniform): 100%|██████████| 364/364 [00:00<00:00, 524648.34it/s]\n",
      "LOO Calls (logit-prob): 100%|██████████| 11/11 [00:00<00:00, 100736.56it/s]\n",
      "LOO Calls (divergence_utility): 100%|██████████| 11/11 [00:00<00:00, 104383.13it/s]\n",
      " 30%|███       | 6/20 [01:00<02:20, 10.06s/it]"
     ]
    },
    {
     "name": "stdout",
     "output_type": "stream",
     "text": [
      "Main Process: Saving 711 utility entries to ../Experiment_data/synthetic/Llama-3.1-8B-Instruct/duplicates/utilities_q_idx5.pkl...\n",
      "Save complete.\n",
      "\n",
      "--- Question 7/20: What is the primary ingredient of the most famous healing po... ---\n",
      "Main Process: Attempting to load utility cache from ../Experiment_data/synthetic/Llama-3.1-8B-Instruct/duplicates/utilities_q_idx6.pkl...\n",
      "Successfully loaded 709 cached utility entries.\n"
     ]
    },
    {
     "name": "stderr",
     "output_type": "stream",
     "text": [
      "Computing utilities for ContextCite: 100%|██████████| 364/364 [00:00<00:00, 537201.50it/s]\n",
      "0it [00:00, ?it/s]\n",
      "0it [00:00, ?it/s]\n",
      "0it [00:00, ?it/s]\n",
      "0it [00:00, ?it/s]\n",
      "Computing utilities for WSS (kernelshap): 100%|██████████| 225/225 [00:00<00:00, 377336.43it/s]\n",
      "Computing utilities for WSS (uniform): 100%|██████████| 364/364 [00:00<00:00, 449301.55it/s]\n",
      "LOO Calls (logit-prob): 100%|██████████| 11/11 [00:00<00:00, 105336.40it/s]\n",
      "LOO Calls (divergence_utility): 100%|██████████| 11/11 [00:00<00:00, 114769.51it/s]\n",
      " 35%|███▌      | 7/20 [01:10<02:12, 10.19s/it]"
     ]
    },
    {
     "name": "stdout",
     "output_type": "stream",
     "text": [
      "Main Process: Saving 709 utility entries to ../Experiment_data/synthetic/Llama-3.1-8B-Instruct/duplicates/utilities_q_idx6.pkl...\n",
      "Save complete.\n",
      "\n",
      "--- Question 8/20: What defensive ability is possessed by the strongest creatur... ---\n",
      "Main Process: Attempting to load utility cache from ../Experiment_data/synthetic/Llama-3.1-8B-Instruct/duplicates/utilities_q_idx7.pkl...\n",
      "Successfully loaded 716 cached utility entries.\n"
     ]
    },
    {
     "name": "stderr",
     "output_type": "stream",
     "text": [
      "Computing utilities for ContextCite: 100%|██████████| 364/364 [00:00<00:00, 537012.54it/s]\n",
      "0it [00:00, ?it/s]\n",
      "0it [00:00, ?it/s]\n",
      "0it [00:00, ?it/s]\n",
      "0it [00:00, ?it/s]\n",
      "Computing utilities for WSS (kernelshap): 100%|██████████| 225/225 [00:00<00:00, 427990.20it/s]\n",
      "Computing utilities for WSS (uniform): 100%|██████████| 364/364 [00:00<00:00, 487616.31it/s]\n",
      "LOO Calls (logit-prob): 100%|██████████| 11/11 [00:00<00:00, 105336.40it/s]\n",
      "LOO Calls (divergence_utility): 100%|██████████| 11/11 [00:00<00:00, 119217.94it/s]\n",
      " 40%|████      | 8/20 [01:21<02:04, 10.39s/it]"
     ]
    },
    {
     "name": "stdout",
     "output_type": "stream",
     "text": [
      "Main Process: Saving 716 utility entries to ../Experiment_data/synthetic/Llama-3.1-8B-Instruct/duplicates/utilities_q_idx7.pkl...\n",
      "Save complete.\n",
      "\n",
      "--- Question 9/20: What is the energy source of the massive orbital platform or... ---\n",
      "Main Process: Attempting to load utility cache from ../Experiment_data/synthetic/Llama-3.1-8B-Instruct/duplicates/utilities_q_idx8.pkl...\n",
      "Successfully loaded 719 cached utility entries.\n"
     ]
    },
    {
     "name": "stderr",
     "output_type": "stream",
     "text": [
      "Computing utilities for ContextCite: 100%|██████████| 364/364 [00:00<00:00, 488083.97it/s]\n",
      "0it [00:00, ?it/s]\n",
      "0it [00:00, ?it/s]\n",
      "0it [00:00, ?it/s]\n",
      "0it [00:00, ?it/s]\n",
      "Computing utilities for WSS (kernelshap): 100%|██████████| 225/225 [00:00<00:00, 425098.38it/s]\n",
      "Computing utilities for WSS (uniform): 100%|██████████| 364/364 [00:00<00:00, 466460.94it/s]\n",
      "LOO Calls (logit-prob): 100%|██████████| 11/11 [00:00<00:00, 107296.15it/s]\n",
      "LOO Calls (divergence_utility): 100%|██████████| 11/11 [00:00<00:00, 121095.39it/s]\n",
      " 45%|████▌     | 9/20 [01:31<01:53, 10.29s/it]"
     ]
    },
    {
     "name": "stdout",
     "output_type": "stream",
     "text": [
      "Main Process: Saving 719 utility entries to ../Experiment_data/synthetic/Llama-3.1-8B-Instruct/duplicates/utilities_q_idx8.pkl...\n",
      "Save complete.\n",
      "\n",
      "--- Question 10/20: What is the population of the capital of the biggest country... ---\n",
      "Main Process: Attempting to load utility cache from ../Experiment_data/synthetic/Llama-3.1-8B-Instruct/duplicates/utilities_q_idx9.pkl...\n",
      "Successfully loaded 717 cached utility entries.\n"
     ]
    },
    {
     "name": "stderr",
     "output_type": "stream",
     "text": [
      "Computing utilities for ContextCite: 100%|██████████| 364/364 [00:00<00:00, 590609.92it/s]\n",
      "0it [00:00, ?it/s]\n",
      "0it [00:00, ?it/s]\n",
      "0it [00:00, ?it/s]\n",
      "0it [00:00, ?it/s]\n",
      "Computing utilities for WSS (kernelshap): 100%|██████████| 225/225 [00:00<00:00, 423192.11it/s]\n",
      "Computing utilities for WSS (uniform): 100%|██████████| 364/364 [00:00<00:00, 496657.99it/s]\n",
      "LOO Calls (logit-prob): 100%|██████████| 11/11 [00:00<00:00, 104857.60it/s]\n",
      "LOO Calls (divergence_utility): 100%|██████████| 11/11 [00:00<00:00, 115922.97it/s]\n",
      " 50%|█████     | 10/20 [01:41<01:42, 10.24s/it]"
     ]
    },
    {
     "name": "stdout",
     "output_type": "stream",
     "text": [
      "Main Process: Saving 717 utility entries to ../Experiment_data/synthetic/Llama-3.1-8B-Instruct/duplicates/utilities_q_idx9.pkl...\n",
      "Save complete.\n",
      "\n",
      "--- Question 11/20: What's the weather like in the capital of Zhykara?... ---\n",
      "Main Process: Attempting to load utility cache from ../Experiment_data/synthetic/Llama-3.1-8B-Instruct/duplicates/utilities_q_idx10.pkl...\n",
      "Successfully loaded 712 cached utility entries.\n"
     ]
    },
    {
     "name": "stderr",
     "output_type": "stream",
     "text": [
      "Computing utilities for ContextCite: 100%|██████████| 364/364 [00:00<00:00, 507049.70it/s]\n",
      "0it [00:00, ?it/s]\n",
      "0it [00:00, ?it/s]\n",
      "0it [00:00, ?it/s]\n",
      "0it [00:00, ?it/s]\n",
      "Computing utilities for WSS (kernelshap): 100%|██████████| 225/225 [00:00<00:00, 350303.79it/s]\n",
      "Computing utilities for WSS (uniform): 100%|██████████| 364/364 [00:00<00:00, 423033.15it/s]\n",
      "LOO Calls (logit-prob): 100%|██████████| 11/11 [00:00<00:00, 76260.07it/s]\n",
      "LOO Calls (divergence_utility): 100%|██████████| 11/11 [00:00<00:00, 36016.66it/s]\n",
      " 55%|█████▌    | 11/20 [01:51<01:31, 10.22s/it]"
     ]
    },
    {
     "name": "stdout",
     "output_type": "stream",
     "text": [
      "Main Process: Saving 713 utility entries to ../Experiment_data/synthetic/Llama-3.1-8B-Instruct/duplicates/utilities_q_idx10.pkl...\n",
      "Save complete.\n",
      "\n",
      "--- Question 12/20: What's the value of the element obtained by mixing Aethelite... ---\n",
      "Main Process: Attempting to load utility cache from ../Experiment_data/synthetic/Llama-3.1-8B-Instruct/duplicates/utilities_q_idx11.pkl...\n",
      "Successfully loaded 718 cached utility entries.\n"
     ]
    },
    {
     "name": "stderr",
     "output_type": "stream",
     "text": [
      "Computing utilities for ContextCite: 100%|██████████| 364/364 [00:00<00:00, 538717.94it/s]\n",
      "0it [00:00, ?it/s]\n",
      "0it [00:00, ?it/s]\n",
      "0it [00:00, ?it/s]\n",
      "0it [00:00, ?it/s]\n",
      "Computing utilities for WSS (kernelshap): 100%|██████████| 225/225 [00:00<00:00, 478801.83it/s]\n",
      "Computing utilities for WSS (uniform): 100%|██████████| 364/364 [00:00<00:00, 527548.95it/s]\n",
      "LOO Calls (logit-prob): 100%|██████████| 11/11 [00:00<00:00, 98373.87it/s]\n",
      "LOO Calls (divergence_utility): 100%|██████████| 11/11 [00:00<00:00, 106799.41it/s]\n",
      " 60%|██████    | 12/20 [02:02<01:22, 10.32s/it]"
     ]
    },
    {
     "name": "stdout",
     "output_type": "stream",
     "text": [
      "Main Process: Saving 719 utility entries to ../Experiment_data/synthetic/Llama-3.1-8B-Instruct/duplicates/utilities_q_idx11.pkl...\n",
      "Save complete.\n",
      "\n",
      "--- Question 13/20: What's the side effect of mixing Gravitium and Solara?... ---\n",
      "Main Process: Attempting to load utility cache from ../Experiment_data/synthetic/Llama-3.1-8B-Instruct/duplicates/utilities_q_idx12.pkl...\n",
      "Successfully loaded 717 cached utility entries.\n"
     ]
    },
    {
     "name": "stderr",
     "output_type": "stream",
     "text": [
      "Computing utilities for ContextCite: 100%|██████████| 364/364 [00:00<00:00, 551762.43it/s]\n",
      "0it [00:00, ?it/s]\n",
      "0it [00:00, ?it/s]\n",
      "0it [00:00, ?it/s]\n",
      "0it [00:00, ?it/s]\n",
      "Computing utilities for WSS (kernelshap): 100%|██████████| 225/225 [00:00<00:00, 432501.56it/s]\n",
      "Computing utilities for WSS (uniform): 100%|██████████| 364/364 [00:00<00:00, 483447.33it/s]\n",
      "LOO Calls (logit-prob): 100%|██████████| 11/11 [00:00<00:00, 109330.20it/s]\n",
      "LOO Calls (divergence_utility): 100%|██████████| 11/11 [00:00<00:00, 112805.24it/s]\n",
      " 65%|██████▌   | 13/20 [02:13<01:14, 10.66s/it]"
     ]
    },
    {
     "name": "stdout",
     "output_type": "stream",
     "text": [
      "Main Process: Saving 718 utility entries to ../Experiment_data/synthetic/Llama-3.1-8B-Instruct/duplicates/utilities_q_idx12.pkl...\n",
      "Save complete.\n",
      "\n",
      "--- Question 14/20: What is the radius of the largest planet in the K'tharr Syst... ---\n",
      "Main Process: Attempting to load utility cache from ../Experiment_data/synthetic/Llama-3.1-8B-Instruct/duplicates/utilities_q_idx13.pkl...\n",
      "Successfully loaded 715 cached utility entries.\n"
     ]
    },
    {
     "name": "stderr",
     "output_type": "stream",
     "text": [
      "Computing utilities for ContextCite: 100%|██████████| 364/364 [00:00<00:00, 576340.75it/s]\n",
      "0it [00:00, ?it/s]\n",
      "0it [00:00, ?it/s]\n",
      "0it [00:00, ?it/s]\n",
      "0it [00:00, ?it/s]\n",
      "Computing utilities for WSS (kernelshap): 100%|██████████| 225/225 [00:00<00:00, 437920.37it/s]\n",
      "Computing utilities for WSS (uniform): 100%|██████████| 364/364 [00:00<00:00, 539288.82it/s]\n",
      "LOO Calls (logit-prob): 100%|██████████| 11/11 [00:00<00:00, 109330.20it/s]\n",
      "LOO Calls (divergence_utility): 100%|██████████| 11/11 [00:00<00:00, 129599.28it/s]\n",
      " 70%|███████   | 14/20 [02:23<01:03, 10.52s/it]"
     ]
    },
    {
     "name": "stdout",
     "output_type": "stream",
     "text": [
      "Main Process: Saving 715 utility entries to ../Experiment_data/synthetic/Llama-3.1-8B-Instruct/duplicates/utilities_q_idx13.pkl...\n",
      "Save complete.\n",
      "\n",
      "--- Question 15/20: What is the population of the smallest planet in the Lumina ... ---\n",
      "Main Process: Attempting to load utility cache from ../Experiment_data/synthetic/Llama-3.1-8B-Instruct/duplicates/utilities_q_idx14.pkl...\n",
      "Successfully loaded 709 cached utility entries.\n"
     ]
    },
    {
     "name": "stderr",
     "output_type": "stream",
     "text": [
      "Computing utilities for ContextCite: 100%|██████████| 364/364 [00:00<00:00, 563575.73it/s]\n",
      "0it [00:00, ?it/s]\n",
      "0it [00:00, ?it/s]\n",
      "0it [00:00, ?it/s]\n",
      "0it [00:00, ?it/s]\n",
      "Computing utilities for WSS (kernelshap): 100%|██████████| 225/225 [00:00<00:00, 319363.25it/s]\n",
      "Computing utilities for WSS (uniform): 100%|██████████| 364/364 [00:00<00:00, 264048.19it/s]\n",
      "LOO Calls (logit-prob): 100%|██████████| 11/11 [00:00<00:00, 94350.40it/s]\n",
      "LOO Calls (divergence_utility): 100%|██████████| 11/11 [00:00<00:00, 108814.49it/s]\n",
      " 75%|███████▌  | 15/20 [02:34<00:53, 10.62s/it]"
     ]
    },
    {
     "name": "stdout",
     "output_type": "stream",
     "text": [
      "Main Process: Saving 710 utility entries to ../Experiment_data/synthetic/Llama-3.1-8B-Instruct/duplicates/utilities_q_idx14.pkl...\n",
      "Save complete.\n",
      "\n",
      "--- Question 16/20: What is the title of the latest film starring the highest-pa... ---\n",
      "Main Process: Attempting to load utility cache from ../Experiment_data/synthetic/Llama-3.1-8B-Instruct/duplicates/utilities_q_idx15.pkl...\n",
      "Successfully loaded 715 cached utility entries.\n"
     ]
    },
    {
     "name": "stderr",
     "output_type": "stream",
     "text": [
      "Computing utilities for ContextCite: 100%|██████████| 364/364 [00:00<00:00, 494406.30it/s]\n",
      "0it [00:00, ?it/s]\n",
      "0it [00:00, ?it/s]\n",
      "0it [00:00, ?it/s]\n",
      "0it [00:00, ?it/s]\n",
      "Computing utilities for WSS (kernelshap): 100%|██████████| 225/225 [00:00<00:00, 169004.01it/s]\n",
      "Computing utilities for WSS (uniform): 100%|██████████| 364/364 [00:00<00:00, 265748.77it/s]\n",
      "LOO Calls (logit-prob): 100%|██████████| 11/11 [00:00<00:00, 98164.56it/s]\n",
      "LOO Calls (divergence_utility): 100%|██████████| 11/11 [00:00<00:00, 37571.13it/s]\n",
      " 80%|████████  | 16/20 [02:45<00:42, 10.66s/it]"
     ]
    },
    {
     "name": "stdout",
     "output_type": "stream",
     "text": [
      "Main Process: Saving 715 utility entries to ../Experiment_data/synthetic/Llama-3.1-8B-Instruct/duplicates/utilities_q_idx15.pkl...\n",
      "Save complete.\n",
      "\n",
      "--- Question 17/20: What is the salary of the most popular actor on the planet A... ---\n",
      "Main Process: Attempting to load utility cache from ../Experiment_data/synthetic/Llama-3.1-8B-Instruct/duplicates/utilities_q_idx16.pkl...\n",
      "Successfully loaded 712 cached utility entries.\n"
     ]
    },
    {
     "name": "stderr",
     "output_type": "stream",
     "text": [
      "Computing utilities for ContextCite: 100%|██████████| 364/364 [00:00<00:00, 500894.57it/s]\n",
      "0it [00:00, ?it/s]\n",
      "0it [00:00, ?it/s]\n",
      "0it [00:00, ?it/s]\n",
      "0it [00:00, ?it/s]\n",
      "Computing utilities for WSS (kernelshap): 100%|██████████| 225/225 [00:00<00:00, 419244.07it/s]\n",
      "Computing utilities for WSS (uniform): 100%|██████████| 364/364 [00:00<00:00, 486373.58it/s]\n",
      "LOO Calls (logit-prob): 100%|██████████| 11/11 [00:00<00:00, 108814.49it/s]\n",
      "LOO Calls (divergence_utility): 100%|██████████| 11/11 [00:00<00:00, 126750.95it/s]\n",
      " 85%|████████▌ | 17/20 [02:56<00:32, 10.68s/it]"
     ]
    },
    {
     "name": "stdout",
     "output_type": "stream",
     "text": [
      "Main Process: Saving 712 utility entries to ../Experiment_data/synthetic/Llama-3.1-8B-Instruct/duplicates/utilities_q_idx16.pkl...\n",
      "Save complete.\n",
      "\n",
      "--- Question 18/20: What is the title of the first album by the most popular Chr... ---\n",
      "Main Process: Attempting to load utility cache from ../Experiment_data/synthetic/Llama-3.1-8B-Instruct/duplicates/utilities_q_idx17.pkl...\n",
      "Successfully loaded 712 cached utility entries.\n"
     ]
    },
    {
     "name": "stderr",
     "output_type": "stream",
     "text": [
      "Computing utilities for ContextCite: 100%|██████████| 364/364 [00:00<00:00, 581388.67it/s]\n",
      "0it [00:00, ?it/s]\n",
      "0it [00:00, ?it/s]\n",
      "0it [00:00, ?it/s]\n",
      "0it [00:00, ?it/s]\n",
      "Computing utilities for WSS (kernelshap): 100%|██████████| 225/225 [00:00<00:00, 346445.81it/s]\n",
      "Computing utilities for WSS (uniform): 100%|██████████| 364/364 [00:00<00:00, 423737.62it/s]\n",
      "LOO Calls (logit-prob): 100%|██████████| 11/11 [00:00<00:00, 34611.66it/s]\n",
      "LOO Calls (divergence_utility): 100%|██████████| 11/11 [00:00<00:00, 102073.77it/s]\n",
      " 90%|█████████ | 18/20 [03:06<00:21, 10.56s/it]"
     ]
    },
    {
     "name": "stdout",
     "output_type": "stream",
     "text": [
      "Main Process: Saving 712 utility entries to ../Experiment_data/synthetic/Llama-3.1-8B-Instruct/duplicates/utilities_q_idx17.pkl...\n",
      "Save complete.\n",
      "\n",
      "--- Question 19/20: What is the total number of plays for the most critically ap... ---\n",
      "Main Process: Attempting to load utility cache from ../Experiment_data/synthetic/Llama-3.1-8B-Instruct/duplicates/utilities_q_idx18.pkl...\n",
      "Successfully loaded 717 cached utility entries.\n"
     ]
    },
    {
     "name": "stderr",
     "output_type": "stream",
     "text": [
      "Computing utilities for ContextCite: 100%|██████████| 364/364 [00:00<00:00, 537201.50it/s]\n",
      "0it [00:00, ?it/s]\n",
      "0it [00:00, ?it/s]\n",
      "0it [00:00, ?it/s]\n",
      "0it [00:00, ?it/s]\n",
      "Computing utilities for WSS (kernelshap): 100%|██████████| 225/225 [00:00<00:00, 418129.55it/s]\n",
      "Computing utilities for WSS (uniform): 100%|██████████| 364/364 [00:00<00:00, 451827.95it/s]\n",
      "LOO Calls (logit-prob): 100%|██████████| 11/11 [00:00<00:00, 96119.47it/s]\n",
      "LOO Calls (divergence_utility): 100%|██████████| 11/11 [00:00<00:00, 109589.89it/s]\n",
      " 95%|█████████▌| 19/20 [03:17<00:10, 10.60s/it]"
     ]
    },
    {
     "name": "stdout",
     "output_type": "stream",
     "text": [
      "Main Process: Saving 717 utility entries to ../Experiment_data/synthetic/Llama-3.1-8B-Instruct/duplicates/utilities_q_idx18.pkl...\n",
      "Save complete.\n",
      "\n",
      "--- Question 20/20: What is the effect of drinking water from the sacred spring ... ---\n",
      "Main Process: Attempting to load utility cache from ../Experiment_data/synthetic/Llama-3.1-8B-Instruct/duplicates/utilities_q_idx19.pkl...\n",
      "Successfully loaded 708 cached utility entries.\n"
     ]
    },
    {
     "name": "stderr",
     "output_type": "stream",
     "text": [
      "Computing utilities for ContextCite: 100%|██████████| 364/364 [00:00<00:00, 475023.85it/s]\n",
      "0it [00:00, ?it/s]\n",
      "0it [00:00, ?it/s]\n",
      "0it [00:00, ?it/s]\n",
      "0it [00:00, ?it/s]\n",
      "Computing utilities for WSS (kernelshap): 100%|██████████| 225/225 [00:00<00:00, 316259.52it/s]\n",
      "Computing utilities for WSS (uniform): 100%|██████████| 364/364 [00:00<00:00, 411738.58it/s]\n",
      "LOO Calls (logit-prob): 100%|██████████| 11/11 [00:00<00:00, 107546.26it/s]\n",
      "LOO Calls (divergence_utility): 100%|██████████| 11/11 [00:00<00:00, 111712.70it/s]\n",
      "100%|██████████| 20/20 [03:28<00:00, 10.42s/it]"
     ]
    },
    {
     "name": "stdout",
     "output_type": "stream",
     "text": [
      "Main Process: Saving 708 utility entries to ../Experiment_data/synthetic/Llama-3.1-8B-Instruct/duplicates/utilities_q_idx19.pkl...\n",
      "Save complete.\n"
     ]
    },
    {
     "name": "stderr",
     "output_type": "stream",
     "text": [
      "\n"
     ]
    }
   ],
   "source": [
    "num_questions_to_run=len(df.question)\n",
    "# num_questions_to_run=1\n",
    "k_values = [1,2,3,4,5]\n",
    "all_results=[]\n",
    "\n",
    "# Define ground truth set of docs for precision (adapt as needed)\n",
    "# e.g., if first 2 docs are always relevant\n",
    "def get_gtset_k():\n",
    "    return [0, 1,5]\n",
    "\n",
    "for i in tqdm(range(num_questions_to_run), disable=not accelerator_main.is_main_process):\n",
    "    query = df.question[i]\n",
    "    if accelerator_main.is_main_process:\n",
    "        print(f\"\\n--- Question {i+1}/{num_questions_to_run}: {query[:60]}... ---\")\n",
    "\n",
    "    p = ast.literal_eval(df.context[i])\n",
    "    docs = p[:5] + [p[1]] + p[5:]\n",
    "    utility_cache_base_dir = f\"../Experiment_data/synthetic/{model_path.split('/')[1]}/duplicates\"\n",
    "    utility_cache_filename = f\"utilities_q_idx{i}.pkl\"\n",
    "    current_utility_path = os.path.join(utility_cache_base_dir, utility_cache_filename)\n",
    "\n",
    "    if accelerator_main.is_main_process:\n",
    "        os.makedirs(os.path.dirname(current_utility_path), exist_ok=True)\n",
    "\n",
    "    harness = ContextAttribution(\n",
    "        items=docs,\n",
    "        query=query,\n",
    "        prepared_model=prepared_model,\n",
    "        prepared_tokenizer=tokenizer,\n",
    "        accelerator=accelerator_main,\n",
    "        utility_cache_path=current_utility_path\n",
    "    )\n",
    "\n",
    "    if accelerator_main.is_main_process:\n",
    "        methods_results = {}\n",
    "        metrics_results = {}\n",
    "        extra_results = {}\n",
    "\n",
    "        m_samples_map = {\"L\": 364}\n",
    "\n",
    "        # Store FM models for later R²/MSE\n",
    "        fm_models = {}\n",
    "\n",
    "        for size_key, num_s in m_samples_map.items():\n",
    "            if 2 ** len(docs) < num_s and size_key != \"L\":\n",
    "                actual_samples = max(1, 2 ** len(docs) - 1 if 2 ** len(docs) > 0 else 1)\n",
    "            else:\n",
    "                actual_samples = num_s\n",
    "\n",
    "            if actual_samples > 0:\n",
    "                methods_results[f\"ContextCite{actual_samples}\"], model_cc = harness.compute_contextcite(\n",
    "                    num_samples=actual_samples, seed=SEED\n",
    "                )\n",
    "\n",
    "                attributions, _ = harness.compute_spex(sample_budget=actual_samples, max_order=2)\n",
    "                methods_results[f\"FBII{actual_samples}\"] = attributions['fbii']\n",
    "                methods_results[f\"Spex{actual_samples}\"] = attributions['fourier']\n",
    "                methods_results[f\"FSII{actual_samples}\"] = attributions['fsii']\n",
    "\n",
    "                # methods_results[f\"FM_WeightsDU{actual_samples}\"], Fdu, modelfmdu = harness.compute_wss(\n",
    "                #     num_samples=actual_samples, seed=SEED, sampling=\"uniform\",\n",
    "                #     sur_type=\"fm\", utility_mode=\"divergence_utility\"\n",
    "                # )\n",
    "                # methods_results[f\"FM_WeightsDK{actual_samples}\"], Fdk, modelfmdk = harness.compute_wss(\n",
    "                #     num_samples=actual_samples, seed=SEED, sampling=\"kernelshap\",\n",
    "                #     sur_type=\"fm\", utility_mode=\"divergence_utility\"\n",
    "                # )\n",
    "                methods_results[f\"FM_WeightsLK{actual_samples}\"], Flk, modelfmlk = harness.compute_wss(\n",
    "                    num_samples=actual_samples, seed=SEED, sampling=\"kernelshap\", sur_type=\"fm\"\n",
    "                )\n",
    "                methods_results[f\"FM_WeightsLU{actual_samples}\"], Flu, modelfmlu = harness.compute_wss(\n",
    "                    num_samples=actual_samples, seed=SEED, sampling=\"uniform\", sur_type=\"fm\"\n",
    "                )\n",
    "\n",
    "                # Save FM models\n",
    "                fm_models.update({\n",
    "                    # f\"FM_WeightsDU{actual_samples}\": modelfmdu,\n",
    "                    # f\"FM_WeightsDK{actual_samples}\": modelfmdk,\n",
    "                    f\"FM_WeightsLK{actual_samples}\": modelfmlk,\n",
    "                    f\"FM_WeightsLU{actual_samples}\": modelfmlu\n",
    "                })\n",
    "\n",
    "                # Save extra Fs\n",
    "                extra_results.update({\n",
    "                    # \"Fdu\": Fdu,\n",
    "                    # \"Fdk\": Fdk,\n",
    "                    \"Flk\": Flk,\n",
    "                    \"Flu\": Flu\n",
    "                })\n",
    "\n",
    "        methods_results[\"LOO\"] = harness.compute_loo()\n",
    "        methods_results[\"ARC-JSD\"] = harness.compute_arc_jsd()\n",
    "\n",
    "        # --- Evaluation Metrics ---\n",
    "        metrics_results[\"topk_probability\"] = harness.evaluate_topk_performance(\n",
    "            methods_results, k_values, utility_type=\"probability\"\n",
    "        )\n",
    "        metrics_results[\"topk_divergence\"] = harness.evaluate_topk_performance(\n",
    "            methods_results, k_values, utility_type=\"divergence\"\n",
    "        )\n",
    "        metrics_results[\"topk_response_probability\"] = harness.top_k_response_probability(\n",
    "            methods_results, k_values=[1, 2,3]\n",
    "        )\n",
    "\n",
    "        # R² and MSE for ContextCite\n",
    "        r2, mse = harness.r2_mse(30, 'logit-prob', model_cc, method='cc')\n",
    "        metrics_results[\"R2_cc\"] = r2\n",
    "        metrics_results[\"MSE_cc\"] = mse\n",
    "\n",
    "        # R² and MSE for each FM method that has a model\n",
    "        for method_name, fm_model in fm_models.items():\n",
    "            r2, mse = harness.r2_mse(30, 'logit-prob', fm_model, method='fm')\n",
    "            metrics_results[f\"R2_{method_name}\"] = r2\n",
    "            metrics_results[f\"MSE_{method_name}\"] = mse\n",
    "\n",
    "        # LDS per method\n",
    "        LDS = {}\n",
    "        for method_name, scores in methods_results.items():\n",
    "            if \"FM_WeightsLU\" in method_name:\n",
    "                LDS[method_name] = harness.lds(scores, 30, utl=True, model=modelfmlu)\n",
    "            else:\n",
    "                LDS[method_name] = harness.lds(scores, 30)\n",
    "        metrics_results[\"LDS\"] = LDS\n",
    "\n",
    "        # Precision per method\n",
    "        precision_scores = {}\n",
    "        gtset_k = get_gtset_k()\n",
    "        for method_name, scores in methods_results.items():\n",
    "            precision_scores[method_name] = harness.precision(gtset_k, scores)\n",
    "        metrics_results[\"precision\"] = precision_scores\n",
    "\n",
    "        harness.save_utility_cache(current_utility_path)\n",
    "\n",
    "        all_results.append({\n",
    "            \"query_index\": i,\n",
    "            \"query\": query,\n",
    "            \"ground_truth\": df.answer[i],\n",
    "            \"methods\": methods_results,\n",
    "            \"metrics\": metrics_results,\n",
    "            \"extra\": extra_results\n",
    "        })\n"
   ]
  },
  {
   "cell_type": "code",
   "execution_count": 27,
   "metadata": {},
   "outputs": [],
   "source": [
    "import pandas as pd\n",
    "import numpy as np\n",
    "from collections import defaultdict\n",
    "\n",
    "def summarize_and_print(all_results, k_values=[1, 3, 5]):\n",
    "    table_data = defaultdict(lambda: defaultdict(list))\n",
    "\n",
    "    # Mapping for consistency\n",
    "    method_name_map = {\n",
    "        \"cc\": \"ContextCite364\"  # rename cc to full name\n",
    "    }\n",
    "\n",
    "    for res in all_results:\n",
    "        metrics = res[\"metrics\"]\n",
    "\n",
    "        # R² / MSE\n",
    "        for key, val in metrics.items():\n",
    "            if key.startswith(\"R2_\") or key.startswith(\"MSE_\"):\n",
    "                raw_method = key.split(\"_\", 1)[1]\n",
    "                method = method_name_map.get(raw_method, raw_method)  # rename if needed\n",
    "                metric_name = key.split(\"_\", 1)[0]  # \"R2\" or \"MSE\"\n",
    "                table_data[method][metric_name].append(val)\n",
    "\n",
    "        # LDS\n",
    "        for method_name, lds_val in metrics[\"LDS\"].items():\n",
    "            method = method_name_map.get(method_name, method_name)\n",
    "            table_data[method][\"LDS\"].append(lds_val)\n",
    "\n",
    "        # Precision\n",
    "        for method_name, prec_val in metrics[\"precision\"].items():\n",
    "            method = method_name_map.get(method_name, method_name)\n",
    "            table_data[method][\"precision\"].append(prec_val)\n",
    "\n",
    "        # Top-k\n",
    "        for metric_type in [\"topk_probability\", \"topk_divergence\", \"topk_response_probability\"]:\n",
    "            for method_name, k_dict in metrics[metric_type].items():\n",
    "                method = method_name_map.get(method_name, method_name)\n",
    "                for k in k_values:\n",
    "                    if k in k_dict:\n",
    "                        col_name = f\"{metric_type}_k{k}\"\n",
    "                        table_data[method][col_name].append(k_dict[k])\n",
    "\n",
    "    # Averages\n",
    "    avg_table = {\n",
    "        method: {metric: np.nanmean(values) for metric, values in metric_dict.items()}\n",
    "        for method, metric_dict in table_data.items()\n",
    "    }\n",
    "\n",
    "    df_summary = pd.DataFrame.from_dict(avg_table, orient=\"index\").sort_index()\n",
    "\n",
    "    print(\"\\n=== Metrics Summary Across All Queries ===\")\n",
    "    print(df_summary.to_string(float_format=\"%.4f\"))\n",
    "\n",
    "    return df_summary\n"
   ]
  },
  {
   "cell_type": "code",
   "execution_count": 28,
   "metadata": {},
   "outputs": [
    {
     "name": "stdout",
     "output_type": "stream",
     "text": [
      "\n",
      "=== Metrics Summary Across All Queries ===\n",
      "                    R2     MSE    LDS  precision  topk_probability_k1  topk_probability_k2  topk_probability_k3  topk_divergence_k1  topk_divergence_k2  topk_divergence_k3  topk_response_probability_k1  topk_response_probability_k2  topk_response_probability_k3\n",
      "ARC-JSD            NaN     NaN 0.6459     0.6500               7.8472              14.5633              17.6293              0.9888              1.6632              1.9504                        0.0611                        0.2323                        0.2292\n",
      "ContextCite364  0.5541 12.9338 0.6526     0.8167               5.8124              19.0650              23.3668              0.7626              1.9608              2.5343                        0.1432                        0.2539                        0.3573\n",
      "FBII364            NaN     NaN 0.4516     0.7333               4.6813              22.2729              27.6532              0.5579              2.3613              2.8888                        0.1515                        0.1408                        0.2148\n",
      "FM_WeightsLK364 0.9037  2.6044 0.6219     0.8333               5.3807              19.7700              23.4335              0.7128              2.0356              2.5003                        0.1512                        0.2110                        0.3480\n",
      "FM_WeightsLU364 0.9300  1.9937 0.8184     0.8333               5.9113              19.7700              23.7347              0.7603              2.0356              2.5513                        0.1432                        0.2110                        0.3591\n",
      "FSII364            NaN     NaN 0.4516     0.7333               4.6813              22.2729              27.6532              0.5579              2.3613              2.8888                        0.1515                        0.1408                        0.2148\n",
      "LOO                NaN     NaN 0.6912     0.5667               8.4835              10.3110              12.6979              0.9434              1.1837              1.4098                        0.0402                        0.1838                        0.2862\n",
      "Spex364            NaN     NaN 0.5173     0.8333               4.9049              21.8821              27.1491              0.5753              2.3041              2.8225                        0.1515                        0.1699                        0.3113\n"
     ]
    },
    {
     "data": {
      "text/html": [
       "<div>\n",
       "<style scoped>\n",
       "    .dataframe tbody tr th:only-of-type {\n",
       "        vertical-align: middle;\n",
       "    }\n",
       "\n",
       "    .dataframe tbody tr th {\n",
       "        vertical-align: top;\n",
       "    }\n",
       "\n",
       "    .dataframe thead th {\n",
       "        text-align: right;\n",
       "    }\n",
       "</style>\n",
       "<table border=\"1\" class=\"dataframe\">\n",
       "  <thead>\n",
       "    <tr style=\"text-align: right;\">\n",
       "      <th></th>\n",
       "      <th>R2</th>\n",
       "      <th>MSE</th>\n",
       "      <th>LDS</th>\n",
       "      <th>precision</th>\n",
       "      <th>topk_probability_k1</th>\n",
       "      <th>topk_probability_k2</th>\n",
       "      <th>topk_probability_k3</th>\n",
       "      <th>topk_divergence_k1</th>\n",
       "      <th>topk_divergence_k2</th>\n",
       "      <th>topk_divergence_k3</th>\n",
       "      <th>topk_response_probability_k1</th>\n",
       "      <th>topk_response_probability_k2</th>\n",
       "      <th>topk_response_probability_k3</th>\n",
       "    </tr>\n",
       "  </thead>\n",
       "  <tbody>\n",
       "    <tr>\n",
       "      <th>ARC-JSD</th>\n",
       "      <td>NaN</td>\n",
       "      <td>NaN</td>\n",
       "      <td>0.645873</td>\n",
       "      <td>0.650000</td>\n",
       "      <td>7.847161</td>\n",
       "      <td>14.563280</td>\n",
       "      <td>17.629260</td>\n",
       "      <td>0.988758</td>\n",
       "      <td>1.663207</td>\n",
       "      <td>1.950366</td>\n",
       "      <td>0.061104</td>\n",
       "      <td>0.232282</td>\n",
       "      <td>0.229189</td>\n",
       "    </tr>\n",
       "    <tr>\n",
       "      <th>ContextCite364</th>\n",
       "      <td>0.554134</td>\n",
       "      <td>12.933758</td>\n",
       "      <td>0.652590</td>\n",
       "      <td>0.816667</td>\n",
       "      <td>5.812364</td>\n",
       "      <td>19.064976</td>\n",
       "      <td>23.366795</td>\n",
       "      <td>0.762605</td>\n",
       "      <td>1.960846</td>\n",
       "      <td>2.534305</td>\n",
       "      <td>0.143158</td>\n",
       "      <td>0.253874</td>\n",
       "      <td>0.357259</td>\n",
       "    </tr>\n",
       "    <tr>\n",
       "      <th>FBII364</th>\n",
       "      <td>NaN</td>\n",
       "      <td>NaN</td>\n",
       "      <td>0.451628</td>\n",
       "      <td>0.733333</td>\n",
       "      <td>4.681265</td>\n",
       "      <td>22.272854</td>\n",
       "      <td>27.653188</td>\n",
       "      <td>0.557927</td>\n",
       "      <td>2.361316</td>\n",
       "      <td>2.888791</td>\n",
       "      <td>0.151532</td>\n",
       "      <td>0.140769</td>\n",
       "      <td>0.214774</td>\n",
       "    </tr>\n",
       "    <tr>\n",
       "      <th>FM_WeightsLK364</th>\n",
       "      <td>0.903729</td>\n",
       "      <td>2.604352</td>\n",
       "      <td>0.621935</td>\n",
       "      <td>0.833333</td>\n",
       "      <td>5.380695</td>\n",
       "      <td>19.770020</td>\n",
       "      <td>23.433549</td>\n",
       "      <td>0.712828</td>\n",
       "      <td>2.035620</td>\n",
       "      <td>2.500316</td>\n",
       "      <td>0.151214</td>\n",
       "      <td>0.211000</td>\n",
       "      <td>0.348018</td>\n",
       "    </tr>\n",
       "    <tr>\n",
       "      <th>FM_WeightsLU364</th>\n",
       "      <td>0.930011</td>\n",
       "      <td>1.993655</td>\n",
       "      <td>0.818420</td>\n",
       "      <td>0.833333</td>\n",
       "      <td>5.911255</td>\n",
       "      <td>19.770020</td>\n",
       "      <td>23.734741</td>\n",
       "      <td>0.760292</td>\n",
       "      <td>2.035620</td>\n",
       "      <td>2.551312</td>\n",
       "      <td>0.143158</td>\n",
       "      <td>0.211000</td>\n",
       "      <td>0.359086</td>\n",
       "    </tr>\n",
       "    <tr>\n",
       "      <th>FSII364</th>\n",
       "      <td>NaN</td>\n",
       "      <td>NaN</td>\n",
       "      <td>0.451628</td>\n",
       "      <td>0.733333</td>\n",
       "      <td>4.681265</td>\n",
       "      <td>22.272854</td>\n",
       "      <td>27.653188</td>\n",
       "      <td>0.557927</td>\n",
       "      <td>2.361316</td>\n",
       "      <td>2.888791</td>\n",
       "      <td>0.151532</td>\n",
       "      <td>0.140769</td>\n",
       "      <td>0.214774</td>\n",
       "    </tr>\n",
       "    <tr>\n",
       "      <th>LOO</th>\n",
       "      <td>NaN</td>\n",
       "      <td>NaN</td>\n",
       "      <td>0.691168</td>\n",
       "      <td>0.566667</td>\n",
       "      <td>8.483532</td>\n",
       "      <td>10.310955</td>\n",
       "      <td>12.697930</td>\n",
       "      <td>0.943393</td>\n",
       "      <td>1.183694</td>\n",
       "      <td>1.409779</td>\n",
       "      <td>0.040218</td>\n",
       "      <td>0.183776</td>\n",
       "      <td>0.286169</td>\n",
       "    </tr>\n",
       "    <tr>\n",
       "      <th>Spex364</th>\n",
       "      <td>NaN</td>\n",
       "      <td>NaN</td>\n",
       "      <td>0.517301</td>\n",
       "      <td>0.833333</td>\n",
       "      <td>4.904935</td>\n",
       "      <td>21.882085</td>\n",
       "      <td>27.149069</td>\n",
       "      <td>0.575286</td>\n",
       "      <td>2.304134</td>\n",
       "      <td>2.822482</td>\n",
       "      <td>0.151532</td>\n",
       "      <td>0.169932</td>\n",
       "      <td>0.311339</td>\n",
       "    </tr>\n",
       "  </tbody>\n",
       "</table>\n",
       "</div>"
      ],
      "text/plain": [
       "                       R2        MSE       LDS  precision  \\\n",
       "ARC-JSD               NaN        NaN  0.645873   0.650000   \n",
       "ContextCite364   0.554134  12.933758  0.652590   0.816667   \n",
       "FBII364               NaN        NaN  0.451628   0.733333   \n",
       "FM_WeightsLK364  0.903729   2.604352  0.621935   0.833333   \n",
       "FM_WeightsLU364  0.930011   1.993655  0.818420   0.833333   \n",
       "FSII364               NaN        NaN  0.451628   0.733333   \n",
       "LOO                   NaN        NaN  0.691168   0.566667   \n",
       "Spex364               NaN        NaN  0.517301   0.833333   \n",
       "\n",
       "                 topk_probability_k1  topk_probability_k2  \\\n",
       "ARC-JSD                     7.847161            14.563280   \n",
       "ContextCite364              5.812364            19.064976   \n",
       "FBII364                     4.681265            22.272854   \n",
       "FM_WeightsLK364             5.380695            19.770020   \n",
       "FM_WeightsLU364             5.911255            19.770020   \n",
       "FSII364                     4.681265            22.272854   \n",
       "LOO                         8.483532            10.310955   \n",
       "Spex364                     4.904935            21.882085   \n",
       "\n",
       "                 topk_probability_k3  topk_divergence_k1  topk_divergence_k2  \\\n",
       "ARC-JSD                    17.629260            0.988758            1.663207   \n",
       "ContextCite364             23.366795            0.762605            1.960846   \n",
       "FBII364                    27.653188            0.557927            2.361316   \n",
       "FM_WeightsLK364            23.433549            0.712828            2.035620   \n",
       "FM_WeightsLU364            23.734741            0.760292            2.035620   \n",
       "FSII364                    27.653188            0.557927            2.361316   \n",
       "LOO                        12.697930            0.943393            1.183694   \n",
       "Spex364                    27.149069            0.575286            2.304134   \n",
       "\n",
       "                 topk_divergence_k3  topk_response_probability_k1  \\\n",
       "ARC-JSD                    1.950366                      0.061104   \n",
       "ContextCite364             2.534305                      0.143158   \n",
       "FBII364                    2.888791                      0.151532   \n",
       "FM_WeightsLK364            2.500316                      0.151214   \n",
       "FM_WeightsLU364            2.551312                      0.143158   \n",
       "FSII364                    2.888791                      0.151532   \n",
       "LOO                        1.409779                      0.040218   \n",
       "Spex364                    2.822482                      0.151532   \n",
       "\n",
       "                 topk_response_probability_k2  topk_response_probability_k3  \n",
       "ARC-JSD                              0.232282                      0.229189  \n",
       "ContextCite364                       0.253874                      0.357259  \n",
       "FBII364                              0.140769                      0.214774  \n",
       "FM_WeightsLK364                      0.211000                      0.348018  \n",
       "FM_WeightsLU364                      0.211000                      0.359086  \n",
       "FSII364                              0.140769                      0.214774  \n",
       "LOO                                  0.183776                      0.286169  \n",
       "Spex364                              0.169932                      0.311339  "
      ]
     },
     "execution_count": 28,
     "metadata": {},
     "output_type": "execute_result"
    }
   ],
   "source": [
    "summarize_and_print(all_results, k_values=[1, 2,3])"
   ]
  },
  {
   "cell_type": "code",
   "execution_count": 29,
   "metadata": {},
   "outputs": [],
   "source": [
    "import numpy as np\n",
    "import matplotlib.pyplot as plt\n",
    "\n",
    "def compute_recall_at_k(all_results, k_values=[1,2, 3,4, 5]):\n",
    "    methods = list(all_results[0][\"methods\"].keys())\n",
    "    recall_table = {m: [] for m in methods}\n",
    "\n",
    "    for k in k_values:\n",
    "        for method in methods:\n",
    "            recalls = []\n",
    "            for res in all_results:\n",
    "                gt_indices = set([0,1,5])  # must exist in each result\n",
    "                scores = np.array(res[\"methods\"][method])\n",
    "                topk_indices = set(scores.argsort()[-k:])\n",
    "                hits = len(gt_indices & topk_indices)\n",
    "                recalls.append(hits / len(gt_indices) if gt_indices else np.nan)\n",
    "            recall_table[method].append(np.nanmean(recalls))\n",
    "    return recall_table\n",
    "\n",
    "\n",
    "def plot_recall_at_k(recall_table, k_values=[1,2, 3,4, 5]):\n",
    "    plt.figure(figsize=(8, 5))\n",
    "    for method, recalls in recall_table.items():\n",
    "        plt.plot(k_values, recalls, marker=\"o\", label=method)\n",
    "    plt.xlabel(\"k\")\n",
    "    plt.ylabel(\"Recall@k\")\n",
    "    plt.title(\"Recall@k for All Methods\")\n",
    "    plt.xticks(k_values)\n",
    "    plt.ylim(0, 1.05)\n",
    "    plt.grid(True)\n",
    "    plt.legend()\n",
    "    plt.show()\n"
   ]
  },
  {
   "cell_type": "code",
   "execution_count": 30,
   "metadata": {},
   "outputs": [
    {
     "data": {
      "image/png": "[encoded data removed]",
      "text/plain": [
       "<Figure size 800x500 with 1 Axes>"
      ]
     },
     "metadata": {},
     "output_type": "display_data"
    }
   ],
   "source": [
    "recall_table=compute_recall_at_k(all_results, k_values=[1, 2, 3, 4, 5])\n",
    "plot_recall_at_k(recall_table, k_values=[1, 2, 3, 4, 5])"
   ]
  },
  {
   "cell_type": "code",
   "execution_count": null,
   "metadata": {},
   "outputs": [],
   "source": []
  }
 ],
 "metadata": {
  "kernelspec": {
   "display_name": "Python 3",
   "language": "python",
   "name": "python3"
  },
  "language_info": {
   "codemirror_mode": {
    "name": "ipython",
    "version": 3
   },
   "file_extension": ".py",
   "mimetype": "text/x-python",
   "name": "python",
   "nbconvert_exporter": "python",
   "pygments_lexer": "ipython3",
   "version": "3.10.12"
  }
 },
 "nbformat": 4,
 "nbformat_minor": 2
}
