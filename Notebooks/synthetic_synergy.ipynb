{
 "cells": [
  {
   "cell_type": "code",
   "execution_count": 1,
   "metadata": {},
   "outputs": [
    {
     "name": "stderr",
     "output_type": "stream",
     "text": [
      "/usr/local/lib/python3.10/dist-packages/tqdm/auto.py:21: TqdmWarning: IProgress not found. Please update jupyter and ipywidgets. See https://ipywidgets.readthedocs.io/en/stable/user_install.html\n",
      "  from .autonotebook import tqdm as notebook_tqdm\n"
     ]
    }
   ],
   "source": [
    "import sys\n",
    "import os\n",
    "import random\n",
    "import gc\n",
    "import time\n",
    "import torch\n",
    "import numpy as np\n",
    "import pandas as pd\n",
    "import ast\n",
    "from tqdm import tqdm\n",
    "from scipy.stats import spearmanr, pearsonr, kendalltau, rankdata\n",
    "from sklearn.metrics import ndcg_score\n",
    "from transformers import AutoModelForCausalLM, AutoTokenizer\n",
    "from accelerate import Accelerator\n",
    "os.environ[\"CUDA_VISIBLE_DEVICES\"] = \"3\" \n",
    "current_dir = os.getcwd()\n",
    "parent_dir = os.path.abspath(os.path.join(current_dir, '..'))\n",
    "sys.path.append(parent_dir)\n",
    "from SHapRAG.rag_shap import *\n",
    "from SHapRAG.utils import *"
   ]
  },
  {
   "cell_type": "code",
   "execution_count": 2,
   "metadata": {},
   "outputs": [],
   "source": [
    "df= pd.read_csv(\"../data/synthetic_data/20_synergy_hard_negatives.csv\",index_col=False, sep=\";\")\n",
    "# df= pd.read_csv(\"../data/complementary.csv\")"
   ]
  },
  {
   "cell_type": "code",
   "execution_count": 3,
   "metadata": {},
   "outputs": [
    {
     "name": "stderr",
     "output_type": "stream",
     "text": [
      "Detected kernel version 5.4.0, which is below the recommended minimum of 5.5.0; this can cause the process to hang. It is recommended to upgrade the kernel to the minimum version or higher.\n"
     ]
    },
    {
     "name": "stdout",
     "output_type": "stream",
     "text": [
      "Main Script: Loading model...\n"
     ]
    },
    {
     "name": "stderr",
     "output_type": "stream",
     "text": [
      "Loading checkpoint shards: 100%|██████████| 4/4 [00:01<00:00,  2.70it/s]\n"
     ]
    },
    {
     "name": "stdout",
     "output_type": "stream",
     "text": [
      "Main Script: Preparing model with Accelerator...\n",
      "Main Script: Model prepared and set to eval.\n"
     ]
    }
   ],
   "source": [
    "SEED = 42\n",
    "# Initialize Accelerator\n",
    "accelerator_main = Accelerator(mixed_precision=\"fp16\")\n",
    "\n",
    "# Load Model\n",
    "if accelerator_main.is_main_process:\n",
    "    print(\"Main Script: Loading model...\")\n",
    "# model_path = \"mistralai/Mistral-7B-Instruct-v0.3\"\n",
    "model_path = \"meta-llama/Llama-3.1-8B-Instruct\"\n",
    "# model_path = \"Qwen/Qwen2.5-3B-Instruct\"\n",
    "\n",
    "model_cpu = AutoModelForCausalLM.from_pretrained(\n",
    "    model_path,\n",
    "    torch_dtype=torch.float16\n",
    ")\n",
    "tokenizer = AutoTokenizer.from_pretrained(model_path)\n",
    "if tokenizer.pad_token is None:\n",
    "    tokenizer.pad_token = tokenizer.eos_token\n",
    "    model_cpu.config.pad_token_id = tokenizer.pad_token_id\n",
    "    if hasattr(model_cpu, 'generation_config') and model_cpu.generation_config is not None:\n",
    "        model_cpu.generation_config.pad_token_id = tokenizer.pad_token_id\n",
    "\n",
    "if accelerator_main.is_main_process:\n",
    "    print(\"Main Script: Preparing model with Accelerator...\")\n",
    "prepared_model = accelerator_main.prepare(model_cpu)\n",
    "unwrapped_prepared_model = accelerator_main.unwrap_model(prepared_model)\n",
    "unwrapped_prepared_model.eval()\n",
    "if accelerator_main.is_main_process:\n",
    "    print(\"Main Script: Model prepared and set to eval.\")\n",
    "\n",
    "# Define utility cache\n",
    "\n",
    "accelerator_main.wait_for_everyone()"
   ]
  },
  {
   "cell_type": "code",
   "execution_count": 4,
   "metadata": {},
   "outputs": [
    {
     "name": "stderr",
     "output_type": "stream",
     "text": [
      "  0%|          | 0/20 [00:00<?, ?it/s]"
     ]
    },
    {
     "name": "stdout",
     "output_type": "stream",
     "text": [
      "\n",
      "--- Question 1/20: What kind of energy does the facility hovering the planet Xy... ---\n",
      "Main Process: Attempting to load utility cache from ../Experiment_data/synthetic/Llama-3.1-8B-Instruct/duplicates/utilities_q_idx0.pkl...\n",
      "Successfully loaded 1353 cached utility entries.\n"
     ]
    },
    {
     "name": "stderr",
     "output_type": "stream",
     "text": [
      "Fetching 3 files: 100%|██████████| 3/3 [00:00<00:00, 14496.44it/s]\n",
      "Computing utilities for ContextCite: 100%|██████████| 364/364 [00:00<00:00, 508062.12it/s]\n",
      "0it [00:00, ?it/s]\n",
      "0it [00:00, ?it/s]\n",
      "0it [00:00, ?it/s]\n",
      "0it [00:00, ?it/s]\n",
      "Computing utilities for WSS (uniform): 100%|██████████| 364/364 [00:00<00:00, 371828.22it/s]\n",
      "LOO Calls (logit-prob): 100%|██████████| 11/11 [00:00<00:00, 25088.28it/s]\n",
      "LOO Calls (divergence_utility): 100%|██████████| 11/11 [00:00<00:00, 94737.87it/s]\n",
      "Exhaustive Top-1 Search: 100%|██████████| 10/10 [00:00<00:00, 1664.27it/s]\n",
      "Exhaustive Top-2 Search: 100%|██████████| 45/45 [00:00<00:00, 2114.94it/s]\n",
      "Exhaustive Top-3 Search: 100%|██████████| 120/120 [00:00<00:00, 2779.07it/s]\n",
      "Exhaustive Top-4 Search: 100%|██████████| 210/210 [00:00<00:00, 2978.16it/s]\n",
      "Exhaustive Top-5 Search: 100%|██████████| 252/252 [00:00<00:00, 2933.13it/s]\n",
      "Exhaustive Top-1 Search: 100%|██████████| 10/10 [00:00<00:00, 2356.22it/s]\n",
      "Exhaustive Top-2 Search: 100%|██████████| 45/45 [00:00<00:00, 3046.96it/s]\n",
      "Exhaustive Top-3 Search: 100%|██████████| 120/120 [00:00<00:00, 3100.23it/s]\n",
      "Exhaustive Top-4 Search: 100%|██████████| 210/210 [00:00<00:00, 3098.76it/s]\n",
      "Exhaustive Top-5 Search: 100%|██████████| 252/252 [00:00<00:00, 3140.20it/s]\n",
      "  5%|▌         | 1/20 [01:02<19:51, 62.70s/it]"
     ]
    },
    {
     "name": "stdout",
     "output_type": "stream",
     "text": [
      "Main Process: Saving 1353 utility entries to ../Experiment_data/synthetic/Llama-3.1-8B-Instruct/duplicates/utilities_q_idx0.pkl...\n",
      "Save complete.\n",
      "\n",
      "--- Question 2/20: What is the primary defense of the creatures populating the ... ---\n",
      "Main Process: Attempting to load utility cache from ../Experiment_data/synthetic/Llama-3.1-8B-Instruct/duplicates/utilities_q_idx1.pkl...\n",
      "Successfully loaded 1357 cached utility entries.\n"
     ]
    },
    {
     "name": "stderr",
     "output_type": "stream",
     "text": [
      "Computing utilities for ContextCite: 100%|██████████| 364/364 [00:00<00:00, 535505.67it/s]\n",
      "0it [00:00, ?it/s]\n",
      "0it [00:00, ?it/s]\n",
      "0it [00:00, ?it/s]\n",
      "0it [00:00, ?it/s]\n",
      "Computing utilities for WSS (uniform): 100%|██████████| 364/364 [00:00<00:00, 319265.30it/s]\n",
      "LOO Calls (logit-prob): 100%|██████████| 11/11 [00:00<00:00, 52608.15it/s]\n",
      "LOO Calls (divergence_utility): 100%|██████████| 11/11 [00:00<00:00, 37207.54it/s]\n",
      "Exhaustive Top-1 Search: 100%|██████████| 10/10 [00:00<00:00, 2440.96it/s]\n",
      "Exhaustive Top-2 Search: 100%|██████████| 45/45 [00:00<00:00, 2649.85it/s]\n",
      "Exhaustive Top-3 Search: 100%|██████████| 120/120 [00:00<00:00, 2697.94it/s]\n",
      "Exhaustive Top-4 Search: 100%|██████████| 210/210 [00:00<00:00, 2667.73it/s]\n",
      "Exhaustive Top-5 Search: 100%|██████████| 252/252 [00:00<00:00, 2670.03it/s]\n",
      "Exhaustive Top-1 Search: 100%|██████████| 10/10 [00:00<00:00, 2181.13it/s]\n",
      "Exhaustive Top-2 Search: 100%|██████████| 45/45 [00:00<00:00, 1571.32it/s]\n",
      "Exhaustive Top-3 Search: 100%|██████████| 120/120 [00:00<00:00, 2695.28it/s]\n",
      "Exhaustive Top-4 Search: 100%|██████████| 210/210 [00:00<00:00, 2690.54it/s]\n",
      "Exhaustive Top-5 Search: 100%|██████████| 252/252 [00:00<00:00, 2700.35it/s]\n",
      " 10%|█         | 2/20 [01:43<14:51, 49.52s/it]"
     ]
    },
    {
     "name": "stdout",
     "output_type": "stream",
     "text": [
      "Main Process: Saving 1357 utility entries to ../Experiment_data/synthetic/Llama-3.1-8B-Instruct/duplicates/utilities_q_idx1.pkl...\n",
      "Save complete.\n",
      "\n",
      "--- Question 3/20: What is the main function of the device recently discovered ... ---\n",
      "Main Process: Attempting to load utility cache from ../Experiment_data/synthetic/Llama-3.1-8B-Instruct/duplicates/utilities_q_idx2.pkl...\n",
      "Successfully loaded 1353 cached utility entries.\n"
     ]
    },
    {
     "name": "stderr",
     "output_type": "stream",
     "text": [
      "Computing utilities for ContextCite: 100%|██████████| 364/364 [00:00<00:00, 453169.09it/s]\n",
      "0it [00:00, ?it/s]\n",
      "0it [00:00, ?it/s]\n",
      "0it [00:00, ?it/s]\n",
      "0it [00:00, ?it/s]\n",
      "Computing utilities for WSS (uniform): 100%|██████████| 364/364 [00:00<00:00, 276881.87it/s]\n",
      "LOO Calls (logit-prob): 100%|██████████| 11/11 [00:00<00:00, 52548.23it/s]\n",
      "LOO Calls (divergence_utility): 100%|██████████| 11/11 [00:00<00:00, 73002.13it/s]\n",
      "Exhaustive Top-1 Search: 100%|██████████| 10/10 [00:00<00:00, 2413.43it/s]\n",
      "Exhaustive Top-2 Search: 100%|██████████| 45/45 [00:00<00:00, 2679.65it/s]\n",
      "Exhaustive Top-3 Search: 100%|██████████| 120/120 [00:00<00:00, 2682.35it/s]\n",
      "Exhaustive Top-4 Search: 100%|██████████| 210/210 [00:00<00:00, 2713.35it/s]\n",
      "Exhaustive Top-5 Search: 100%|██████████| 252/252 [00:00<00:00, 2686.05it/s]\n",
      "Exhaustive Top-1 Search: 100%|██████████| 10/10 [00:00<00:00, 2760.68it/s]\n",
      "Exhaustive Top-2 Search: 100%|██████████| 45/45 [00:00<00:00, 3050.26it/s]\n",
      "Exhaustive Top-3 Search: 100%|██████████| 120/120 [00:00<00:00, 3106.57it/s]\n",
      "Exhaustive Top-4 Search: 100%|██████████| 210/210 [00:00<00:00, 3122.74it/s]\n",
      "Exhaustive Top-5 Search: 100%|██████████| 252/252 [00:00<00:00, 3092.40it/s]\n",
      " 15%|█▌        | 3/20 [02:22<12:42, 44.87s/it]"
     ]
    },
    {
     "name": "stdout",
     "output_type": "stream",
     "text": [
      "Main Process: Saving 1353 utility entries to ../Experiment_data/synthetic/Llama-3.1-8B-Instruct/duplicates/utilities_q_idx2.pkl...\n",
      "Save complete.\n",
      "\n",
      "--- Question 4/20: What is the composition of the natural wonder of planet Ntun... ---\n",
      "Main Process: Attempting to load utility cache from ../Experiment_data/synthetic/Llama-3.1-8B-Instruct/duplicates/utilities_q_idx3.pkl...\n",
      "Successfully loaded 1352 cached utility entries.\n"
     ]
    },
    {
     "name": "stderr",
     "output_type": "stream",
     "text": [
      "Computing utilities for ContextCite: 100%|██████████| 364/364 [00:00<00:00, 561916.33it/s]\n",
      "0it [00:00, ?it/s]\n",
      "0it [00:00, ?it/s]\n",
      "0it [00:00, ?it/s]\n",
      "0it [00:00, ?it/s]\n",
      "Computing utilities for WSS (uniform): 100%|██████████| 364/364 [00:00<00:00, 421165.97it/s]\n",
      "LOO Calls (logit-prob): 100%|██████████| 11/11 [00:00<00:00, 90288.34it/s]\n",
      "LOO Calls (divergence_utility): 100%|██████████| 11/11 [00:00<00:00, 110907.08it/s]\n",
      "Exhaustive Top-1 Search: 100%|██████████| 10/10 [00:00<00:00, 1689.00it/s]\n",
      "Exhaustive Top-2 Search: 100%|██████████| 45/45 [00:00<00:00, 2045.91it/s]\n",
      "Exhaustive Top-3 Search: 100%|██████████| 120/120 [00:00<00:00, 3123.49it/s]\n",
      "Exhaustive Top-4 Search: 100%|██████████| 210/210 [00:00<00:00, 3029.35it/s]\n",
      "Exhaustive Top-5 Search: 100%|██████████| 252/252 [00:00<00:00, 3024.05it/s]\n",
      "Exhaustive Top-1 Search: 100%|██████████| 10/10 [00:00<00:00, 2718.98it/s]\n",
      "Exhaustive Top-2 Search: 100%|██████████| 45/45 [00:00<00:00, 2940.02it/s]\n",
      "Exhaustive Top-3 Search: 100%|██████████| 120/120 [00:00<00:00, 3101.66it/s]\n",
      "Exhaustive Top-4 Search: 100%|██████████| 210/210 [00:00<00:00, 3109.44it/s]\n",
      "Exhaustive Top-5 Search: 100%|██████████| 252/252 [00:00<00:00, 3132.40it/s]\n",
      " 20%|██        | 4/20 [02:32<08:20, 31.31s/it]"
     ]
    },
    {
     "name": "stdout",
     "output_type": "stream",
     "text": [
      "Main Process: Saving 1352 utility entries to ../Experiment_data/synthetic/Llama-3.1-8B-Instruct/duplicates/utilities_q_idx3.pkl...\n",
      "Save complete.\n",
      "\n",
      "--- Question 5/20: What is the traditional weapon of the defenders of the Citad... ---\n",
      "Main Process: Attempting to load utility cache from ../Experiment_data/synthetic/Llama-3.1-8B-Instruct/duplicates/utilities_q_idx4.pkl...\n",
      "Successfully loaded 1355 cached utility entries.\n"
     ]
    },
    {
     "name": "stderr",
     "output_type": "stream",
     "text": [
      "Computing utilities for ContextCite: 100%|██████████| 364/364 [00:00<00:00, 540051.88it/s]\n",
      "0it [00:00, ?it/s]\n",
      "0it [00:00, ?it/s]\n",
      "0it [00:00, ?it/s]\n",
      "0it [00:00, ?it/s]\n",
      "Computing utilities for WSS (uniform): 100%|██████████| 364/364 [00:00<00:00, 330245.87it/s]\n",
      "LOO Calls (logit-prob): 100%|██████████| 11/11 [00:00<00:00, 51377.89it/s]\n",
      "LOO Calls (divergence_utility): 100%|██████████| 11/11 [00:00<00:00, 71865.02it/s]\n",
      "Exhaustive Top-1 Search: 100%|██████████| 10/10 [00:00<00:00, 2454.82it/s]\n",
      "Exhaustive Top-2 Search: 100%|██████████| 45/45 [00:00<00:00, 2587.48it/s]\n",
      "Exhaustive Top-3 Search: 100%|██████████| 120/120 [00:00<00:00, 2652.16it/s]\n",
      "Exhaustive Top-4 Search: 100%|██████████| 210/210 [00:00<00:00, 2692.57it/s]\n",
      "Exhaustive Top-5 Search: 100%|██████████| 252/252 [00:00<00:00, 2670.15it/s]\n",
      "Exhaustive Top-1 Search: 100%|██████████| 10/10 [00:00<00:00, 2365.52it/s]\n",
      "Exhaustive Top-2 Search: 100%|██████████| 45/45 [00:00<00:00, 2653.76it/s]\n",
      "Exhaustive Top-3 Search: 100%|██████████| 120/120 [00:00<00:00, 2698.28it/s]\n",
      "Exhaustive Top-4 Search: 100%|██████████| 210/210 [00:00<00:00, 2694.20it/s]\n",
      "Exhaustive Top-5 Search: 100%|██████████| 252/252 [00:00<00:00, 2563.59it/s]\n",
      " 25%|██▌       | 5/20 [03:12<08:33, 34.22s/it]"
     ]
    },
    {
     "name": "stdout",
     "output_type": "stream",
     "text": [
      "Main Process: Saving 1355 utility entries to ../Experiment_data/synthetic/Llama-3.1-8B-Instruct/duplicates/utilities_q_idx4.pkl...\n",
      "Save complete.\n",
      "\n",
      "--- Question 6/20: What kind of power source is used by the ancient constructs ... ---\n",
      "Main Process: Attempting to load utility cache from ../Experiment_data/synthetic/Llama-3.1-8B-Instruct/duplicates/utilities_q_idx5.pkl...\n",
      "Successfully loaded 1354 cached utility entries.\n"
     ]
    },
    {
     "name": "stderr",
     "output_type": "stream",
     "text": [
      "Computing utilities for ContextCite: 100%|██████████| 364/364 [00:00<00:00, 531775.22it/s]\n",
      "0it [00:00, ?it/s]\n",
      "0it [00:00, ?it/s]\n",
      "0it [00:00, ?it/s]\n",
      "0it [00:00, ?it/s]\n",
      "Computing utilities for WSS (uniform): 100%|██████████| 364/364 [00:00<00:00, 387789.35it/s]\n",
      "LOO Calls (logit-prob): 100%|██████████| 11/11 [00:00<00:00, 82980.83it/s]\n",
      "LOO Calls (divergence_utility): 100%|██████████| 11/11 [00:00<00:00, 132578.57it/s]\n",
      "Exhaustive Top-1 Search: 100%|██████████| 10/10 [00:00<00:00, 1993.68it/s]\n",
      "Exhaustive Top-2 Search: 100%|██████████| 45/45 [00:00<00:00, 2044.83it/s]\n",
      "Exhaustive Top-3 Search: 100%|██████████| 120/120 [00:00<00:00, 2976.92it/s]\n",
      "Exhaustive Top-4 Search: 100%|██████████| 210/210 [00:00<00:00, 3124.87it/s]\n",
      "Exhaustive Top-5 Search: 100%|██████████| 252/252 [00:00<00:00, 3092.23it/s]\n",
      "Exhaustive Top-1 Search: 100%|██████████| 10/10 [00:00<00:00, 2555.63it/s]\n",
      "Exhaustive Top-2 Search: 100%|██████████| 45/45 [00:00<00:00, 3080.62it/s]\n",
      "Exhaustive Top-3 Search: 100%|██████████| 120/120 [00:00<00:00, 3121.38it/s]\n",
      "Exhaustive Top-4 Search: 100%|██████████| 210/210 [00:00<00:00, 3138.00it/s]\n",
      "Exhaustive Top-5 Search: 100%|██████████| 252/252 [00:00<00:00, 3136.35it/s]\n",
      " 30%|███       | 6/20 [03:48<08:09, 34.94s/it]"
     ]
    },
    {
     "name": "stdout",
     "output_type": "stream",
     "text": [
      "Main Process: Saving 1354 utility entries to ../Experiment_data/synthetic/Llama-3.1-8B-Instruct/duplicates/utilities_q_idx5.pkl...\n",
      "Save complete.\n",
      "\n",
      "--- Question 7/20: What is the primary ingredient of the most famous healing po... ---\n",
      "Main Process: Attempting to load utility cache from ../Experiment_data/synthetic/Llama-3.1-8B-Instruct/duplicates/utilities_q_idx6.pkl...\n",
      "Successfully loaded 1350 cached utility entries.\n"
     ]
    },
    {
     "name": "stderr",
     "output_type": "stream",
     "text": [
      "Computing utilities for ContextCite: 100%|██████████| 364/364 [00:00<00:00, 580063.32it/s]\n",
      "0it [00:00, ?it/s]\n",
      "0it [00:00, ?it/s]\n",
      "0it [00:00, ?it/s]\n",
      "0it [00:00, ?it/s]\n",
      "Computing utilities for WSS (uniform): 100%|██████████| 364/364 [00:00<00:00, 363679.53it/s]\n",
      "LOO Calls (logit-prob): 100%|██████████| 11/11 [00:00<00:00, 52788.72it/s]\n",
      "LOO Calls (divergence_utility): 100%|██████████| 11/11 [00:00<00:00, 71420.04it/s]\n",
      "Exhaustive Top-1 Search: 100%|██████████| 10/10 [00:00<00:00, 2494.53it/s]\n",
      "Exhaustive Top-2 Search: 100%|██████████| 45/45 [00:00<00:00, 2679.91it/s]\n",
      "Exhaustive Top-3 Search: 100%|██████████| 120/120 [00:00<00:00, 2703.10it/s]\n",
      "Exhaustive Top-4 Search: 100%|██████████| 210/210 [00:00<00:00, 2706.37it/s]\n",
      "Exhaustive Top-5 Search: 100%|██████████| 252/252 [00:00<00:00, 2689.40it/s]\n",
      "Exhaustive Top-1 Search: 100%|██████████| 10/10 [00:00<00:00, 2407.61it/s]\n",
      "Exhaustive Top-2 Search: 100%|██████████| 45/45 [00:00<00:00, 2599.06it/s]\n",
      "Exhaustive Top-3 Search: 100%|██████████| 120/120 [00:00<00:00, 2660.11it/s]\n",
      "Exhaustive Top-4 Search: 100%|██████████| 210/210 [00:00<00:00, 2671.11it/s]\n",
      "Exhaustive Top-5 Search: 100%|██████████| 252/252 [00:00<00:00, 2684.12it/s]\n",
      " 35%|███▌      | 7/20 [04:53<09:41, 44.76s/it]"
     ]
    },
    {
     "name": "stdout",
     "output_type": "stream",
     "text": [
      "Main Process: Saving 1350 utility entries to ../Experiment_data/synthetic/Llama-3.1-8B-Instruct/duplicates/utilities_q_idx6.pkl...\n",
      "Save complete.\n",
      "\n",
      "--- Question 8/20: What defensive ability is possessed by the strongest creatur... ---\n",
      "Main Process: Attempting to load utility cache from ../Experiment_data/synthetic/Llama-3.1-8B-Instruct/duplicates/utilities_q_idx7.pkl...\n",
      "Successfully loaded 1353 cached utility entries.\n"
     ]
    },
    {
     "name": "stderr",
     "output_type": "stream",
     "text": [
      "Computing utilities for ContextCite: 100%|██████████| 364/364 [00:00<00:00, 558831.13it/s]\n",
      "0it [00:00, ?it/s]\n",
      "0it [00:00, ?it/s]\n",
      "0it [00:00, ?it/s]\n",
      "0it [00:00, ?it/s]\n",
      "Computing utilities for WSS (uniform): 100%|██████████| 364/364 [00:00<00:00, 405612.82it/s]\n",
      "LOO Calls (logit-prob): 100%|██████████| 11/11 [00:00<00:00, 87381.33it/s]\n",
      "LOO Calls (divergence_utility): 100%|██████████| 11/11 [00:00<00:00, 131072.00it/s]\n",
      "Exhaustive Top-1 Search: 100%|██████████| 10/10 [00:00<00:00, 2182.15it/s]\n",
      "Exhaustive Top-2 Search: 100%|██████████| 45/45 [00:00<00:00, 2166.13it/s]\n",
      "Exhaustive Top-3 Search: 100%|██████████| 120/120 [00:00<00:00, 3071.63it/s]\n",
      "Exhaustive Top-4 Search: 100%|██████████| 210/210 [00:00<00:00, 2989.42it/s]\n",
      "Exhaustive Top-5 Search: 100%|██████████| 252/252 [00:00<00:00, 3022.05it/s]\n",
      "Exhaustive Top-1 Search: 100%|██████████| 10/10 [00:00<00:00, 1970.64it/s]\n",
      "Exhaustive Top-2 Search: 100%|██████████| 45/45 [00:00<00:00, 2918.39it/s]\n",
      "Exhaustive Top-3 Search: 100%|██████████| 120/120 [00:00<00:00, 3097.90it/s]\n",
      "Exhaustive Top-4 Search: 100%|██████████| 210/210 [00:00<00:00, 3125.63it/s]\n",
      "Exhaustive Top-5 Search: 100%|██████████| 252/252 [00:00<00:00, 3118.42it/s]\n",
      " 40%|████      | 8/20 [05:31<08:30, 42.57s/it]"
     ]
    },
    {
     "name": "stdout",
     "output_type": "stream",
     "text": [
      "Main Process: Saving 1353 utility entries to ../Experiment_data/synthetic/Llama-3.1-8B-Instruct/duplicates/utilities_q_idx7.pkl...\n",
      "Save complete.\n",
      "\n",
      "--- Question 9/20: What is the energy source of the massive orbital platform or... ---\n",
      "Main Process: Attempting to load utility cache from ../Experiment_data/synthetic/Llama-3.1-8B-Instruct/duplicates/utilities_q_idx8.pkl...\n",
      "Successfully loaded 1356 cached utility entries.\n"
     ]
    },
    {
     "name": "stderr",
     "output_type": "stream",
     "text": [
      "Computing utilities for ContextCite: 100%|██████████| 364/364 [00:00<00:00, 472963.65it/s]\n",
      "0it [00:00, ?it/s]\n",
      "0it [00:00, ?it/s]\n",
      "0it [00:00, ?it/s]\n",
      "0it [00:00, ?it/s]\n",
      "Computing utilities for WSS (uniform): 100%|██████████| 364/364 [00:00<00:00, 394706.99it/s]\n",
      "LOO Calls (logit-prob): 100%|██████████| 11/11 [00:00<00:00, 80378.65it/s]\n",
      "LOO Calls (divergence_utility): 100%|██████████| 11/11 [00:00<00:00, 118910.68it/s]\n",
      "Exhaustive Top-1 Search: 100%|██████████| 10/10 [00:00<00:00, 1714.76it/s]\n",
      "Exhaustive Top-2 Search: 100%|██████████| 45/45 [00:00<00:00, 2077.76it/s]\n",
      "Exhaustive Top-3 Search: 100%|██████████| 120/120 [00:00<00:00, 2994.49it/s]\n",
      "Exhaustive Top-4 Search: 100%|██████████| 210/210 [00:00<00:00, 3095.67it/s]\n",
      "Exhaustive Top-5 Search: 100%|██████████| 252/252 [00:00<00:00, 3014.34it/s]\n",
      "Exhaustive Top-1 Search: 100%|██████████| 10/10 [00:00<00:00, 2805.55it/s]\n",
      "Exhaustive Top-2 Search: 100%|██████████| 45/45 [00:00<00:00, 3016.52it/s]\n",
      "Exhaustive Top-3 Search: 100%|██████████| 120/120 [00:00<00:00, 3073.29it/s]\n",
      "Exhaustive Top-4 Search: 100%|██████████| 210/210 [00:00<00:00, 3148.89it/s]\n",
      "Exhaustive Top-5 Search: 100%|██████████| 252/252 [00:00<00:00, 3068.70it/s]\n",
      " 45%|████▌     | 9/20 [05:50<06:26, 35.15s/it]"
     ]
    },
    {
     "name": "stdout",
     "output_type": "stream",
     "text": [
      "Main Process: Saving 1356 utility entries to ../Experiment_data/synthetic/Llama-3.1-8B-Instruct/duplicates/utilities_q_idx8.pkl...\n",
      "Save complete.\n",
      "\n",
      "--- Question 10/20: What is the population of the capital of the biggest country... ---\n",
      "Main Process: Attempting to load utility cache from ../Experiment_data/synthetic/Llama-3.1-8B-Instruct/duplicates/utilities_q_idx9.pkl...\n",
      "Successfully loaded 1355 cached utility entries.\n"
     ]
    },
    {
     "name": "stderr",
     "output_type": "stream",
     "text": [
      "Computing utilities for ContextCite: 100%|██████████| 364/364 [00:00<00:00, 551762.43it/s]\n",
      "0it [00:00, ?it/s]\n",
      "0it [00:00, ?it/s]\n",
      "0it [00:00, ?it/s]\n",
      "0it [00:00, ?it/s]\n",
      "Computing utilities for WSS (uniform): 100%|██████████| 364/364 [00:00<00:00, 374932.87it/s]\n",
      "LOO Calls (logit-prob): 100%|██████████| 11/11 [00:00<00:00, 84655.68it/s]\n",
      "LOO Calls (divergence_utility): 100%|██████████| 11/11 [00:00<00:00, 111983.84it/s]\n",
      "Exhaustive Top-1 Search: 100%|██████████| 10/10 [00:00<00:00, 1903.91it/s]\n",
      "Exhaustive Top-2 Search: 100%|██████████| 45/45 [00:00<00:00, 1988.43it/s]\n",
      "Exhaustive Top-3 Search: 100%|██████████| 120/120 [00:00<00:00, 3013.40it/s]\n",
      "Exhaustive Top-4 Search: 100%|██████████| 210/210 [00:00<00:00, 3092.54it/s]\n",
      "Exhaustive Top-5 Search: 100%|██████████| 252/252 [00:00<00:00, 3147.59it/s]\n",
      "Exhaustive Top-1 Search: 100%|██████████| 10/10 [00:00<00:00, 2637.10it/s]\n",
      "Exhaustive Top-2 Search: 100%|██████████| 45/45 [00:00<00:00, 3072.45it/s]\n",
      "Exhaustive Top-3 Search: 100%|██████████| 120/120 [00:00<00:00, 3124.09it/s]\n",
      "Exhaustive Top-4 Search: 100%|██████████| 210/210 [00:00<00:00, 3151.05it/s]\n",
      "Exhaustive Top-5 Search: 100%|██████████| 252/252 [00:00<00:00, 3121.60it/s]\n",
      " 50%|█████     | 10/20 [06:29<06:05, 36.56s/it]"
     ]
    },
    {
     "name": "stdout",
     "output_type": "stream",
     "text": [
      "Main Process: Saving 1355 utility entries to ../Experiment_data/synthetic/Llama-3.1-8B-Instruct/duplicates/utilities_q_idx9.pkl...\n",
      "Save complete.\n",
      "\n",
      "--- Question 11/20: What's the weather like in the capital of Zhykara?... ---\n",
      "Main Process: Attempting to load utility cache from ../Experiment_data/synthetic/Llama-3.1-8B-Instruct/duplicates/utilities_q_idx10.pkl...\n",
      "Successfully loaded 1354 cached utility entries.\n"
     ]
    },
    {
     "name": "stderr",
     "output_type": "stream",
     "text": [
      "Computing utilities for ContextCite: 100%|██████████| 364/364 [00:00<00:00, 559240.53it/s]\n",
      "0it [00:00, ?it/s]\n",
      "0it [00:00, ?it/s]\n",
      "0it [00:00, ?it/s]\n",
      "0it [00:00, ?it/s]\n",
      "Computing utilities for WSS (uniform): 100%|██████████| 364/364 [00:00<00:00, 348567.73it/s]\n",
      "LOO Calls (logit-prob): 100%|██████████| 11/11 [00:00<00:00, 49397.58it/s]\n",
      "LOO Calls (divergence_utility): 100%|██████████| 11/11 [00:00<00:00, 69588.75it/s]\n",
      "Exhaustive Top-1 Search: 100%|██████████| 10/10 [00:00<00:00, 2426.98it/s]\n",
      "Exhaustive Top-2 Search: 100%|██████████| 45/45 [00:00<00:00, 2681.63it/s]\n",
      "Exhaustive Top-3 Search: 100%|██████████| 120/120 [00:00<00:00, 2640.02it/s]\n",
      "Exhaustive Top-4 Search: 100%|██████████| 210/210 [00:00<00:00, 2720.64it/s]\n",
      "Exhaustive Top-5 Search: 100%|██████████| 252/252 [00:00<00:00, 2702.66it/s]\n",
      "Exhaustive Top-1 Search: 100%|██████████| 10/10 [00:00<00:00, 2677.67it/s]\n",
      "Exhaustive Top-2 Search: 100%|██████████| 45/45 [00:00<00:00, 2962.08it/s]\n",
      "Exhaustive Top-3 Search: 100%|██████████| 120/120 [00:00<00:00, 3134.21it/s]\n",
      "Exhaustive Top-4 Search: 100%|██████████| 210/210 [00:00<00:00, 3081.53it/s]\n",
      "Exhaustive Top-5 Search: 100%|██████████| 252/252 [00:00<00:00, 3135.87it/s]\n",
      " 55%|█████▌    | 11/20 [07:10<05:39, 37.73s/it]"
     ]
    },
    {
     "name": "stdout",
     "output_type": "stream",
     "text": [
      "Main Process: Saving 1354 utility entries to ../Experiment_data/synthetic/Llama-3.1-8B-Instruct/duplicates/utilities_q_idx10.pkl...\n",
      "Save complete.\n",
      "\n",
      "--- Question 12/20: What's the value of the element obtained by mixing Aethelite... ---\n",
      "Main Process: Attempting to load utility cache from ../Experiment_data/synthetic/Llama-3.1-8B-Instruct/duplicates/utilities_q_idx11.pkl...\n",
      "Successfully loaded 1355 cached utility entries.\n"
     ]
    },
    {
     "name": "stderr",
     "output_type": "stream",
     "text": [
      "Computing utilities for ContextCite: 100%|██████████| 364/364 [00:00<00:00, 576558.40it/s]\n",
      "0it [00:00, ?it/s]\n",
      "0it [00:00, ?it/s]\n",
      "0it [00:00, ?it/s]\n",
      "0it [00:00, ?it/s]\n",
      "Computing utilities for WSS (uniform): 100%|██████████| 364/364 [00:00<00:00, 426102.89it/s]\n",
      "LOO Calls (logit-prob): 100%|██████████| 11/11 [00:00<00:00, 80659.69it/s]\n",
      "LOO Calls (divergence_utility): 100%|██████████| 11/11 [00:00<00:00, 134511.21it/s]\n",
      "Exhaustive Top-1 Search: 100%|██████████| 10/10 [00:00<00:00, 1950.75it/s]\n",
      "Exhaustive Top-2 Search: 100%|██████████| 45/45 [00:00<00:00, 2007.46it/s]\n",
      "Exhaustive Top-3 Search: 100%|██████████| 120/120 [00:00<00:00, 2862.58it/s]\n",
      "Exhaustive Top-4 Search: 100%|██████████| 210/210 [00:00<00:00, 2963.36it/s]\n",
      "Exhaustive Top-5 Search: 100%|██████████| 252/252 [00:00<00:00, 3146.96it/s]\n",
      "Exhaustive Top-1 Search: 100%|██████████| 10/10 [00:00<00:00, 2771.44it/s]\n",
      "Exhaustive Top-2 Search: 100%|██████████| 45/45 [00:00<00:00, 2968.09it/s]\n",
      "Exhaustive Top-3 Search: 100%|██████████| 120/120 [00:00<00:00, 3106.01it/s]\n",
      "Exhaustive Top-4 Search: 100%|██████████| 210/210 [00:00<00:00, 3169.10it/s]\n",
      "Exhaustive Top-5 Search: 100%|██████████| 252/252 [00:00<00:00, 3092.45it/s]\n",
      " 60%|██████    | 12/20 [07:34<04:29, 33.66s/it]"
     ]
    },
    {
     "name": "stdout",
     "output_type": "stream",
     "text": [
      "Main Process: Saving 1355 utility entries to ../Experiment_data/synthetic/Llama-3.1-8B-Instruct/duplicates/utilities_q_idx11.pkl...\n",
      "Save complete.\n",
      "\n",
      "--- Question 13/20: What's the side effect of mixing Gravitium and Solara?... ---\n",
      "Main Process: Attempting to load utility cache from ../Experiment_data/synthetic/Llama-3.1-8B-Instruct/duplicates/utilities_q_idx12.pkl...\n",
      "Successfully loaded 1357 cached utility entries.\n"
     ]
    },
    {
     "name": "stderr",
     "output_type": "stream",
     "text": [
      "Computing utilities for ContextCite: 100%|██████████| 364/364 [00:00<00:00, 566924.12it/s]\n",
      "0it [00:00, ?it/s]\n",
      "0it [00:00, ?it/s]\n",
      "0it [00:00, ?it/s]\n",
      "0it [00:00, ?it/s]\n",
      "Computing utilities for WSS (uniform): 100%|██████████| 364/364 [00:00<00:00, 396964.81it/s]\n",
      "LOO Calls (logit-prob): 100%|██████████| 11/11 [00:00<00:00, 81949.10it/s]\n",
      "LOO Calls (divergence_utility): 100%|██████████| 11/11 [00:00<00:00, 119526.80it/s]\n",
      "Exhaustive Top-1 Search: 100%|██████████| 10/10 [00:00<00:00, 1880.52it/s]\n",
      "Exhaustive Top-2 Search: 100%|██████████| 45/45 [00:00<00:00, 2035.65it/s]\n",
      "Exhaustive Top-3 Search: 100%|██████████| 120/120 [00:00<00:00, 3119.74it/s]\n",
      "Exhaustive Top-4 Search: 100%|██████████| 210/210 [00:00<00:00, 3121.29it/s]\n",
      "Exhaustive Top-5 Search: 100%|██████████| 252/252 [00:00<00:00, 3006.81it/s]\n",
      "Exhaustive Top-1 Search: 100%|██████████| 10/10 [00:00<00:00, 2798.81it/s]\n",
      "Exhaustive Top-2 Search: 100%|██████████| 45/45 [00:00<00:00, 3063.72it/s]\n",
      "Exhaustive Top-3 Search: 100%|██████████| 120/120 [00:00<00:00, 3126.97it/s]\n",
      "Exhaustive Top-4 Search: 100%|██████████| 210/210 [00:00<00:00, 3159.97it/s]\n",
      "Exhaustive Top-5 Search: 100%|██████████| 252/252 [00:00<00:00, 3122.98it/s]\n",
      " 65%|██████▌   | 13/20 [07:52<03:21, 28.74s/it]"
     ]
    },
    {
     "name": "stdout",
     "output_type": "stream",
     "text": [
      "Main Process: Saving 1357 utility entries to ../Experiment_data/synthetic/Llama-3.1-8B-Instruct/duplicates/utilities_q_idx12.pkl...\n",
      "Save complete.\n",
      "\n",
      "--- Question 14/20: What is the radius of the largest planet in the K'tharr Syst... ---\n",
      "Main Process: Attempting to load utility cache from ../Experiment_data/synthetic/Llama-3.1-8B-Instruct/duplicates/utilities_q_idx13.pkl...\n",
      "Successfully loaded 1353 cached utility entries.\n"
     ]
    },
    {
     "name": "stderr",
     "output_type": "stream",
     "text": [
      "Computing utilities for ContextCite: 100%|██████████| 364/364 [00:00<00:00, 551363.91it/s]\n",
      "0it [00:00, ?it/s]\n",
      "0it [00:00, ?it/s]\n",
      "0it [00:00, ?it/s]\n",
      "0it [00:00, ?it/s]\n",
      "Computing utilities for WSS (uniform): 100%|██████████| 364/364 [00:00<00:00, 313367.54it/s]\n",
      "LOO Calls (logit-prob): 100%|██████████| 11/11 [00:00<00:00, 48978.07it/s]\n",
      "LOO Calls (divergence_utility): 100%|██████████| 11/11 [00:00<00:00, 71977.14it/s]\n",
      "Exhaustive Top-1 Search: 100%|██████████| 10/10 [00:00<00:00, 2447.80it/s]\n",
      "Exhaustive Top-2 Search: 100%|██████████| 45/45 [00:00<00:00, 2667.79it/s]\n",
      "Exhaustive Top-3 Search: 100%|██████████| 120/120 [00:00<00:00, 2511.53it/s]\n",
      "Exhaustive Top-4 Search: 100%|██████████| 210/210 [00:00<00:00, 2621.63it/s]\n",
      "Exhaustive Top-5 Search: 100%|██████████| 252/252 [00:00<00:00, 2669.82it/s]\n",
      "Exhaustive Top-1 Search: 100%|██████████| 10/10 [00:00<00:00, 2131.14it/s]\n",
      "Exhaustive Top-2 Search: 100%|██████████| 45/45 [00:00<00:00, 2591.78it/s]\n",
      "Exhaustive Top-3 Search: 100%|██████████| 120/120 [00:00<00:00, 2689.92it/s]\n",
      "Exhaustive Top-4 Search: 100%|██████████| 210/210 [00:00<00:00, 2704.81it/s]\n",
      "Exhaustive Top-5 Search: 100%|██████████| 252/252 [00:00<00:00, 2713.92it/s]\n",
      " 70%|███████   | 14/20 [08:39<03:26, 34.38s/it]"
     ]
    },
    {
     "name": "stdout",
     "output_type": "stream",
     "text": [
      "Main Process: Saving 1353 utility entries to ../Experiment_data/synthetic/Llama-3.1-8B-Instruct/duplicates/utilities_q_idx13.pkl...\n",
      "Save complete.\n",
      "\n",
      "--- Question 15/20: What is the population of the smallest planet in the Lumina ... ---\n",
      "Main Process: Attempting to load utility cache from ../Experiment_data/synthetic/Llama-3.1-8B-Instruct/duplicates/utilities_q_idx14.pkl...\n",
      "Successfully loaded 1352 cached utility entries.\n"
     ]
    },
    {
     "name": "stderr",
     "output_type": "stream",
     "text": [
      "Computing utilities for ContextCite: 100%|██████████| 364/364 [00:00<00:00, 499910.50it/s]\n",
      "0it [00:00, ?it/s]\n",
      "0it [00:00, ?it/s]\n",
      "0it [00:00, ?it/s]\n",
      "0it [00:00, ?it/s]\n",
      "Computing utilities for WSS (uniform): 100%|██████████| 364/364 [00:00<00:00, 393182.24it/s]\n",
      "LOO Calls (logit-prob): 100%|██████████| 11/11 [00:00<00:00, 22299.34it/s]\n",
      "LOO Calls (divergence_utility): 100%|██████████| 11/11 [00:00<00:00, 34926.07it/s]\n",
      "Exhaustive Top-1 Search: 100%|██████████| 10/10 [00:00<00:00, 678.99it/s]\n",
      "Exhaustive Top-2 Search: 100%|██████████| 45/45 [00:00<00:00, 1353.57it/s]\n",
      "Exhaustive Top-3 Search: 100%|██████████| 120/120 [00:00<00:00, 2947.61it/s]\n",
      "Exhaustive Top-4 Search: 100%|██████████| 210/210 [00:00<00:00, 3051.35it/s]\n",
      "Exhaustive Top-5 Search: 100%|██████████| 252/252 [00:00<00:00, 3122.60it/s]\n",
      "Exhaustive Top-1 Search: 100%|██████████| 10/10 [00:00<00:00, 2819.13it/s]\n",
      "Exhaustive Top-2 Search: 100%|██████████| 45/45 [00:00<00:00, 2929.80it/s]\n",
      "Exhaustive Top-3 Search: 100%|██████████| 120/120 [00:00<00:00, 3095.01it/s]\n",
      "Exhaustive Top-4 Search: 100%|██████████| 210/210 [00:00<00:00, 3057.74it/s]\n",
      "Exhaustive Top-5 Search: 100%|██████████| 252/252 [00:00<00:00, 3060.57it/s]\n",
      " 75%|███████▌  | 15/20 [09:37<03:26, 41.35s/it]"
     ]
    },
    {
     "name": "stdout",
     "output_type": "stream",
     "text": [
      "Main Process: Saving 1352 utility entries to ../Experiment_data/synthetic/Llama-3.1-8B-Instruct/duplicates/utilities_q_idx14.pkl...\n",
      "Save complete.\n",
      "\n",
      "--- Question 16/20: What is the title of the latest film starring the highest-pa... ---\n",
      "Main Process: Attempting to load utility cache from ../Experiment_data/synthetic/Llama-3.1-8B-Instruct/duplicates/utilities_q_idx15.pkl...\n",
      "Successfully loaded 1353 cached utility entries.\n"
     ]
    },
    {
     "name": "stderr",
     "output_type": "stream",
     "text": [
      "Computing utilities for ContextCite: 100%|██████████| 364/364 [00:00<00:00, 394197.43it/s]\n",
      "0it [00:00, ?it/s]\n",
      "0it [00:00, ?it/s]\n",
      "0it [00:00, ?it/s]\n",
      "0it [00:00, ?it/s]\n",
      "Computing utilities for WSS (uniform): 100%|██████████| 364/364 [00:00<00:00, 398831.41it/s]\n",
      "LOO Calls (logit-prob): 100%|██████████| 11/11 [00:00<00:00, 64168.77it/s]\n",
      "LOO Calls (divergence_utility): 100%|██████████| 11/11 [00:00<00:00, 91180.52it/s]\n",
      "Exhaustive Top-1 Search: 100%|██████████| 10/10 [00:00<00:00, 1222.29it/s]\n",
      "Exhaustive Top-2 Search: 100%|██████████| 45/45 [00:00<00:00, 1925.70it/s]\n",
      "Exhaustive Top-3 Search: 100%|██████████| 120/120 [00:00<00:00, 2989.92it/s]\n",
      "Exhaustive Top-4 Search: 100%|██████████| 210/210 [00:00<00:00, 3072.19it/s]\n",
      "Exhaustive Top-5 Search: 100%|██████████| 252/252 [00:00<00:00, 3131.12it/s]\n",
      "Exhaustive Top-1 Search: 100%|██████████| 10/10 [00:00<00:00, 2788.58it/s]\n",
      "Exhaustive Top-2 Search: 100%|██████████| 45/45 [00:00<00:00, 3060.64it/s]\n",
      "Exhaustive Top-3 Search: 100%|██████████| 120/120 [00:00<00:00, 3121.48it/s]\n",
      "Exhaustive Top-4 Search: 100%|██████████| 210/210 [00:00<00:00, 3181.74it/s]\n",
      "Exhaustive Top-5 Search: 100%|██████████| 252/252 [00:00<00:00, 3123.94it/s]\n",
      " 80%|████████  | 16/20 [10:10<02:35, 38.93s/it]"
     ]
    },
    {
     "name": "stdout",
     "output_type": "stream",
     "text": [
      "Main Process: Saving 1353 utility entries to ../Experiment_data/synthetic/Llama-3.1-8B-Instruct/duplicates/utilities_q_idx15.pkl...\n",
      "Save complete.\n",
      "\n",
      "--- Question 17/20: What is the salary of the most popular actor on the planet A... ---\n",
      "Main Process: Attempting to load utility cache from ../Experiment_data/synthetic/Llama-3.1-8B-Instruct/duplicates/utilities_q_idx16.pkl...\n",
      "Successfully loaded 1353 cached utility entries.\n"
     ]
    },
    {
     "name": "stderr",
     "output_type": "stream",
     "text": [
      "Computing utilities for ContextCite: 100%|██████████| 364/364 [00:00<00:00, 525370.49it/s]\n",
      "0it [00:00, ?it/s]\n",
      "0it [00:00, ?it/s]\n",
      "0it [00:00, ?it/s]\n",
      "0it [00:00, ?it/s]\n",
      "Computing utilities for WSS (uniform): 100%|██████████| 364/364 [00:00<00:00, 406584.99it/s]\n",
      "LOO Calls (logit-prob): 100%|██████████| 11/11 [00:00<00:00, 82388.11it/s]\n",
      "LOO Calls (divergence_utility): 100%|██████████| 11/11 [00:00<00:00, 113359.57it/s]\n",
      "Exhaustive Top-1 Search: 100%|██████████| 10/10 [00:00<00:00, 1726.41it/s]\n",
      "Exhaustive Top-2 Search: 100%|██████████| 45/45 [00:00<00:00, 1907.16it/s]\n",
      "Exhaustive Top-3 Search: 100%|██████████| 120/120 [00:00<00:00, 3051.31it/s]\n",
      "Exhaustive Top-4 Search: 100%|██████████| 210/210 [00:00<00:00, 3069.63it/s]\n",
      "Exhaustive Top-5 Search: 100%|██████████| 252/252 [00:00<00:00, 3138.78it/s]\n",
      "Exhaustive Top-1 Search: 100%|██████████| 10/10 [00:00<00:00, 2079.37it/s]\n",
      "Exhaustive Top-2 Search: 100%|██████████| 45/45 [00:00<00:00, 2639.88it/s]\n",
      "Exhaustive Top-3 Search: 100%|██████████| 120/120 [00:00<00:00, 2672.04it/s]\n",
      "Exhaustive Top-4 Search: 100%|██████████| 210/210 [00:00<00:00, 2700.33it/s]\n",
      "Exhaustive Top-5 Search: 100%|██████████| 252/252 [00:00<00:00, 2686.26it/s]\n",
      " 85%|████████▌ | 17/20 [10:27<01:37, 32.37s/it]"
     ]
    },
    {
     "name": "stdout",
     "output_type": "stream",
     "text": [
      "Main Process: Saving 1353 utility entries to ../Experiment_data/synthetic/Llama-3.1-8B-Instruct/duplicates/utilities_q_idx16.pkl...\n",
      "Save complete.\n",
      "\n",
      "--- Question 18/20: What is the title of the first album by the most popular Chr... ---\n",
      "Main Process: Attempting to load utility cache from ../Experiment_data/synthetic/Llama-3.1-8B-Instruct/duplicates/utilities_q_idx17.pkl...\n",
      "Successfully loaded 1351 cached utility entries.\n"
     ]
    },
    {
     "name": "stderr",
     "output_type": "stream",
     "text": [
      "Computing utilities for ContextCite: 100%|██████████| 364/364 [00:00<00:00, 430548.97it/s]\n",
      "0it [00:00, ?it/s]\n",
      "0it [00:00, ?it/s]\n",
      "0it [00:00, ?it/s]\n",
      "0it [00:00, ?it/s]\n",
      "Computing utilities for WSS (uniform): 100%|██████████| 364/364 [00:00<00:00, 370924.84it/s]\n",
      "LOO Calls (logit-prob): 100%|██████████| 11/11 [00:00<00:00, 73701.83it/s]\n",
      "LOO Calls (divergence_utility): 100%|██████████| 11/11 [00:00<00:00, 132198.69it/s]\n",
      "Exhaustive Top-1 Search: 100%|██████████| 10/10 [00:00<00:00, 1962.71it/s]\n",
      "Exhaustive Top-2 Search: 100%|██████████| 45/45 [00:00<00:00, 2137.04it/s]\n",
      "Exhaustive Top-3 Search: 100%|██████████| 120/120 [00:00<00:00, 2980.64it/s]\n",
      "Exhaustive Top-4 Search: 100%|██████████| 210/210 [00:00<00:00, 3130.59it/s]\n",
      "Exhaustive Top-5 Search: 100%|██████████| 252/252 [00:00<00:00, 3075.14it/s]\n",
      "Exhaustive Top-1 Search: 100%|██████████| 10/10 [00:00<00:00, 2685.90it/s]\n",
      "Exhaustive Top-2 Search: 100%|██████████| 45/45 [00:00<00:00, 3048.92it/s]\n",
      "Exhaustive Top-3 Search: 100%|██████████| 120/120 [00:00<00:00, 3114.77it/s]\n",
      "Exhaustive Top-4 Search: 100%|██████████| 210/210 [00:00<00:00, 3120.35it/s]\n",
      "Exhaustive Top-5 Search: 100%|██████████| 252/252 [00:00<00:00, 3075.83it/s]\n",
      " 90%|█████████ | 18/20 [11:06<01:08, 34.43s/it]"
     ]
    },
    {
     "name": "stdout",
     "output_type": "stream",
     "text": [
      "Main Process: Saving 1351 utility entries to ../Experiment_data/synthetic/Llama-3.1-8B-Instruct/duplicates/utilities_q_idx17.pkl...\n",
      "Save complete.\n",
      "\n",
      "--- Question 19/20: What is the total number of plays for the most critically ap... ---\n",
      "Main Process: Attempting to load utility cache from ../Experiment_data/synthetic/Llama-3.1-8B-Instruct/duplicates/utilities_q_idx18.pkl...\n",
      "Successfully loaded 1356 cached utility entries.\n"
     ]
    },
    {
     "name": "stderr",
     "output_type": "stream",
     "text": [
      "Computing utilities for ContextCite: 100%|██████████| 364/364 [00:00<00:00, 157475.67it/s]\n",
      "0it [00:00, ?it/s]\n",
      "0it [00:00, ?it/s]\n",
      "0it [00:00, ?it/s]\n",
      "0it [00:00, ?it/s]\n",
      "Computing utilities for WSS (uniform): 100%|██████████| 364/364 [00:00<00:00, 297956.02it/s]\n",
      "LOO Calls (logit-prob): 100%|██████████| 11/11 [00:00<00:00, 48822.59it/s]\n",
      "LOO Calls (divergence_utility): 100%|██████████| 11/11 [00:00<00:00, 64347.76it/s]\n",
      "Exhaustive Top-1 Search: 100%|██████████| 10/10 [00:00<00:00, 2247.99it/s]\n",
      "Exhaustive Top-2 Search: 100%|██████████| 45/45 [00:00<00:00, 2517.76it/s]\n",
      "Exhaustive Top-3 Search: 100%|██████████| 120/120 [00:00<00:00, 2520.45it/s]\n",
      "Exhaustive Top-4 Search: 100%|██████████| 210/210 [00:00<00:00, 2613.77it/s]\n",
      "Exhaustive Top-5 Search: 100%|██████████| 252/252 [00:00<00:00, 2656.66it/s]\n",
      "Exhaustive Top-1 Search: 100%|██████████| 10/10 [00:00<00:00, 2004.93it/s]\n",
      "Exhaustive Top-2 Search: 100%|██████████| 45/45 [00:00<00:00, 2656.57it/s]\n",
      "Exhaustive Top-3 Search: 100%|██████████| 120/120 [00:00<00:00, 2690.65it/s]\n",
      "Exhaustive Top-4 Search: 100%|██████████| 210/210 [00:00<00:00, 2721.45it/s]\n",
      "Exhaustive Top-5 Search: 100%|██████████| 252/252 [00:00<00:00, 2684.14it/s]\n",
      " 95%|█████████▌| 19/20 [12:12<00:43, 43.83s/it]"
     ]
    },
    {
     "name": "stdout",
     "output_type": "stream",
     "text": [
      "Main Process: Saving 1356 utility entries to ../Experiment_data/synthetic/Llama-3.1-8B-Instruct/duplicates/utilities_q_idx18.pkl...\n",
      "Save complete.\n",
      "\n",
      "--- Question 20/20: What is the effect of drinking water from the sacred spring ... ---\n",
      "Main Process: Attempting to load utility cache from ../Experiment_data/synthetic/Llama-3.1-8B-Instruct/duplicates/utilities_q_idx19.pkl...\n",
      "Successfully loaded 1350 cached utility entries.\n"
     ]
    },
    {
     "name": "stderr",
     "output_type": "stream",
     "text": [
      "Computing utilities for ContextCite: 100%|██████████| 364/364 [00:00<00:00, 376597.60it/s]\n",
      "0it [00:00, ?it/s]\n",
      "0it [00:00, ?it/s]\n",
      "0it [00:00, ?it/s]\n",
      "0it [00:00, ?it/s]\n",
      "Computing utilities for WSS (uniform): 100%|██████████| 364/364 [00:00<00:00, 407561.84it/s]\n",
      "LOO Calls (logit-prob): 100%|██████████| 11/11 [00:00<00:00, 84038.88it/s]\n",
      "LOO Calls (divergence_utility): 100%|██████████| 11/11 [00:00<00:00, 112256.31it/s]\n",
      "Exhaustive Top-1 Search: 100%|██████████| 10/10 [00:00<00:00, 1529.15it/s]\n",
      "Exhaustive Top-2 Search: 100%|██████████| 45/45 [00:00<00:00, 2088.45it/s]\n",
      "Exhaustive Top-3 Search: 100%|██████████| 120/120 [00:00<00:00, 3030.71it/s]\n",
      "Exhaustive Top-4 Search: 100%|██████████| 210/210 [00:00<00:00, 3109.15it/s]\n",
      "Exhaustive Top-5 Search: 100%|██████████| 252/252 [00:00<00:00, 3119.02it/s]\n",
      "Exhaustive Top-1 Search: 100%|██████████| 10/10 [00:00<00:00, 2608.07it/s]\n",
      "Exhaustive Top-2 Search: 100%|██████████| 45/45 [00:00<00:00, 3038.42it/s]\n",
      "Exhaustive Top-3 Search: 100%|██████████| 120/120 [00:00<00:00, 3092.54it/s]\n",
      "Exhaustive Top-4 Search: 100%|██████████| 210/210 [00:00<00:00, 3103.86it/s]\n",
      "Exhaustive Top-5 Search: 100%|██████████| 252/252 [00:00<00:00, 3112.65it/s]\n",
      "100%|██████████| 20/20 [12:50<00:00, 38.54s/it]"
     ]
    },
    {
     "name": "stdout",
     "output_type": "stream",
     "text": [
      "Main Process: Saving 1350 utility entries to ../Experiment_data/synthetic/Llama-3.1-8B-Instruct/duplicates/utilities_q_idx19.pkl...\n",
      "Save complete.\n"
     ]
    },
    {
     "name": "stderr",
     "output_type": "stream",
     "text": [
      "\n"
     ]
    }
   ],
   "source": [
    "num_questions_to_run=len(df.question)\n",
    "# num_questions_to_run=1\n",
    "k_values = [1,2,3,4,5]\n",
    "all_results=[]\n",
    "extras=[]\n",
    "# Define ground truth set of docs for precision (adapt as needed)\n",
    "# e.g., if first 2 docs are always relevant\n",
    "def get_gtset_k():\n",
    "    return [0, 1,5]\n",
    "correctness=[]\n",
    "llm_response=[]\n",
    "for i in tqdm(range(num_questions_to_run), disable=not accelerator_main.is_main_process):\n",
    "    query = df.question[i]\n",
    "    if accelerator_main.is_main_process:\n",
    "        print(f\"\\n--- Question {i+1}/{num_questions_to_run}: {query[:60]}... ---\")\n",
    "\n",
    "    p = ast.literal_eval(df.context[i])\n",
    "    docs = p[:5] + [p[1]] + p[5:]\n",
    "    utility_cache_base_dir = f\"../Experiment_data/synthetic/{model_path.split('/')[1]}/duplicates\"\n",
    "    utility_cache_filename = f\"utilities_q_idx{i}.pkl\"\n",
    "    current_utility_path = os.path.join(utility_cache_base_dir, utility_cache_filename)\n",
    "\n",
    "    if accelerator_main.is_main_process:\n",
    "        os.makedirs(os.path.dirname(current_utility_path), exist_ok=True)\n",
    "\n",
    "    harness = ContextAttribution(\n",
    "        items=docs,\n",
    "        query=query,\n",
    "        prepared_model=prepared_model,\n",
    "        prepared_tokenizer=tokenizer,\n",
    "        accelerator=accelerator_main,\n",
    "        utility_cache_path=current_utility_path\n",
    "    )\n",
    "    # res = evaluate(df.question[i], harness.target_response, df.answer[i])\n",
    "    # correctness.append(res)\n",
    "    # llm_response.append(harness.target_response)\n",
    "    # if res==\"True\":\n",
    "\n",
    "    if accelerator_main.is_main_process:\n",
    "        methods_results = {}\n",
    "        metrics_results = {}\n",
    "        extra_results = {}\n",
    "\n",
    "        m_samples_map = {\"L\": 364}\n",
    "\n",
    "        # Store FM models for later R²/MSE\n",
    "        fm_models = {}\n",
    "\n",
    "        for size_key, num_s in m_samples_map.items():\n",
    "            if 2 ** len(docs) < num_s and size_key != \"L\":\n",
    "                actual_samples = max(1, 2 ** len(docs) - 1 if 2 ** len(docs) > 0 else 1)\n",
    "            else:\n",
    "                actual_samples = num_s\n",
    "\n",
    "            if actual_samples > 0:\n",
    "                methods_results[f\"ContextCite{actual_samples}\"], model_cc = harness.compute_contextcite(\n",
    "                    num_samples=actual_samples, seed=SEED\n",
    "                )\n",
    "\n",
    "                attributions, interactions= harness.compute_spex(sample_budget=actual_samples, max_order=2)\n",
    "                methods_results[f\"FBII{actual_samples}\"] = attributions['fbii']\n",
    "                methods_results[f\"Spex{actual_samples}\"] = attributions['fourier']\n",
    "                methods_results[f\"FSII{actual_samples}\"] = attributions['fsii']\n",
    "\n",
    "                # methods_results[f\"FM_WeightsDU{actual_samples}\"], Fdu, modelfmdu = harness.compute_wss(\n",
    "                #     num_samples=actual_samples, seed=SEED, sampling=\"uniform\",\n",
    "                #     sur_type=\"fm\", utility_mode=\"divergence_utility\"\n",
    "                # )\n",
    "                # methods_results[f\"FM_WeightsDK{actual_samples}\"], Fdk, modelfmdk = harness.compute_wss(\n",
    "                #     num_samples=actual_samples, seed=SEED, sampling=\"kernelshap\",\n",
    "                #     sur_type=\"fm\", utility_mode=\"divergence_utility\"\n",
    "                # )\n",
    "                # methods_results[f\"FM_WeightsLK{actual_samples}\"], Flk, modelfmlk = harness.compute_wss(\n",
    "                #     num_samples=actual_samples, seed=SEED, sampling=\"kernelshap\", sur_type=\"fm\"\n",
    "                # )\n",
    "                methods_results[f\"FM_WeightsLU{actual_samples}\"], Flu, modelfmlu = harness.compute_wss(\n",
    "                    num_samples=actual_samples, seed=SEED, sampling=\"uniform\", sur_type=\"fm\"\n",
    "                )\n",
    "\n",
    "                # Save FM models\n",
    "                fm_models.update({\n",
    "                    # f\"FM_WeightsDU{actual_samples}\": modelfmdu,\n",
    "                    # f\"FM_WeightsDK{actual_samples}\": modelfmdk,\n",
    "                    # f\"FM_WeightsLK{actual_samples}\": modelfmlk,\n",
    "                    f\"FM_WeightsLU{actual_samples}\": modelfmlu\n",
    "                })\n",
    "\n",
    "                # Save extra Fs\n",
    "                extra_results.update({\n",
    "                    # \"Fdu\": Fdu,\n",
    "                    # \"Fdk\": Fdk,\n",
    "                    # \"Flk\": Flk,\n",
    "                    \"Flu\": Flu,\n",
    "                    \"Int_FSII\":interactions['fsii'],\n",
    "                    \"Int_FBII\":interactions['fbii'],\n",
    "                    \"Int_Spex\":interactions['fourier']\n",
    "                })\n",
    "\n",
    "        methods_results[\"LOO\"] = harness.compute_loo()\n",
    "        methods_results[\"ARC-JSD\"] = harness.compute_arc_jsd()\n",
    "\n",
    "        # --- Evaluation Metrics ---\n",
    "        metrics_results[\"topk_probability\"] = harness.evaluate_topk_performance(\n",
    "            methods_results, k_values, utility_type=\"probability\", modelk=None, modelu=modelfmlu\n",
    "        )\n",
    "        metrics_results[\"topk_divergence\"] = harness.evaluate_topk_performance(\n",
    "            methods_results, k_values, utility_type=\"divergence\", modelk=None, modelu=modelfmlu\n",
    "        )\n",
    "        metrics_results[\"topk_response_probability\"] = harness.top_k_response_probability(\n",
    "            methods_results, k_values=[1, 2,3]\n",
    "        )\n",
    "\n",
    "        # R² and MSE for ContextCite\n",
    "        r2, mse = harness.r2_mse(30, 'logit-prob', model_cc, method='cc')\n",
    "        metrics_results[\"R2_cc\"] = r2\n",
    "        metrics_results[\"MSE_cc\"] = mse\n",
    "\n",
    "        # R² and MSE for each FM method that has a model\n",
    "        for method_name, fm_model in fm_models.items():\n",
    "            r2, mse = harness.r2_mse(30, 'logit-prob', fm_model, method='fm')\n",
    "            metrics_results[f\"R2_{method_name}\"] = r2\n",
    "            metrics_results[f\"MSE_{method_name}\"] = mse\n",
    "\n",
    "        # LDS per method\n",
    "        LDS = {}\n",
    "        for method_name, scores in methods_results.items():\n",
    "            if \"FM_WeightsLU\" in method_name:\n",
    "                LDS[method_name] = harness.lds(scores, 30, utl=True, model=modelfmlu)\n",
    "            # if \"FM_WeightsLK\" in method_name:\n",
    "            #     LDS[method_name] = harness.lds(scores, 30, utl=True, model=modelfmlk)\n",
    "            else:\n",
    "                LDS[method_name] = harness.lds(scores, 30)\n",
    "        metrics_results[\"LDS\"] = LDS\n",
    "\n",
    "        # Precision per method\n",
    "        precision_scores = {}\n",
    "        gtset_k = get_gtset_k()\n",
    "        for method_name, scores in methods_results.items():\n",
    "            precision_scores[method_name] = harness.precision(gtset_k, scores)\n",
    "        metrics_results[\"precision\"] = precision_scores\n",
    "\n",
    "        harness.save_utility_cache(current_utility_path)\n",
    "\n",
    "        all_results.append({\n",
    "            \"query_index\": i,\n",
    "            \"query\": query,\n",
    "            \"ground_truth\": df.answer[i],\n",
    "            \"response\": harness.target_response,\n",
    "            \"methods\": methods_results,\n",
    "            \"metrics\": metrics_results\n",
    "        })\n",
    "        extras.append(extra_results)\n",
    "# df['correctness']=correctness\n",
    "# df['llm_response']=llm_response"
   ]
  },
  {
   "cell_type": "code",
   "execution_count": 6,
   "metadata": {},
   "outputs": [],
   "source": [
    "import pandas as pd\n",
    "import numpy as np\n",
    "from collections import defaultdict\n",
    "\n",
    "def summarize_and_print(all_results, k_values=[1, 2, 3]):\n",
    "    table_data = defaultdict(lambda: defaultdict(list))\n",
    "\n",
    "    # Mapping for consistency\n",
    "    method_name_map = {\n",
    "        \"cc\": \"ContextCite364\"\n",
    "    }\n",
    "\n",
    "    for res in all_results:\n",
    "        metrics = res[\"metrics\"]\n",
    "\n",
    "        # R² / MSE\n",
    "        for key, val in metrics.items():\n",
    "            if key.startswith(\"R2_\") or key.startswith(\"MSE_\"):\n",
    "                raw_method = key.split(\"_\", 1)[1]\n",
    "                method = method_name_map.get(raw_method, raw_method)  # rename if needed\n",
    "                metric_name = key.split(\"_\", 1)[0]  # \"R2\" or \"MSE\"\n",
    "                table_data[method][metric_name].append(val)\n",
    "\n",
    "        # LDS\n",
    "        for method_name, lds_val in metrics[\"LDS\"].items():\n",
    "            method = method_name_map.get(method_name, method_name)\n",
    "            table_data[method][\"LDS\"].append(lds_val)\n",
    "\n",
    "        # Precision\n",
    "        for method_name, prec_val in metrics[\"precision\"].items():\n",
    "            method = method_name_map.get(method_name, method_name)\n",
    "            table_data[method][\"precision\"].append(prec_val)\n",
    "\n",
    "        # Top-k\n",
    "        for metric_type in [\"topk_probability\", \"topk_divergence\", \"topk_response_probability\"]:\n",
    "            for method_name, k_dict in metrics[metric_type].items():\n",
    "                method = method_name_map.get(method_name, method_name)\n",
    "                for k in k_values:\n",
    "                    if k in k_dict:\n",
    "                        col_name = f\"{metric_type}_k{k}\"\n",
    "                        table_data[method][col_name].append(k_dict[k])\n",
    "\n",
    "    # Averages\n",
    "    avg_table = {\n",
    "        method: {metric: np.nanmean(values) for metric, values in metric_dict.items()}\n",
    "        for method, metric_dict in table_data.items()\n",
    "    }\n",
    "\n",
    "    df_summary = pd.DataFrame.from_dict(avg_table, orient=\"index\").sort_index()\n",
    "\n",
    "    print(\"\\n=== Metrics Summary Across All Queries ===\")\n",
    "    print(df_summary.to_string(float_format=\"%.4f\"))\n",
    "\n",
    "    return df_summary\n"
   ]
  },
  {
   "cell_type": "code",
   "execution_count": 7,
   "metadata": {},
   "outputs": [
    {
     "name": "stdout",
     "output_type": "stream",
     "text": [
      "\n",
      "=== Metrics Summary Across All Queries ===\n",
      "                    R2     MSE    LDS  precision  topk_probability_k1  topk_probability_k2  topk_probability_k3  topk_divergence_k1  topk_divergence_k2  topk_divergence_k3  topk_response_probability_k1  topk_response_probability_k2  topk_response_probability_k3\n",
      "ARC-JSD            NaN     NaN 0.6459     0.6500               6.6371               9.2468               9.8211              0.8996              1.5798              1.8618                        0.0611                        0.2323                        0.2292\n",
      "ContextCite364  0.5541 12.9338 0.6526     0.8167               4.3977              11.9949              13.4204              0.6730              1.8720              2.4543                        0.1432                        0.2539                        0.3573\n",
      "FBII364            NaN     NaN 0.4516     0.7333               2.7659              13.0997              14.0816              0.4689              2.2780              2.7990                        0.1515                        0.1408                        0.2148\n",
      "FM_WeightsLU364 0.9301  2.0266 0.8222     0.8333               6.7002              12.8062              14.0639              0.8709              1.9555              2.3254                        0.1432                        0.2110                        0.3591\n",
      "FSII364            NaN     NaN 0.4516     0.7333               2.7659              13.0997              14.0816              0.4689              2.2780              2.7990                        0.1515                        0.1408                        0.2148\n",
      "LOO                NaN     NaN 0.6912     0.5667               6.8335               7.7560               9.2418              0.8545              1.0950              1.3293                        0.0402                        0.1838                        0.2862\n",
      "Spex364            NaN     NaN 0.5173     0.8333               2.9977              12.8580              13.7935              0.4863              2.2233              2.7336                        0.1515                        0.1699                        0.3113\n"
     ]
    }
   ],
   "source": [
    "df_res=summarize_and_print(all_results, k_values=[1, 2,3])"
   ]
  },
  {
   "cell_type": "code",
   "execution_count": 8,
   "metadata": {},
   "outputs": [],
   "source": [
    "import numpy as np\n",
    "import matplotlib.pyplot as plt\n",
    "\n",
    "def compute_recall_at_k(all_results, k_values=[1,2, 3,4, 5]):\n",
    "    methods = list(all_results[0][\"methods\"].keys())\n",
    "    recall_table = {m: [] for m in methods}\n",
    "\n",
    "    for k in k_values:\n",
    "        for method in methods:\n",
    "            recalls = []\n",
    "            for res in all_results:\n",
    "                gt_indices = set([0,1,5])  # must exist in each result\n",
    "                scores = np.array(res[\"methods\"][method])\n",
    "                topk_indices = set(scores.argsort()[-k:])\n",
    "                hits = len(gt_indices & topk_indices)\n",
    "                recalls.append(hits / len(gt_indices) if gt_indices else np.nan)\n",
    "            recall_table[method].append(np.nanmean(recalls))\n",
    "    return recall_table\n",
    "\n",
    "\n",
    "def plot_recall_at_k(recall_table, k_values=[1,2, 3,4, 5]):\n",
    "    plt.figure(figsize=(8, 5))\n",
    "    for method, recalls in recall_table.items():\n",
    "        plt.plot(k_values, recalls, marker=\"o\", label=method)\n",
    "    plt.xlabel(\"k\")\n",
    "    plt.ylabel(\"Recall@k\")\n",
    "    plt.title(\"Recall@k for All Methods\")\n",
    "    plt.xticks(k_values)\n",
    "    plt.ylim(0, 1.05)\n",
    "    plt.grid(True)\n",
    "    plt.legend()\n",
    "    plt.show()\n"
   ]
  },
  {
   "cell_type": "code",
   "execution_count": 9,
   "metadata": {},
   "outputs": [
    {
     "data": {
      "image/png": "[encoded data removed]",
      "text/plain": [
       "<Figure size 800x500 with 1 Axes>"
      ]
     },
     "metadata": {},
     "output_type": "display_data"
    }
   ],
   "source": [
    "recall_table=compute_recall_at_k(all_results, k_values=[1, 2, 3, 4, 5])\n",
    "plot_recall_at_k(recall_table, k_values=[1, 2, 3, 4, 5])"
   ]
  },
  {
   "cell_type": "code",
   "execution_count": 12,
   "metadata": {},
   "outputs": [
    {
     "data": {
      "image/png": "[encoded data removed]",
      "text/plain": [
       "<Figure size 800x500 with 1 Axes>"
      ]
     },
     "metadata": {},
     "output_type": "display_data"
    }
   ],
   "source": [
    "plt.figure(figsize=(8, 5))\n",
    "for method in df_res.index:\n",
    "    plt.plot(\n",
    "        [1, 2, 3],\n",
    "        df_res.loc[method, ['topk_response_probability_k1', 'topk_response_probability_k2', 'topk_response_probability_k3']],\n",
    "        marker='o',\n",
    "        label=method\n",
    "    )\n",
    "\n",
    "plt.xlabel('k')\n",
    "plt.ylabel('Top-k Divergence')\n",
    "plt.title('Top-k Divergence Climb')\n",
    "plt.legend()\n",
    "plt.grid(True, linestyle='--', alpha=0.6)\n",
    "plt.tight_layout()\n",
    "plt.show()"
   ]
  },
  {
   "cell_type": "code",
   "execution_count": null,
   "metadata": {},
   "outputs": [],
   "source": [
    "all_results"
   ]
  },
  {
   "cell_type": "code",
   "execution_count": 15,
   "metadata": {},
   "outputs": [],
   "source": [
    "import numpy as np\n",
    "\n",
    "def evaluate_methods(extras, k, m, interaction_type=\"max\"):\n",
    "\n",
    "    methods = [\"Flu\", \"Int_FSII\", \"Int_FBII\", \"Int_Spex\"]\n",
    "    scores = {m: 0 for m in methods}\n",
    "    n_experiments = len(extras)\n",
    "\n",
    "    for exp in extras:\n",
    "        for method in methods:\n",
    "            if method in [\"Flu\", \"Flk\"]:\n",
    "                # Flu is a matrix\n",
    "                value = exp[method][k][m]\n",
    "                all_values = exp[method].flatten()\n",
    "            else:\n",
    "                # Dictionaries with tuple keys\n",
    "                d = exp[method]\n",
    "                value = None\n",
    "                for key, v in d.items():\n",
    "                    ones = [i for i, bit in enumerate(key) if bit == 1]\n",
    "                    if set(ones) == {k, m}:\n",
    "                        value = v\n",
    "                        break\n",
    "                if value is None:\n",
    "                    continue  # skip if (k,m) not found\n",
    "                all_values = list(d.values())\n",
    "\n",
    "            if interaction_type == \"max\":\n",
    "                if value == max(all_values):\n",
    "                    scores[method] += 1\n",
    "            elif interaction_type == \"min\":\n",
    "                if value == min(all_values):\n",
    "                    scores[method] += 1\n",
    "\n",
    "    # Convert to fraction of experiments\n",
    "    results = {method: scores[method] / n_experiments for method in methods}\n",
    "    return results"
   ]
  },
  {
   "cell_type": "code",
   "execution_count": 17,
   "metadata": {},
   "outputs": [
    {
     "data": {
      "text/plain": [
       "{'Flu': 0.25, 'Int_FSII': 0.2, 'Int_FBII': 0.2, 'Int_Spex': 0.2}"
      ]
     },
     "execution_count": 17,
     "metadata": {},
     "output_type": "execute_result"
    }
   ],
   "source": [
    "evaluate_methods(extras, k=0, m=1, interaction_type=\"max\")"
   ]
  },
  {
   "cell_type": "code",
   "execution_count": null,
   "metadata": {},
   "outputs": [],
   "source": [
    "[i['Flu'][0].argmax() for i in extras]"
   ]
  },
  {
   "cell_type": "code",
   "execution_count": null,
   "metadata": {},
   "outputs": [],
   "source": [
    "all_results[12]"
   ]
  },
  {
   "cell_type": "code",
   "execution_count": null,
   "metadata": {},
   "outputs": [],
   "source": [
    "ast.literal_eval(df.context[3])"
   ]
  },
  {
   "cell_type": "code",
   "execution_count": null,
   "metadata": {},
   "outputs": [],
   "source": []
  },
  {
   "cell_type": "code",
   "execution_count": null,
   "metadata": {},
   "outputs": [],
   "source": []
  },
  {
   "cell_type": "code",
   "execution_count": null,
   "metadata": {},
   "outputs": [],
   "source": []
  }
 ],
 "metadata": {
  "kernelspec": {
   "display_name": "Python 3",
   "language": "python",
   "name": "python3"
  },
  "language_info": {
   "codemirror_mode": {
    "name": "ipython",
    "version": 3
   },
   "file_extension": ".py",
   "mimetype": "text/x-python",
   "name": "python",
   "nbconvert_exporter": "python",
   "pygments_lexer": "ipython3",
   "version": "3.10.12"
  }
 },
 "nbformat": 4,
 "nbformat_minor": 2
}
