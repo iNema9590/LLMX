{
 "cells": [
  {
   "cell_type": "markdown",
   "id": "45ef4459",
   "metadata": {},
   "source": [
    "# Imports"
   ]
  },
  {
   "cell_type": "code",
   "execution_count": 47,
   "id": "fb5ca63d",
   "metadata": {},
   "outputs": [],
   "source": [
    "import pandas as pd\n",
    "import numpy as np"
   ]
  },
  {
   "cell_type": "markdown",
   "id": "f9745ad1",
   "metadata": {},
   "source": [
    "# Dataset Analyses"
   ]
  },
  {
   "cell_type": "code",
   "execution_count": 46,
   "id": "9c7dbb9d",
   "metadata": {},
   "outputs": [
    {
     "data": {
      "text/plain": [
       "['Danger:',\n",
       " 'Diabolik  is a 1968 action film directed and co-written by Mario Bava, based on the Italian comic series \"Diabolik\" by Angela and Luciana Giussani.',\n",
       " 'The film is about a criminal named Diabolik (John Phillip Law), who plans large-scale heists for his girlfriend Eva Kant (Marisa Mell).',\n",
       " 'Diabolik is pursued by Inspector Ginko (Michel Piccoli), who blackmails the gangster Ralph Valmont (Adolfo Celi) into catching Diabolik for him.',\n",
       " 'An adaptation of the comics was originally envisioned by producer Tonino Cervi, who hired director Seth Holt and began producing the film as an international co-production with a cast that included Jean Sorel, Elsa Martinelli and Gilbert Roland.',\n",
       " 'Appalled with the quality of the footage that had been shot, distributor Dino De Laurentiis took over production duties and restarted filming from scratch.',\n",
       " 'Working from a new screenplay and under creative pressure from De Laurentiis, Bava directed the film on a reduced budget, with established actors taking smaller roles.',\n",
       " 'The film was produced in tandem with De Laurentiis\\' other comic book adaptation of that year, \"Barbarella\", with both films sharing several cast and crew members.',\n",
       " 'Upon its theatrical release, \"Danger: Diabolik\" performed below De Laurentiis\\' expectations at the box office, and received negative reviews from \"The New York Times\" and \"Variety\".',\n",
       " \"With the re-evaluation of Bava's filmography, retrospective reception of the film has been more positive, with critics praising its visuals, the performances of Law and Mell, and the score by Ennio Morricone.\",\n",
       " 'In 2008, it was chosen by \"Empire\" magazine as one of \"The 500 Greatest Movies of All Time\".',\n",
       " 'A new adaptation of \"Diabolik\" by the Manetti Bros. was announced in 2018.',\n",
       " 'Charge It to Me',\n",
       " 'is a 1919 American silent comedy film directed by Roy William Neill and written by L.V. Jefferson.',\n",
       " 'The film stars Margarita Fischer and Emory Johnson.',\n",
       " 'The film was released on May 4, 1919, by Pathé Exchange.',\n",
       " 'Mario Bava (31 July 1914 – 27 April 1980) was an Italian cinematographer, director, special effects artist and screenwriter, frequently referred to as the \"Master of Italian Horror\" and the \"Master of the Macabre\".',\n",
       " 'His low-budget genre films, known for their distinctive visual flair and technical ingenuity, feature recurring themes and imagery concerning the conflict between illusion and reality, and the destructive capacity of human nature.',\n",
       " 'Born to sculptor, cinematographer and special effects pioneer Eugenio Bava, the younger Bava followed his father into the film industry, and eventually earned a reputation as one of Italy\\'s foremost cameramen, lighting and providing the special effects for such films as \"Hercules\" (1958) and its sequel \"Hercules Unchained\" (1959)',\n",
       " '(each were lampooned on \"Mystery Science Theater 3000\").',\n",
       " 'During the late 1950s, his eventual career trajectory as a director began when he was relied upon to complete projects begun by or credited to his colleague Riccardo Freda and other filmmakers, including \"I Vampiri\" (1957) (the first Italian horror film of the sound era), \"The Day the Sky Exploded\" (1958) (the first Italian science fiction film), \"Caltiki – The Immortal Monster\" (1959) and \"The Giant of Marathon\" (1959).',\n",
       " \"Although most of Bava's films as director failed to achieve major commercial success upon release, many of them would eventually find acclaim as cult classics, with their content and production values being favourably compared to the works of Alfred Hitchcock.\",\n",
       " 'Several of them have been noted for their revolutionary impact on their respective genres: \"Black Sunday\" (1960), his official directorial debut, was the forerunner of the Italian gothic horror film cycle; \"The Girl Who Knew Too Much\" (1963) is considered to be the first giallo film; \"Kill, Baby, Kill\" (1966) heavily influenced the iconography of modern J-Horror; \"Roy Colt & Winchester Jack\" (1970) is regarded as one of the earliest self-parodying Spaghetti Westerns; \"',\n",
       " 'Four Times That Night\" (1971) was an early Italian sex comedy; and \"A Bay of Blood\" (1971) was a precursor to slasher films.',\n",
       " 'His other notable films include \"Hercules in the Haunted World\" (1961), \"Erik the Conqueror\" (1961), \"Black Sabbath\" (1963), \"The Whip and the Body\" (1963), \"Blood and Black Lace\" (1964), \"Planet of the Vampires\" (1965), \"Knives of the Avenger\" (1966),  (1968), \"Hatchet for the Honeymoon\" (1970), \"Five Dolls for an August Moon\" (1970), \"Baron Blood\" (1972), \"Lisa and the Devil\" (1974), \"Rabid Dogs\" (1974) and \"Shock\" (1977).',\n",
       " \"Despite his reputation as a talented artist during his lifetime, Bava's shy, self-deprecating demeanour prevented him from taking advantage of opportunities that would have furthered his international standing within the film industry, and he turned down multiple opportunities to work in Hollywood.\",\n",
       " 'Among the filmmakers Bava and his work have influenced include Dario Argento, Lucio Fulci, Federico Fellini, John Carpenter, Nicolas Winding Refn, Martin Scorsese, Tim Burton, Joe Dante, John Landis, Francis Ford Coppola, Roger Corman, Edgar Wright, Jennifer Kent and Quentin Tarantino.',\n",
       " 'His son and frequent assistant director, Lamberto Bava, later became a noted fantasy and horror film director in his own right.',\n",
       " 'Roy William Neill (4 September 1887 –',\n",
       " '14 December 1946) was an Irish-born American film director best known for directing the last eleven of the fourteen Sherlock Holmes films starring Basil Rathbone and Nigel Bruce, made between 1943 and 1946 and released by Universal Studios.',\n",
       " 'Give It to Me or Give It 2 Me may refer to:',\n",
       " 'Charge',\n",
       " 'It is a 1921 American silent drama film directed by Harry Garson and starring Clara Kimball Young.',\n",
       " 'Me or ME usually refers to: Me, M.E. or ME may also refer to:',\n",
       " 'Point Danger or Danger Point may refer:',\n",
       " 'Leave It to Me  is a 1955 Czech comedy film directed by Martin Frič.',\n",
       " 'Leave It To Me may refer to:']"
      ]
     },
     "execution_count": 46,
     "metadata": {},
     "output_type": "execute_result"
    }
   ],
   "source": [
    "df = pd.read_csv(\"../data/2wiki_1k.csv\")\n",
    "df.head()\n",
    "eval(df.context[2])"
   ]
  },
  {
   "cell_type": "markdown",
   "id": "cbc47891",
   "metadata": {},
   "source": [
    "# Results Analysis"
   ]
  },
  {
   "cell_type": "code",
   "execution_count": 48,
   "id": "d7f75115",
   "metadata": {},
   "outputs": [
    {
     "data": {
      "text/html": [
       "<div>\n",
       "<style scoped>\n",
       "    .dataframe tbody tr th:only-of-type {\n",
       "        vertical-align: middle;\n",
       "    }\n",
       "\n",
       "    .dataframe tbody tr th {\n",
       "        vertical-align: top;\n",
       "    }\n",
       "\n",
       "    .dataframe thead th {\n",
       "        text-align: right;\n",
       "    }\n",
       "</style>\n",
       "<table border=\"1\" class=\"dataframe\">\n",
       "  <thead>\n",
       "    <tr style=\"text-align: right;\">\n",
       "      <th></th>\n",
       "      <th>query</th>\n",
       "      <th>context</th>\n",
       "      <th>provided_answer</th>\n",
       "      <th>lds</th>\n",
       "      <th>r2</th>\n",
       "      <th>topk_probability</th>\n",
       "      <th>topk_divergence</th>\n",
       "    </tr>\n",
       "  </thead>\n",
       "  <tbody>\n",
       "    <tr>\n",
       "      <th>0</th>\n",
       "      <td>Are director of film Move (1970 Film) and dire...</td>\n",
       "      <td>[[['Stuart Rosenberg (August 11, 1927 – March ...</td>\n",
       "      <td>No, they are not from the same country.</td>\n",
       "      <td>[[{'ContextCite128': 0.6191323692992213}, {'FM...</td>\n",
       "      <td>[[{'ContextCite128': 0.35453698867912253}, {'F...</td>\n",
       "      <td>[{'ContextCite128': {1: 0.7599997520446777, 2:...</td>\n",
       "      <td>[{'ContextCite128': {1: 0.14052052391707548, 2...</td>\n",
       "    </tr>\n",
       "    <tr>\n",
       "      <th>1</th>\n",
       "      <td>Do both films The Falcon (Film) and Valentin T...</td>\n",
       "      <td>[[['Vatroslav Mimica( born 25 June 1923) is a ...</td>\n",
       "      <td>No, they have different directors from differe...</td>\n",
       "      <td>[[{'ContextCite128': 0.48487429448024155}, {'F...</td>\n",
       "      <td>[[{'ContextCite128': 0.3110602913059456}, {'FM...</td>\n",
       "      <td>[{'ContextCite128': {1: 5.115339279174805, 2: ...</td>\n",
       "      <td>[{'ContextCite128': {1: 3.1340330544893504, 2:...</td>\n",
       "    </tr>\n",
       "    <tr>\n",
       "      <th>2</th>\n",
       "      <td>Which film whose director is younger, Charge I...</td>\n",
       "      <td>[[['Danger:', 'Diabolik  is a 1968 action film...</td>\n",
       "      <td>Charge It To Me.</td>\n",
       "      <td>[[{'ContextCite128': 0.7953281423804226}, {'FM...</td>\n",
       "      <td>[[{'ContextCite128': 0.6393115209589499}, {'FM...</td>\n",
       "      <td>[{'ContextCite128': {1: 2.194622278213501, 2: ...</td>\n",
       "      <td>[{'ContextCite128': {1: 0.24546737910714, 2: 0...</td>\n",
       "    </tr>\n",
       "    <tr>\n",
       "      <th>3</th>\n",
       "      <td>What is the date of birth of Mina Gerhardsen's...</td>\n",
       "      <td>[[['Mina Gerhardsen (born 14 September 1975) i...</td>\n",
       "      <td>13 June 1946.</td>\n",
       "      <td>[[{'ContextCite128': 0.8391545998896073}, {'FM...</td>\n",
       "      <td>[[{'ContextCite128': 0.8839971634323442}, {'FM...</td>\n",
       "      <td>[{'ContextCite128': {1: 16.474218547344208, 2:...</td>\n",
       "      <td>[{'ContextCite128': {1: 2.5724819004535675, 2:...</td>\n",
       "    </tr>\n",
       "    <tr>\n",
       "      <th>4</th>\n",
       "      <td>What nationality is the director of film Weddi...</td>\n",
       "      <td>[[['Wedding Night in Paradise  is a 1950 West ...</td>\n",
       "      <td>Hungarian.</td>\n",
       "      <td>[[{'ContextCite128': 0.9203559510567296}, {'FM...</td>\n",
       "      <td>[[{'ContextCite128': 0.9080910318380702}, {'FM...</td>\n",
       "      <td>[{'ContextCite128': {1: 5.435513377189636, 2: ...</td>\n",
       "      <td>[{'ContextCite128': {1: 0.6450660511909518, 2:...</td>\n",
       "    </tr>\n",
       "  </tbody>\n",
       "</table>\n",
       "</div>"
      ],
      "text/plain": [
       "                                               query  \\\n",
       "0  Are director of film Move (1970 Film) and dire...   \n",
       "1  Do both films The Falcon (Film) and Valentin T...   \n",
       "2  Which film whose director is younger, Charge I...   \n",
       "3  What is the date of birth of Mina Gerhardsen's...   \n",
       "4  What nationality is the director of film Weddi...   \n",
       "\n",
       "                                             context  \\\n",
       "0  [[['Stuart Rosenberg (August 11, 1927 – March ...   \n",
       "1  [[['Vatroslav Mimica( born 25 June 1923) is a ...   \n",
       "2  [[['Danger:', 'Diabolik  is a 1968 action film...   \n",
       "3  [[['Mina Gerhardsen (born 14 September 1975) i...   \n",
       "4  [[['Wedding Night in Paradise  is a 1950 West ...   \n",
       "\n",
       "                                     provided_answer  \\\n",
       "0            No, they are not from the same country.   \n",
       "1  No, they have different directors from differe...   \n",
       "2                                   Charge It To Me.   \n",
       "3                                      13 June 1946.   \n",
       "4                                         Hungarian.   \n",
       "\n",
       "                                                 lds  \\\n",
       "0  [[{'ContextCite128': 0.6191323692992213}, {'FM...   \n",
       "1  [[{'ContextCite128': 0.48487429448024155}, {'F...   \n",
       "2  [[{'ContextCite128': 0.7953281423804226}, {'FM...   \n",
       "3  [[{'ContextCite128': 0.8391545998896073}, {'FM...   \n",
       "4  [[{'ContextCite128': 0.9203559510567296}, {'FM...   \n",
       "\n",
       "                                                  r2  \\\n",
       "0  [[{'ContextCite128': 0.35453698867912253}, {'F...   \n",
       "1  [[{'ContextCite128': 0.3110602913059456}, {'FM...   \n",
       "2  [[{'ContextCite128': 0.6393115209589499}, {'FM...   \n",
       "3  [[{'ContextCite128': 0.8839971634323442}, {'FM...   \n",
       "4  [[{'ContextCite128': 0.9080910318380702}, {'FM...   \n",
       "\n",
       "                                    topk_probability  \\\n",
       "0  [{'ContextCite128': {1: 0.7599997520446777, 2:...   \n",
       "1  [{'ContextCite128': {1: 5.115339279174805, 2: ...   \n",
       "2  [{'ContextCite128': {1: 2.194622278213501, 2: ...   \n",
       "3  [{'ContextCite128': {1: 16.474218547344208, 2:...   \n",
       "4  [{'ContextCite128': {1: 5.435513377189636, 2: ...   \n",
       "\n",
       "                                     topk_divergence  \n",
       "0  [{'ContextCite128': {1: 0.14052052391707548, 2...  \n",
       "1  [{'ContextCite128': {1: 3.1340330544893504, 2:...  \n",
       "2  [{'ContextCite128': {1: 0.24546737910714, 2: 0...  \n",
       "3  [{'ContextCite128': {1: 2.5724819004535675, 2:...  \n",
       "4  [{'ContextCite128': {1: 0.6450660511909518, 2:...  "
      ]
     },
     "execution_count": 48,
     "metadata": {},
     "output_type": "execute_result"
    }
   ],
   "source": [
    "df = pd.read_csv('../Experiment_data/2wiki/results_VANILLA.csv')\n",
    "df.head()"
   ]
  },
  {
   "cell_type": "code",
   "execution_count": 53,
   "id": "1e903729",
   "metadata": {},
   "outputs": [
    {
     "data": {
      "text/plain": [
       "[{'ContextCite128': 0.6191323692992213},\n",
       " {'FM_Weights128': 0.4042269187986652},\n",
       " {'ContextCite256': 0.6689655172413793},\n",
       " {'FM_Weights256': 0.4042269187986652},\n",
       " {'ContextCite512': 0.6774193548387096},\n",
       " {'FM_Weights512': 0.4042269187986652},\n",
       " {'LOO': 0.6640711902113459},\n",
       " {'ARC-JSD': 0.699666295884316}]"
      ]
     },
     "execution_count": 53,
     "metadata": {},
     "output_type": "execute_result"
    }
   ],
   "source": [
    "eval(df.loc[0].lds)[0]"
   ]
  },
  {
   "cell_type": "code",
   "execution_count": 79,
   "id": "46db83ef",
   "metadata": {},
   "outputs": [
    {
     "data": {
      "text/plain": [
       "[{'ContextCite128': 0.6191323692992213},\n",
       " {'FM_Weights128': 0.4042269187986652},\n",
       " {'ContextCite256': 0.6689655172413793},\n",
       " {'FM_Weights256': 0.4042269187986652},\n",
       " {'ContextCite512': 0.6774193548387096},\n",
       " {'FM_Weights512': 0.4042269187986652},\n",
       " {'LOO': 0.6640711902113459},\n",
       " {'ARC-JSD': 0.699666295884316}]"
      ]
     },
     "execution_count": 79,
     "metadata": {},
     "output_type": "execute_result"
    }
   ],
   "source": [
    "eval(df['lds'][0])[0]"
   ]
  },
  {
   "cell_type": "code",
   "execution_count": 85,
   "id": "24862d77",
   "metadata": {},
   "outputs": [],
   "source": [
    "# all_values_mean = {'ContextCite128' : [], 'ContextCite256' : [], 'ContextCite512': [],\n",
    "#                    'FM_Weights128' : [], 'FM_Weights256' : [], 'FM_Weights512': [],\n",
    "#                    'LOO' : [], 'ARC-JSD' : []}\n",
    "general = {}\n",
    "for metric in ['lds', 'r2']:\n",
    "    all_values_mean = {'ContextCite128' : [], 'ContextCite256' : [], 'ContextCite512': [],\n",
    "                   'FM_Weights128' : [], 'FM_Weights256' : [], 'FM_Weights512': [],\n",
    "                   'LOO' : [], 'ARC-JSD' : []}\n",
    "    for elem in df[metric]:\n",
    "        inner_list = eval(elem)[0]\n",
    "        for d in inner_list:\n",
    "           {all_values_mean[key].append(value) for key, value in d.items()}\n",
    "    general[metric] = all_values_mean"
   ]
  },
  {
   "cell_type": "code",
   "execution_count": 89,
   "id": "102629ed",
   "metadata": {},
   "outputs": [
    {
     "data": {
      "text/plain": [
       "{'ContextCite128': np.float64(0.6575588702541534),\n",
       " 'ContextCite256': np.float64(0.6575588702541534),\n",
       " 'ContextCite512': np.float64(0.6575588702541534),\n",
       " 'FM_Weights128': np.float64(-0.462296831279265),\n",
       " 'FM_Weights256': np.float64(-0.462296831279265),\n",
       " 'FM_Weights512': np.float64(-0.462296831279265),\n",
       " 'LOO': np.float64(0.6575588702541534),\n",
       " 'ARC-JSD': np.float64(0.6575588702541534)}"
      ]
     },
     "execution_count": 89,
     "metadata": {},
     "output_type": "execute_result"
    }
   ],
   "source": [
    "all_values_mean = {'ContextCite128' : [], 'ContextCite256' : [], 'ContextCite512': [],\n",
    "                   'FM_Weights128' : [], 'FM_Weights256' : [], 'FM_Weights512': [],\n",
    "                   'LOO' : [], 'ARC-JSD' : []}\n",
    "metric = 'r2'\n",
    "for elem in df[metric]:\n",
    "    inner_list = eval(elem)[0]\n",
    "    for d in inner_list:\n",
    "        {all_values_mean[key].append(value) for key, value in d.items()}\n",
    "\n",
    "res = {k:np.mean(v) for k,v in all_values_mean.items()}\n",
    "res\n",
    "    "
   ]
  },
  {
   "cell_type": "code",
   "execution_count": null,
   "id": "0141ebc2",
   "metadata": {},
   "outputs": [
    {
     "data": {
      "text/plain": [
       "{'ContextCite128': np.float64(0.7151445872497226),\n",
       " 'ContextCite256': np.float64(0.725790669177992),\n",
       " 'ContextCite512': np.float64(0.7303898646421513),\n",
       " 'FM_Weights128': np.float64(0.11665627039820357),\n",
       " 'FM_Weights256': np.float64(0.11665627039820357),\n",
       " 'FM_Weights512': np.float64(0.11665627039820357),\n",
       " 'LOO': np.float64(0.6555227255469859),\n",
       " 'ARC-JSD': np.float64(0.6713302550419226)}"
      ]
     },
     "execution_count": 84,
     "metadata": {},
     "output_type": "execute_result"
    }
   ],
   "source": [
    "general_mean = {}\n",
    "\n",
    "res = {k:np.mean(v) for k,v in all_values_mean.items()}\n",
    "res"
   ]
  }
 ],
 "metadata": {
  "kernelspec": {
   "display_name": "LLMX",
   "language": "python",
   "name": "python3"
  },
  "language_info": {
   "codemirror_mode": {
    "name": "ipython",
    "version": 3
   },
   "file_extension": ".py",
   "mimetype": "text/x-python",
   "name": "python",
   "nbconvert_exporter": "python",
   "pygments_lexer": "ipython3",
   "version": "3.10.12"
  }
 },
 "nbformat": 4,
 "nbformat_minor": 5
}
