{
 "cells": [
  {
   "cell_type": "code",
   "execution_count": 1,
   "metadata": {},
   "outputs": [
    {
     "name": "stderr",
     "output_type": "stream",
     "text": [
      "/home/cs.aau.dk/em63by/anaconda3/envs/llmx/lib/python3.12/site-packages/tqdm/auto.py:21: TqdmWarning: IProgress not found. Please update jupyter and ipywidgets. See https://ipywidgets.readthedocs.io/en/stable/user_install.html\n",
      "  from .autonotebook import tqdm as notebook_tqdm\n"
     ]
    }
   ],
   "source": [
    "from rag_shap2 import*\n",
    "import pandas as pd\n",
    "from scipy.stats import pearsonr\n",
    "import time"
   ]
  },
  {
   "cell_type": "code",
   "execution_count": 2,
   "metadata": {},
   "outputs": [
    {
     "name": "stdout",
     "output_type": "stream",
     "text": [
      "\n",
      "--- Computing ContextCite (Surrogate Weights) ---\n",
      "Starting contextcite (n=5, m=16)...\n",
      "Computing true utilities for 16 samples...\n"
     ]
    },
    {
     "name": "stderr",
     "output_type": "stream",
     "text": [
      "contextcite LLM Calls: 100%|██████████| 16/16 [02:40<00:00, 10.03s/it]\n"
     ]
    },
    {
     "name": "stdout",
     "output_type": "stream",
     "text": [
      "Training surrogate model...\n",
      "  Surrogate Weights (w): [ 5.1677 -0.164   4.8074  1.0443  4.0094]\n",
      "  Surrogate Intercept (b): -23.2409\n",
      "Method 'contextcite' finished in 160.51s.\n",
      "ContextCite Weights: [ 5.1677 -0.164   4.8074  1.0443  4.0094]\n",
      "\n",
      "--- Computing Weakly Supervised Shapley (WSS) ---\n",
      "Starting wss (n=5, m=16)...\n",
      "Computing true utilities for 16 samples...\n"
     ]
    },
    {
     "name": "stderr",
     "output_type": "stream",
     "text": [
      "wss LLM Calls: 100%|██████████| 16/16 [02:27<00:00,  9.20s/it]\n"
     ]
    },
    {
     "name": "stdout",
     "output_type": "stream",
     "text": [
      "Training surrogate model...\n",
      "  Surrogate Weights (w): [ 4.7911  0.9767  3.9839 -0.9505  5.64  ]\n",
      "  Surrogate Intercept (b): -22.8280\n",
      "Building hybrid utility set for WSS...\n",
      "Calculating Shapley values from hybrid utilities for WSS...\n"
     ]
    },
    {
     "name": "stderr",
     "output_type": "stream",
     "text": [
      "                                                                    \r"
     ]
    },
    {
     "name": "stdout",
     "output_type": "stream",
     "text": [
      "Method 'wss' finished in 147.20s.\n",
      "WSS Values: [ 5.7795  2.1159  4.8697 -0.5429  6.3934]\n",
      "WSS Surrogate Weights: [ 4.7911  0.9767  3.9839 -0.9505  5.64  ]\n",
      "\n",
      "--- Computing TMC-Shapley ---\n",
      "Starting TMC-Shapley (n=5, T=5)...\n"
     ]
    },
    {
     "name": "stderr",
     "output_type": "stream",
     "text": [
      "TMC Iterations: 100%|██████████| 5/5 [02:06<00:00, 25.24s/it]\n"
     ]
    },
    {
     "name": "stdout",
     "output_type": "stream",
     "text": [
      "TMC-Shapley made 16 unique LLM calls.\n",
      "Method 'tmc' finished in 144.43s.\n",
      "TMC Values: [15.1242  0.9201  1.9867 -0.5469  1.1315]\n",
      "\n",
      "--- Computing Beta-Shapley (U-shaped, more weight to ends) ---\n",
      "Starting Beta-Shapley (n=5, T=5, α=0.5, β=0.5)...\n"
     ]
    },
    {
     "name": "stderr",
     "output_type": "stream",
     "text": [
      "BetaShap Iterations: 100%|██████████| 5/5 [02:15<00:00, 27.11s/it]\n"
     ]
    },
    {
     "name": "stdout",
     "output_type": "stream",
     "text": [
      "Beta-Shapley made 16 unique LLM calls.\n",
      "Method 'betashap' finished in 143.93s.\n",
      "BetaShap (U-shaped) Values: [18.7074 -1.3239  1.3592 -0.2838  8.6804]\n",
      "\n",
      "--- Computing Beta-Shapley (Uniform, equivalent to standard MC) ---\n",
      "Starting Beta-Shapley (n=5, T=5, α=1.0, β=1.0)...\n"
     ]
    },
    {
     "name": "stderr",
     "output_type": "stream",
     "text": [
      "BetaShap Iterations: 100%|██████████| 5/5 [02:25<00:00, 29.03s/it]\n"
     ]
    },
    {
     "name": "stdout",
     "output_type": "stream",
     "text": [
      "Beta-Shapley made 17 unique LLM calls.\n",
      "Method 'betashap' finished in 153.27s.\n",
      "BetaShap (Uniform) Values: [11.917   0.742   2.2346  1.0273  2.6947]\n",
      "\n",
      "--- Computing Leave-One-Out (LOO) ---\n",
      "Starting Leave-One-Out (LOO) computation (n=5)...\n",
      "  Calculating utility of full set V(N)...\n",
      "  Calculating utility V(N-i) for 5 items...\n"
     ]
    },
    {
     "name": "stderr",
     "output_type": "stream",
     "text": [
      "                                                        \r"
     ]
    },
    {
     "name": "stdout",
     "output_type": "stream",
     "text": [
      "LOO computation made 6 unique LLM calls.\n",
      "Method 'loo' finished in 57.06s.\n",
      "LOO Values: [ 1.5858 -1.3239  0.1629 -0.2838  0.3653]\n",
      "\n",
      "--- Computing Exact Shapley ---\n",
      "Starting Exact Shapley (n=5, 32 LLM calls)...\n"
     ]
    },
    {
     "name": "stderr",
     "output_type": "stream",
     "text": [
      "Exact LLM Calls: 100%|██████████| 32/32 [04:51<00:00,  9.11s/it]\n",
      "                                                                    "
     ]
    },
    {
     "name": "stdout",
     "output_type": "stream",
     "text": [
      "Method 'exact' finished in 291.42s.\n",
      "Exact Values: [7.0016 1.5099 4.6902 1.0479 4.3661]\n",
      "\n",
      "MAE WSS vs Exact: 1.1251\n",
      "MAE TMC vs Exact: 3.2490\n",
      "MAE BetaShap (U) vs Exact: 4.7033\n",
      "MAE BetaShap (Uni) vs Exact: 1.9662\n",
      "\n",
      "MAE LOO vs Exact: 3.6218\n"
     ]
    },
    {
     "name": "stderr",
     "output_type": "stream",
     "text": [
      "\r"
     ]
    }
   ],
   "source": [
    "documents = [\n",
    "    \"The weather in Paris is sunny today.\",\n",
    "    \"Paris is the capital of France.\",\n",
    "    \"The sun is shining in Paris today\",\n",
    "    \"Berlin is the capital of Germany.\", # Irrelevant\n",
    "    # \"The Eiffel Tower is located in Paris, France.\",\n",
    "    # \"France borders several countries including Germany.\",\n",
    "    # \"The currency used in France is the Euro.\",\n",
    "    # \"Paris hosted the Summer Olympics in 1900 and 1924.\",\n",
    "    # \"Germany uses the Euro as well.\", # Redundant info\n",
    "    \"It is cloudy in Berlin today.\" # Irrelevant\n",
    "]\n",
    "query = \"What is the weather like in the capital of France?\"\n",
    "target_response = \"The weather in Paris is sunny.\" # The ideal answer fragment\n",
    "\n",
    "attributor = ShapleyAttributor(\n",
    "        items=documents,\n",
    "        query=query,\n",
    "        target_response=target_response,\n",
    "        llm_caller=compute_logprob # Use your actual llm_caller\n",
    "    )\n",
    "\n",
    "print(\"\\n--- Computing ContextCite (Surrogate Weights) ---\")\n",
    "cc_weights = attributor.compute(method_name=\"contextcite\", num_samples=16, lasso_alpha=0.01)\n",
    "if cc_weights is not None: print(\"ContextCite Weights:\", np.round(cc_weights, 4))\n",
    "\n",
    "print(\"\\n--- Computing Weakly Supervised Shapley (WSS) ---\")\n",
    "wss_values, wss_surrogate_weights = attributor.compute(method_name=\"wss\", num_samples=16, lasso_alpha=0.01, return_weights=True)\n",
    "if wss_values is not None:\n",
    "    print(\"WSS Values:\", np.round(wss_values, 4))\n",
    "    print(\"WSS Surrogate Weights:\", np.round(wss_surrogate_weights, 4))\n",
    "\n",
    "print(\"\\n--- Computing TMC-Shapley ---\")\n",
    "tmc_values = attributor.compute(method_name=\"tmc\") # 5*n iterations\n",
    "if tmc_values is not None: print(\"TMC Values:\", np.round(tmc_values, 4))\n",
    "\n",
    "if beta_dist: # Only if scipy is available\n",
    "    print(\"\\n--- Computing Beta-Shapley (U-shaped, more weight to ends) ---\")\n",
    "    # For U-shaped, alpha and beta < 1\n",
    "    beta_u_values = attributor.compute(method_name=\"betashap\", num_iterations=attributor.n_items, beta_a=0.5, beta_b=0.5)\n",
    "    if beta_u_values is not None: print(\"BetaShap (U-shaped) Values:\", np.round(beta_u_values, 4))\n",
    "\n",
    "    print(\"\\n--- Computing Beta-Shapley (Uniform, equivalent to standard MC) ---\")\n",
    "    beta_uniform_values = attributor.compute(method_name=\"betashap\", num_iterations=attributor.n_items, beta_a=1.0, beta_b=1.0)\n",
    "    if beta_uniform_values is not None: print(\"BetaShap (Uniform) Values:\", np.round(beta_uniform_values, 4))\n",
    "print(\"\\n--- Computing Leave-One-Out (LOO) ---\")\n",
    "loo_values = attributor.compute(method_name=\"loo\") \n",
    "if loo_values is not None: \n",
    "    print(\"LOO Values:\", np.round(loo_values, 4))\n",
    "\n",
    "print(\"\\n--- Computing Exact Shapley ---\")\n",
    "exact_values = attributor.compute(method_name=\"exact\", exact_confirm=False) # Disable confirm for n=5 demo\n",
    "if exact_values is not None: print(\"Exact Values:\", np.round(exact_values, 4))\n",
    "\n",
    "if exact_values is not None:\n",
    "    if wss_values is not None:\n",
    "        mae_wss = np.mean(np.abs(exact_values - wss_values))\n",
    "        print(f\"\\nMAE WSS vs Exact: {mae_wss:.4f}\")\n",
    "    if tmc_values is not None:\n",
    "        mae_tmc = np.mean(np.abs(exact_values - tmc_values))\n",
    "        print(f\"MAE TMC vs Exact: {mae_tmc:.4f}\")\n",
    "    if beta_dist and beta_u_values is not None:\n",
    "        mae_beta_u = np.mean(np.abs(exact_values - beta_u_values))\n",
    "        print(f\"MAE BetaShap (U) vs Exact: {mae_beta_u:.4f}\")\n",
    "    if beta_dist and beta_uniform_values is not None:\n",
    "        mae_beta_uni = np.mean(np.abs(exact_values - beta_uniform_values))\n",
    "        print(f\"MAE BetaShap (Uni) vs Exact: {mae_beta_uni:.4f}\")\n",
    "    # Compare LOO to Exact if available\n",
    "    if exact_values is not None and loo_values is not None:\n",
    "        mae_loo = np.mean(np.abs(exact_values - loo_values))\n",
    "        print(f\"\\nMAE LOO vs Exact: {mae_loo:.4f}\")\n"
   ]
  },
  {
   "cell_type": "code",
   "execution_count": null,
   "metadata": {},
   "outputs": [],
   "source": []
  },
  {
   "cell_type": "code",
   "execution_count": null,
   "metadata": {},
   "outputs": [],
   "source": []
  },
  {
   "cell_type": "code",
   "execution_count": null,
   "metadata": {},
   "outputs": [],
   "source": [
    "from scipy.stats import spearmanr\n",
    "correlation, p_value = spearmanr(shapley_values, lasso_weights)\n",
    "print(f\"Spearman Correlation: {correlation:.4f}, p-value: {p_value:.4f}\\n\")"
   ]
  },
  {
   "cell_type": "code",
   "execution_count": null,
   "metadata": {},
   "outputs": [],
   "source": []
  },
  {
   "cell_type": "code",
   "execution_count": null,
   "metadata": {},
   "outputs": [],
   "source": [
    "logp, p, model_out, token_probs = compute_logprob(\n",
    "    query=\"What is the capital of Kazakhstan?\",\n",
    "    ground_truth_answer=\"Paris\",\n",
    "    return_token_probs=True\n",
    ")\n",
    "\n",
    "print(\"Log probability:\", logp)\n",
    "print(\"Total probability:\", p)\n",
    "print(\"Model generated:\", model_out)"
   ]
  }
 ],
 "metadata": {
  "kernelspec": {
   "display_name": "llmx",
   "language": "python",
   "name": "python3"
  },
  "language_info": {
   "codemirror_mode": {
    "name": "ipython",
    "version": 3
   },
   "file_extension": ".py",
   "mimetype": "text/x-python",
   "name": "python",
   "nbconvert_exporter": "python",
   "pygments_lexer": "ipython3",
   "version": "3.12.8"
  }
 },
 "nbformat": 4,
 "nbformat_minor": 2
}
