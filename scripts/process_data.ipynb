{
 "cells": [
  {
   "cell_type": "code",
   "execution_count": 2,
   "id": "76483821",
   "metadata": {},
   "outputs": [],
   "source": [
    "import pandas as pd\n",
    "import string\n",
    "import numpy as np\n",
    "import random"
   ]
  },
  {
   "cell_type": "code",
   "execution_count": 10,
   "id": "6629a5e3",
   "metadata": {},
   "outputs": [],
   "source": [
    "df_duplicate = pd.read_csv('../data/synthetic_data/20_duplicate.csv')\n",
    "df_complementary = pd.read_csv('../data/synthetic_data/20_complementary.csv')\n",
    "df_synergy = pd.read_csv('../data/synthetic_data/20_synergy.csv')"
   ]
  },
  {
   "cell_type": "code",
   "execution_count": null,
   "id": "aaf183b2",
   "metadata": {},
   "outputs": [],
   "source": [
    "def create_id(df : pd.DataFrame) -> pd.DataFrame: \n",
    "    letters = list(string.ascii_uppercase[: len(eval(df.context.loc[0]))])\n",
    "    df[\"doc_id\"] = np.vstack([letters]*df.shape[0]).tolist()\n",
    "    return df"
   ]
  },
  {
   "cell_type": "code",
   "execution_count": 29,
   "id": "6cb3549f",
   "metadata": {},
   "outputs": [],
   "source": [
    "df_synergy.to_csv('../data/synthetic_data/20_synergy.csv', index = False)"
   ]
  },
  {
   "cell_type": "code",
   "execution_count": null,
   "id": "c8bdacb1",
   "metadata": {},
   "outputs": [],
   "source": [
    "df_bio = pd.read_csv('../data/BIOASK.csv')\n",
    "# df_bio.drop(df_bio.columns[0], axis = 1, inplace=True)\n",
    "df_bio = create_id(df_bio.copy())\n",
    "df_bio.to_csv('../data/BIOASK.csv', index = False)"
   ]
  },
  {
   "cell_type": "code",
   "execution_count": 72,
   "id": "1c3d100e",
   "metadata": {},
   "outputs": [],
   "source": [
    "df_nq = pd.read_csv(\"../data/NQ.csv\")\n",
    "df_nq = create_id(df_nq.copy())\n",
    "df_nq.to_csv('../data/NQ.csv', index = False)"
   ]
  }
 ],
 "metadata": {
  "kernelspec": {
   "display_name": ".venv",
   "language": "python",
   "name": "python3"
  },
  "language_info": {
   "codemirror_mode": {
    "name": "ipython",
    "version": 3
   },
   "file_extension": ".py",
   "mimetype": "text/x-python",
   "name": "python",
   "nbconvert_exporter": "python",
   "pygments_lexer": "ipython3",
   "version": "3.12.10"
  }
 },
 "nbformat": 4,
 "nbformat_minor": 5
}
