{
 "cells": [
  {
   "cell_type": "code",
   "execution_count": 9,
   "id": "fba41b42",
   "metadata": {},
   "outputs": [],
   "source": [
    "import pandas as pd\n",
    "import re"
   ]
  },
  {
   "cell_type": "code",
   "execution_count": 7,
   "id": "78c15957",
   "metadata": {},
   "outputs": [],
   "source": [
    "# splits = {'train': 'question-answer-passages/train-00000-of-00001.parquet', 'test': 'question-answer-passages/test-00000-of-00001.parquet'}\n",
    "# df_biosask = pd.read_parquet(\"hf://datasets/enelpol/rag-mini-bioasq/\" + splits[\"train\"])\n",
    "\n",
    "# df1 = pd.read_parquet(\"hf://datasets/enelpol/rag-mini-bioasq/text-corpus/test-00000-of-00001.parquet\")\n",
    "\n",
    "# df1.head().loc[0].passage\n",
    "\n",
    "# df_biosask.head()"
   ]
  },
  {
   "cell_type": "code",
   "execution_count": 62,
   "id": "40dc22ad",
   "metadata": {},
   "outputs": [
    {
     "data": {
      "text/plain": [
       "['',\n",
       " 'Title: ',\n",
       " 'First section ',\n",
       " 'Title: ',\n",
       " 'Second section ',\n",
       " 'Title: ',\n",
       " 'Third section']"
      ]
     },
     "execution_count": 62,
     "metadata": {},
     "output_type": "execute_result"
    }
   ],
   "source": [
    "\n",
    "text = \"Title: First section Title: Second section Title: Third section\"\n",
    "\n",
    "# Split but keep 'Title: ' at the start of each chunk\n",
    "parts = re.split(r'(Title: )', text)\n",
    "parts"
   ]
  },
  {
   "cell_type": "code",
   "execution_count": 10,
   "id": "6cbd5d6f",
   "metadata": {},
   "outputs": [],
   "source": [
    "df = pd.read_parquet(\"hotpotQA.parquet\")\n",
    "df.drop(columns = [\"citations\", \"answer\"], inplace=True)"
   ]
  },
  {
   "cell_type": "code",
   "execution_count": null,
   "id": "912df641",
   "metadata": {},
   "outputs": [],
   "source": [
    "df['new_context'] = df['context'].apply(lambda x: x.split('\\nPassage:')) # need to split on title no choice\n",
    "test = df['new_context'].loc[0]\n",
    "\n",
    "j = 0\n",
    "for elem in test: \n",
    "    if \"Title:\" in elem: \n",
    "        j+=1\n",
    "# new_test = []\n",
    "# for i in range(0, len(test)-1, 2): \n",
    "#     new_test.append( test[i] +  test[i+1])\n",
    "\n",
    "# new_test\n"
   ]
  },
  {
   "cell_type": "code",
   "execution_count": 47,
   "id": "103a0dac",
   "metadata": {},
   "outputs": [],
   "source": [
    "df = pd.read_parquet(\"hotpotQA.parquet\")\n",
    "\n",
    "df[\"citation_size\"] = df[\"citations\"].apply(lambda x: len(x))\n",
    "\n",
    "def extract_titles(text) : \n",
    "    return re.findall(r\"Title:\\s*(.*?)\\nPassage:\", text)\n",
    "\n",
    "df[\"context_citations\"] = df[\"context\"].apply(lambda x: extract_titles(x))\n",
    "\n",
    "def flag_documents(all_citations, pos_citations) : \n",
    "    flags = []\n",
    "    for elem in all_citations: \n",
    "        if elem in pos_citations: \n",
    "            flags.append(\"P\")\n",
    "        else: \n",
    "            flags.append(\"N\")\n",
    "    return flags\n",
    "\n",
    "df[\"documents_flag\"] = df[[\"context_citations\", \"citations\"]].apply(lambda x: flag_documents(x[\"context_citations\"], x[\"citations\"]), axis=1)"
   ]
  },
  {
   "cell_type": "code",
   "execution_count": 51,
   "id": "2eea6147",
   "metadata": {},
   "outputs": [
    {
     "data": {
      "text/html": [
       "<div>\n",
       "<style scoped>\n",
       "    .dataframe tbody tr th:only-of-type {\n",
       "        vertical-align: middle;\n",
       "    }\n",
       "\n",
       "    .dataframe tbody tr th {\n",
       "        vertical-align: top;\n",
       "    }\n",
       "\n",
       "    .dataframe thead th {\n",
       "        text-align: right;\n",
       "    }\n",
       "</style>\n",
       "<table border=\"1\" class=\"dataframe\">\n",
       "  <thead>\n",
       "    <tr style=\"text-align: right;\">\n",
       "      <th></th>\n",
       "      <th>question</th>\n",
       "      <th>documents_flag</th>\n",
       "      <th>context</th>\n",
       "    </tr>\n",
       "  </thead>\n",
       "  <tbody>\n",
       "    <tr>\n",
       "      <th>0</th>\n",
       "      <td>\"Girls Girls\", was released by Atlantic Record...</td>\n",
       "      <td>[P, N, N, N, N, N, N, N, N, P]</td>\n",
       "      <td>[\"Girls Girls\" (stylized as \"GIRLS GIRLS\") is ...</td>\n",
       "    </tr>\n",
       "    <tr>\n",
       "      <th>1</th>\n",
       "      <td>What is the name of the character in Quantico ...</td>\n",
       "      <td>[P, N, N, N, N, P, N, N, N, N]</td>\n",
       "      <td>[Russell George Tovey (born 14 November 1981) ...</td>\n",
       "    </tr>\n",
       "    <tr>\n",
       "      <th>2</th>\n",
       "      <td>How many MLB teams did the baseball player wh...</td>\n",
       "      <td>[N, P, P, N, N, N, N, N, N, N]</td>\n",
       "      <td>[Mark David McGwire (born October 1, 1963), ni...</td>\n",
       "    </tr>\n",
       "    <tr>\n",
       "      <th>3</th>\n",
       "      <td>Did Mala Mala or Train Life come first?</td>\n",
       "      <td>[N, N, N, N, N, P, N, N, P, N]</td>\n",
       "      <td>[St Philip Howard Catholic Voluntary Academy (...</td>\n",
       "    </tr>\n",
       "    <tr>\n",
       "      <th>4</th>\n",
       "      <td>Professional racing driver Stéphane Richelmi w...</td>\n",
       "      <td>[N, N, N, N, N, N, P, N, P, N]</td>\n",
       "      <td>[Stéphane Jean-Marc Sarrazin (born 2 November ...</td>\n",
       "    </tr>\n",
       "    <tr>\n",
       "      <th>...</th>\n",
       "      <td>...</td>\n",
       "      <td>...</td>\n",
       "      <td>...</td>\n",
       "    </tr>\n",
       "    <tr>\n",
       "      <th>95</th>\n",
       "      <td>Between Trent Reznor and Ali Campbell, who has...</td>\n",
       "      <td>[N, N, P, N, N, N, N, N, N, P]</td>\n",
       "      <td>[12 Rounds is a British rock band formed by At...</td>\n",
       "    </tr>\n",
       "    <tr>\n",
       "      <th>96</th>\n",
       "      <td>What 2002 horror film was written and directed...</td>\n",
       "      <td>[P, N, N, N, N, N, P, N, N, N]</td>\n",
       "      <td>[Phone () is a 2002 South Korean horror film w...</td>\n",
       "    </tr>\n",
       "    <tr>\n",
       "      <th>97</th>\n",
       "      <td>What year did a neo-noir action thriller starr...</td>\n",
       "      <td>[N, N, N, N, N, N, P, P, N, N]</td>\n",
       "      <td>[East Longmeadow High School is a public high ...</td>\n",
       "    </tr>\n",
       "    <tr>\n",
       "      <th>98</th>\n",
       "      <td>What founder of a trademarked brand name for a...</td>\n",
       "      <td>[N, P, N, N, N, P, N, N, N, N]</td>\n",
       "      <td>[Ansco was the brand name of a photographic co...</td>\n",
       "    </tr>\n",
       "    <tr>\n",
       "      <th>99</th>\n",
       "      <td>Which band formed first, Sunrise Avenue or Mar...</td>\n",
       "      <td>[N, N, N, N, P, N, N, P, N, N]</td>\n",
       "      <td>[\"Saint Joe on the School Bus\" is the name of ...</td>\n",
       "    </tr>\n",
       "  </tbody>\n",
       "</table>\n",
       "<p>100 rows × 3 columns</p>\n",
       "</div>"
      ],
      "text/plain": [
       "                                             question  ...                                            context\n",
       "0   \"Girls Girls\", was released by Atlantic Record...  ...  [\"Girls Girls\" (stylized as \"GIRLS GIRLS\") is ...\n",
       "1   What is the name of the character in Quantico ...  ...  [Russell George Tovey (born 14 November 1981) ...\n",
       "2    How many MLB teams did the baseball player wh...  ...  [Mark David McGwire (born October 1, 1963), ni...\n",
       "3             Did Mala Mala or Train Life come first?  ...  [St Philip Howard Catholic Voluntary Academy (...\n",
       "4   Professional racing driver Stéphane Richelmi w...  ...  [Stéphane Jean-Marc Sarrazin (born 2 November ...\n",
       "..                                                ...  ...                                                ...\n",
       "95  Between Trent Reznor and Ali Campbell, who has...  ...  [12 Rounds is a British rock band formed by At...\n",
       "96  What 2002 horror film was written and directed...  ...  [Phone () is a 2002 South Korean horror film w...\n",
       "97  What year did a neo-noir action thriller starr...  ...  [East Longmeadow High School is a public high ...\n",
       "98  What founder of a trademarked brand name for a...  ...  [Ansco was the brand name of a photographic co...\n",
       "99  Which band formed first, Sunrise Avenue or Mar...  ...  [\"Saint Joe on the School Bus\" is the name of ...\n",
       "\n",
       "[100 rows x 3 columns]"
      ]
     },
     "execution_count": 51,
     "metadata": {},
     "output_type": "execute_result"
    }
   ],
   "source": [
    "# df = pd.read_parquet(\"hotpotQA.parquet\")\n",
    "# df.drop(columns = [\"citations\", \"answer\"], inplace=True)\n",
    "\n",
    "# df['context_size'] = df['context'].apply(lambda x: len([i for i in re.split(r'(Title: )', text = x) if len(i) > 1]))\n",
    "df['context_size'] = df['context'].apply(lambda x: len([i for i in x.split('Title: ') if len(i) > 1]))\n",
    "df_select = df[df['context_size'] == 10].sample(n = 100, random_state=42).drop(columns = ['context_size'])\n",
    "\n",
    "df_select['true_context'] = df['context'].apply(lambda x : [ i for i in x.split('Title:') if len(i) > 1])\n",
    "df_select.drop(columns = [\"context\"], inplace=True)\n",
    "df_select.rename(columns = {'true_context' : 'context'}, inplace=True)\n",
    "\n",
    "df_select.head()\n",
    "clean_context = []\n",
    "for i in df_select.index: \n",
    "    clean_context.append([i.split(\"\\nPassage: \")[1] for i in df_select.loc[i].context]) # Remove everything befoire (and including) \\nPassage: (makes it cleaner)\n",
    "\n",
    "df_select['context'] = clean_context\n",
    "df_select.reset_index(inplace=True, drop = True)\n",
    "df_select.drop([\"answer\", \"citations\", \"citation_size\", \"context_citations\"], axis = 1, inplace=True)\n",
    "df_select"
   ]
  },
  {
   "cell_type": "code",
   "execution_count": 52,
   "id": "1f1f47c6",
   "metadata": {},
   "outputs": [],
   "source": [
    "df_select.to_csv(\"hotpotQA_sample_flagged.csv\", index= False)"
   ]
  },
  {
   "cell_type": "markdown",
   "id": "8d7ea2dd",
   "metadata": {},
   "source": [
    "## Explore Bioask data"
   ]
  },
  {
   "cell_type": "code",
   "execution_count": 59,
   "id": "be219fd1",
   "metadata": {},
   "outputs": [],
   "source": [
    "splits = {'train': 'question-answer-passages/train-00000-of-00001.parquet', 'test': 'question-answer-passages/test-00000-of-00001.parquet'}\n",
    "df = pd.read_parquet(\"hf://datasets/enelpol/rag-mini-bioasq/\" + splits[\"train\"])\n",
    "\n",
    "df1 = pd.read_parquet(\"hf://datasets/enelpol/rag-mini-bioasq/text-corpus/test-00000-of-00001.parquet\")\n",
    "df1.set_index('id', inplace=True)"
   ]
  },
  {
   "cell_type": "code",
   "execution_count": null,
   "id": "081307ef",
   "metadata": {},
   "outputs": [
    {
     "data": {
      "text/html": [
       "<div>\n",
       "<style scoped>\n",
       "    .dataframe tbody tr th:only-of-type {\n",
       "        vertical-align: middle;\n",
       "    }\n",
       "\n",
       "    .dataframe tbody tr th {\n",
       "        vertical-align: top;\n",
       "    }\n",
       "\n",
       "    .dataframe thead th {\n",
       "        text-align: right;\n",
       "    }\n",
       "</style>\n",
       "<table border=\"1\" class=\"dataframe\">\n",
       "  <thead>\n",
       "    <tr style=\"text-align: right;\">\n",
       "      <th></th>\n",
       "      <th>question</th>\n",
       "      <th>answer</th>\n",
       "      <th>id</th>\n",
       "      <th>relevant_passage_ids</th>\n",
       "    </tr>\n",
       "  </thead>\n",
       "  <tbody>\n",
       "    <tr>\n",
       "      <th>0</th>\n",
       "      <td>What is the implication of histone lysine meth...</td>\n",
       "      <td>Aberrant patterns of H3K4, H3K9, and H3K27 his...</td>\n",
       "      <td>1682</td>\n",
       "      <td>[23179372, 19270706, 23184418]</td>\n",
       "    </tr>\n",
       "    <tr>\n",
       "      <th>1</th>\n",
       "      <td>What is the role of STAG1/STAG2 proteins in di...</td>\n",
       "      <td>STAG1/STAG2 proteins are tumour suppressor pro...</td>\n",
       "      <td>3722</td>\n",
       "      <td>[26997282, 21589869, 19822671, 29867216, 15361...</td>\n",
       "    </tr>\n",
       "    <tr>\n",
       "      <th>2</th>\n",
       "      <td>What is the association between cell phone use...</td>\n",
       "      <td>The association between cell phone use and inc...</td>\n",
       "      <td>1235</td>\n",
       "      <td>[20215713, 17851009, 22882019, 12527940, 24348...</td>\n",
       "    </tr>\n",
       "    <tr>\n",
       "      <th>3</th>\n",
       "      <td>What is the applicability of the No Promoter L...</td>\n",
       "      <td>No Promoter Left Behind (NPLB) is an efficient...</td>\n",
       "      <td>2103</td>\n",
       "      <td>[26530723]</td>\n",
       "    </tr>\n",
       "    <tr>\n",
       "      <th>4</th>\n",
       "      <td>Does the Oncotype DX test work with paraffin e...</td>\n",
       "      <td>Yes, the Oncotype DX test works with paraffin ...</td>\n",
       "      <td>1713</td>\n",
       "      <td>[23074401, 17039265, 18922117, 17463177, 16361...</td>\n",
       "    </tr>\n",
       "  </tbody>\n",
       "</table>\n",
       "</div>"
      ],
      "text/plain": [
       "                                            question  \\\n",
       "0  What is the implication of histone lysine meth...   \n",
       "1  What is the role of STAG1/STAG2 proteins in di...   \n",
       "2  What is the association between cell phone use...   \n",
       "3  What is the applicability of the No Promoter L...   \n",
       "4  Does the Oncotype DX test work with paraffin e...   \n",
       "\n",
       "                                              answer    id  \\\n",
       "0  Aberrant patterns of H3K4, H3K9, and H3K27 his...  1682   \n",
       "1  STAG1/STAG2 proteins are tumour suppressor pro...  3722   \n",
       "2  The association between cell phone use and inc...  1235   \n",
       "3  No Promoter Left Behind (NPLB) is an efficient...  2103   \n",
       "4  Yes, the Oncotype DX test works with paraffin ...  1713   \n",
       "\n",
       "                                relevant_passage_ids  \n",
       "0                     [23179372, 19270706, 23184418]  \n",
       "1  [26997282, 21589869, 19822671, 29867216, 15361...  \n",
       "2  [20215713, 17851009, 22882019, 12527940, 24348...  \n",
       "3                                         [26530723]  \n",
       "4  [23074401, 17039265, 18922117, 17463177, 16361...  "
      ]
     },
     "execution_count": 60,
     "metadata": {},
     "output_type": "execute_result"
    }
   ],
   "source": [
    "df."
   ]
  },
  {
   "cell_type": "code",
   "execution_count": null,
   "id": "87592303",
   "metadata": {},
   "outputs": [
    {
     "data": {
      "text/plain": [
       "10"
      ]
     },
     "execution_count": 77,
     "metadata": {},
     "output_type": "execute_result"
    }
   ],
   "source": [
    "a = df_select.context[0]"
   ]
  },
  {
   "cell_type": "code",
   "execution_count": 87,
   "id": "58eec469",
   "metadata": {},
   "outputs": [],
   "source": [
    "df_test = pd.read_csv(\"hotpotQA_sample.csv\")\n",
    "df_test.to_parquet(\"hotpotQA_sample.parquet\")"
   ]
  },
  {
   "cell_type": "code",
   "execution_count": 92,
   "id": "a801f5f0",
   "metadata": {},
   "outputs": [],
   "source": [
    "df_test = pd.read_csv(\"hotpotQA_sample.csv\", on_bad_lines=\"skip\")"
   ]
  },
  {
   "cell_type": "code",
   "execution_count": 66,
   "id": "9dc9ed87",
   "metadata": {},
   "outputs": [
    {
     "data": {
      "text/plain": [
       "id\n",
       "23179372    Recent studies showed frequent mutations in hi...\n",
       "19270706    We used high-resolution SNP genotyping to iden...\n",
       "23184418    Recent sequencing efforts have described the m...\n",
       "Name: passage, dtype: object"
      ]
     },
     "execution_count": 66,
     "metadata": {},
     "output_type": "execute_result"
    }
   ],
   "source": [
    "df1.passage[df.relevant_passage_ids[0][:10]]"
   ]
  },
  {
   "cell_type": "code",
   "execution_count": 85,
   "id": "5642fe57",
   "metadata": {},
   "outputs": [
    {
     "ename": "AttributeError",
     "evalue": "'str' object has no attribute 'tolist'",
     "output_type": "error",
     "traceback": [
      "\u001b[31m---------------------------------------------------------------------------\u001b[39m",
      "\u001b[31mAttributeError\u001b[39m                            Traceback (most recent call last)",
      "\u001b[36mCell\u001b[39m\u001b[36m \u001b[39m\u001b[32mIn[85]\u001b[39m\u001b[32m, line 3\u001b[39m\n\u001b[32m      1\u001b[39m test = [\u001b[33m'\u001b[39m\u001b[33m\"\u001b[39m\u001b[33mGirls Girls\u001b[39m\u001b[33m\"\u001b[39m\u001b[33m (stylized as \u001b[39m\u001b[33m\"\u001b[39m\u001b[33mGIRLS GIRLS\u001b[39m\u001b[33m\"\u001b[39m\u001b[33m) is a song by Swedish electropop duo Icona Pop.  It was written by Litens Anton Nilsson, Icona Pop, Marcus Andersson, Tove Lo, Emma Bertilsson and Johan Gustafson, with the latter one handling the song\u001b[39m\u001b[38;5;130;01m\\'\u001b[39;00m\u001b[33ms production.  It was released commercially for digital download on 16 June 2017, through TEN Music Group, Atlantic Records and Warner Music Group, as the duo\u001b[39m\u001b[38;5;130;01m\\'\u001b[39;00m\u001b[33ms first single of 2017.\u001b[39m\u001b[38;5;130;01m\\n\u001b[39;00m\u001b[33m'\u001b[39m, \u001b[33m'\u001b[39m\u001b[33mWonder World is the second studio album by South Korean pop girl group Wonder Girls.  It was released on November 7, 2011.  It was produced by Park Jin-Young.  \u001b[39m\u001b[33m\"\u001b[39m\u001b[33mBe My Baby\u001b[39m\u001b[33m\"\u001b[39m\u001b[33m served as the lead single from album.  Both album and single were commercial success.  Album was promoted with a \u001b[39m\u001b[33m\"\u001b[39m\u001b[33mWonder World Tour\u001b[39m\u001b[33m\"\u001b[39m\u001b[33m in 2012.  Members were more involved in songwriting in production: Park Yeeun wrote and produced \u001b[39m\u001b[33m\"\u001b[39m\u001b[33mG.N.O.\u001b[39m\u001b[33m\"\u001b[39m\u001b[33m and \u001b[39m\u001b[33m\"\u001b[39m\u001b[33mMe, In\u001b[39m\u001b[33m\"\u001b[39m\u001b[33m, Kim Yubin wrote \u001b[39m\u001b[33m\"\u001b[39m\u001b[33mGirls Girls\u001b[39m\u001b[33m\"\u001b[39m\u001b[33m, \u001b[39m\u001b[33m\"\u001b[39m\u001b[33mMe, In\u001b[39m\u001b[33m\"\u001b[39m\u001b[33m and \u001b[39m\u001b[33m\"\u001b[39m\u001b[33mSweet Dreams\u001b[39m\u001b[33m\"\u001b[39m\u001b[33m while Woo Hyelim wrote and produced her solo song \u001b[39m\u001b[33m\"\u001b[39m\u001b[33mAct Cool\u001b[39m\u001b[33m\"\u001b[39m\u001b[33m, featuring San E.  Members also recorded duets: Min Sunye and Yeeun recorded \u001b[39m\u001b[33m\"\u001b[39m\u001b[33mLong Long Time\u001b[39m\u001b[33m\"\u001b[39m\u001b[33m while Yubin and Ahn Sohee recorded \u001b[39m\u001b[33m\"\u001b[39m\u001b[33mSuperB\u001b[39m\u001b[33m\"\u001b[39m\u001b[33m.\u001b[39m\u001b[38;5;130;01m\\n\u001b[39;00m\u001b[33m'\u001b[39m, \u001b[33m'\u001b[39m\u001b[33mGirls Girls (Korean: 여자여자 , often stylized as GIRLS GIRLS) debuted as five-member South Korean girl group formed by H Brothers Entertainment.  They debuted on December 9, 2015, with a single-album titled \u001b[39m\u001b[33m\"\u001b[39m\u001b[33mDeal\u001b[39m\u001b[33m\"\u001b[39m\u001b[33m.  This single-album is containing two songs - \u001b[39m\u001b[33m\"\u001b[39m\u001b[33mDeal(딜)\u001b[39m\u001b[33m\"\u001b[39m\u001b[33m and \u001b[39m\u001b[33m\"\u001b[39m\u001b[33mGIRLS GIRLS(여자여자)\u001b[39m\u001b[33m\"\u001b[39m\u001b[33m.  In the middle of 2016, Gyurang left the group to focus on her solo activities.  On October 10, 2016 they released their 2nd single album called \u001b[39m\u001b[33m\"\u001b[39m\u001b[33mJuicy Secret\u001b[39m\u001b[33m\"\u001b[39m\u001b[33m which contains one song called \u001b[39m\u001b[33m\"\u001b[39m\u001b[33mJuicy Secret(쥬시시크릿)\u001b[39m\u001b[33m\"\u001b[39m\u001b[33m.\u001b[39m\u001b[38;5;130;01m\\n\u001b[39;00m\u001b[33m'\u001b[39m, \u001b[33m'\u001b[39m\u001b[33mFerras Alqaisi ( ; born July 2, 1982) is an American singer-songwriter from Los Angeles, California.  He is well known for his single \u001b[39m\u001b[33m\"\u001b[39m\u001b[33mHollywood\u001b[39m\u001b[38;5;130;01m\\'\u001b[39;00m\u001b[33ms Not America\u001b[39m\u001b[33m\"\u001b[39m\u001b[33m from his debut album \u001b[39m\u001b[33m\"\u001b[39m\u001b[33mAliens & Rainbows\u001b[39m\u001b[33m\"\u001b[39m\u001b[33m, which was featured as the exit song during the semi-final round of \u001b[39m\u001b[33m\"\u001b[39m\u001b[33mAmerican Idol\u001b[39m\u001b[33m\"\u001b[39m\u001b[33m season 7.  He is signed with Unsub Records, a subsidiary of Capitol Records founded by Katy Perry, being the first artist to sign with her label.  In June 2014 he released his self-titled EP through the label.\u001b[39m\u001b[38;5;130;01m\\n\u001b[39;00m\u001b[33m'\u001b[39m, \u001b[33m'\u001b[39m\u001b[33mAtlantic Records UK was founded in June 2004 when Warner Music Group bought East West Records from Time Warner and rebranded its UK operation.  The first Chairman was Max Lousada, previously Head of A&R at Mushroom Records UK.  In 2011 Atlantic Records UK was named Label of the Year at the Music Week Awards.  In the same year The Guardian put Lousada joint 20th in its \u001b[39m\u001b[33m\"\u001b[39m\u001b[33mMusic Power 100\u001b[39m\u001b[33m\"\u001b[39m\u001b[33m list of influential figures in the UK music industry.  He shared his place with John Reid and Christian Tattersfield, both from Warner.  In October 2011, the7stars advertising agency announced it had won a pitch to handle Atlantic Records UK\u001b[39m\u001b[38;5;130;01m\\'\u001b[39;00m\u001b[33ms £2 million media planning and buying account, taking over from ZenithOptimedia.  In 2014, Ben Cook was appointed President, Atlantic Records UK, reporting to Lousada.\u001b[39m\u001b[38;5;130;01m\\n\u001b[39;00m\u001b[33m'\u001b[39m, \u001b[33m'\u001b[39m\u001b[33mGot7, a hip hop boy group based in South Korea, have released three studio albums, six EPs, thirteen singles, and two box sets. Formed by JYP Entertainment in 2013, Got7 made their debut in January 2014 with the EP \u001b[39m\u001b[33m\"\u001b[39m\u001b[33mGot It? \u001b[39m\u001b[33m\"\u001b[39m\u001b[33m, which debuted at number two on the Gaon Albums Chart.  The EP\u001b[39m\u001b[38;5;130;01m\\'\u001b[39;00m\u001b[33ms lead single \u001b[39m\u001b[33m\"\u001b[39m\u001b[33mGirls Girls Girls\u001b[39m\u001b[33m\"\u001b[39m\u001b[33m peaked at number 21 on the Gaon Singles Chart.  In October 2014, Got7 debuted in Japan with their first Japanese-language release \u001b[39m\u001b[33m\"\u001b[39m\u001b[33mAround the World\u001b[39m\u001b[33m\"\u001b[39m\u001b[33m, peaking at number three on the Oricon\u001b[39m\u001b[38;5;130;01m\\'\u001b[39;00m\u001b[33ms singles charts.  A month later, Got7 returned to Korea to release their first full-length album \u001b[39m\u001b[33m\"\u001b[39m\u001b[33mIdentify\u001b[39m\u001b[33m\"\u001b[39m\u001b[33m, and topped album charts.\u001b[39m\u001b[38;5;130;01m\\n\u001b[39;00m\u001b[33m'\u001b[39m, \u001b[33m'\u001b[39m\u001b[33mGot It?  is the debut extended play by South Korean boy band Got7.  It was released on January 16, 2014.  The song \u001b[39m\u001b[33m\"\u001b[39m\u001b[33mGirls Girls Girls\u001b[39m\u001b[33m\"\u001b[39m\u001b[33m was used to promote the EP.\u001b[39m\u001b[38;5;130;01m\\n\u001b[39;00m\u001b[33m'\u001b[39m, \u001b[33m'\u001b[39m\u001b[33mAtlantic Records Group is an umbrella label at Warner Music Group that oversee\u001b[39m\u001b[38;5;130;01m\\'\u001b[39;00m\u001b[33ms the labels assigned to its Atlantic Records unit.  In total, the label has nearly three hundred artists on its roster.  As recently, Atlantic Records has made a deal in 2009 with artist Jay Z to distribute his \u001b[39m\u001b[33m\"\u001b[39m\u001b[33mThe Blueprint 3\u001b[39m\u001b[33m\"\u001b[39m\u001b[33m album, as it\u001b[39m\u001b[38;5;130;01m\\'\u001b[39;00m\u001b[33ms not only self-distributed by Atlantic Records, his music videos on YouTube are distributed and partially owned by Atlantic Records, as all of his music under the Atlantic Records contract is not played on Vevo.\u001b[39m\u001b[38;5;130;01m\\n\u001b[39;00m\u001b[33m'\u001b[39m, \u001b[33m'\u001b[39m\u001b[33m\"\u001b[39m\u001b[33m(I Don\u001b[39m\u001b[38;5;130;01m\\'\u001b[39;00m\u001b[33mt Want to Go to) Chelsea\u001b[39m\u001b[33m\"\u001b[39m\u001b[33m is a 1978 song by Elvis Costello.  Released as a single from his album \u001b[39m\u001b[33m\"\u001b[39m\u001b[33mThis Year\u001b[39m\u001b[38;5;130;01m\\'\u001b[39;00m\u001b[33ms Model\u001b[39m\u001b[33m\"\u001b[39m\u001b[33m, it reached No. 16 on the UK Singles Chart.  In his album notes for \u001b[39m\u001b[33m\"\u001b[39m\u001b[33mGirls Girls Girls\u001b[39m\u001b[33m\"\u001b[39m\u001b[33m, Costello wrote that the song \u001b[39m\u001b[33m\"\u001b[39m\u001b[33m[m]ight have been just a poor relation to \u001b[39m\u001b[38;5;130;01m\\'\u001b[39;00m\u001b[33mAll of the Day (and All of the Night)\u001b[39m\u001b[38;5;130;01m\\'\u001b[39;00m\u001b[33m, \u001b[39m\u001b[38;5;130;01m\\'\u001b[39;00m\u001b[33mI Can\u001b[39m\u001b[38;5;130;01m\\'\u001b[39;00m\u001b[33mt Explain\u001b[39m\u001b[38;5;130;01m\\'\u001b[39;00m\u001b[33m or even \u001b[39m\u001b[38;5;130;01m\\'\u001b[39;00m\u001b[33mClash City Rockers\u001b[39m\u001b[38;5;130;01m\\'\u001b[39;00m\u001b[33m had it not been for Bruce Thomas\u001b[39m\u001b[38;5;130;01m\\'\u001b[39;00m\u001b[33m great bassline.  Meanwhile I was trying to fit in this lick from an old Pioneers record, though which one I can\u001b[39m\u001b[38;5;130;01m\\'\u001b[39;00m\u001b[33mt recall.\u001b[39m\u001b[33m\"\u001b[39m\u001b[38;5;130;01m\\n\u001b[39;00m\u001b[33m'\u001b[39m, \u001b[33m'\u001b[39m\u001b[33mAtlantic Recording Corporation (simply known as Atlantic Records) is an American major record label founded in October 1947 by Ahmet Ertegün and Herb Abramson.  Over its first 20 years of operation, Atlantic Records earned a reputation as one of the most important American recording labels, specializing in jazz, R&B and soul recordings by African-American musicians including Aretha Franklin, Ray Charles, Wilson Pickett, Sam and Dave, Ruth Brown and Otis Redding, a position greatly enhanced by its distribution deal with Stax Records.  In 1967, Atlantic Records became a wholly owned subsidiary of Warner Bros.-Seven Arts, now the Warner Music Group, and expanded into rock and pop music with releases by bands such as Led Zeppelin and Yes.\u001b[39m\u001b[33m'\u001b[39m]\n\u001b[32m      2\u001b[39m test = \u001b[33mf\u001b[39m\u001b[33m\"\u001b[39m\u001b[38;5;132;01m{\u001b[39;00mtest\u001b[38;5;132;01m}\u001b[39;00m\u001b[33m\"\u001b[39m\n\u001b[32m----> \u001b[39m\u001b[32m3\u001b[39m \u001b[43mtest\u001b[49m\u001b[43m.\u001b[49m\u001b[43mtolist\u001b[49m()\n",
      "\u001b[31mAttributeError\u001b[39m: 'str' object has no attribute 'tolist'"
     ]
    }
   ],
   "source": [
    "test = ['\"Girls Girls\" (stylized as \"GIRLS GIRLS\") is a song by Swedish electropop duo Icona Pop.  It was written by Litens Anton Nilsson, Icona Pop, Marcus Andersson, Tove Lo, Emma Bertilsson and Johan Gustafson, with the latter one handling the song\\'s production.  It was released commercially for digital download on 16 June 2017, through TEN Music Group, Atlantic Records and Warner Music Group, as the duo\\'s first single of 2017.\\n', 'Wonder World is the second studio album by South Korean pop girl group Wonder Girls.  It was released on November 7, 2011.  It was produced by Park Jin-Young.  \"Be My Baby\" served as the lead single from album.  Both album and single were commercial success.  Album was promoted with a \"Wonder World Tour\" in 2012.  Members were more involved in songwriting in production: Park Yeeun wrote and produced \"G.N.O.\" and \"Me, In\", Kim Yubin wrote \"Girls Girls\", \"Me, In\" and \"Sweet Dreams\" while Woo Hyelim wrote and produced her solo song \"Act Cool\", featuring San E.  Members also recorded duets: Min Sunye and Yeeun recorded \"Long Long Time\" while Yubin and Ahn Sohee recorded \"SuperB\".\\n', 'Girls Girls (Korean: 여자여자 , often stylized as GIRLS GIRLS) debuted as five-member South Korean girl group formed by H Brothers Entertainment.  They debuted on December 9, 2015, with a single-album titled \"Deal\".  This single-album is containing two songs - \"Deal(딜)\" and \"GIRLS GIRLS(여자여자)\".  In the middle of 2016, Gyurang left the group to focus on her solo activities.  On October 10, 2016 they released their 2nd single album called \"Juicy Secret\" which contains one song called \"Juicy Secret(쥬시시크릿)\".\\n', 'Ferras Alqaisi ( ; born July 2, 1982) is an American singer-songwriter from Los Angeles, California.  He is well known for his single \"Hollywood\\'s Not America\" from his debut album \"Aliens & Rainbows\", which was featured as the exit song during the semi-final round of \"American Idol\" season 7.  He is signed with Unsub Records, a subsidiary of Capitol Records founded by Katy Perry, being the first artist to sign with her label.  In June 2014 he released his self-titled EP through the label.\\n', 'Atlantic Records UK was founded in June 2004 when Warner Music Group bought East West Records from Time Warner and rebranded its UK operation.  The first Chairman was Max Lousada, previously Head of A&R at Mushroom Records UK.  In 2011 Atlantic Records UK was named Label of the Year at the Music Week Awards.  In the same year The Guardian put Lousada joint 20th in its \"Music Power 100\" list of influential figures in the UK music industry.  He shared his place with John Reid and Christian Tattersfield, both from Warner.  In October 2011, the7stars advertising agency announced it had won a pitch to handle Atlantic Records UK\\'s £2 million media planning and buying account, taking over from ZenithOptimedia.  In 2014, Ben Cook was appointed President, Atlantic Records UK, reporting to Lousada.\\n', 'Got7, a hip hop boy group based in South Korea, have released three studio albums, six EPs, thirteen singles, and two box sets. Formed by JYP Entertainment in 2013, Got7 made their debut in January 2014 with the EP \"Got It? \", which debuted at number two on the Gaon Albums Chart.  The EP\\'s lead single \"Girls Girls Girls\" peaked at number 21 on the Gaon Singles Chart.  In October 2014, Got7 debuted in Japan with their first Japanese-language release \"Around the World\", peaking at number three on the Oricon\\'s singles charts.  A month later, Got7 returned to Korea to release their first full-length album \"Identify\", and topped album charts.\\n', 'Got It?  is the debut extended play by South Korean boy band Got7.  It was released on January 16, 2014.  The song \"Girls Girls Girls\" was used to promote the EP.\\n', 'Atlantic Records Group is an umbrella label at Warner Music Group that oversee\\'s the labels assigned to its Atlantic Records unit.  In total, the label has nearly three hundred artists on its roster.  As recently, Atlantic Records has made a deal in 2009 with artist Jay Z to distribute his \"The Blueprint 3\" album, as it\\'s not only self-distributed by Atlantic Records, his music videos on YouTube are distributed and partially owned by Atlantic Records, as all of his music under the Atlantic Records contract is not played on Vevo.\\n', '\"(I Don\\'t Want to Go to) Chelsea\" is a 1978 song by Elvis Costello.  Released as a single from his album \"This Year\\'s Model\", it reached No. 16 on the UK Singles Chart.  In his album notes for \"Girls Girls Girls\", Costello wrote that the song \"[m]ight have been just a poor relation to \\'All of the Day (and All of the Night)\\', \\'I Can\\'t Explain\\' or even \\'Clash City Rockers\\' had it not been for Bruce Thomas\\' great bassline.  Meanwhile I was trying to fit in this lick from an old Pioneers record, though which one I can\\'t recall.\"\\n', 'Atlantic Recording Corporation (simply known as Atlantic Records) is an American major record label founded in October 1947 by Ahmet Ertegün and Herb Abramson.  Over its first 20 years of operation, Atlantic Records earned a reputation as one of the most important American recording labels, specializing in jazz, R&B and soul recordings by African-American musicians including Aretha Franklin, Ray Charles, Wilson Pickett, Sam and Dave, Ruth Brown and Otis Redding, a position greatly enhanced by its distribution deal with Stax Records.  In 1967, Atlantic Records became a wholly owned subsidiary of Warner Bros.-Seven Arts, now the Warner Music Group, and expanded into rock and pop music with releases by bands such as Led Zeppelin and Yes.']\n",
    "test = f\"{test}\"\n",
    "test.tolist()"
   ]
  },
  {
   "cell_type": "markdown",
   "id": "1c72114d",
   "metadata": {},
   "source": [
    "## NDCG Scoring"
   ]
  },
  {
   "cell_type": "code",
   "execution_count": 2,
   "id": "9a1df59a",
   "metadata": {},
   "outputs": [],
   "source": [
    "import numpy as np\n",
    "from sklearn.metrics import ndcg_score"
   ]
  },
  {
   "cell_type": "code",
   "execution_count": 7,
   "id": "636435b9",
   "metadata": {},
   "outputs": [
    {
     "name": "stdout",
     "output_type": "stream",
     "text": [
      "score with wss32:  0.9761219717376033\n",
      "score with contextCite32:  0.973356488290674\n"
     ]
    }
   ],
   "source": [
    "exact_shap_score = [ 7.28458438,  4.61024789,  1.12222367,  4.46217897,  6.01809617,                                                                                                                                    \n",
    "        9.01740065, 51.42986124, -3.03477679,  3.25840788,  3.25840788]\n",
    "exact_shap_score = np.clip(exact_shap_score, a_min=0, a_max=None)\n",
    "wss32_score = [ 3.99569727, 14.96310279,  2.56118023,  1.7651463 ,  4.74337511,\n",
    "        3.82272672, 48.92864721, -0.35338783,  4.72189731,  2.27824682]\n",
    "context_cite32 = [ 3.16083134, 14.04952142,  1.7000356 ,  0.91405258,  3.75751841,\n",
    "        3.00394725, 48.00304627, -1.17642462,  3.90705701,  1.30896562]\n",
    "\n",
    "print(\"score with wss32: \", ndcg_score([exact_shap_score], [wss32_score]))\n",
    "print(\"score with contextCite32: \", ndcg_score([exact_shap_score], [context_cite32]))"
   ]
  },
  {
   "cell_type": "markdown",
   "id": "a638d136",
   "metadata": {},
   "source": [
    "### Metric : Kendall tau"
   ]
  },
  {
   "cell_type": "code",
   "execution_count": 20,
   "id": "fe0030c1",
   "metadata": {},
   "outputs": [
    {
     "name": "stdout",
     "output_type": "stream",
     "text": [
      "Kendall's Tau: 0.4045, p-value: 0.1060\n"
     ]
    }
   ],
   "source": [
    "from scipy.stats import rankdata, kendalltau\n",
    "\n",
    "exact_shap_score = [ 7.28458438,  4.61024789,  1.12222367,  4.46217897,  6.01809617,                                                                                                                                    \n",
    "        9.01740065, 51.42986124, -3.03477679,  3.25840788,  3.25840788]\n",
    "wss32_score = [ 3.99569727, 14.96310279,  2.56118023,  1.7651463 ,  4.74337511,\n",
    "        3.82272672, 48.92864721, -0.35338783,  4.72189731,  2.27824682]\n",
    "\n",
    "context_cite32 = [ 3.16083134, 14.04952142,  1.7000356 ,  0.91405258,  3.75751841,\n",
    "        3.00394725, 48.00304627, -1.17642462,  3.90705701,  1.30896562]\n",
    "\n",
    "exact_ranks = rankdata([-x for x in exact_shap_score], method='average')\n",
    "approx_ranks = rankdata([-x for x in context_cite32], method='average')\n",
    "\n",
    "tau, pval = kendalltau(exact_ranks, approx_ranks)\n",
    "print(f\"Kendall's Tau: {tau:.4f}, p-value: {pval:.4f}\")\n",
    "\n",
    "# Kendall's Tau: 0.4495, p-value: 0.0725"
   ]
  },
  {
   "cell_type": "markdown",
   "id": "a0ef369a",
   "metadata": {},
   "source": [
    "## Negative Document Identification"
   ]
  },
  {
   "cell_type": "code",
   "execution_count": 44,
   "id": "9e9bff67",
   "metadata": {},
   "outputs": [],
   "source": [
    "df = pd.read_parquet(\"hotpotQA.parquet\")\n",
    "\n",
    "df[\"citation_size\"] = df[\"citations\"].apply(lambda x: len(x))\n",
    "\n",
    "def extract_titles(text) : \n",
    "    return re.findall(r\"Title:\\s*(.*?)\\nPassage:\", text)\n",
    "\n",
    "df[\"context_citations\"] = df[\"context\"].apply(lambda x: extract_titles(x))\n",
    "\n",
    "def flag_documents(all_citations, pos_citations) : \n",
    "    flags = []\n",
    "    for elem in all_citations: \n",
    "        if elem in pos_citations: \n",
    "            flags.append(\"P\")\n",
    "        else: \n",
    "            flags.append(\"N\")\n",
    "    return flags\n",
    "\n",
    "df[\"documents_flag\"] = df[[\"context_citations\", \"citations\"]].apply(lambda x: flag_documents(x[\"context_citations\"], x[\"citations\"]), axis=1)"
   ]
  }
 ],
 "metadata": {
  "kernelspec": {
   "display_name": "XAI",
   "language": "python",
   "name": "python3"
  },
  "language_info": {
   "codemirror_mode": {
    "name": "ipython",
    "version": 3
   },
   "file_extension": ".py",
   "mimetype": "text/x-python",
   "name": "python",
   "nbconvert_exporter": "python",
   "pygments_lexer": "ipython3",
   "version": "3.12.9"
  }
 },
 "nbformat": 4,
 "nbformat_minor": 5
}
