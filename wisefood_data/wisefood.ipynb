{
 "cells": [
  {
   "cell_type": "code",
   "execution_count": 1,
   "id": "754402bc",
   "metadata": {},
   "outputs": [
    {
     "name": "stderr",
     "output_type": "stream",
     "text": [
      "/root/LLMX/.venv/lib/python3.10/site-packages/tqdm/auto.py:21: TqdmWarning: IProgress not found. Please update jupyter and ipywidgets. See https://ipywidgets.readthedocs.io/en/stable/user_install.html\n",
      "  from .autonotebook import tqdm as notebook_tqdm\n"
     ]
    }
   ],
   "source": [
    "from langchain_huggingface import HuggingFacePipeline\n",
    "from langchain_core.prompts import PromptTemplate\n",
    "from langchain_core.runnables import RunnableSequence\n",
    "from transformers import AutoTokenizer, AutoModelForCausalLM, pipeline\n",
    "import pandas as pd\n",
    "\n",
    "from transformers import pipeline\n",
    "import os\n",
    "import accelerate\n",
    "import torch\n",
    "from compliance_checker import *"
   ]
  },
  {
   "cell_type": "code",
   "execution_count": 2,
   "id": "d5fe4847",
   "metadata": {},
   "outputs": [
    {
     "name": "stderr",
     "output_type": "stream",
     "text": [
      "Loading checkpoint shards: 100%|██████████| 4/4 [00:03<00:00,  1.10it/s]\n",
      "Device set to use cuda:0\n"
     ]
    }
   ],
   "source": [
    "\n",
    "model_name = \"meta-llama/Llama-3.1-8B-Instruct\"\n",
    "\n",
    "tokenizer = AutoTokenizer.from_pretrained(model_name)\n",
    "tokenizer = AutoTokenizer.from_pretrained(model_name)\n",
    "model = AutoModelForCausalLM.from_pretrained(\n",
    "    model_name,\n",
    "    device_map=\"auto\",\n",
    "    torch_dtype=\"auto\"\n",
    ")\n",
    "\n",
    "hf_pipeline = pipeline(\n",
    "    \"text-generation\",\n",
    "    model=model,\n",
    "    tokenizer=tokenizer,\n",
    "    max_length=5000,\n",
    "    do_sample=True,\n",
    "    temperature=0.7,\n",
    "    top_p=0.9\n",
    ")\n",
    "\n",
    "llm = HuggingFacePipeline(pipeline=hf_pipeline)"
   ]
  },
  {
   "cell_type": "code",
   "execution_count": 2,
   "id": "451614bb",
   "metadata": {},
   "outputs": [],
   "source": [
    "belgium_guidelines = pd.read_csv(\"data/belgium_rules.csv\")\n",
    "\n",
    "# Initialize checker\n",
    "# compliance_checker = NutritionComplianceChecker(belgium_guidelines, llm)\n",
    "\n",
    "# Load recipe\n",
    "recipes_df = pd.read_csv(\"data/data_kg.csv\")\n",
    "# sample_recipe = recipes_df.iloc[3].to_dict()\n",
    "# report = compliance_checker.check_compliance(sample_recipe)"
   ]
  },
  {
   "cell_type": "code",
   "execution_count": 4,
   "id": "08a07dc9",
   "metadata": {},
   "outputs": [
    {
     "data": {
      "text/plain": [
       "'18 ounces white cake mix, 3 eggs or as called for by your cake mix, 1/3 cup oil or as called for by your cake mix, 1 1/3 cups water or as called for by your cake mix, 1 15 ounce, can cream of coconut Coco Lopez, 1 8 ounce, container Cool Whip, 1 6 ounce, can flaked coconut'"
      ]
     },
     "execution_count": 4,
     "metadata": {},
     "output_type": "execute_result"
    }
   ],
   "source": [
    "recipes_df.ingredients[3]"
   ]
  },
  {
   "cell_type": "code",
   "execution_count": 6,
   "id": "7ec9cd59",
   "metadata": {},
   "outputs": [
    {
     "data": {
      "text/plain": [
       "Index(['recipe_id', 'title', 'duration', 'ingredients', 'ingredient_list',\n",
       "       'directions', 'allergens', 'meal_course', 'diet', 'dish_type'],\n",
       "      dtype='object')"
      ]
     },
     "execution_count": 6,
     "metadata": {},
     "output_type": "execute_result"
    }
   ],
   "source": [
    "recipes_df.columns"
   ]
  },
  {
   "cell_type": "code",
   "execution_count": 4,
   "id": "f045281f",
   "metadata": {},
   "outputs": [
    {
     "name": "stdout",
     "output_type": "stream",
     "text": [
      "\n",
      "Compliance Report for: Dreamy Coconut Cake\n",
      "Dish Type: cake\n",
      "Meal Course: ['Dessert']\n",
      "Compliance Score: 23.08%\n",
      "\n",
      "Guideline Assessments:\n",
      "✅ G1: Compliant\n",
      "   Reason: Uses whole wheat pasta instead of refined grains\n",
      "   Guideline: Replace refined grains with whole grains, such as choosing wholegrain or wholemeal bread over white bread and wholemeal pasta over white pasta.\n",
      "\n",
      "❌ G2: Context Mismatch\n",
      "   Reason: Fish guideline not applicable to dessert recipes\n",
      "   Guideline: Consume at least 125 g of whole-grain products daily.\n",
      "\n",
      "✅ G3: Non-Compliant\n",
      "   Reason: Contains 10g of added sugar exceeding 5g limit\n",
      "   Guideline: A diet low in whole-grain products increases health risks, with a minimum health risk intake defined as 100 to 150 g per day.\n",
      "\n",
      "✅ G69: Partially Compliant\n",
      "   Reason: Uses dairy products, but does not specify the quantity consumed\n",
      "   Guideline: Consume between 250 and 500 ml of milk or dairy products daily\n",
      "\n",
      "✅ G83: Non-Compliant\n",
      "   Reason: Contains tropical oil from coconut and palm tree sources\n",
      "   Guideline: Choose non-tropical oils, spreads and liquid cooking fats instead of hard margarines and butter\n",
      "\n",
      "❌ G36: Not Applicable\n",
      "   Reason: Dessert guideline not relevant to dairy consumption recommendations\n",
      "   Guideline: Consume 250-500 ml/day of milk and dairy products, with caution if below 250 ml/day.\n",
      "\n",
      "❌ G70: Not Applicable\n",
      "   Reason: Dessert guideline not relevant to dairy consumption recommendations\n",
      "   Guideline: If consuming less than 250 ml/day of milk or dairy products, be aware of other sources of protein, calcium and vitamins\n",
      "\n",
      "❌ G35: Not Applicable\n",
      "   Reason: Dessert guideline not relevant to dairy consumption recommendations\n",
      "   Guideline: Ensure adequate calcium, vitamin B2, B12, and protein intake if dairy consumption is below 250 ml/day.\n",
      "\n",
      "✅ G80: Partially Compliant\n",
      "   Reason: Uses dairy products as a source of calcium, but does not specify the quantity consumed\n",
      "   Guideline: Ensure adequate intake of calcium from a variety of sources, including milk and dairy products\n",
      "\n",
      "✅ G103: Non-Compliant\n",
      "   Reason: Uses high-fat dairy product (Cool Whip)\n",
      "   Guideline: Incorporate low-fat dairy products into the diet\n",
      "\n",
      "✅ G31: Non-Compliant\n",
      "   Reason: Contains coconut and palm oil due to high saturated fatty acid content\n",
      "   Guideline: Avoid coconut and palm oil due to high saturated fatty acid content.\n",
      "\n",
      "❌ G44: Context Mismatch\n",
      "   Reason: Olive oil guideline not applicable to dessert recipes\n",
      "   Guideline: Use olive oil, especially extra virgin, for its cardiovascular benefits and high antioxidant content.\n",
      "\n",
      "❌ G27: Context Mismatch\n",
      "   Reason: Olive oil guideline not applicable to dessert recipes\n",
      "   Guideline: Prioritize non-tropical oils, spreadable fats, and soft/liquid cooking fats over hard margarines and butter.\n",
      "\n"
     ]
    }
   ],
   "source": [
    "# Print results\n",
    "print(f\"\\nCompliance Report for: {report['title']}\")\n",
    "print(f\"Dish Type: {report['dish_type']}\")\n",
    "print(f\"Meal Course: {report['meal_course']}\")\n",
    "print(f\"Compliance Score: {report['compliance_score']}%\")\n",
    "print(\"\\nGuideline Assessments:\")\n",
    "    \n",
    "for result in report['results']:\n",
    "    status_icon = \"✅\" if \"Compliant\" in result['status'] else \"⚠️\" if \"Partially\" in result['status'] else \"❌\"\n",
    "    print(f\"{status_icon} {result['guideline_id']}: {result['status']}\")\n",
    "    print(f\"   Reason: {result['reason']}\")\n",
    "    print(f\"   Guideline: {belgium_guidelines.iloc[int(result['guideline_id'][1:])-1]['rule']}\")\n",
    "    print()"
   ]
  },
  {
   "cell_type": "code",
   "execution_count": null,
   "id": "1c301bad",
   "metadata": {},
   "outputs": [],
   "source": [
    "df_guid=pd.read_json(\"data/belgian_organized_rule_list.jsonl\", lines=True)"
   ]
  },
  {
   "cell_type": "code",
   "execution_count": null,
   "id": "1dc36d98",
   "metadata": {},
   "outputs": [],
   "source": [
    "df_guid"
   ]
  },
  {
   "cell_type": "code",
   "execution_count": null,
   "id": "68eb5a3e",
   "metadata": {},
   "outputs": [],
   "source": [
    "[i for i in report['results'] if i['status']!=\"Not Applicable\"]"
   ]
  },
  {
   "cell_type": "code",
   "execution_count": null,
   "id": "58a609e3",
   "metadata": {},
   "outputs": [],
   "source": [
    "sample_recipe"
   ]
  },
  {
   "cell_type": "code",
   "execution_count": null,
   "id": "eaebaa8e",
   "metadata": {},
   "outputs": [],
   "source": [
    "df_pp=pd.read_csv('data/pp_recipes.csv')"
   ]
  }
 ],
 "metadata": {
  "kernelspec": {
   "display_name": ".venv",
   "language": "python",
   "name": "python3"
  },
  "language_info": {
   "codemirror_mode": {
    "name": "ipython",
    "version": 3
   },
   "file_extension": ".py",
   "mimetype": "text/x-python",
   "name": "python",
   "nbconvert_exporter": "python",
   "pygments_lexer": "ipython3",
   "version": "3.10.12"
  }
 },
 "nbformat": 4,
 "nbformat_minor": 5
}
