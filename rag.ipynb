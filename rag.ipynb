{
 "cells": [
  {
   "cell_type": "code",
   "execution_count": 19,
   "metadata": {},
   "outputs": [],
   "source": [
    "from utils import connect_elasticsearch, retrieve_documents, generate_response, generate_responses_parallel\n",
    "from rag_shap import compute_exact_shapley_values,  visualize_shapley_values"
   ]
  },
  {
   "cell_type": "code",
   "execution_count": 2,
   "metadata": {},
   "outputs": [
    {
     "name": "stdout",
     "output_type": "stream",
     "text": [
      "Connected to Elasticsearch!\n"
     ]
    }
   ],
   "source": [
    "# Connect to Elasticsearch\n",
    "es_client = connect_elasticsearch()\n",
    "\n",
    "# Verify the connection\n",
    "if es_client.ping():\n",
    "    print(\"Connected to Elasticsearch!\")\n",
    "else:\n",
    "    print(\"Failed to connect to Elasticsearch.\")"
   ]
  },
  {
   "cell_type": "code",
   "execution_count": 3,
   "metadata": {},
   "outputs": [
    {
     "name": "stdout",
     "output_type": "stream",
     "text": [
      "Document 1:\n",
      "Title: The Susceptibility of Example-Based Explainability Methods to Class\n",
      "  Outliers\n",
      "Abstract:   This study explores the impact of class outliers on the effectiveness of\n",
      "example-based explainability methods for black-box machine learning models. We\n",
      "reformulate existing explainability evaluation metrics, such as correctness and\n",
      "relevance, specifically for example-based methods, and introduce a new metric,\n",
      "distinguishability. Using these metrics, we highlight the shortcomings of\n",
      "current example-based explainability methods, including those who attempt to\n",
      "suppress class outliers. We conduct experiments on two datasets, a text\n",
      "classification dataset and an image classification dataset, and evaluate the\n",
      "performance of four state-of-the-art explainability methods. Our findings\n",
      "underscore the need for robust techniques to tackle the challenges posed by\n",
      "class outliers.\n",
      "\n",
      "--------------------------------------------------------------------------------\n",
      "Document 2:\n",
      "Title: Algebraic Adversarial Attacks on Integrated Gradients\n",
      "Abstract:   Adversarial attacks on explainability models have drastic consequences when\n",
      "explanations are used to understand the reasoning of neural networks in safety\n",
      "critical systems. Path methods are one such class of attribution methods\n",
      "susceptible to adversarial attacks. Adversarial learning is typically phrased\n",
      "as a constrained optimisation problem. In this work, we propose algebraic\n",
      "adversarial examples and study the conditions under which one can generate\n",
      "adversarial examples for integrated gradients. Algebraic adversarial examples\n",
      "provide a mathematically tractable approach to adversarial examples.\n",
      "\n",
      "--------------------------------------------------------------------------------\n",
      "Document 3:\n",
      "Title: Robust and Explainable Autoencoders for Unsupervised Time Series Outlier\n",
      "  Detection---Extended Version\n",
      "Abstract:   Time series data occurs widely, and outlier detection is a fundamental\n",
      "problem in data mining, which has numerous applications. Existing\n",
      "autoencoder-based approaches deliver state-of-the-art performance on\n",
      "challenging real-world data but are vulnerable to outliers and exhibit low\n",
      "explainability. To address these two limitations, we propose robust and\n",
      "explainable unsupervised autoencoder frameworks that decompose an input time\n",
      "series into a clean time series and an outlier time series using autoencoders.\n",
      "Improved explainability is achieved because clean time series are better\n",
      "explained with easy-to-understand patterns such as trends and periodicities. We\n",
      "provide insight into this by means of a post-hoc explainability analysis and\n",
      "empirical studies. In addition, since outliers are separated from clean time\n",
      "series iteratively, our approach offers improved robustness to outliers, which\n",
      "in turn improves accuracy. We evaluate our approach on five real-world datasets\n",
      "and report improvements over the state-of-the-art approaches in terms of\n",
      "robustness and explainability.\n",
      "  This is an extended version of \"Robust and Explainable Autoencoders for\n",
      "Unsupervised Time Series Outlier Detection\", to appear in IEEE ICDE 2022.\n",
      "\n",
      "--------------------------------------------------------------------------------\n"
     ]
    }
   ],
   "source": [
    "query = \"Are explainability methods susceptible to class outliers?\"\n",
    "\n",
    "# Retrieve relevant documents\n",
    "index_name = \"arxiv_papers\"\n",
    "documents = retrieve_documents(es_client, index_name, query, top_k=3)\n",
    "\n",
    "# Display the retrieved documents\n",
    "for i, doc in enumerate(documents):\n",
    "    print(f\"Document {i+1}:\")\n",
    "    print(f\"Title: {doc['title']}\")\n",
    "    print(f\"Abstract: {doc['abstract']}\")\n",
    "    print(\"-\" * 80)"
   ]
  },
  {
   "cell_type": "code",
   "execution_count": 18,
   "metadata": {},
   "outputs": [
    {
     "data": {
      "text/plain": [
       "[{'id': '2204.03341',\n",
       "  'submitter': 'Tung Kieu',\n",
       "  'authors': 'Tung Kieu, Bin Yang, Chenjuan Guo, Christian S. Jensen, Yan Zhao,\\n  Feiteng Huang, Kai Zheng',\n",
       "  'title': 'Robust and Explainable Autoencoders for Unsupervised Time Series Outlier\\n  Detection---Extended Version',\n",
       "  'comments': 'This paper has been accepted by IEEE ICDE 2022',\n",
       "  'journal-ref': None,\n",
       "  'doi': None,\n",
       "  'report-no': None,\n",
       "  'categories': 'cs.LG cs.DB',\n",
       "  'license': 'http://creativecommons.org/licenses/by-nc-sa/4.0/',\n",
       "  'abstract': '  Time series data occurs widely, and outlier detection is a fundamental\\nproblem in data mining, which has numerous applications. Existing\\nautoencoder-based approaches deliver state-of-the-art performance on\\nchallenging real-world data but are vulnerable to outliers and exhibit low\\nexplainability. To address these two limitations, we propose robust and\\nexplainable unsupervised autoencoder frameworks that decompose an input time\\nseries into a clean time series and an outlier time series using autoencoders.\\nImproved explainability is achieved because clean time series are better\\nexplained with easy-to-understand patterns such as trends and periodicities. We\\nprovide insight into this by means of a post-hoc explainability analysis and\\nempirical studies. In addition, since outliers are separated from clean time\\nseries iteratively, our approach offers improved robustness to outliers, which\\nin turn improves accuracy. We evaluate our approach on five real-world datasets\\nand report improvements over the state-of-the-art approaches in terms of\\nrobustness and explainability.\\n  This is an extended version of \"Robust and Explainable Autoencoders for\\nUnsupervised Time Series Outlier Detection\", to appear in IEEE ICDE 2022.\\n',\n",
       "  'versions': [{'version': 'v1', 'created': 'Thu, 7 Apr 2022 10:24:12 GMT'}],\n",
       "  'update_date': '2022-04-08',\n",
       "  'authors_parsed': [['Kieu', 'Tung', ''],\n",
       "   ['Yang', 'Bin', ''],\n",
       "   ['Guo', 'Chenjuan', ''],\n",
       "   ['Jensen', 'Christian S.', ''],\n",
       "   ['Zhao', 'Yan', ''],\n",
       "   ['Huang', 'Feiteng', ''],\n",
       "   ['Zheng', 'Kai', '']]},\n",
       " {'id': '2407.16233',\n",
       "  'submitter': 'Lachlan Simpson',\n",
       "  'authors': 'Lachlan Simpson, Federico Costanza, Kyle Millar, Adriel Cheng,\\n  Cheng-Chew Lim, Hong Gunn Chew',\n",
       "  'title': 'Algebraic Adversarial Attacks on Integrated Gradients',\n",
       "  'comments': None,\n",
       "  'journal-ref': None,\n",
       "  'doi': None,\n",
       "  'report-no': None,\n",
       "  'categories': 'cs.LG math.GR',\n",
       "  'license': 'http://creativecommons.org/licenses/by-nc-sa/4.0/',\n",
       "  'abstract': '  Adversarial attacks on explainability models have drastic consequences when\\nexplanations are used to understand the reasoning of neural networks in safety\\ncritical systems. Path methods are one such class of attribution methods\\nsusceptible to adversarial attacks. Adversarial learning is typically phrased\\nas a constrained optimisation problem. In this work, we propose algebraic\\nadversarial examples and study the conditions under which one can generate\\nadversarial examples for integrated gradients. Algebraic adversarial examples\\nprovide a mathematically tractable approach to adversarial examples.\\n',\n",
       "  'versions': [{'version': 'v1', 'created': 'Tue, 23 Jul 2024 07:17:45 GMT'}],\n",
       "  'update_date': '2024-07-24',\n",
       "  'authors_parsed': [['Simpson', 'Lachlan', ''],\n",
       "   ['Costanza', 'Federico', ''],\n",
       "   ['Millar', 'Kyle', ''],\n",
       "   ['Cheng', 'Adriel', ''],\n",
       "   ['Lim', 'Cheng-Chew', ''],\n",
       "   ['Chew', 'Hong Gunn', '']]},\n",
       " {'id': '2407.20678',\n",
       "  'submitter': 'Ikhtiyor Nematov Mr',\n",
       "  'authors': 'Ikhtiyor Nematov, Dimitris Sacharidis, Tomer Sagi, Katja Hose',\n",
       "  'title': 'The Susceptibility of Example-Based Explainability Methods to Class\\n  Outliers',\n",
       "  'comments': 'arXiv admin note: text overlap with arXiv:2407.16010',\n",
       "  'journal-ref': None,\n",
       "  'doi': None,\n",
       "  'report-no': None,\n",
       "  'categories': 'cs.LG',\n",
       "  'license': 'http://creativecommons.org/licenses/by/4.0/',\n",
       "  'abstract': '  This study explores the impact of class outliers on the effectiveness of\\nexample-based explainability methods for black-box machine learning models. We\\nreformulate existing explainability evaluation metrics, such as correctness and\\nrelevance, specifically for example-based methods, and introduce a new metric,\\ndistinguishability. Using these metrics, we highlight the shortcomings of\\ncurrent example-based explainability methods, including those who attempt to\\nsuppress class outliers. We conduct experiments on two datasets, a text\\nclassification dataset and an image classification dataset, and evaluate the\\nperformance of four state-of-the-art explainability methods. Our findings\\nunderscore the need for robust techniques to tackle the challenges posed by\\nclass outliers.\\n',\n",
       "  'versions': [{'version': 'v1', 'created': 'Tue, 30 Jul 2024 09:20:15 GMT'},\n",
       "   {'version': 'v2', 'created': 'Thu, 1 Aug 2024 14:09:12 GMT'}],\n",
       "  'update_date': '2024-08-02',\n",
       "  'authors_parsed': [['Nematov', 'Ikhtiyor', ''],\n",
       "   ['Sacharidis', 'Dimitris', ''],\n",
       "   ['Sagi', 'Tomer', ''],\n",
       "   ['Hose', 'Katja', '']]}]"
      ]
     },
     "execution_count": 18,
     "metadata": {},
     "output_type": "execute_result"
    }
   ],
   "source": [
    "documents[]"
   ]
  },
  {
   "cell_type": "code",
   "execution_count": 20,
   "metadata": {},
   "outputs": [
    {
     "name": "stdout",
     "output_type": "stream",
     "text": [
      "Response:\n",
      "Yes, explainability methods are susceptible to class outliers. This is highlighted in the abstract \"The Susceptibility of Example-Based Explainability Methods to Class Outliers\". The study shows that current example-based explainability methods can be ineffective when faced with class outliers and attempts to suppress them are not sufficient.\n"
     ]
    }
   ],
   "source": [
    "num_workers = 4  # Match OLLAMA_NUM_PARALLEL\n",
    "response = generate_response(query, documents)\n",
    "\n",
    "# Display the response\n",
    "print(\"Response:\")\n",
    "print(response)"
   ]
  },
  {
   "cell_type": "code",
   "execution_count": 21,
   "metadata": {},
   "outputs": [
    {
     "name": "stdout",
     "output_type": "stream",
     "text": [
      "Response:\n",
      "Yes, example-based explainability methods are susceptible to class outliers. The study highlights that current example-based explainability methods, including those that attempt to suppress class outliers, have shortcomings and are not effective in handling the challenges posed by class outliers.\n"
     ]
    }
   ],
   "source": [
    "num_workers = 4  # Match OLLAMA_NUM_PARALLEL\n",
    "response = generate_response(query, documents[-1:])\n",
    "\n",
    "# Display the response\n",
    "print(\"Response:\")\n",
    "print(response)"
   ]
  },
  {
   "cell_type": "code",
   "execution_count": 27,
   "metadata": {},
   "outputs": [
    {
     "data": {
      "text/plain": [
       "[{'id': '2407.20678',\n",
       "  'submitter': 'Ikhtiyor Nematov Mr',\n",
       "  'authors': 'Ikhtiyor Nematov, Dimitris Sacharidis, Tomer Sagi, Katja Hose',\n",
       "  'title': 'The Susceptibility of Example-Based Explainability Methods to Class\\n  Outliers',\n",
       "  'comments': 'arXiv admin note: text overlap with arXiv:2407.16010',\n",
       "  'journal-ref': None,\n",
       "  'doi': None,\n",
       "  'report-no': None,\n",
       "  'categories': 'cs.LG',\n",
       "  'license': 'http://creativecommons.org/licenses/by/4.0/',\n",
       "  'abstract': '  This study explores the impact of class outliers on the effectiveness of\\nexample-based explainability methods for black-box machine learning models. We\\nreformulate existing explainability evaluation metrics, such as correctness and\\nrelevance, specifically for example-based methods, and introduce a new metric,\\ndistinguishability. Using these metrics, we highlight the shortcomings of\\ncurrent example-based explainability methods, including those who attempt to\\nsuppress class outliers. We conduct experiments on two datasets, a text\\nclassification dataset and an image classification dataset, and evaluate the\\nperformance of four state-of-the-art explainability methods. Our findings\\nunderscore the need for robust techniques to tackle the challenges posed by\\nclass outliers.\\n',\n",
       "  'versions': [{'version': 'v1', 'created': 'Tue, 30 Jul 2024 09:20:15 GMT'},\n",
       "   {'version': 'v2', 'created': 'Thu, 1 Aug 2024 14:09:12 GMT'}],\n",
       "  'update_date': '2024-08-02',\n",
       "  'authors_parsed': [['Nematov', 'Ikhtiyor', ''],\n",
       "   ['Sacharidis', 'Dimitris', ''],\n",
       "   ['Sagi', 'Tomer', ''],\n",
       "   ['Hose', 'Katja', '']]},\n",
       " {'id': '2407.16233',\n",
       "  'submitter': 'Lachlan Simpson',\n",
       "  'authors': 'Lachlan Simpson, Federico Costanza, Kyle Millar, Adriel Cheng,\\n  Cheng-Chew Lim, Hong Gunn Chew',\n",
       "  'title': 'Algebraic Adversarial Attacks on Integrated Gradients',\n",
       "  'comments': None,\n",
       "  'journal-ref': None,\n",
       "  'doi': None,\n",
       "  'report-no': None,\n",
       "  'categories': 'cs.LG math.GR',\n",
       "  'license': 'http://creativecommons.org/licenses/by-nc-sa/4.0/',\n",
       "  'abstract': '  Adversarial attacks on explainability models have drastic consequences when\\nexplanations are used to understand the reasoning of neural networks in safety\\ncritical systems. Path methods are one such class of attribution methods\\nsusceptible to adversarial attacks. Adversarial learning is typically phrased\\nas a constrained optimisation problem. In this work, we propose algebraic\\nadversarial examples and study the conditions under which one can generate\\nadversarial examples for integrated gradients. Algebraic adversarial examples\\nprovide a mathematically tractable approach to adversarial examples.\\n',\n",
       "  'versions': [{'version': 'v1', 'created': 'Tue, 23 Jul 2024 07:17:45 GMT'}],\n",
       "  'update_date': '2024-07-24',\n",
       "  'authors_parsed': [['Simpson', 'Lachlan', ''],\n",
       "   ['Costanza', 'Federico', ''],\n",
       "   ['Millar', 'Kyle', ''],\n",
       "   ['Cheng', 'Adriel', ''],\n",
       "   ['Lim', 'Cheng-Chew', ''],\n",
       "   ['Chew', 'Hong Gunn', '']]},\n",
       " {'id': '2204.03341',\n",
       "  'submitter': 'Tung Kieu',\n",
       "  'authors': 'Tung Kieu, Bin Yang, Chenjuan Guo, Christian S. Jensen, Yan Zhao,\\n  Feiteng Huang, Kai Zheng',\n",
       "  'title': 'Robust and Explainable Autoencoders for Unsupervised Time Series Outlier\\n  Detection---Extended Version',\n",
       "  'comments': 'This paper has been accepted by IEEE ICDE 2022',\n",
       "  'journal-ref': None,\n",
       "  'doi': None,\n",
       "  'report-no': None,\n",
       "  'categories': 'cs.LG cs.DB',\n",
       "  'license': 'http://creativecommons.org/licenses/by-nc-sa/4.0/',\n",
       "  'abstract': '  Time series data occurs widely, and outlier detection is a fundamental\\nproblem in data mining, which has numerous applications. Existing\\nautoencoder-based approaches deliver state-of-the-art performance on\\nchallenging real-world data but are vulnerable to outliers and exhibit low\\nexplainability. To address these two limitations, we propose robust and\\nexplainable unsupervised autoencoder frameworks that decompose an input time\\nseries into a clean time series and an outlier time series using autoencoders.\\nImproved explainability is achieved because clean time series are better\\nexplained with easy-to-understand patterns such as trends and periodicities. We\\nprovide insight into this by means of a post-hoc explainability analysis and\\nempirical studies. In addition, since outliers are separated from clean time\\nseries iteratively, our approach offers improved robustness to outliers, which\\nin turn improves accuracy. We evaluate our approach on five real-world datasets\\nand report improvements over the state-of-the-art approaches in terms of\\nrobustness and explainability.\\n  This is an extended version of \"Robust and Explainable Autoencoders for\\nUnsupervised Time Series Outlier Detection\", to appear in IEEE ICDE 2022.\\n',\n",
       "  'versions': [{'version': 'v1', 'created': 'Thu, 7 Apr 2022 10:24:12 GMT'}],\n",
       "  'update_date': '2022-04-08',\n",
       "  'authors_parsed': [['Kieu', 'Tung', ''],\n",
       "   ['Yang', 'Bin', ''],\n",
       "   ['Guo', 'Chenjuan', ''],\n",
       "   ['Jensen', 'Christian S.', ''],\n",
       "   ['Zhao', 'Yan', ''],\n",
       "   ['Huang', 'Feiteng', ''],\n",
       "   ['Zheng', 'Kai', '']]}]"
      ]
     },
     "execution_count": 27,
     "metadata": {},
     "output_type": "execute_result"
    }
   ],
   "source": [
    "documents"
   ]
  },
  {
   "cell_type": "code",
   "execution_count": 25,
   "metadata": {},
   "outputs": [
    {
     "name": "stdout",
     "output_type": "stream",
     "text": [
      "Response:\n",
      "Yes, according to the paper titled \"The Susceptibility of Example-Based Explainability Methods to Class Outliers\", example-based explainability methods for black-box machine learning models can be susceptible to class outliers. The study highlights the shortcomings of current example-based explainability methods, including those that attempt to suppress class outliers, and underscores the need for robust techniques to tackle the challenges posed by class outliers.\n"
     ]
    }
   ],
   "source": [
    "num_workers = 4  # Match OLLAMA_NUM_PARALLEL\n",
    "response = generate_response(query, documents)\n",
    "# Display the response\n",
    "print(\"Response:\")\n",
    "print(response)"
   ]
  },
  {
   "cell_type": "code",
   "execution_count": 26,
   "metadata": {},
   "outputs": [
    {
     "name": "stderr",
     "output_type": "stream",
     "text": [
      "100%|██████████| 3/3 [10:15<00:00, 205.25s/it]"
     ]
    },
    {
     "name": "stdout",
     "output_type": "stream",
     "text": [
      "Document 1 Shapley Value: 0.7089\n",
      "Document 2 Shapley Value: 0.8014\n",
      "Document 3 Shapley Value: 0.8886\n"
     ]
    },
    {
     "name": "stderr",
     "output_type": "stream",
     "text": [
      "\n"
     ]
    }
   ],
   "source": [
    "# Compute exact Shapley values with parallel LLM calls\n",
    "shapley_values = compute_exact_shapley_values(query, documents, num_workers=num_workers)\n",
    "\n",
    "# Display the Shapley values\n",
    "for i, value in enumerate(shapley_values):\n",
    "    print(f\"Document {i+1} Shapley Value: {value:.4f}\")"
   ]
  },
  {
   "cell_type": "code",
   "execution_count": 6,
   "metadata": {},
   "outputs": [
    {
     "data": {
      "image/png": "[encoded data removed]",
      "text/plain": [
       "<Figure size 1000x600 with 1 Axes>"
      ]
     },
     "metadata": {},
     "output_type": "display_data"
    }
   ],
   "source": [
    "# Visualize the Shapley values\n",
    "visualize_shapley_values(shapley_values, documents)"
   ]
  },
  {
   "cell_type": "code",
   "execution_count": null,
   "metadata": {},
   "outputs": [],
   "source": []
  },
  {
   "cell_type": "code",
   "execution_count": null,
   "metadata": {},
   "outputs": [],
   "source": []
  },
  {
   "cell_type": "code",
   "execution_count": null,
   "metadata": {},
   "outputs": [],
   "source": []
  }
 ],
 "metadata": {
  "kernelspec": {
   "display_name": "llmx",
   "language": "python",
   "name": "python3"
  },
  "language_info": {
   "codemirror_mode": {
    "name": "ipython",
    "version": 3
   },
   "file_extension": ".py",
   "mimetype": "text/x-python",
   "name": "python",
   "nbconvert_exporter": "python",
   "pygments_lexer": "ipython3",
   "version": "3.12.8"
  }
 },
 "nbformat": 4,
 "nbformat_minor": 2
}
