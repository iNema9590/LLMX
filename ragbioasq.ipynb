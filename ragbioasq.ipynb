{
 "cells": [
  {
   "cell_type": "code",
   "execution_count": 1,
   "metadata": {},
   "outputs": [
    {
     "name": "stderr",
     "output_type": "stream",
     "text": [
      "/home/cs.aau.dk/em63by/anaconda3/envs/llmx/lib/python3.12/site-packages/tqdm/auto.py:21: TqdmWarning: IProgress not found. Please update jupyter and ipywidgets. See https://ipywidgets.readthedocs.io/en/stable/user_install.html\n",
      "  from .autonotebook import tqdm as notebook_tqdm\n"
     ]
    }
   ],
   "source": [
    "import pandas as pd\n",
    "import re\n",
    "import pickle\n",
    "import requests\n",
    "import numpy as np\n",
    "from tqdm import tqdm\n",
    "import faiss\n",
    "from sklearn.metrics.pairwise import cosine_similarity\n",
    "from scipy.stats import spearmanr\n",
    "from itertools import combinations\n",
    "import math\n",
    "from sentence_transformers import SentenceTransformer\n",
    "from google.oauth2 import service_account\n",
    "import vertexai\n",
    "from vertexai.generative_models import GenerativeModel, Image, Part\n",
    "tqdm.pandas()\n",
    "\n",
    "from rag_shap import*\n",
    "vertexai.init(\n",
    "    project=\"oag-ai\",\n",
    "    credentials=service_account.Credentials.from_service_account_file(\"google-credentials.json\"),\n",
    ")\n",
    "\n",
    "import pandas as pd\n",
    "\n",
    "splits = {'train': 'question-answer-passages/train-00000-of-00001.parquet', 'test': 'question-answer-passages/test-00000-of-00001.parquet'}\n",
    "df = pd.read_parquet(\"hf://datasets/enelpol/rag-mini-bioasq/\" + splits[\"train\"])"
   ]
  },
  {
   "cell_type": "code",
   "execution_count": 2,
   "metadata": {},
   "outputs": [],
   "source": [
    "df1 = pd.read_parquet(\"hf://datasets/enelpol/rag-mini-bioasq/text-corpus/test-00000-of-00001.parquet\")\n",
    "df1['passage']=df1['passage'].str.replace(r'[\\n]', ' ', regex=True)\n",
    "df['question']=df['question'].str.replace(r'[\\n]', ' ', regex=True)"
   ]
  },
  {
   "cell_type": "code",
   "execution_count": 3,
   "metadata": {},
   "outputs": [],
   "source": [
    "def gen_embs(qtext, model=\"nomic\"):\n",
    "    if model==\"nomic\":\n",
    "    \n",
    "        data = {\n",
    "            \"model\": \"nomic-embed-text\",\n",
    "            \"prompt\": qtext\n",
    "        }\n",
    "        return np.array(requests.post('http://localhost:11434/api/embeddings', json=data).json()['embedding'])\n",
    "    else:\n",
    "        return SentenceTransformer(\"abhinand/MedEmbed-large-v0.1\").encode([qtext], convert_to_numpy=True)\n",
    "    \n",
    "# df1['embedding'] = df1['passage'].progress_apply(lambda x: gen_embs(x, model='medemb'))\n",
    "\n",
    "# # Save the embeddings to a pickle file\n",
    "# with open('embed_bioasq_medemb.pkl', 'wb') as f:\n",
    "#     pickle.dump(df1['embedding'].tolist(), f)\n",
    "# print(\"Embeddings saved to embed_bioasq_medemb.pkl\")"
   ]
  },
  {
   "cell_type": "code",
   "execution_count": 4,
   "metadata": {},
   "outputs": [],
   "source": [
    "with open(\"data/embed_bioasq_medemb.pkl\", \"rb\") as f:\n",
    "    embeddings = pickle.load(f)"
   ]
  },
  {
   "cell_type": "code",
   "execution_count": 5,
   "metadata": {},
   "outputs": [],
   "source": [
    "def normalize_embeddings(embeddings):\n",
    "    return embeddings / np.linalg.norm(embeddings, axis=1, keepdims=True)\n",
    "\n",
    "embeddings = normalize_embeddings(embeddings)\n",
    "\n",
    "def index_documents(method=\"faiss\", index_name=\"recipes_nomic\", es_host=\"http://localhost:9200\"):\n",
    "    if method == \"faiss\":\n",
    "        dimension = embeddings.shape[1]\n",
    "        index = faiss.IndexFlatL2(dimension)\n",
    "        index.add(embeddings)\n",
    "        faiss.write_index(index, \"data/bioasq_nomic_faiss.index\")\n",
    "        print(\"FAISS index saved.\")\n",
    "        return index\n",
    "    elif method == \"elasticsearch\":\n",
    "        es = Elasticsearch(es_host)\n",
    "        mapping = {\"mappings\": {\"properties\": {\"text\": {\"type\": \"text\"}, \"vector\": {\"type\": \"dense_vector\", \"dims\": embeddings.shape[1]}}}}\n",
    "        es.indices.create(index=index_name, body=mapping, ignore=400)\n",
    "        for i, (text, vector) in enumerate(zip(documents, embeddings)):\n",
    "            es.index(index=index_name, id=i, body={\"text\": text, \"vector\": vector.tolist()})\n",
    "        print(\"Elasticsearch index created.\")\n",
    "        return es\n",
    "# index_documents(method=\"faiss\", index_name=\"bioasq_nomic_faiss\", es_host=\"http://localhost:9200\")\n",
    "faiss_index = faiss.read_index(\"data/medemb_bioasq_faiss.index\")\n"
   ]
  },
  {
   "cell_type": "code",
   "execution_count": 6,
   "metadata": {},
   "outputs": [],
   "source": [
    "def retrieve_documents(query, k=5):\n",
    "    query_embedding = gen_embs(query, model=\"medemb\")\n",
    "    query_embedding = normalize_embeddings(query_embedding.reshape(1, -1))\n",
    "    scores, indices = faiss_index.search(query_embedding, k)\n",
    "    return [df1['passage'][i] for i in indices[0]], scores"
   ]
  },
  {
   "cell_type": "code",
   "execution_count": 7,
   "metadata": {},
   "outputs": [],
   "source": [
    "query='What is the implication of histone lysine methylation in medulloblastoma?'\n",
    "docs, scores=retrieve_documents(query=query, k=5)"
   ]
  },
  {
   "cell_type": "code",
   "execution_count": 8,
   "metadata": {},
   "outputs": [
    {
     "data": {
      "text/plain": [
       "['We used high-resolution SNP genotyping to identify regions of genomic gain and  loss in the genomes of 212 medulloblastomas, malignant pediatric brain tumors.  We found focal amplifications of 15 known oncogenes and focal deletions of 20  known tumor suppressor genes (TSG), most not previously implicated in  medulloblastoma. Notably, we identified previously unknown amplifications and  homozygous deletions, including recurrent, mutually exclusive, highly focal  genetic events in genes targeting histone lysine methylation, particularly that  of histone 3, lysine 9 (H3K9). Post-translational modification of histone  proteins is critical for regulation of gene expression, can participate in  determination of stem cell fates and has been implicated in carcinogenesis.  Consistent with our genetic data, restoration of expression of genes controlling  H3K9 methylation greatly diminishes proliferation of medulloblastoma in vitro.  Copy number aberrations of genes with critical roles in writing, reading,  removing and blocking the state of histone lysine methylation, particularly at  H3K9, suggest that defective control of the histone code contributes to the  pathogenesis of medulloblastoma.',\n",
       " 'Recently developed biochemical techniques have enabled researchers to study  histone modifications more easily and accurately. One of these modifications,  histone lysine methylation, has been shown to be highly stable and to represent  an epigenetic alteration. Extensive biochemical analyses have led to discoveries  about the nature and functions of this modification, thus accelerating our  understanding of this crucial epigenetic event. Here we describe basic methods  for purification and biochemical analysis of lysine-directed, histone  methyltransferases from HeLa cell-derived extracts. In the section on substrate  preparation, we describe a simple method for the preparation of recombinant  substrates, although we recommend using native substrates for initial detection  of the activities. The purification protocols for several histone  methyltransferases have been streamlined so that those researchers with a basic  understanding of biochemistry can perform them. We also describe many tips and  provide suggestions to avoid common pitfalls in the biochemical analysis of  histone methyltransferases.',\n",
       " 'Two new studies show that the known histone H3 alteration p.Lys27Met in  pediatric glioma leads to globally diminished trimethylation at histone H3  lysine 27. The mutant histone H3 acts as a selective inhibitor of the PRC2  chromatin-modifying complex by binding and presumably sequestering it, shedding  light on how this variant may contribute to the etiology of these highly  malignant brain tumors.',\n",
       " \"Medulloblastoma arises in the cerebellum and is the most common malignant brain  tumour of childhood, however its molecular basis is not well understood. To  assess the role of aberrant epigenetic events in medulloblastoma and identify  critical genes in its development, we profiled the promoter methylation status  of 11 candidate tumour-suppressor genes (TSGs; p14(ARF), p15(INK4b), p16(INK4a),  CASP8, HIC1, EDNRB, TIMP3, TP73, TSLC1, RIZ1 and RASSF1A) in medulloblastoma  cell lines, primary tumours and the normal cerebellum. Gene-specific TSG  methylation was a significant feature of both medulloblastomas and the  cerebellum. Extensive hypermethylation of RASSF1A was detected frequently in  medulloblastomas but not in the normal cerebellum (41/44 primary tumours versus  0/5 normal cerebella). In contrast, complete methylation of HIC1 and CASP8 in a  subset of primary tumours (17/44 and 14/39) occurred against a consistent  background of partial methylation in the normal cerebellum. These data therefore  indicate that extensive methylation of RASSF1A, HIC1 and CASP8 are  tumour-specific events in medulloblastoma. Moreover, methylation of these genes  in medulloblastoma cell lines was associated with their epigenetic  transcriptional silencing and methylation-dependent re-expression following  treatment with the DNA methyltransferase inhibitor, 5-aza-2'-deoxycytidine. The  remaining genes studied showed either low frequency methylation (p14(ARF),  p16(INK4a), RIZ1; <7% of cases), no evidence of methylation (p15(INK4b), TIMP3,  TP73, TSLC1), or comparable patterns of methylation in the normal cerebellum  (EDNRB), suggesting that their hypermethylation does not play a major role in  medulloblastoma. Our data demonstrate that tumour-specific hypermethylation  affects only a subset of genes, and does not support the existence of a  concordant methylation phenotype in this disease. We conclude that epigenetic  TSG inactivation is a significant feature of medulloblastoma, and identify  RASSF1A, HIC1 and CASP8 as potentially critical genes in its pathogenesis.  Furthermore, methylation observed in the normal cerebellum emphasises the  requirement for appropriate control tissues when assessing the  tumour-specificity of TSG hypermethylation.\",\n",
       " 'Glioblastoma (GBM) is the most aggressive primary brain tumor in human. Recent  studies on high-grade pediatric GBM have identified two recurrent mutations  (K27M and G34R/V) in genes encoding histone H3 (H3F3A for H3.3 and HIST1H3B for  H3.1). The two histone H3 mutations are mutually exclusive and give rise to  tumors in different brain compartments. Recently, we and others have shown that  the histone H3 K27M mutation specifically altered the di- and tri-methylation of  endogenous histone H3 at Lys27. Genome-wide studies using ChIP-seq on H3.3K27M  patient samples indicate a global reduction of H3K27me3 on chromatin.  Remarkably, we also found a dramatic enrichment of H3K27me3 and EZH2 (the  catalytic subunit H3K27 methyltransferase) at hundreds of gene loci in H3.3K27M  patient cells. Here, we discuss potential mechanisms whereby H3K27me3 is  enriched at chromatin loci in cells expressing the H3.3K27M mutation and report  effects of Lys-to-Met mutations of other well-studied lysine residues of histone  H3.1/H3.3 and H4 on the corresponding endogenous lysine methylation. We suggest  that mutation(s) on histones may be found in a variety of human diseases, and  the expression of mutant histones may help to address the function of histone  lysine methylation and possibly other modifications in mammalian cells.']"
      ]
     },
     "execution_count": 8,
     "metadata": {},
     "output_type": "execute_result"
    }
   ],
   "source": [
    "docs"
   ]
  },
  {
   "cell_type": "code",
   "execution_count": 9,
   "metadata": {},
   "outputs": [
    {
     "data": {
      "text/plain": [
       "'Aberrant patterns of H3K4, H3K9, and H3K27 histone lysine methylation were shown to result in histone code alterations, which induce changes in gene expression, and affect the proliferation rate of cells in medulloblastoma.'"
      ]
     },
     "execution_count": 9,
     "metadata": {},
     "output_type": "execute_result"
    }
   ],
   "source": [
    "df.answer[0]"
   ]
  },
  {
   "cell_type": "code",
   "execution_count": null,
   "metadata": {},
   "outputs": [],
   "source": []
  },
  {
   "cell_type": "code",
   "execution_count": 10,
   "metadata": {},
   "outputs": [
    {
     "name": "stderr",
     "output_type": "stream",
     "text": [
      "The attention mask is not set and cannot be inferred from input because pad token is same as eos token. As a consequence, you may observe unexpected behavior. Please pass your input's `attention_mask` to obtain reliable results.\n"
     ]
    },
    {
     "data": {
      "text/plain": [
       "'Histone lysine methylation is a crucial epigenetic event in medulloblastoma, which contributes to the'"
      ]
     },
     "execution_count": 10,
     "metadata": {},
     "output_type": "execute_result"
    }
   ],
   "source": [
    "compute_logprob(query, df.answer[0], context=\"\".join(docs), response=True)"
   ]
  },
  {
   "cell_type": "code",
   "execution_count": null,
   "metadata": {},
   "outputs": [],
   "source": [
    "from sklearn.metrics.pairwise import cosine_similarity\n",
    "cosine_similarity()"
   ]
  },
  {
   "cell_type": "code",
   "execution_count": 11,
   "metadata": {},
   "outputs": [
    {
     "name": "stdout",
     "output_type": "stream",
     "text": [
      "Starting ShapRAG computation for 5 documents...\n"
     ]
    },
    {
     "name": "stderr",
     "output_type": "stream",
     "text": [
      "                                                         \r"
     ]
    },
    {
     "name": "stdout",
     "output_type": "stream",
     "text": [
      "Calculating true utilities for 4 sampled subsets...\n"
     ]
    },
    {
     "name": "stderr",
     "output_type": "stream",
     "text": [
      "LLM Calls: 100%|██████████| 4/4 [31:12<00:00, 468.10s/it]\n"
     ]
    },
    {
     "name": "stdout",
     "output_type": "stream",
     "text": [
      "Training surrogate linear model (LASSO)...\n",
      "Warning: Number of samples (4) <= number of features (5). LASSO with alpha=0.01 might zero out many weights.\n",
      "Surrogate Model Weights (w): [ 39.2358 116.5072  -0.       0.      -9.1505]\n",
      "Surrogate Model Intercept (b): -175.5774\n",
      "Building hybrid utility set for all 32 subsets...\n"
     ]
    },
    {
     "name": "stderr",
     "output_type": "stream",
     "text": [
      "                                                                 \r"
     ]
    },
    {
     "name": "stdout",
     "output_type": "stream",
     "text": [
      "Calculating exact Shapley values from hybrid utilities...\n"
     ]
    },
    {
     "name": "stderr",
     "output_type": "stream",
     "text": [
      "                                                          "
     ]
    },
    {
     "name": "stdout",
     "output_type": "stream",
     "text": [
      "ShapRAG computation finished.\n",
      "\n",
      "--- Results ---\n",
      "LASSO Weights (Direct Attribution from Surrogate):\n",
      "  Doc 0: 39.2358\n",
      "  Doc 1: 116.5072\n",
      "  Doc 2: -0.0000\n",
      "  Doc 3: 0.0000\n",
      "  Doc 4: -9.1505\n",
      "\n",
      "Shapley Values (Calculated from HYBRID Utilities):\n",
      "  Doc 0: 39.2381\n",
      "  Doc 1: 116.5099\n",
      "  Doc 2: -0.0035\n",
      "  Doc 3: 0.0023\n",
      "  Doc 4: -9.1544\n"
     ]
    },
    {
     "name": "stderr",
     "output_type": "stream",
     "text": [
      "\r"
     ]
    }
   ],
   "source": [
    "shap_calculator = ShapRAG(\n",
    "    docs=docs,\n",
    "    query=query,\n",
    "    target_response='Histone lysine methylation is a crucial epigenetic event in medulloblastoma, which contributes to the pathogenesis of this disease. Recently, biochemical techniques have enabled researchers to study the histone modifications more easily and accurately. One of these modifications, histone lysine methylation, has been shown to be highly stable and to represent an epigenetic alteration. Extensive biochemical analyses',\n",
    "    llm_caller=compute_logprob\n",
    ")\n",
    "\n",
    "# Compute Shapley values\n",
    "n_actual = len(docs)\n",
    "num_samples_to_run = 4 # As requested for n=10 scenario\n",
    "\n",
    "shapley_values, lasso_weights = shap_calculator.compute_shapley_values(\n",
    "    num_samples=num_samples_to_run,\n",
    "    lasso_alpha=0.01,\n",
    "    return_weights=True\n",
    ")\n",
    "\n",
    "print(\"\\n--- Results ---\")\n",
    "print(\"LASSO Weights (Direct Attribution from Surrogate):\")\n",
    "for i, w in enumerate(lasso_weights):\n",
    "    print(f\"  Doc {i}: {w:.4f}\")\n",
    "\n",
    "print(\"\\nShapley Values (Calculated from HYBRID Utilities):\")\n",
    "for i, s_val in enumerate(shapley_values):\n",
    "    print(f\"  Doc {i}: {s_val:.4f}\")"
   ]
  },
  {
   "cell_type": "code",
   "execution_count": 12,
   "metadata": {},
   "outputs": [
    {
     "name": "stdout",
     "output_type": "stream",
     "text": [
      " Spearman Correlation: 0.9747, p-value: 0.0048\n",
      "\n"
     ]
    }
   ],
   "source": [
    "correlation, p_value = spearmanr(shapley_values, lasso_weights)\n",
    "print(f\" Spearman Correlation: {correlation:.4f}, p-value: {p_value:.4f}\\n\")\n"
   ]
  },
  {
   "cell_type": "code",
   "execution_count": null,
   "metadata": {},
   "outputs": [],
   "source": [
    "hub='ollama'\n",
    "model=\"llama2\"\n",
    "respin=query_rag(query=query, retrieved_docs=docs, hub=hub, model=model)\n",
    "print(respin)"
   ]
  },
  {
   "cell_type": "code",
   "execution_count": null,
   "metadata": {},
   "outputs": [],
   "source": [
    "from sklearn.metrics import precision_score, recall_score, f1_score\n",
    "import numpy as np\n",
    "\n",
    "def compute_precision_recall(k_max, query, query_idx):\n",
    "    # Get initial documents and shapley scores\n",
    "    docs, _ = retrieve_documents(query=query, k=k_max)\n",
    "    shap = shapley_values(docs, query)\n",
    "    \n",
    "    # Select new query based on highest Shapley value\n",
    "    new_query = docs[np.argmax(shap)]\n",
    "\n",
    "    # Initialize metrics\n",
    "    precision, recall, f1score = [], [], []\n",
    "    precision_new, recall_new, f1score_new = [], [], []\n",
    "\n",
    "    relevant_ids = set(df['relevant_passage_ids'][query_idx])\n",
    "\n",
    "    for k in range(1, k_max):\n",
    "        # Retrieve documents with both original and shap-reformulated queries\n",
    "        docs_old, _ = retrieve_documents(query=query, k=k)\n",
    "        docs_new, _ = retrieve_documents(query=new_query, k=k)\n",
    "\n",
    "        # Convert passages to IDs\n",
    "        try:\n",
    "            retrieved_ids_old = {\n",
    "                df1[df1['passage'] == passage]['id'].values.item() \n",
    "                for passage in docs_old \n",
    "                if not df1[df1['passage'] == passage]['id'].empty\n",
    "            }\n",
    "            retrieved_ids_new = {\n",
    "                df1[df1['passage'] == passage]['id'].values.item() \n",
    "                for passage in docs_new \n",
    "                if not df1[df1['passage'] == passage]['id'].empty\n",
    "            }\n",
    "        except ValueError:\n",
    "            # Handles cases where .item() fails due to multiple matches\n",
    "            continue\n",
    "\n",
    "        # Precision and Recall calculations\n",
    "        tp_old = len(relevant_ids.intersection(retrieved_ids_old))\n",
    "        tp_new = len(relevant_ids.intersection(retrieved_ids_new))\n",
    "\n",
    "        p_old = tp_old / k\n",
    "        r_old = tp_old / len(relevant_ids) if relevant_ids else 0\n",
    "\n",
    "        p_new = tp_new / k\n",
    "        r_new = tp_new / len(relevant_ids) if relevant_ids else 0\n",
    "\n",
    "        # F1 score with zero division check\n",
    "        f1_old = 2 * p_old * r_old / (p_old + r_old) if (p_old + r_old) > 0 else 0\n",
    "        f1_new = 2 * p_new * r_new / (p_new + r_new) if (p_new + r_new) > 0 else 0\n",
    "\n",
    "        # Append metrics\n",
    "        precision.append(p_old)\n",
    "        recall.append(r_old)\n",
    "        f1score.append(f1_old)\n",
    "\n",
    "        precision_new.append(p_new)\n",
    "        recall_new.append(r_new)\n",
    "        f1score_new.append(f1_new)\n",
    "\n",
    "    return precision, recall, f1score, precision_new, recall_new, f1score_new\n",
    "\n",
    "\n",
    "# Run evaluation on top-10 questions\n",
    "precision, recall, f1score = [], [], []\n",
    "precision_new, recall_new, f1score_new = [], [], []\n",
    "\n",
    "for j, query in enumerate(df['question'][:10]):\n",
    "    prec, rec, f1, prec_new, rec_new, f1_new = compute_precision_recall(5, query, j)\n",
    "    precision.append(prec)\n",
    "    recall.append(rec)\n",
    "    f1score.append(f1)\n",
    "    precision_new.append(prec_new)\n",
    "    recall_new.append(rec_new)\n",
    "    f1score_new.append(f1_new)\n"
   ]
  },
  {
   "cell_type": "code",
   "execution_count": null,
   "metadata": {},
   "outputs": [],
   "source": [
    "import matplotlib.pyplot as plt\n",
    "import numpy as np\n",
    "\n",
    "# Convert lists of lists to numpy arrays for easier manipulation\n",
    "precision = np.array(precision)\n",
    "recall = np.array(recall)\n",
    "f1score = np.array(f1score)\n",
    "\n",
    "precision_new = np.array(precision_new)\n",
    "recall_new = np.array(recall_new)\n",
    "f1score_new = np.array(f1score_new)\n",
    "\n",
    "# Calculate average across queries\n",
    "avg_precision = precision.mean(axis=0)\n",
    "avg_recall = recall.mean(axis=0)\n",
    "avg_f1score = f1score.mean(axis=0)\n",
    "\n",
    "avg_precision_new = precision_new.mean(axis=0)\n",
    "avg_recall_new = recall_new.mean(axis=0)\n",
    "avg_f1score_new = f1score_new.mean(axis=0)\n",
    "\n",
    "k_values = list(range(1, precision.shape[1] + 1))\n",
    "\n",
    "# Plot\n",
    "plt.figure(figsize=(15, 5))\n",
    "\n",
    "plt.subplot(1, 3, 1)\n",
    "plt.plot(k_values, avg_precision, label='Original', marker='o')\n",
    "plt.plot(k_values, avg_precision_new, label='Shap Retriever', marker='s')\n",
    "plt.title('Average Precision')\n",
    "plt.xlabel('Top-k')\n",
    "plt.ylabel('Precision')\n",
    "plt.legend()\n",
    "plt.grid(True)\n",
    "\n",
    "plt.subplot(1, 3, 2)\n",
    "plt.plot(k_values, avg_recall, label='Original', marker='o')\n",
    "plt.plot(k_values, avg_recall_new, label='Shap Retriever', marker='s')\n",
    "plt.title('Average Recall')\n",
    "plt.xlabel('Top-k')\n",
    "plt.ylabel('Recall')\n",
    "plt.legend()\n",
    "plt.grid(True)\n",
    "\n",
    "plt.subplot(1, 3, 3)\n",
    "plt.plot(k_values, avg_f1score, label='Original', marker='o')\n",
    "plt.plot(k_values, avg_f1score_new, label='Shap Retriever', marker='s')\n",
    "plt.title('Average F1 Score')\n",
    "plt.xlabel('Top-k')\n",
    "plt.ylabel('F1 Score')\n",
    "plt.legend()\n",
    "plt.grid(True)\n",
    "\n",
    "plt.tight_layout()\n",
    "plt.show()"
   ]
  },
  {
   "cell_type": "code",
   "execution_count": null,
   "metadata": {},
   "outputs": [],
   "source": [
    "for a, b in zip(scores[0], docs):\n",
    "    print(f\"{a}\\t{b[:230]}\\n\")"
   ]
  },
  {
   "cell_type": "code",
   "execution_count": null,
   "metadata": {},
   "outputs": [],
   "source": [
    "for a, b in zip(scores[0], docs):\n",
    "    print(f\"{a}\\t{b[:230]}\\n\")"
   ]
  },
  {
   "cell_type": "code",
   "execution_count": null,
   "metadata": {},
   "outputs": [],
   "source": []
  },
  {
   "cell_type": "code",
   "execution_count": null,
   "metadata": {},
   "outputs": [],
   "source": [
    "hub='google'\n",
    "model=\"publishers/meta/models/llama-3.3-70b-instruct-maas\"\n",
    "respin=query_rag(query=query, retrieved_docs=docs, hub=hub, model=model)\n",
    "print(respin)"
   ]
  },
  {
   "cell_type": "code",
   "execution_count": null,
   "metadata": {},
   "outputs": [],
   "source": [
    "hub='google'\n",
    "model=\"gemini-2.5-pro-exp-03-25\"\n",
    "resp=query_rag(query=query, retrieved_docs=docs, hub=hub, model=model)"
   ]
  },
  {
   "cell_type": "code",
   "execution_count": null,
   "metadata": {},
   "outputs": [],
   "source": [
    "print(resp)"
   ]
  },
  {
   "cell_type": "code",
   "execution_count": null,
   "metadata": {},
   "outputs": [],
   "source": [
    "cosine_similarity(normalize_embeddings(gen_embs(df[df['question']==query]['answer'].values[0], model='medemb').reshape(1, -1)), normalize_embeddings(gen_embs(resp1, model='medemb').reshape(1, -1)))"
   ]
  },
  {
   "cell_type": "code",
   "execution_count": null,
   "metadata": {},
   "outputs": [],
   "source": [
    "cosine_similarity(normalize_embeddings(gen_embs(df[df['question']==query]['answer'].values[0], model='medemb').reshape(1, -1)), normalize_embeddings(gen_embs(shapmax, model='medemb').reshape(1, -1)))"
   ]
  },
  {
   "cell_type": "code",
   "execution_count": null,
   "metadata": {},
   "outputs": [],
   "source": [
    "cosine_similarity(normalize_embeddings(gen_embs(df[df['question']==query]['answer'].values[0], model='medemb').reshape(1, -1)), normalize_embeddings(gen_embs(shapres, model='medemb').reshape(1, -1)))"
   ]
  },
  {
   "cell_type": "code",
   "execution_count": null,
   "metadata": {},
   "outputs": [],
   "source": []
  },
  {
   "cell_type": "code",
   "execution_count": null,
   "metadata": {},
   "outputs": [],
   "source": [
    "shap=shapley_values(docs)"
   ]
  },
  {
   "cell_type": "code",
   "execution_count": null,
   "metadata": {},
   "outputs": [],
   "source": [
    "shap"
   ]
  },
  {
   "cell_type": "code",
   "execution_count": null,
   "metadata": {},
   "outputs": [],
   "source": [
    "shapres=ragshap(shap, retrival_type='reponse')"
   ]
  },
  {
   "cell_type": "code",
   "execution_count": null,
   "metadata": {},
   "outputs": [],
   "source": [
    "shapmax=ragshap(shap, retrival_type='max_shap')"
   ]
  },
  {
   "cell_type": "code",
   "execution_count": null,
   "metadata": {},
   "outputs": [],
   "source": [
    "shap.argmax()"
   ]
  },
  {
   "cell_type": "code",
   "execution_count": null,
   "metadata": {},
   "outputs": [],
   "source": []
  }
 ],
 "metadata": {
  "kernelspec": {
   "display_name": "llmx",
   "language": "python",
   "name": "python3"
  },
  "language_info": {
   "codemirror_mode": {
    "name": "ipython",
    "version": 3
   },
   "file_extension": ".py",
   "mimetype": "text/x-python",
   "name": "python",
   "nbconvert_exporter": "python",
   "pygments_lexer": "ipython3",
   "version": "3.12.8"
  }
 },
 "nbformat": 4,
 "nbformat_minor": 2
}
